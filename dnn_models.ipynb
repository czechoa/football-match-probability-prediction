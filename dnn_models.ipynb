{
 "cells": [
  {
   "cell_type": "code",
   "execution_count": 1,
   "metadata": {
    "collapsed": true,
    "pycharm": {
     "name": "#%%\n"
    }
   },
   "outputs": [
    {
     "name": "stderr",
     "output_type": "stream",
     "text": [
      "2022-05-04 17:41:36.722027: W tensorflow/stream_executor/platform/default/dso_loader.cc:64] Could not load dynamic library 'libcudart.so.11.0'; dlerror: libcudart.so.11.0: cannot open shared object file: No such file or directory\n",
      "2022-05-04 17:41:36.722054: I tensorflow/stream_executor/cuda/cudart_stub.cc:29] Ignore above cudart dlerror if you do not have a GPU set up on your machine.\n"
     ]
    }
   ],
   "source": [
    "from sklearn.model_selection import train_test_split\n",
    "\n",
    "from prepared_data.get_prepared_data import get_prepared_data\n",
    "import pandas as pd\n",
    "import numpy as np\n",
    "import tensorflow as tf\n"
   ]
  },
  {
   "cell_type": "code",
   "execution_count": 2,
   "outputs": [
    {
     "name": "stderr",
     "output_type": "stream",
     "text": [
      "/home/andrzej/PycharmProjects/Physionet_Challenge_2021/venv/lib/python3.9/site-packages/IPython/core/interactiveshell.py:3251: DtypeWarning: Columns (7) have mixed types.Specify dtype option on import or set low_memory=False.\n",
      "  exec(code_obj, self.user_global_ns, self.user_ns)\n"
     ]
    },
    {
     "name": "stdout",
     "output_type": "stream",
     "text": [
      "percent of object with nan value and orginals:  42.20, 100.000000\n",
      "remove history columns [9, 10]\n",
      "percent of object with nan value and orginals:  38.76, 100.000000\n",
      "remove object with more that  col 50 % empty...\n",
      "percent of object with nan value and orginals:  38.76, 100.000000\n",
      "date to datetime type and remove nan date....\n",
      "percent of object with nan value and orginals:  28.72, 85.915556\n",
      "filna coach_id and change to is new coach\n",
      "percent of object with nan value and orginals:  1.20, 85.915556\n",
      "fill zero nan data\n",
      "percent of object with nan value and orginals:  0.00, 85.915556\n"
     ]
    }
   ],
   "source": [
    "train_org = pd.read_csv('data/train.csv')\n",
    "train,_,_ = get_prepared_data(train_org,map_target=False)"
   ],
   "metadata": {
    "collapsed": false,
    "pycharm": {
     "name": "#%%\n"
    }
   }
  },
  {
   "cell_type": "code",
   "execution_count": 15,
   "outputs": [],
   "source": [
    "target = train['target']\n",
    "train_features = train.drop('target',axis=1)\n",
    "di = {'home': 2, 'draw': 1, 'away': 0}\n",
    "target = target.replace(di)\n",
    "\n",
    "X_train, X_test, y_train, y_test = train_test_split(train_features,target, test_size=0.33,random_state=33)"
   ],
   "metadata": {
    "collapsed": false,
    "pycharm": {
     "name": "#%%\n"
    }
   }
  },
  {
   "cell_type": "code",
   "execution_count": 16,
   "outputs": [],
   "source": [
    "\n",
    "def build_and_compile_model(norm):\n",
    "    model = tf.keras.Sequential([\n",
    "    norm,\n",
    "    tf.keras.layers.Dense(10, activation='relu'),\n",
    "    tf.keras.layers.Dense(3 )\n",
    "    ])\n",
    "\n",
    "    model.compile(optimizer=tf.keras.optimizers.Adam(0.001),\n",
    "              loss=tf.keras.losses.SparseCategoricalCrossentropy(from_logits=True),\n",
    "              metrics=['accuracy'])\n",
    "\n",
    "    return model\n",
    "\n"
   ],
   "metadata": {
    "collapsed": false,
    "pycharm": {
     "name": "#%%\n"
    }
   }
  },
  {
   "cell_type": "code",
   "execution_count": 17,
   "outputs": [],
   "source": [
    "normalizer = tf.keras.layers.Normalization(axis=-1)\n",
    "normalizer.adapt(np.array(X_train))\n"
   ],
   "metadata": {
    "collapsed": false,
    "pycharm": {
     "name": "#%%\n"
    }
   }
  },
  {
   "cell_type": "code",
   "execution_count": 18,
   "outputs": [
    {
     "name": "stdout",
     "output_type": "stream",
     "text": [
      "Model: \"sequential_2\"\n",
      "_________________________________________________________________\n",
      " Layer (type)                Output Shape              Param #   \n",
      "=================================================================\n",
      " normalization_3 (Normalizat  (None, 198)              397       \n",
      " ion)                                                            \n",
      "                                                                 \n",
      " dense_4 (Dense)             (None, 10)                1990      \n",
      "                                                                 \n",
      " dense_5 (Dense)             (None, 3)                 33        \n",
      "                                                                 \n",
      "=================================================================\n",
      "Total params: 2,420\n",
      "Trainable params: 2,023\n",
      "Non-trainable params: 397\n",
      "_________________________________________________________________\n"
     ]
    }
   ],
   "source": [
    "dnn_model = build_and_compile_model(normalizer)\n",
    "dnn_model.summary()\n"
   ],
   "metadata": {
    "collapsed": false,
    "pycharm": {
     "name": "#%%\n"
    }
   }
  },
  {
   "cell_type": "code",
   "execution_count": 19,
   "outputs": [
    {
     "name": "stdout",
     "output_type": "stream",
     "text": [
      "Epoch 1/10\n",
      "1597/1597 [==============================] - 2s 1ms/step - loss: 1.0791 - accuracy: 0.4604 - val_loss: 1.0295 - val_accuracy: 0.4846\n",
      "Epoch 2/10\n",
      "1597/1597 [==============================] - 2s 1ms/step - loss: 1.0176 - accuracy: 0.4930 - val_loss: 1.0161 - val_accuracy: 0.4935\n",
      "Epoch 3/10\n",
      "1597/1597 [==============================] - 2s 976us/step - loss: 1.0104 - accuracy: 0.4976 - val_loss: 1.0104 - val_accuracy: 0.4970\n",
      "Epoch 4/10\n",
      "1597/1597 [==============================] - 1s 916us/step - loss: 1.0069 - accuracy: 0.4995 - val_loss: 1.0110 - val_accuracy: 0.4973\n",
      "Epoch 5/10\n",
      "1597/1597 [==============================] - 2s 1ms/step - loss: 1.0046 - accuracy: 0.5033 - val_loss: 1.0093 - val_accuracy: 0.4978\n",
      "Epoch 6/10\n",
      "1597/1597 [==============================] - 2s 1ms/step - loss: 1.0028 - accuracy: 0.5026 - val_loss: 1.0100 - val_accuracy: 0.4977\n",
      "Epoch 7/10\n",
      "1597/1597 [==============================] - 2s 1ms/step - loss: 1.0012 - accuracy: 0.5065 - val_loss: 1.0093 - val_accuracy: 0.4976\n",
      "Epoch 8/10\n",
      "1597/1597 [==============================] - 2s 1ms/step - loss: 0.9998 - accuracy: 0.5066 - val_loss: 1.0103 - val_accuracy: 0.4983\n",
      "Epoch 9/10\n",
      "1597/1597 [==============================] - 2s 1ms/step - loss: 0.9980 - accuracy: 0.5092 - val_loss: 1.0114 - val_accuracy: 0.4984\n",
      "Epoch 10/10\n",
      "1597/1597 [==============================] - 2s 1ms/step - loss: 0.9976 - accuracy: 0.5077 - val_loss: 1.0116 - val_accuracy: 0.4965\n"
     ]
    },
    {
     "ename": "AttributeError",
     "evalue": "'Sequential' object has no attribute 'score'",
     "output_type": "error",
     "traceback": [
      "\u001B[0;31m---------------------------------------------------------------------------\u001B[0m",
      "\u001B[0;31mAttributeError\u001B[0m                            Traceback (most recent call last)",
      "Input \u001B[0;32mIn [19]\u001B[0m, in \u001B[0;36m<module>\u001B[0;34m\u001B[0m\n\u001B[1;32m      1\u001B[0m history \u001B[38;5;241m=\u001B[39m dnn_model\u001B[38;5;241m.\u001B[39mfit(\n\u001B[1;32m      2\u001B[0m     X_train,\n\u001B[1;32m      3\u001B[0m     y_train,\n\u001B[1;32m      4\u001B[0m     validation_split\u001B[38;5;241m=\u001B[39m\u001B[38;5;241m0.2\u001B[39m,\n\u001B[1;32m      5\u001B[0m     verbose\u001B[38;5;241m=\u001B[39m\u001B[38;5;241m1\u001B[39m, epochs\u001B[38;5;241m=\u001B[39m\u001B[38;5;241m10\u001B[39m,\n\u001B[1;32m      6\u001B[0m )\n\u001B[0;32m----> 9\u001B[0m score \u001B[38;5;241m=\u001B[39m \u001B[43mdnn_model\u001B[49m\u001B[38;5;241;43m.\u001B[39;49m\u001B[43mscore\u001B[49m(X_test,y_test)\n\u001B[1;32m     10\u001B[0m \u001B[38;5;28mprint\u001B[39m(score)\n",
      "\u001B[0;31mAttributeError\u001B[0m: 'Sequential' object has no attribute 'score'"
     ]
    }
   ],
   "source": [
    "history = dnn_model.fit(\n",
    "    X_train,\n",
    "    y_train,\n",
    "    validation_split=0.2,\n",
    "    verbose=1, epochs=10,\n",
    ")\n",
    "\n",
    "\n",
    "score = dnn_model.score(X_test,y_test)\n",
    "print(score)\n",
    "\n",
    "\n"
   ],
   "metadata": {
    "collapsed": false,
    "pycharm": {
     "name": "#%%\n"
    }
   }
  },
  {
   "cell_type": "code",
   "execution_count": 20,
   "outputs": [
    {
     "name": "stdout",
     "output_type": "stream",
     "text": [
      "983/983 - 1s - loss: 1.0166 - accuracy: 0.4918 - 517ms/epoch - 526us/step\n",
      "\n",
      "Test accuracy: 0.4918449819087982\n"
     ]
    }
   ],
   "source": [
    "test_loss, test_acc = dnn_model.evaluate(X_test,  y_test, verbose=2)\n",
    "\n",
    "print('\\nTest accuracy:', test_acc)\n"
   ],
   "metadata": {
    "collapsed": false,
    "pycharm": {
     "name": "#%%\n"
    }
   }
  }
 ],
 "metadata": {
  "kernelspec": {
   "display_name": "Python 3",
   "language": "python",
   "name": "python3"
  },
  "language_info": {
   "codemirror_mode": {
    "name": "ipython",
    "version": 2
   },
   "file_extension": ".py",
   "mimetype": "text/x-python",
   "name": "python",
   "nbconvert_exporter": "python",
   "pygments_lexer": "ipython2",
   "version": "2.7.6"
  }
 },
 "nbformat": 4,
 "nbformat_minor": 0
}