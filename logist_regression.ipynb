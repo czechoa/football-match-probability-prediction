{
 "cells": [
  {
   "cell_type": "code",
   "execution_count": 27,
   "metadata": {
    "collapsed": true
   },
   "outputs": [
    {
     "name": "stderr",
     "output_type": "stream",
     "text": [
      "/home/andrzej/PycharmProjects/Physionet_Challenge_2021/venv/lib/python3.9/site-packages/IPython/core/interactiveshell.py:3251: DtypeWarning: Columns (7) have mixed types.Specify dtype option on import or set low_memory=False.\n",
      "  exec(code_obj, self.user_global_ns, self.user_ns)\n"
     ]
    },
    {
     "name": "stdout",
     "output_type": "stream",
     "text": [
      "correction col type..\n",
      "percent of object with nan value:  42.20\n",
      "remove coach columns..\n",
      "percent of object with nan value:  18.64\n",
      "remove object with more that  col 80 empty...\n",
      "percent of object with nan value:  18.64\n",
      "remove all day historii without 1\n",
      "percent of object with nan value:  5.62\n",
      "remove all nan data\n",
      "percent of object with nan value:  5.62\n"
     ]
    },
    {
     "data": {
      "text/plain": "          target  is_cup  home_team_history_match_date_1  \\\nid                                                         \n16865252       0       1                             120   \n17361215      -1       1                              78   \n17361214      -1       1                              77   \n17361017      -1       1                              76   \n17361029       1       1                              79   \n...          ...     ...                             ...   \n17898159       0       1                              69   \n17898153       1       1                            1878   \n17898162      -1       1                              74   \n17933781      -1       1                              98   \n17898173      -1       1                              69   \n\n          home_team_history_is_play_home_1  home_team_history_is_cup_1  \\\nid                                                                       \n16865252                               0.0                         0.0   \n17361215                               0.0                         0.0   \n17361214                               0.0                         0.0   \n17361017                               1.0                         0.0   \n17361029                               1.0                         0.0   \n...                                    ...                         ...   \n17898159                               0.0                         1.0   \n17898153                               0.0                         0.0   \n17898162                               0.0                         1.0   \n17933781                               0.0                         1.0   \n17898173                               0.0                         1.0   \n\n          home_team_history_goal_1  home_team_history_opponent_goal_1  \\\nid                                                                      \n16865252                       3.0                                1.0   \n17361215                       2.0                                1.0   \n17361214                       1.0                                4.0   \n17361017                       5.0                                0.0   \n17361029                       4.0                                1.0   \n...                            ...                                ...   \n17898159                       1.0                                1.0   \n17898153                       5.0                                0.0   \n17898162                       0.0                                0.0   \n17933781                       1.0                                1.0   \n17898173                       5.0                                0.0   \n\n          home_team_history_rating_1  home_team_history_opponent_rating_1  \\\nid                                                                          \n16865252                   16.561425                             4.684600   \n17361215                   11.226150                             5.231500   \n17361214                    7.747421                             5.436468   \n17361017                   18.911633                             4.625900   \n17361029                   11.501482                             3.151259   \n...                              ...                                  ...   \n17898159                    4.645254                            10.032758   \n17898153                   11.602900                             5.069567   \n17898162                   14.396067                             3.266683   \n17933781                    6.120400                            20.587200   \n17898173                    5.930517                            11.848333   \n\n          away_team_history_match_date_1  ...  away_team_history_is_cup_1  \\\nid                                        ...                               \n16865252                             168  ...                         0.0   \n17361215                              74  ...                         0.0   \n17361214                              73  ...                         0.0   \n17361017                              77  ...                         0.0   \n17361029                              75  ...                         0.0   \n...                                  ...  ...                         ...   \n17898159                            2205  ...                         0.0   \n17898153                              69  ...                         1.0   \n17898162                              72  ...                         1.0   \n17933781                              74  ...                         1.0   \n17898173                              72  ...                         1.0   \n\n          away_team_history_goal_1  away_team_history_opponent_goal_1  \\\nid                                                                      \n16865252                       2.0                                0.0   \n17361215                       2.0                                1.0   \n17361214                       5.0                                2.0   \n17361017                       2.0                                1.0   \n17361029                       2.0                                2.0   \n...                            ...                                ...   \n17898159                       2.0                                4.0   \n17898153                       0.0                                5.0   \n17898162                      10.0                                1.0   \n17933781                       0.0                                0.0   \n17898173                       1.0                                1.0   \n\n          away_team_history_rating_1  away_team_history_opponent_rating_1  \\\nid                                                                          \n16865252                    6.054564                             5.653872   \n17361215                   10.942083                             3.823483   \n17361214                   18.428900                             2.964117   \n17361017                   13.754282                             3.875195   \n17361029                   11.892500                             4.093900   \n...                              ...                                  ...   \n17898159                    3.388450                            10.866300   \n17898153                    4.288367                            19.233975   \n17898162                   25.634500                             6.190350   \n17933781                    8.301692                             4.347533   \n17898173                   11.779219                             4.587981   \n\n          home_team_history_target_1  home_team_mean_regeneration_time  \\\nid                                                                       \n16865252                         1.0                             120.0   \n17361215                         1.0                              78.0   \n17361214                        -1.0                              77.0   \n17361017                         1.0                              76.0   \n17361029                         1.0                              79.0   \n...                              ...                               ...   \n17898159                         0.0                              69.0   \n17898153                         1.0                            1878.0   \n17898162                         0.0                              74.0   \n17933781                         0.0                              98.0   \n17898173                         1.0                              69.0   \n\n          away_team_history_target_1  away_team_mean_regeneration_time  \\\nid                                                                       \n16865252                         1.0                             168.0   \n17361215                         1.0                              74.0   \n17361214                         1.0                              73.0   \n17361017                         1.0                              77.0   \n17361029                         0.0                              75.0   \n...                              ...                               ...   \n17898159                        -1.0                            2205.0   \n17898153                        -1.0                              69.0   \n17898162                         1.0                              72.0   \n17933781                         0.0                              74.0   \n17898173                         0.0                              72.0   \n\n          league_id_ratting  \nid                           \n16865252           6.800928  \n17361215           6.800928  \n17361214           6.800928  \n17361017           6.800928  \n17361029           6.800928  \n...                     ...  \n17898159          10.368191  \n17898153          10.368191  \n17898162          10.368191  \n17933781          10.368191  \n17898173          10.368191  \n\n[104699 rows x 21 columns]",
      "text/html": "<div>\n<style scoped>\n    .dataframe tbody tr th:only-of-type {\n        vertical-align: middle;\n    }\n\n    .dataframe tbody tr th {\n        vertical-align: top;\n    }\n\n    .dataframe thead th {\n        text-align: right;\n    }\n</style>\n<table border=\"1\" class=\"dataframe\">\n  <thead>\n    <tr style=\"text-align: right;\">\n      <th></th>\n      <th>target</th>\n      <th>is_cup</th>\n      <th>home_team_history_match_date_1</th>\n      <th>home_team_history_is_play_home_1</th>\n      <th>home_team_history_is_cup_1</th>\n      <th>home_team_history_goal_1</th>\n      <th>home_team_history_opponent_goal_1</th>\n      <th>home_team_history_rating_1</th>\n      <th>home_team_history_opponent_rating_1</th>\n      <th>away_team_history_match_date_1</th>\n      <th>...</th>\n      <th>away_team_history_is_cup_1</th>\n      <th>away_team_history_goal_1</th>\n      <th>away_team_history_opponent_goal_1</th>\n      <th>away_team_history_rating_1</th>\n      <th>away_team_history_opponent_rating_1</th>\n      <th>home_team_history_target_1</th>\n      <th>home_team_mean_regeneration_time</th>\n      <th>away_team_history_target_1</th>\n      <th>away_team_mean_regeneration_time</th>\n      <th>league_id_ratting</th>\n    </tr>\n    <tr>\n      <th>id</th>\n      <th></th>\n      <th></th>\n      <th></th>\n      <th></th>\n      <th></th>\n      <th></th>\n      <th></th>\n      <th></th>\n      <th></th>\n      <th></th>\n      <th></th>\n      <th></th>\n      <th></th>\n      <th></th>\n      <th></th>\n      <th></th>\n      <th></th>\n      <th></th>\n      <th></th>\n      <th></th>\n      <th></th>\n    </tr>\n  </thead>\n  <tbody>\n    <tr>\n      <th>16865252</th>\n      <td>0</td>\n      <td>1</td>\n      <td>120</td>\n      <td>0.0</td>\n      <td>0.0</td>\n      <td>3.0</td>\n      <td>1.0</td>\n      <td>16.561425</td>\n      <td>4.684600</td>\n      <td>168</td>\n      <td>...</td>\n      <td>0.0</td>\n      <td>2.0</td>\n      <td>0.0</td>\n      <td>6.054564</td>\n      <td>5.653872</td>\n      <td>1.0</td>\n      <td>120.0</td>\n      <td>1.0</td>\n      <td>168.0</td>\n      <td>6.800928</td>\n    </tr>\n    <tr>\n      <th>17361215</th>\n      <td>-1</td>\n      <td>1</td>\n      <td>78</td>\n      <td>0.0</td>\n      <td>0.0</td>\n      <td>2.0</td>\n      <td>1.0</td>\n      <td>11.226150</td>\n      <td>5.231500</td>\n      <td>74</td>\n      <td>...</td>\n      <td>0.0</td>\n      <td>2.0</td>\n      <td>1.0</td>\n      <td>10.942083</td>\n      <td>3.823483</td>\n      <td>1.0</td>\n      <td>78.0</td>\n      <td>1.0</td>\n      <td>74.0</td>\n      <td>6.800928</td>\n    </tr>\n    <tr>\n      <th>17361214</th>\n      <td>-1</td>\n      <td>1</td>\n      <td>77</td>\n      <td>0.0</td>\n      <td>0.0</td>\n      <td>1.0</td>\n      <td>4.0</td>\n      <td>7.747421</td>\n      <td>5.436468</td>\n      <td>73</td>\n      <td>...</td>\n      <td>0.0</td>\n      <td>5.0</td>\n      <td>2.0</td>\n      <td>18.428900</td>\n      <td>2.964117</td>\n      <td>-1.0</td>\n      <td>77.0</td>\n      <td>1.0</td>\n      <td>73.0</td>\n      <td>6.800928</td>\n    </tr>\n    <tr>\n      <th>17361017</th>\n      <td>-1</td>\n      <td>1</td>\n      <td>76</td>\n      <td>1.0</td>\n      <td>0.0</td>\n      <td>5.0</td>\n      <td>0.0</td>\n      <td>18.911633</td>\n      <td>4.625900</td>\n      <td>77</td>\n      <td>...</td>\n      <td>0.0</td>\n      <td>2.0</td>\n      <td>1.0</td>\n      <td>13.754282</td>\n      <td>3.875195</td>\n      <td>1.0</td>\n      <td>76.0</td>\n      <td>1.0</td>\n      <td>77.0</td>\n      <td>6.800928</td>\n    </tr>\n    <tr>\n      <th>17361029</th>\n      <td>1</td>\n      <td>1</td>\n      <td>79</td>\n      <td>1.0</td>\n      <td>0.0</td>\n      <td>4.0</td>\n      <td>1.0</td>\n      <td>11.501482</td>\n      <td>3.151259</td>\n      <td>75</td>\n      <td>...</td>\n      <td>0.0</td>\n      <td>2.0</td>\n      <td>2.0</td>\n      <td>11.892500</td>\n      <td>4.093900</td>\n      <td>1.0</td>\n      <td>79.0</td>\n      <td>0.0</td>\n      <td>75.0</td>\n      <td>6.800928</td>\n    </tr>\n    <tr>\n      <th>...</th>\n      <td>...</td>\n      <td>...</td>\n      <td>...</td>\n      <td>...</td>\n      <td>...</td>\n      <td>...</td>\n      <td>...</td>\n      <td>...</td>\n      <td>...</td>\n      <td>...</td>\n      <td>...</td>\n      <td>...</td>\n      <td>...</td>\n      <td>...</td>\n      <td>...</td>\n      <td>...</td>\n      <td>...</td>\n      <td>...</td>\n      <td>...</td>\n      <td>...</td>\n      <td>...</td>\n    </tr>\n    <tr>\n      <th>17898159</th>\n      <td>0</td>\n      <td>1</td>\n      <td>69</td>\n      <td>0.0</td>\n      <td>1.0</td>\n      <td>1.0</td>\n      <td>1.0</td>\n      <td>4.645254</td>\n      <td>10.032758</td>\n      <td>2205</td>\n      <td>...</td>\n      <td>0.0</td>\n      <td>2.0</td>\n      <td>4.0</td>\n      <td>3.388450</td>\n      <td>10.866300</td>\n      <td>0.0</td>\n      <td>69.0</td>\n      <td>-1.0</td>\n      <td>2205.0</td>\n      <td>10.368191</td>\n    </tr>\n    <tr>\n      <th>17898153</th>\n      <td>1</td>\n      <td>1</td>\n      <td>1878</td>\n      <td>0.0</td>\n      <td>0.0</td>\n      <td>5.0</td>\n      <td>0.0</td>\n      <td>11.602900</td>\n      <td>5.069567</td>\n      <td>69</td>\n      <td>...</td>\n      <td>1.0</td>\n      <td>0.0</td>\n      <td>5.0</td>\n      <td>4.288367</td>\n      <td>19.233975</td>\n      <td>1.0</td>\n      <td>1878.0</td>\n      <td>-1.0</td>\n      <td>69.0</td>\n      <td>10.368191</td>\n    </tr>\n    <tr>\n      <th>17898162</th>\n      <td>-1</td>\n      <td>1</td>\n      <td>74</td>\n      <td>0.0</td>\n      <td>1.0</td>\n      <td>0.0</td>\n      <td>0.0</td>\n      <td>14.396067</td>\n      <td>3.266683</td>\n      <td>72</td>\n      <td>...</td>\n      <td>1.0</td>\n      <td>10.0</td>\n      <td>1.0</td>\n      <td>25.634500</td>\n      <td>6.190350</td>\n      <td>0.0</td>\n      <td>74.0</td>\n      <td>1.0</td>\n      <td>72.0</td>\n      <td>10.368191</td>\n    </tr>\n    <tr>\n      <th>17933781</th>\n      <td>-1</td>\n      <td>1</td>\n      <td>98</td>\n      <td>0.0</td>\n      <td>1.0</td>\n      <td>1.0</td>\n      <td>1.0</td>\n      <td>6.120400</td>\n      <td>20.587200</td>\n      <td>74</td>\n      <td>...</td>\n      <td>1.0</td>\n      <td>0.0</td>\n      <td>0.0</td>\n      <td>8.301692</td>\n      <td>4.347533</td>\n      <td>0.0</td>\n      <td>98.0</td>\n      <td>0.0</td>\n      <td>74.0</td>\n      <td>10.368191</td>\n    </tr>\n    <tr>\n      <th>17898173</th>\n      <td>-1</td>\n      <td>1</td>\n      <td>69</td>\n      <td>0.0</td>\n      <td>1.0</td>\n      <td>5.0</td>\n      <td>0.0</td>\n      <td>5.930517</td>\n      <td>11.848333</td>\n      <td>72</td>\n      <td>...</td>\n      <td>1.0</td>\n      <td>1.0</td>\n      <td>1.0</td>\n      <td>11.779219</td>\n      <td>4.587981</td>\n      <td>1.0</td>\n      <td>69.0</td>\n      <td>0.0</td>\n      <td>72.0</td>\n      <td>10.368191</td>\n    </tr>\n  </tbody>\n</table>\n<p>104699 rows × 21 columns</p>\n</div>"
     },
     "execution_count": 27,
     "metadata": {},
     "output_type": "execute_result"
    }
   ],
   "source": [
    "from prepared_data.completed_missing_data import completed_missing_data_for_test_drop,convert_historical_date_to_date_difference, remove_described_col_and_set_index_id, map_target\n",
    "import pandas as pd\n",
    "import numpy as np\n",
    "from prepared_data.adding_new_features import adding_new_features\n",
    "\n",
    "train_org = pd.read_csv('data/train.csv')\n",
    "train = completed_missing_data_for_test_drop(train_org)\n",
    "train = convert_historical_date_to_date_difference(train)\n",
    "train = map_target(train)\n",
    "train = adding_new_features(train, number_of_history_matches=1)\n",
    "train = remove_described_col_and_set_index_id(train)\n",
    "train"
   ]
  },
  {
   "cell_type": "markdown",
   "source": [
    "Check accuracy models"
   ],
   "metadata": {
    "collapsed": false
   }
  },
  {
   "cell_type": "code",
   "execution_count": 28,
   "outputs": [
    {
     "name": "stdout",
     "output_type": "stream",
     "text": [
      "accuracy: 0.47\n",
      "train [ 1  1 -1 ...  1 -1  1]\n"
     ]
    }
   ],
   "source": [
    "from sklearn.pipeline import make_pipeline\n",
    "from sklearn.preprocessing import StandardScaler\n",
    "from sklearn.linear_model import LogisticRegression\n",
    "from sklearn.model_selection import train_test_split\n",
    "\n",
    "for data, name in zip([train], ['train']):\n",
    "    X_train, X_test, y_train, y_test = train_test_split(data.iloc[:, 1:], data.iloc[:, 0], test_size=0.33,\n",
    "                                                        random_state=42)\n",
    "    pipe = make_pipeline(StandardScaler(), LogisticRegression(random_state=0, solver='lbfgs', multi_class='ovr'))\n",
    "\n",
    "    pipe.fit(X_train, y_train)\n",
    "    results = pipe.predict(X_train)\n",
    "    print(f'accuracy: {pipe.score(X_test, y_test):.02f}')\n",
    "    print(name, results)"
   ],
   "metadata": {
    "collapsed": false,
    "pycharm": {
     "name": "#%%\n"
    }
   }
  },
  {
   "cell_type": "markdown",
   "source": [
    "Learn model from all dataset"
   ],
   "metadata": {
    "collapsed": false
   }
  },
  {
   "cell_type": "code",
   "execution_count": 29,
   "outputs": [
    {
     "data": {
      "text/plain": "Pipeline(steps=[('standardscaler', StandardScaler()),\n                ('logisticregression',\n                 LogisticRegression(multi_class='ovr', random_state=0))])"
     },
     "execution_count": 29,
     "metadata": {},
     "output_type": "execute_result"
    }
   ],
   "source": [
    "from sklearn.pipeline import make_pipeline\n",
    "from sklearn.preprocessing import StandardScaler\n",
    "from sklearn.linear_model import LogisticRegression\n",
    "from sklearn.model_selection import train_test_split\n",
    "\n",
    "\n",
    "pipe = make_pipeline(StandardScaler(), LogisticRegression(random_state=0, solver='lbfgs', multi_class='ovr'))\n",
    "target = train['target']\n",
    "X = train.drop('target',axis=1)\n",
    "pipe.fit(X,target)\n"
   ],
   "metadata": {
    "collapsed": false,
    "pycharm": {
     "name": "#%%\n"
    }
   }
  },
  {
   "cell_type": "markdown",
   "source": [
    "Read and prepare data test"
   ],
   "metadata": {
    "collapsed": false
   }
  },
  {
   "cell_type": "code",
   "execution_count": 30,
   "outputs": [
    {
     "name": "stdout",
     "output_type": "stream",
     "text": [
      "correction col type..\n",
      "percent of object with nan value:  39.35\n",
      "remove coach columns..\n",
      "percent of object with nan value:  13.93\n",
      "remove object with more that  col 80 empty...\n",
      "percent of object with nan value:  13.93\n",
      "remove all day historii without 1\n",
      "percent of object with nan value:  2.99\n",
      "remove all nan data\n",
      "percent of object with nan value:  2.99\n"
     ]
    },
    {
     "data": {
      "text/plain": "          is_cup  home_team_history_match_date_1  \\\nid                                                 \n18395579       1                              78   \n18395540       1                             120   \n18395546       1                              74   \n18395545       1                              72   \n18395547       1                              72   \n...          ...                             ...   \n18450046       1                              48   \n18448332       1                              95   \n18448333       1                              74   \n18449954       1                              97   \n18449955       1                              97   \n\n          home_team_history_is_play_home_1  home_team_history_is_cup_1  \\\nid                                                                       \n18395579                               0.0                         0.0   \n18395540                               1.0                         0.0   \n18395546                               1.0                         0.0   \n18395545                               1.0                         0.0   \n18395547                               1.0                         0.0   \n...                                    ...                         ...   \n18450046                               1.0                         1.0   \n18448332                               0.0                         0.0   \n18448333                               0.0                         0.0   \n18449954                               0.0                         0.0   \n18449955                               0.0                         0.0   \n\n          home_team_history_goal_1  home_team_history_opponent_goal_1  \\\nid                                                                      \n18395579                       5.0                                2.0   \n18395540                       3.0                                0.0   \n18395546                       4.0                                1.0   \n18395545                       3.0                                0.0   \n18395547                       2.0                                0.0   \n...                            ...                                ...   \n18450046                       1.0                                2.0   \n18448332                       0.0                                1.0   \n18448333                       5.0                                2.0   \n18449954                       0.0                                3.0   \n18449955                       0.0                                0.0   \n\n          home_team_history_rating_1  home_team_history_opponent_rating_1  \\\nid                                                                          \n18395579                   11.232317                             4.441396   \n18395540                   13.718925                             4.701863   \n18395546                   12.189000                             1.711100   \n18395545                   15.321900                             3.338400   \n18395547                   14.744411                             4.323639   \n...                              ...                                  ...   \n18450046                    5.384250                             8.512450   \n18448332                    6.066212                             9.626525   \n18448333                   11.762639                             5.332322   \n18449954                    4.281169                             5.849631   \n18449955                    9.399175                             2.625695   \n\n          away_team_history_match_date_1  away_team_history_is_play_home_1  \\\nid                                                                           \n18395579                              74                               0.0   \n18395540                             100                               1.0   \n18395546                              72                               1.0   \n18395545                              95                               0.0   \n18395547                              79                               0.0   \n...                                  ...                               ...   \n18450046                              69                               0.0   \n18448332                              95                               0.0   \n18448333                              74                               1.0   \n18449954                              93                               0.0   \n18449955                              98                               0.0   \n\n          away_team_history_is_cup_1  away_team_history_goal_1  \\\nid                                                               \n18395579                         0.0                       1.0   \n18395540                         0.0                       4.0   \n18395546                         0.0                       2.0   \n18395545                         0.0                       1.0   \n18395547                         0.0                       1.0   \n...                              ...                       ...   \n18450046                         1.0                       2.0   \n18448332                         0.0                       0.0   \n18448333                         0.0                       1.0   \n18449954                         0.0                       2.0   \n18449955                         0.0                       1.0   \n\n          away_team_history_opponent_goal_1  away_team_history_rating_1  \\\nid                                                                        \n18395579                                1.0                    8.373110   \n18395540                                0.0                   13.857854   \n18395546                                2.0                    7.341893   \n18395545                                2.0                    7.979600   \n18395547                                0.0                    5.802771   \n...                                     ...                         ...   \n18450046                                3.0                    6.688500   \n18448332                                0.0                   13.642281   \n18448333                                0.0                    9.626525   \n18449954                                0.0                    3.665124   \n18449955                                0.0                    4.629631   \n\n          away_team_history_opponent_rating_1  home_team_history_target_1  \\\nid                                                                          \n18395579                             3.614880                         1.0   \n18395540                             3.012571                         1.0   \n18395546                             6.064200                         1.0   \n18395545                             3.898150                         1.0   \n18395547                             5.790036                         1.0   \n...                                       ...                         ...   \n18450046                             8.280500                        -1.0   \n18448332                             4.739731                        -1.0   \n18448333                             6.066212                         1.0   \n18449954                             7.235160                        -1.0   \n18449955                             5.723150                         0.0   \n\n          home_team_mean_regeneration_time  away_team_history_target_1  \\\nid                                                                       \n18395579                              78.0                         0.0   \n18395540                             120.0                         1.0   \n18395546                              74.0                         0.0   \n18395545                              72.0                        -1.0   \n18395547                              72.0                         1.0   \n...                                    ...                         ...   \n18450046                              48.0                        -1.0   \n18448332                              95.0                         0.0   \n18448333                              74.0                         1.0   \n18449954                              97.0                         1.0   \n18449955                              97.0                         1.0   \n\n          away_team_mean_regeneration_time  league_id_ratting  \nid                                                             \n18395579                              74.0           6.521211  \n18395540                             100.0           6.521211  \n18395546                              72.0           6.521211  \n18395545                              95.0           6.521211  \n18395547                              79.0           6.521211  \n...                                    ...                ...  \n18450046                              69.0           8.527321  \n18448332                              95.0           8.527321  \n18448333                              74.0           8.527321  \n18449954                              93.0           6.777613  \n18449955                              98.0           6.777613  \n\n[70523 rows x 20 columns]",
      "text/html": "<div>\n<style scoped>\n    .dataframe tbody tr th:only-of-type {\n        vertical-align: middle;\n    }\n\n    .dataframe tbody tr th {\n        vertical-align: top;\n    }\n\n    .dataframe thead th {\n        text-align: right;\n    }\n</style>\n<table border=\"1\" class=\"dataframe\">\n  <thead>\n    <tr style=\"text-align: right;\">\n      <th></th>\n      <th>is_cup</th>\n      <th>home_team_history_match_date_1</th>\n      <th>home_team_history_is_play_home_1</th>\n      <th>home_team_history_is_cup_1</th>\n      <th>home_team_history_goal_1</th>\n      <th>home_team_history_opponent_goal_1</th>\n      <th>home_team_history_rating_1</th>\n      <th>home_team_history_opponent_rating_1</th>\n      <th>away_team_history_match_date_1</th>\n      <th>away_team_history_is_play_home_1</th>\n      <th>away_team_history_is_cup_1</th>\n      <th>away_team_history_goal_1</th>\n      <th>away_team_history_opponent_goal_1</th>\n      <th>away_team_history_rating_1</th>\n      <th>away_team_history_opponent_rating_1</th>\n      <th>home_team_history_target_1</th>\n      <th>home_team_mean_regeneration_time</th>\n      <th>away_team_history_target_1</th>\n      <th>away_team_mean_regeneration_time</th>\n      <th>league_id_ratting</th>\n    </tr>\n    <tr>\n      <th>id</th>\n      <th></th>\n      <th></th>\n      <th></th>\n      <th></th>\n      <th></th>\n      <th></th>\n      <th></th>\n      <th></th>\n      <th></th>\n      <th></th>\n      <th></th>\n      <th></th>\n      <th></th>\n      <th></th>\n      <th></th>\n      <th></th>\n      <th></th>\n      <th></th>\n      <th></th>\n      <th></th>\n    </tr>\n  </thead>\n  <tbody>\n    <tr>\n      <th>18395579</th>\n      <td>1</td>\n      <td>78</td>\n      <td>0.0</td>\n      <td>0.0</td>\n      <td>5.0</td>\n      <td>2.0</td>\n      <td>11.232317</td>\n      <td>4.441396</td>\n      <td>74</td>\n      <td>0.0</td>\n      <td>0.0</td>\n      <td>1.0</td>\n      <td>1.0</td>\n      <td>8.373110</td>\n      <td>3.614880</td>\n      <td>1.0</td>\n      <td>78.0</td>\n      <td>0.0</td>\n      <td>74.0</td>\n      <td>6.521211</td>\n    </tr>\n    <tr>\n      <th>18395540</th>\n      <td>1</td>\n      <td>120</td>\n      <td>1.0</td>\n      <td>0.0</td>\n      <td>3.0</td>\n      <td>0.0</td>\n      <td>13.718925</td>\n      <td>4.701863</td>\n      <td>100</td>\n      <td>1.0</td>\n      <td>0.0</td>\n      <td>4.0</td>\n      <td>0.0</td>\n      <td>13.857854</td>\n      <td>3.012571</td>\n      <td>1.0</td>\n      <td>120.0</td>\n      <td>1.0</td>\n      <td>100.0</td>\n      <td>6.521211</td>\n    </tr>\n    <tr>\n      <th>18395546</th>\n      <td>1</td>\n      <td>74</td>\n      <td>1.0</td>\n      <td>0.0</td>\n      <td>4.0</td>\n      <td>1.0</td>\n      <td>12.189000</td>\n      <td>1.711100</td>\n      <td>72</td>\n      <td>1.0</td>\n      <td>0.0</td>\n      <td>2.0</td>\n      <td>2.0</td>\n      <td>7.341893</td>\n      <td>6.064200</td>\n      <td>1.0</td>\n      <td>74.0</td>\n      <td>0.0</td>\n      <td>72.0</td>\n      <td>6.521211</td>\n    </tr>\n    <tr>\n      <th>18395545</th>\n      <td>1</td>\n      <td>72</td>\n      <td>1.0</td>\n      <td>0.0</td>\n      <td>3.0</td>\n      <td>0.0</td>\n      <td>15.321900</td>\n      <td>3.338400</td>\n      <td>95</td>\n      <td>0.0</td>\n      <td>0.0</td>\n      <td>1.0</td>\n      <td>2.0</td>\n      <td>7.979600</td>\n      <td>3.898150</td>\n      <td>1.0</td>\n      <td>72.0</td>\n      <td>-1.0</td>\n      <td>95.0</td>\n      <td>6.521211</td>\n    </tr>\n    <tr>\n      <th>18395547</th>\n      <td>1</td>\n      <td>72</td>\n      <td>1.0</td>\n      <td>0.0</td>\n      <td>2.0</td>\n      <td>0.0</td>\n      <td>14.744411</td>\n      <td>4.323639</td>\n      <td>79</td>\n      <td>0.0</td>\n      <td>0.0</td>\n      <td>1.0</td>\n      <td>0.0</td>\n      <td>5.802771</td>\n      <td>5.790036</td>\n      <td>1.0</td>\n      <td>72.0</td>\n      <td>1.0</td>\n      <td>79.0</td>\n      <td>6.521211</td>\n    </tr>\n    <tr>\n      <th>...</th>\n      <td>...</td>\n      <td>...</td>\n      <td>...</td>\n      <td>...</td>\n      <td>...</td>\n      <td>...</td>\n      <td>...</td>\n      <td>...</td>\n      <td>...</td>\n      <td>...</td>\n      <td>...</td>\n      <td>...</td>\n      <td>...</td>\n      <td>...</td>\n      <td>...</td>\n      <td>...</td>\n      <td>...</td>\n      <td>...</td>\n      <td>...</td>\n      <td>...</td>\n    </tr>\n    <tr>\n      <th>18450046</th>\n      <td>1</td>\n      <td>48</td>\n      <td>1.0</td>\n      <td>1.0</td>\n      <td>1.0</td>\n      <td>2.0</td>\n      <td>5.384250</td>\n      <td>8.512450</td>\n      <td>69</td>\n      <td>0.0</td>\n      <td>1.0</td>\n      <td>2.0</td>\n      <td>3.0</td>\n      <td>6.688500</td>\n      <td>8.280500</td>\n      <td>-1.0</td>\n      <td>48.0</td>\n      <td>-1.0</td>\n      <td>69.0</td>\n      <td>8.527321</td>\n    </tr>\n    <tr>\n      <th>18448332</th>\n      <td>1</td>\n      <td>95</td>\n      <td>0.0</td>\n      <td>0.0</td>\n      <td>0.0</td>\n      <td>1.0</td>\n      <td>6.066212</td>\n      <td>9.626525</td>\n      <td>95</td>\n      <td>0.0</td>\n      <td>0.0</td>\n      <td>0.0</td>\n      <td>0.0</td>\n      <td>13.642281</td>\n      <td>4.739731</td>\n      <td>-1.0</td>\n      <td>95.0</td>\n      <td>0.0</td>\n      <td>95.0</td>\n      <td>8.527321</td>\n    </tr>\n    <tr>\n      <th>18448333</th>\n      <td>1</td>\n      <td>74</td>\n      <td>0.0</td>\n      <td>0.0</td>\n      <td>5.0</td>\n      <td>2.0</td>\n      <td>11.762639</td>\n      <td>5.332322</td>\n      <td>74</td>\n      <td>1.0</td>\n      <td>0.0</td>\n      <td>1.0</td>\n      <td>0.0</td>\n      <td>9.626525</td>\n      <td>6.066212</td>\n      <td>1.0</td>\n      <td>74.0</td>\n      <td>1.0</td>\n      <td>74.0</td>\n      <td>8.527321</td>\n    </tr>\n    <tr>\n      <th>18449954</th>\n      <td>1</td>\n      <td>97</td>\n      <td>0.0</td>\n      <td>0.0</td>\n      <td>0.0</td>\n      <td>3.0</td>\n      <td>4.281169</td>\n      <td>5.849631</td>\n      <td>93</td>\n      <td>0.0</td>\n      <td>0.0</td>\n      <td>2.0</td>\n      <td>0.0</td>\n      <td>3.665124</td>\n      <td>7.235160</td>\n      <td>-1.0</td>\n      <td>97.0</td>\n      <td>1.0</td>\n      <td>93.0</td>\n      <td>6.777613</td>\n    </tr>\n    <tr>\n      <th>18449955</th>\n      <td>1</td>\n      <td>97</td>\n      <td>0.0</td>\n      <td>0.0</td>\n      <td>0.0</td>\n      <td>0.0</td>\n      <td>9.399175</td>\n      <td>2.625695</td>\n      <td>98</td>\n      <td>0.0</td>\n      <td>0.0</td>\n      <td>1.0</td>\n      <td>0.0</td>\n      <td>4.629631</td>\n      <td>5.723150</td>\n      <td>0.0</td>\n      <td>97.0</td>\n      <td>1.0</td>\n      <td>98.0</td>\n      <td>6.777613</td>\n    </tr>\n  </tbody>\n</table>\n<p>70523 rows × 20 columns</p>\n</div>"
     },
     "execution_count": 30,
     "metadata": {},
     "output_type": "execute_result"
    }
   ],
   "source": [
    "test_org = pd.read_csv('data/test.csv')\n",
    "test = completed_missing_data_for_test_drop(test_org)\n",
    "test = convert_historical_date_to_date_difference(test)\n",
    "test = map_target(test)\n",
    "test = adding_new_features(test, number_of_history_matches=1)\n",
    "test = remove_described_col_and_set_index_id(test)\n",
    "test"
   ],
   "metadata": {
    "collapsed": false,
    "pycharm": {
     "name": "#%%\n"
    }
   }
  },
  {
   "cell_type": "markdown",
   "source": [],
   "metadata": {
    "collapsed": false
   }
  },
  {
   "cell_type": "markdown",
   "source": [
    "Make prediction"
   ],
   "metadata": {
    "collapsed": false
   }
  },
  {
   "cell_type": "code",
   "execution_count": 31,
   "outputs": [
    {
     "name": "stdout",
     "output_type": "stream",
     "text": [
      "[-1  0  1]\n"
     ]
    },
    {
     "data": {
      "text/plain": "              away      draw      home\nid                                    \n18395579  0.309511  0.217278  0.473212\n18395540  0.407357  0.208516  0.384127\n18395546  0.214024  0.199776  0.586201\n18395545  0.258806  0.205514  0.535680\n18395547  0.245010  0.217298  0.537692\n...            ...       ...       ...\n18450046  0.446457  0.157355  0.396188\n18448332  0.582196  0.174621  0.243183\n18448333  0.306931  0.154222  0.538847\n18449954  0.368587  0.232465  0.398948\n18449955  0.247724  0.229583  0.522693\n\n[70523 rows x 3 columns]",
      "text/html": "<div>\n<style scoped>\n    .dataframe tbody tr th:only-of-type {\n        vertical-align: middle;\n    }\n\n    .dataframe tbody tr th {\n        vertical-align: top;\n    }\n\n    .dataframe thead th {\n        text-align: right;\n    }\n</style>\n<table border=\"1\" class=\"dataframe\">\n  <thead>\n    <tr style=\"text-align: right;\">\n      <th></th>\n      <th>away</th>\n      <th>draw</th>\n      <th>home</th>\n    </tr>\n    <tr>\n      <th>id</th>\n      <th></th>\n      <th></th>\n      <th></th>\n    </tr>\n  </thead>\n  <tbody>\n    <tr>\n      <th>18395579</th>\n      <td>0.309511</td>\n      <td>0.217278</td>\n      <td>0.473212</td>\n    </tr>\n    <tr>\n      <th>18395540</th>\n      <td>0.407357</td>\n      <td>0.208516</td>\n      <td>0.384127</td>\n    </tr>\n    <tr>\n      <th>18395546</th>\n      <td>0.214024</td>\n      <td>0.199776</td>\n      <td>0.586201</td>\n    </tr>\n    <tr>\n      <th>18395545</th>\n      <td>0.258806</td>\n      <td>0.205514</td>\n      <td>0.535680</td>\n    </tr>\n    <tr>\n      <th>18395547</th>\n      <td>0.245010</td>\n      <td>0.217298</td>\n      <td>0.537692</td>\n    </tr>\n    <tr>\n      <th>...</th>\n      <td>...</td>\n      <td>...</td>\n      <td>...</td>\n    </tr>\n    <tr>\n      <th>18450046</th>\n      <td>0.446457</td>\n      <td>0.157355</td>\n      <td>0.396188</td>\n    </tr>\n    <tr>\n      <th>18448332</th>\n      <td>0.582196</td>\n      <td>0.174621</td>\n      <td>0.243183</td>\n    </tr>\n    <tr>\n      <th>18448333</th>\n      <td>0.306931</td>\n      <td>0.154222</td>\n      <td>0.538847</td>\n    </tr>\n    <tr>\n      <th>18449954</th>\n      <td>0.368587</td>\n      <td>0.232465</td>\n      <td>0.398948</td>\n    </tr>\n    <tr>\n      <th>18449955</th>\n      <td>0.247724</td>\n      <td>0.229583</td>\n      <td>0.522693</td>\n    </tr>\n  </tbody>\n</table>\n<p>70523 rows × 3 columns</p>\n</div>"
     },
     "execution_count": 31,
     "metadata": {},
     "output_type": "execute_result"
    }
   ],
   "source": [
    "print(pipe.classes_)\n",
    "results_test = pipe.predict_proba(test)\n",
    "results_test = pd.DataFrame(data=results_test, columns=['away', 'draw', 'home'], index=test.index)\n",
    "results_test"
   ],
   "metadata": {
    "collapsed": false,
    "pycharm": {
     "name": "#%%\n"
    }
   }
  },
  {
   "cell_type": "markdown",
   "source": [
    "Completed data for nan test"
   ],
   "metadata": {
    "collapsed": false
   }
  },
  {
   "cell_type": "code",
   "execution_count": 32,
   "outputs": [
    {
     "name": "stdout",
     "output_type": "stream",
     "text": [
      "Complementing the result for 2188  (home:1,draw:0,away:0)\n"
     ]
    },
    {
     "data": {
      "text/plain": "            id  home  draw  away\n0     17948206  0.42  0.27  0.31\n1     17935491  0.42  0.27  0.31\n2     17900005  0.42  0.27  0.31\n3     17935494  0.42  0.27  0.31\n4     17993678  0.42  0.27  0.31\n...        ...   ...   ...   ...\n2183  18441638  0.42  0.27  0.31\n2184  18150684  0.42  0.27  0.31\n2185  18147374  0.42  0.27  0.31\n2186  18160935  0.42  0.27  0.31\n2187  18118302  0.42  0.27  0.31\n\n[2188 rows x 4 columns]",
      "text/html": "<div>\n<style scoped>\n    .dataframe tbody tr th:only-of-type {\n        vertical-align: middle;\n    }\n\n    .dataframe tbody tr th {\n        vertical-align: top;\n    }\n\n    .dataframe thead th {\n        text-align: right;\n    }\n</style>\n<table border=\"1\" class=\"dataframe\">\n  <thead>\n    <tr style=\"text-align: right;\">\n      <th></th>\n      <th>id</th>\n      <th>home</th>\n      <th>draw</th>\n      <th>away</th>\n    </tr>\n  </thead>\n  <tbody>\n    <tr>\n      <th>0</th>\n      <td>17948206</td>\n      <td>0.42</td>\n      <td>0.27</td>\n      <td>0.31</td>\n    </tr>\n    <tr>\n      <th>1</th>\n      <td>17935491</td>\n      <td>0.42</td>\n      <td>0.27</td>\n      <td>0.31</td>\n    </tr>\n    <tr>\n      <th>2</th>\n      <td>17900005</td>\n      <td>0.42</td>\n      <td>0.27</td>\n      <td>0.31</td>\n    </tr>\n    <tr>\n      <th>3</th>\n      <td>17935494</td>\n      <td>0.42</td>\n      <td>0.27</td>\n      <td>0.31</td>\n    </tr>\n    <tr>\n      <th>4</th>\n      <td>17993678</td>\n      <td>0.42</td>\n      <td>0.27</td>\n      <td>0.31</td>\n    </tr>\n    <tr>\n      <th>...</th>\n      <td>...</td>\n      <td>...</td>\n      <td>...</td>\n      <td>...</td>\n    </tr>\n    <tr>\n      <th>2183</th>\n      <td>18441638</td>\n      <td>0.42</td>\n      <td>0.27</td>\n      <td>0.31</td>\n    </tr>\n    <tr>\n      <th>2184</th>\n      <td>18150684</td>\n      <td>0.42</td>\n      <td>0.27</td>\n      <td>0.31</td>\n    </tr>\n    <tr>\n      <th>2185</th>\n      <td>18147374</td>\n      <td>0.42</td>\n      <td>0.27</td>\n      <td>0.31</td>\n    </tr>\n    <tr>\n      <th>2186</th>\n      <td>18160935</td>\n      <td>0.42</td>\n      <td>0.27</td>\n      <td>0.31</td>\n    </tr>\n    <tr>\n      <th>2187</th>\n      <td>18118302</td>\n      <td>0.42</td>\n      <td>0.27</td>\n      <td>0.31</td>\n    </tr>\n  </tbody>\n</table>\n<p>2188 rows × 4 columns</p>\n</div>"
     },
     "execution_count": 32,
     "metadata": {},
     "output_type": "execute_result"
    }
   ],
   "source": [
    "from prepared_data.prepared_test_nan_data_for_kaggle import results_for_drop_data\n",
    "results_drop= results_for_drop_data(test_org,test.reset_index())\n",
    "results_drop"
   ],
   "metadata": {
    "collapsed": false,
    "pycharm": {
     "name": "#%%\n"
    }
   }
  },
  {
   "cell_type": "markdown",
   "source": [
    "Merge results for test and test_nan"
   ],
   "metadata": {
    "collapsed": false
   }
  },
  {
   "cell_type": "code",
   "execution_count": 33,
   "outputs": [
    {
     "name": "stdout",
     "output_type": "stream",
     "text": [
      "72711 72711\n",
      "number of unique value id 72711\n"
     ]
    },
    {
     "data": {
      "text/plain": "             id      away      draw      home\n0      18395579  0.309511  0.217278  0.473212\n1      18395540  0.407357  0.208516  0.384127\n2      18395546  0.214024  0.199776  0.586201\n3      18395545  0.258806  0.205514  0.535680\n4      18395547  0.245010  0.217298  0.537692\n...         ...       ...       ...       ...\n72706  18441638  0.310000  0.270000  0.420000\n72707  18150684  0.310000  0.270000  0.420000\n72708  18147374  0.310000  0.270000  0.420000\n72709  18160935  0.310000  0.270000  0.420000\n72710  18118302  0.310000  0.270000  0.420000\n\n[72711 rows x 4 columns]",
      "text/html": "<div>\n<style scoped>\n    .dataframe tbody tr th:only-of-type {\n        vertical-align: middle;\n    }\n\n    .dataframe tbody tr th {\n        vertical-align: top;\n    }\n\n    .dataframe thead th {\n        text-align: right;\n    }\n</style>\n<table border=\"1\" class=\"dataframe\">\n  <thead>\n    <tr style=\"text-align: right;\">\n      <th></th>\n      <th>id</th>\n      <th>away</th>\n      <th>draw</th>\n      <th>home</th>\n    </tr>\n  </thead>\n  <tbody>\n    <tr>\n      <th>0</th>\n      <td>18395579</td>\n      <td>0.309511</td>\n      <td>0.217278</td>\n      <td>0.473212</td>\n    </tr>\n    <tr>\n      <th>1</th>\n      <td>18395540</td>\n      <td>0.407357</td>\n      <td>0.208516</td>\n      <td>0.384127</td>\n    </tr>\n    <tr>\n      <th>2</th>\n      <td>18395546</td>\n      <td>0.214024</td>\n      <td>0.199776</td>\n      <td>0.586201</td>\n    </tr>\n    <tr>\n      <th>3</th>\n      <td>18395545</td>\n      <td>0.258806</td>\n      <td>0.205514</td>\n      <td>0.535680</td>\n    </tr>\n    <tr>\n      <th>4</th>\n      <td>18395547</td>\n      <td>0.245010</td>\n      <td>0.217298</td>\n      <td>0.537692</td>\n    </tr>\n    <tr>\n      <th>...</th>\n      <td>...</td>\n      <td>...</td>\n      <td>...</td>\n      <td>...</td>\n    </tr>\n    <tr>\n      <th>72706</th>\n      <td>18441638</td>\n      <td>0.310000</td>\n      <td>0.270000</td>\n      <td>0.420000</td>\n    </tr>\n    <tr>\n      <th>72707</th>\n      <td>18150684</td>\n      <td>0.310000</td>\n      <td>0.270000</td>\n      <td>0.420000</td>\n    </tr>\n    <tr>\n      <th>72708</th>\n      <td>18147374</td>\n      <td>0.310000</td>\n      <td>0.270000</td>\n      <td>0.420000</td>\n    </tr>\n    <tr>\n      <th>72709</th>\n      <td>18160935</td>\n      <td>0.310000</td>\n      <td>0.270000</td>\n      <td>0.420000</td>\n    </tr>\n    <tr>\n      <th>72710</th>\n      <td>18118302</td>\n      <td>0.310000</td>\n      <td>0.270000</td>\n      <td>0.420000</td>\n    </tr>\n  </tbody>\n</table>\n<p>72711 rows × 4 columns</p>\n</div>"
     },
     "execution_count": 33,
     "metadata": {},
     "output_type": "execute_result"
    }
   ],
   "source": [
    "print(results_drop.shape[0] + results_test.shape[0], test_org.shape[0])\n",
    "results_test = results_test.reset_index()\n",
    "results = results_test.append(results_drop,ignore_index=True)\n",
    "print('number of unique value id', results['id'].nunique())\n",
    "print('the same id ', results['id'].values.sort() == train_org['id'].values.sort())\n",
    "print(results['id'].sort_values(by='id ') == train_org['id'].sort_values(by='id '))\n",
    "results"
   ],
   "metadata": {
    "collapsed": false,
    "pycharm": {
     "name": "#%%\n"
    }
   }
  },
  {
   "cell_type": "code",
   "execution_count": 41,
   "outputs": [],
   "source": [
    "results.to_csv('results/logist_regression_1_h_only',index=False)\n"
   ],
   "metadata": {
    "collapsed": false,
    "pycharm": {
     "name": "#%%\n"
    }
   }
  }
 ],
 "metadata": {
  "kernelspec": {
   "display_name": "Python 3",
   "language": "python",
   "name": "python3"
  },
  "language_info": {
   "codemirror_mode": {
    "name": "ipython",
    "version": 2
   },
   "file_extension": ".py",
   "mimetype": "text/x-python",
   "name": "python",
   "nbconvert_exporter": "python",
   "pygments_lexer": "ipython2",
   "version": "2.7.6"
  }
 },
 "nbformat": 4,
 "nbformat_minor": 0
}