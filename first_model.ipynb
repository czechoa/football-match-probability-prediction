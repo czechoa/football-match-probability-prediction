{
 "cells": [
  {
   "cell_type": "code",
   "execution_count": 1,
   "metadata": {
    "collapsed": false,
    "pycharm": {
     "name": "#%%\n"
    }
   },
   "outputs": [],
   "source": [
    "from completed_missing_data import completed_missing_data, convert_historical_date_to_date_difference, remove_described_col, map_target\n",
    "import pandas as pd\n",
    "import numpy as np\n",
    "from sklearn.model_selection import cross_val_score"
   ]
  },
  {
   "cell_type": "code",
   "execution_count": 2,
   "metadata": {
    "collapsed": true
   },
   "outputs": [
    {
     "name": "stderr",
     "output_type": "stream",
     "text": [
      "/home/andrzej/PycharmProjects/Physionet_Challenge_2021/venv/lib/python3.9/site-packages/IPython/core/interactiveshell.py:3251: DtypeWarning: Columns (7) have mixed types.Specify dtype option on import or set low_memory=False.\n",
      "  exec(code_obj, self.user_global_ns, self.user_ns)\n"
     ]
    },
    {
     "name": "stdout",
     "output_type": "stream",
     "text": [
      "correction col type..\n",
      "percent of object with nan value:  42.20\n",
      "remove coach columns..\n",
      "percent of object with nan value:  18.64\n",
      "remove object with more that  col 80 empty...\n",
      "percent of object with nan value:  18.64\n",
      "remove 9 and 10 day historii\n",
      "percent of object with nan value:  15.11\n",
      "remove all nan data\n",
      "percent of object with nan value:  15.11\n"
     ]
    }
   ],
   "source": [
    "train_org = pd.read_csv('data/train.csv')\n",
    "train = completed_missing_data(train_org)\n",
    "train = convert_historical_date_to_date_difference(train)\n",
    "train = map_target(train)\n",
    "\n",
    "#train_with_league_id = pd.concat([train, pd.get_dummies(train['league_id'],prefix='league_')], axis=1)\n",
    "\n",
    "# train = remove_described_col(train)\n",
    "# train_with_league_id = remove_described_col(train_with_league_id)"
   ]
  },
  {
   "cell_type": "code",
   "execution_count": 3,
   "metadata": {
    "collapsed": false,
    "pycharm": {
     "name": "#%%\n"
    }
   },
   "outputs": [
    {
     "name": "stdout",
     "output_type": "stream",
     "text": [
      "correction col type..\n",
      "percent of object with nan value:  39.35\n",
      "remove coach columns..\n",
      "percent of object with nan value:  13.93\n",
      "remove object with more that  col 80 empty...\n",
      "percent of object with nan value:  13.93\n",
      "remove 9 and 10 day historii\n",
      "percent of object with nan value:  11.15\n",
      "remove all nan data\n",
      "percent of object with nan value:  11.15\n"
     ]
    },
    {
     "data": {
      "text/plain": "       is_cup  home_team_history_match_date_1  home_team_history_match_date_2  \\\n0           0                              71                              97   \n1           0                             166                             169   \n3           0                              48                              98   \n4           0                              48                              98   \n5           0                              48                              98   \n...       ...                             ...                             ...   \n72706       0                             145                             163   \n72707       0                             141                              98   \n72708       0                             913                             765   \n72709       0                              75                              92   \n72710       0                              72                              96   \n\n       home_team_history_match_date_3  home_team_history_match_date_4  \\\n0                                  70                              96   \n1                                 168                             143   \n3                                  46                              48   \n4                                  48                              48   \n5                                  46                              50   \n...                               ...                             ...   \n72706                             169                             190   \n72707                             286                             120   \n72708                            1875                              93   \n72709                              71                              72   \n72710                             120                             218   \n\n       home_team_history_match_date_5  home_team_history_match_date_6  \\\n0                                 143                              98   \n1                                 360                              94   \n3                                 918                              72   \n4                                 917                              68   \n5                                 893                              96   \n...                               ...                             ...   \n72706                             122                             216   \n72707                              96                             144   \n72708                             450                            1452   \n72709                              77                              69   \n72710                              69                              99   \n\n       home_team_history_match_date_7  home_team_history_match_date_8  \\\n0                                 120                             288   \n1                                 193                              72   \n3                                  97                              95   \n4                                 100                              95   \n5                                  96                             119   \n...                               ...                             ...   \n72706                             142                             219   \n72707                              95                              97   \n72708                              77                            1097   \n72709                              71                              70   \n72710                              68                             195   \n\n       home_team_history_is_play_home_1  ...  away_team_history_rating_7  \\\n0                                   0.0  ...                    4.972890   \n1                                   0.0  ...                    6.765418   \n3                                   0.0  ...                    8.730013   \n4                                   0.0  ...                    6.550694   \n5                                   0.0  ...                    3.746925   \n...                                 ...  ...                         ...   \n72706                               1.0  ...                    7.010503   \n72707                               0.0  ...                    4.458606   \n72708                               1.0  ...                   12.404786   \n72709                               0.0  ...                    5.390842   \n72710                               0.0  ...                   12.226984   \n\n       away_team_history_rating_8  away_team_history_opponent_rating_1  \\\n0                        3.150812                             4.721590   \n1                        6.203948                             4.459100   \n3                        7.177425                             3.790810   \n4                        3.018285                             6.000775   \n5                        4.472350                             5.304272   \n...                           ...                                  ...   \n72706                    6.770769                             5.418217   \n72707                    5.017476                             4.839404   \n72708                    5.000000                             4.828760   \n72709                    4.837319                             4.963700   \n72710                    6.490004                             4.866435   \n\n       away_team_history_opponent_rating_2  \\\n0                                 6.953965   \n1                                 4.543053   \n3                                 3.562960   \n4                                 7.648230   \n5                                 7.069420   \n...                                    ...   \n72706                             4.389327   \n72707                             5.167733   \n72708                             4.448000   \n72709                             5.099264   \n72710                             4.928650   \n\n       away_team_history_opponent_rating_3  \\\n0                                 6.535228   \n1                                 4.861583   \n3                                 4.655450   \n4                                 5.580242   \n5                                 6.717443   \n...                                    ...   \n72706                             4.568866   \n72707                             5.403118   \n72708                             8.047350   \n72709                             6.111216   \n72710                             5.713721   \n\n       away_team_history_opponent_rating_4  \\\n0                                 5.782611   \n1                                 5.082300   \n3                                 4.232500   \n4                                 6.971550   \n5                                 6.130100   \n...                                    ...   \n72706                             6.076045   \n72707                             5.803769   \n72708                             7.526000   \n72709                             3.620043   \n72710                             5.204172   \n\n       away_team_history_opponent_rating_5  \\\n0                                 7.538950   \n1                                 9.011000   \n3                                 3.999711   \n4                                 5.624680   \n5                                 5.281494   \n...                                    ...   \n72706                             3.720895   \n72707                             5.873700   \n72708                             7.597350   \n72709                             6.283775   \n72710                             5.295343   \n\n       away_team_history_opponent_rating_6  \\\n0                                 8.428800   \n1                                 6.621075   \n3                                 4.095675   \n4                                 5.733725   \n5                                 5.731775   \n...                                    ...   \n72706                             4.656597   \n72707                             5.143589   \n72708                             6.304886   \n72709                             3.359233   \n72710                             4.804935   \n\n       away_team_history_opponent_rating_7  \\\n0                                 4.922229   \n1                                 4.141575   \n3                                 3.746925   \n4                                 4.453211   \n5                                 8.730013   \n...                                    ...   \n72706                             4.494093   \n72707                             6.695206   \n72708                             2.612821   \n72709                             4.382062   \n72710                             2.959687   \n\n       away_team_history_opponent_rating_8  \n0                                 6.796484  \n1                                 5.056690  \n3                                 4.952475  \n4                                 8.787767  \n5                                 6.617900  \n...                                    ...  \n72706                             3.665037  \n72707                             6.109570  \n72708                             5.000000  \n72709                             5.823854  \n72710                             4.906300  \n\n[64601 rows x 113 columns]",
      "text/html": "<div>\n<style scoped>\n    .dataframe tbody tr th:only-of-type {\n        vertical-align: middle;\n    }\n\n    .dataframe tbody tr th {\n        vertical-align: top;\n    }\n\n    .dataframe thead th {\n        text-align: right;\n    }\n</style>\n<table border=\"1\" class=\"dataframe\">\n  <thead>\n    <tr style=\"text-align: right;\">\n      <th></th>\n      <th>is_cup</th>\n      <th>home_team_history_match_date_1</th>\n      <th>home_team_history_match_date_2</th>\n      <th>home_team_history_match_date_3</th>\n      <th>home_team_history_match_date_4</th>\n      <th>home_team_history_match_date_5</th>\n      <th>home_team_history_match_date_6</th>\n      <th>home_team_history_match_date_7</th>\n      <th>home_team_history_match_date_8</th>\n      <th>home_team_history_is_play_home_1</th>\n      <th>...</th>\n      <th>away_team_history_rating_7</th>\n      <th>away_team_history_rating_8</th>\n      <th>away_team_history_opponent_rating_1</th>\n      <th>away_team_history_opponent_rating_2</th>\n      <th>away_team_history_opponent_rating_3</th>\n      <th>away_team_history_opponent_rating_4</th>\n      <th>away_team_history_opponent_rating_5</th>\n      <th>away_team_history_opponent_rating_6</th>\n      <th>away_team_history_opponent_rating_7</th>\n      <th>away_team_history_opponent_rating_8</th>\n    </tr>\n  </thead>\n  <tbody>\n    <tr>\n      <th>0</th>\n      <td>0</td>\n      <td>71</td>\n      <td>97</td>\n      <td>70</td>\n      <td>96</td>\n      <td>143</td>\n      <td>98</td>\n      <td>120</td>\n      <td>288</td>\n      <td>0.0</td>\n      <td>...</td>\n      <td>4.972890</td>\n      <td>3.150812</td>\n      <td>4.721590</td>\n      <td>6.953965</td>\n      <td>6.535228</td>\n      <td>5.782611</td>\n      <td>7.538950</td>\n      <td>8.428800</td>\n      <td>4.922229</td>\n      <td>6.796484</td>\n    </tr>\n    <tr>\n      <th>1</th>\n      <td>0</td>\n      <td>166</td>\n      <td>169</td>\n      <td>168</td>\n      <td>143</td>\n      <td>360</td>\n      <td>94</td>\n      <td>193</td>\n      <td>72</td>\n      <td>0.0</td>\n      <td>...</td>\n      <td>6.765418</td>\n      <td>6.203948</td>\n      <td>4.459100</td>\n      <td>4.543053</td>\n      <td>4.861583</td>\n      <td>5.082300</td>\n      <td>9.011000</td>\n      <td>6.621075</td>\n      <td>4.141575</td>\n      <td>5.056690</td>\n    </tr>\n    <tr>\n      <th>3</th>\n      <td>0</td>\n      <td>48</td>\n      <td>98</td>\n      <td>46</td>\n      <td>48</td>\n      <td>918</td>\n      <td>72</td>\n      <td>97</td>\n      <td>95</td>\n      <td>0.0</td>\n      <td>...</td>\n      <td>8.730013</td>\n      <td>7.177425</td>\n      <td>3.790810</td>\n      <td>3.562960</td>\n      <td>4.655450</td>\n      <td>4.232500</td>\n      <td>3.999711</td>\n      <td>4.095675</td>\n      <td>3.746925</td>\n      <td>4.952475</td>\n    </tr>\n    <tr>\n      <th>4</th>\n      <td>0</td>\n      <td>48</td>\n      <td>98</td>\n      <td>48</td>\n      <td>48</td>\n      <td>917</td>\n      <td>68</td>\n      <td>100</td>\n      <td>95</td>\n      <td>0.0</td>\n      <td>...</td>\n      <td>6.550694</td>\n      <td>3.018285</td>\n      <td>6.000775</td>\n      <td>7.648230</td>\n      <td>5.580242</td>\n      <td>6.971550</td>\n      <td>5.624680</td>\n      <td>5.733725</td>\n      <td>4.453211</td>\n      <td>8.787767</td>\n    </tr>\n    <tr>\n      <th>5</th>\n      <td>0</td>\n      <td>48</td>\n      <td>98</td>\n      <td>46</td>\n      <td>50</td>\n      <td>893</td>\n      <td>96</td>\n      <td>96</td>\n      <td>119</td>\n      <td>0.0</td>\n      <td>...</td>\n      <td>3.746925</td>\n      <td>4.472350</td>\n      <td>5.304272</td>\n      <td>7.069420</td>\n      <td>6.717443</td>\n      <td>6.130100</td>\n      <td>5.281494</td>\n      <td>5.731775</td>\n      <td>8.730013</td>\n      <td>6.617900</td>\n    </tr>\n    <tr>\n      <th>...</th>\n      <td>...</td>\n      <td>...</td>\n      <td>...</td>\n      <td>...</td>\n      <td>...</td>\n      <td>...</td>\n      <td>...</td>\n      <td>...</td>\n      <td>...</td>\n      <td>...</td>\n      <td>...</td>\n      <td>...</td>\n      <td>...</td>\n      <td>...</td>\n      <td>...</td>\n      <td>...</td>\n      <td>...</td>\n      <td>...</td>\n      <td>...</td>\n      <td>...</td>\n      <td>...</td>\n    </tr>\n    <tr>\n      <th>72706</th>\n      <td>0</td>\n      <td>145</td>\n      <td>163</td>\n      <td>169</td>\n      <td>190</td>\n      <td>122</td>\n      <td>216</td>\n      <td>142</td>\n      <td>219</td>\n      <td>1.0</td>\n      <td>...</td>\n      <td>7.010503</td>\n      <td>6.770769</td>\n      <td>5.418217</td>\n      <td>4.389327</td>\n      <td>4.568866</td>\n      <td>6.076045</td>\n      <td>3.720895</td>\n      <td>4.656597</td>\n      <td>4.494093</td>\n      <td>3.665037</td>\n    </tr>\n    <tr>\n      <th>72707</th>\n      <td>0</td>\n      <td>141</td>\n      <td>98</td>\n      <td>286</td>\n      <td>120</td>\n      <td>96</td>\n      <td>144</td>\n      <td>95</td>\n      <td>97</td>\n      <td>0.0</td>\n      <td>...</td>\n      <td>4.458606</td>\n      <td>5.017476</td>\n      <td>4.839404</td>\n      <td>5.167733</td>\n      <td>5.403118</td>\n      <td>5.803769</td>\n      <td>5.873700</td>\n      <td>5.143589</td>\n      <td>6.695206</td>\n      <td>6.109570</td>\n    </tr>\n    <tr>\n      <th>72708</th>\n      <td>0</td>\n      <td>913</td>\n      <td>765</td>\n      <td>1875</td>\n      <td>93</td>\n      <td>450</td>\n      <td>1452</td>\n      <td>77</td>\n      <td>1097</td>\n      <td>1.0</td>\n      <td>...</td>\n      <td>12.404786</td>\n      <td>5.000000</td>\n      <td>4.828760</td>\n      <td>4.448000</td>\n      <td>8.047350</td>\n      <td>7.526000</td>\n      <td>7.597350</td>\n      <td>6.304886</td>\n      <td>2.612821</td>\n      <td>5.000000</td>\n    </tr>\n    <tr>\n      <th>72709</th>\n      <td>0</td>\n      <td>75</td>\n      <td>92</td>\n      <td>71</td>\n      <td>72</td>\n      <td>77</td>\n      <td>69</td>\n      <td>71</td>\n      <td>70</td>\n      <td>0.0</td>\n      <td>...</td>\n      <td>5.390842</td>\n      <td>4.837319</td>\n      <td>4.963700</td>\n      <td>5.099264</td>\n      <td>6.111216</td>\n      <td>3.620043</td>\n      <td>6.283775</td>\n      <td>3.359233</td>\n      <td>4.382062</td>\n      <td>5.823854</td>\n    </tr>\n    <tr>\n      <th>72710</th>\n      <td>0</td>\n      <td>72</td>\n      <td>96</td>\n      <td>120</td>\n      <td>218</td>\n      <td>69</td>\n      <td>99</td>\n      <td>68</td>\n      <td>195</td>\n      <td>0.0</td>\n      <td>...</td>\n      <td>12.226984</td>\n      <td>6.490004</td>\n      <td>4.866435</td>\n      <td>4.928650</td>\n      <td>5.713721</td>\n      <td>5.204172</td>\n      <td>5.295343</td>\n      <td>4.804935</td>\n      <td>2.959687</td>\n      <td>4.906300</td>\n    </tr>\n  </tbody>\n</table>\n<p>64601 rows × 113 columns</p>\n</div>"
     },
     "execution_count": 3,
     "metadata": {},
     "output_type": "execute_result"
    }
   ],
   "source": [
    "test_org = pd.read_csv('data/test.csv')\n",
    "test = completed_missing_data(test_org)\n",
    "test = convert_historical_date_to_date_difference(test)\n",
    "test = remove_described_col(test)\n",
    "test"
   ]
  },
  {
   "cell_type": "markdown",
   "metadata": {},
   "source": [
    "# Dodanie cech\n",
    "- Sredni ranking drużyn w lidzie\n",
    "- Sredni ilosc meczow wygranych w lidze\n",
    "- Intensywnosc druzyny, na podstawie dat rozegranych meczów\n",
    "- Historyczny mecz target, na postawie bramek\n",
    "\n",
    "\n"
   ]
  },
  {
   "cell_type": "code",
   "execution_count": 4,
   "metadata": {},
   "outputs": [
    {
     "data": {
      "text/plain": "             id  target   home_team_name           away_team_name  \\\n61326  17213498       0            Molde              Ferencváros   \n61329  17225102       0   Omonia Nicosia       Olympiakos Piraeus   \n61328  17213499       0      Ferencváros                    Molde   \n61327  17201577       1      Dynamo Kyiv                     Gent   \n61325  17201576      -1             Gent              Dynamo Kyiv   \n...         ...     ...              ...                      ...   \n93939  17882062       0      FC Twente W                    PSV W   \n93938  17882061      -1  SC Heerenveen W                   Ajax W   \n93937  17882060       1     PEC Zwolle W           ADO Den Haag W   \n93936  17882059       1        Alkmaar W  Excelsior Barendrecht W   \n93940  17887521       1            PSV W             PEC Zwolle W   \n\n               match_date       league_name  league_id  is_cup  \\\n61326 2020-09-23 19:00:00  Champions League          2       1   \n61329 2020-09-29 19:00:00  Champions League          2       1   \n61328 2020-09-29 19:00:00  Champions League          2       1   \n61327 2020-09-29 19:00:00  Champions League          2       1   \n61325 2020-09-23 19:00:00  Champions League          2       1   \n...                   ...               ...        ...     ...   \n93939 2021-02-28 13:30:00    Eredivisie Cup       2037       1   \n93938 2021-02-28 11:30:00    Eredivisie Cup       2037       1   \n93937 2021-02-26 18:30:00    Eredivisie Cup       2037       1   \n93936 2021-02-26 18:30:00    Eredivisie Cup       2037       1   \n93940 2021-04-02 17:30:00    Eredivisie Cup       2037       1   \n\n       home_team_history_match_date_1  home_team_history_match_date_2  ...  \\\n61326                              99                              71  ...   \n61329                             144                              75  ...   \n61328                             144                             104  ...   \n61327                              80                              64  ...   \n61325                              98                              94  ...   \n...                               ...                             ...  ...   \n93939                             547                            1344  ...   \n93938                             545                            1133  ...   \n93937                             504                            1344  ...   \n93936                             504                            1135  ...   \n93940                              72                             222  ...   \n\n       away_team_history_target_4  home_team_history_target_5  \\\n61326                         1.0                         1.0   \n61329                         1.0                         1.0   \n61328                         0.0                         1.0   \n61327                         1.0                         0.0   \n61325                         1.0                         1.0   \n...                           ...                         ...   \n93939                        -1.0                         1.0   \n93938                        -1.0                         0.0   \n93937                        -1.0                         0.0   \n93936                         1.0                        -1.0   \n93940                        -1.0                         1.0   \n\n       away_team_history_target_5  home_team_history_target_6  \\\n61326                         1.0                         1.0   \n61329                        -1.0                         1.0   \n61328                        -1.0                         1.0   \n61327                        -1.0                         1.0   \n61325                         1.0                        -1.0   \n...                           ...                         ...   \n93939                         1.0                         1.0   \n93938                        -1.0                        -1.0   \n93937                        -1.0                        -1.0   \n93936                        -1.0                         0.0   \n93940                         1.0                         0.0   \n\n       away_team_history_target_6  home_team_history_target_7  \\\n61326                         1.0                        -1.0   \n61329                         1.0                         0.0   \n61328                         1.0                         1.0   \n61327                         0.0                         1.0   \n61325                        -1.0                        -1.0   \n...                           ...                         ...   \n93939                        -1.0                        -1.0   \n93938                         1.0                        -1.0   \n93937                         0.0                        -1.0   \n93936                        -1.0                         0.0   \n93940                         1.0                         1.0   \n\n       away_team_history_target_7  home_team_history_target_8  \\\n61326                         0.0                        -1.0   \n61329                         1.0                         1.0   \n61328                         1.0                         0.0   \n61327                         1.0                        -1.0   \n61325                         1.0                        -1.0   \n...                           ...                         ...   \n93939                         1.0                         1.0   \n93938                         1.0                        -1.0   \n93937                         1.0                         0.0   \n93936                         0.0                         0.0   \n93940                        -1.0                         1.0   \n\n       away_team_history_target_8  league_id_ratting  \n61326                         1.0           6.805677  \n61329                        -1.0           6.805677  \n61328                         1.0           6.805677  \n61327                        -1.0           6.805677  \n61325                         0.0           6.805677  \n...                           ...                ...  \n93939                         1.0           7.900250  \n93938                         1.0           7.900250  \n93937                         1.0           7.900250  \n93936                        -1.0           7.900250  \n93940                        -1.0           7.900250  \n\n[94169 rows x 155 columns]",
      "text/html": "<div>\n<style scoped>\n    .dataframe tbody tr th:only-of-type {\n        vertical-align: middle;\n    }\n\n    .dataframe tbody tr th {\n        vertical-align: top;\n    }\n\n    .dataframe thead th {\n        text-align: right;\n    }\n</style>\n<table border=\"1\" class=\"dataframe\">\n  <thead>\n    <tr style=\"text-align: right;\">\n      <th></th>\n      <th>id</th>\n      <th>target</th>\n      <th>home_team_name</th>\n      <th>away_team_name</th>\n      <th>match_date</th>\n      <th>league_name</th>\n      <th>league_id</th>\n      <th>is_cup</th>\n      <th>home_team_history_match_date_1</th>\n      <th>home_team_history_match_date_2</th>\n      <th>...</th>\n      <th>away_team_history_target_4</th>\n      <th>home_team_history_target_5</th>\n      <th>away_team_history_target_5</th>\n      <th>home_team_history_target_6</th>\n      <th>away_team_history_target_6</th>\n      <th>home_team_history_target_7</th>\n      <th>away_team_history_target_7</th>\n      <th>home_team_history_target_8</th>\n      <th>away_team_history_target_8</th>\n      <th>league_id_ratting</th>\n    </tr>\n  </thead>\n  <tbody>\n    <tr>\n      <th>61326</th>\n      <td>17213498</td>\n      <td>0</td>\n      <td>Molde</td>\n      <td>Ferencváros</td>\n      <td>2020-09-23 19:00:00</td>\n      <td>Champions League</td>\n      <td>2</td>\n      <td>1</td>\n      <td>99</td>\n      <td>71</td>\n      <td>...</td>\n      <td>1.0</td>\n      <td>1.0</td>\n      <td>1.0</td>\n      <td>1.0</td>\n      <td>1.0</td>\n      <td>-1.0</td>\n      <td>0.0</td>\n      <td>-1.0</td>\n      <td>1.0</td>\n      <td>6.805677</td>\n    </tr>\n    <tr>\n      <th>61329</th>\n      <td>17225102</td>\n      <td>0</td>\n      <td>Omonia Nicosia</td>\n      <td>Olympiakos Piraeus</td>\n      <td>2020-09-29 19:00:00</td>\n      <td>Champions League</td>\n      <td>2</td>\n      <td>1</td>\n      <td>144</td>\n      <td>75</td>\n      <td>...</td>\n      <td>1.0</td>\n      <td>1.0</td>\n      <td>-1.0</td>\n      <td>1.0</td>\n      <td>1.0</td>\n      <td>0.0</td>\n      <td>1.0</td>\n      <td>1.0</td>\n      <td>-1.0</td>\n      <td>6.805677</td>\n    </tr>\n    <tr>\n      <th>61328</th>\n      <td>17213499</td>\n      <td>0</td>\n      <td>Ferencváros</td>\n      <td>Molde</td>\n      <td>2020-09-29 19:00:00</td>\n      <td>Champions League</td>\n      <td>2</td>\n      <td>1</td>\n      <td>144</td>\n      <td>104</td>\n      <td>...</td>\n      <td>0.0</td>\n      <td>1.0</td>\n      <td>-1.0</td>\n      <td>1.0</td>\n      <td>1.0</td>\n      <td>1.0</td>\n      <td>1.0</td>\n      <td>0.0</td>\n      <td>1.0</td>\n      <td>6.805677</td>\n    </tr>\n    <tr>\n      <th>61327</th>\n      <td>17201577</td>\n      <td>1</td>\n      <td>Dynamo Kyiv</td>\n      <td>Gent</td>\n      <td>2020-09-29 19:00:00</td>\n      <td>Champions League</td>\n      <td>2</td>\n      <td>1</td>\n      <td>80</td>\n      <td>64</td>\n      <td>...</td>\n      <td>1.0</td>\n      <td>0.0</td>\n      <td>-1.0</td>\n      <td>1.0</td>\n      <td>0.0</td>\n      <td>1.0</td>\n      <td>1.0</td>\n      <td>-1.0</td>\n      <td>-1.0</td>\n      <td>6.805677</td>\n    </tr>\n    <tr>\n      <th>61325</th>\n      <td>17201576</td>\n      <td>-1</td>\n      <td>Gent</td>\n      <td>Dynamo Kyiv</td>\n      <td>2020-09-23 19:00:00</td>\n      <td>Champions League</td>\n      <td>2</td>\n      <td>1</td>\n      <td>98</td>\n      <td>94</td>\n      <td>...</td>\n      <td>1.0</td>\n      <td>1.0</td>\n      <td>1.0</td>\n      <td>-1.0</td>\n      <td>-1.0</td>\n      <td>-1.0</td>\n      <td>1.0</td>\n      <td>-1.0</td>\n      <td>0.0</td>\n      <td>6.805677</td>\n    </tr>\n    <tr>\n      <th>...</th>\n      <td>...</td>\n      <td>...</td>\n      <td>...</td>\n      <td>...</td>\n      <td>...</td>\n      <td>...</td>\n      <td>...</td>\n      <td>...</td>\n      <td>...</td>\n      <td>...</td>\n      <td>...</td>\n      <td>...</td>\n      <td>...</td>\n      <td>...</td>\n      <td>...</td>\n      <td>...</td>\n      <td>...</td>\n      <td>...</td>\n      <td>...</td>\n      <td>...</td>\n      <td>...</td>\n    </tr>\n    <tr>\n      <th>93939</th>\n      <td>17882062</td>\n      <td>0</td>\n      <td>FC Twente W</td>\n      <td>PSV W</td>\n      <td>2021-02-28 13:30:00</td>\n      <td>Eredivisie Cup</td>\n      <td>2037</td>\n      <td>1</td>\n      <td>547</td>\n      <td>1344</td>\n      <td>...</td>\n      <td>-1.0</td>\n      <td>1.0</td>\n      <td>1.0</td>\n      <td>1.0</td>\n      <td>-1.0</td>\n      <td>-1.0</td>\n      <td>1.0</td>\n      <td>1.0</td>\n      <td>1.0</td>\n      <td>7.900250</td>\n    </tr>\n    <tr>\n      <th>93938</th>\n      <td>17882061</td>\n      <td>-1</td>\n      <td>SC Heerenveen W</td>\n      <td>Ajax W</td>\n      <td>2021-02-28 11:30:00</td>\n      <td>Eredivisie Cup</td>\n      <td>2037</td>\n      <td>1</td>\n      <td>545</td>\n      <td>1133</td>\n      <td>...</td>\n      <td>-1.0</td>\n      <td>0.0</td>\n      <td>-1.0</td>\n      <td>-1.0</td>\n      <td>1.0</td>\n      <td>-1.0</td>\n      <td>1.0</td>\n      <td>-1.0</td>\n      <td>1.0</td>\n      <td>7.900250</td>\n    </tr>\n    <tr>\n      <th>93937</th>\n      <td>17882060</td>\n      <td>1</td>\n      <td>PEC Zwolle W</td>\n      <td>ADO Den Haag W</td>\n      <td>2021-02-26 18:30:00</td>\n      <td>Eredivisie Cup</td>\n      <td>2037</td>\n      <td>1</td>\n      <td>504</td>\n      <td>1344</td>\n      <td>...</td>\n      <td>-1.0</td>\n      <td>0.0</td>\n      <td>-1.0</td>\n      <td>-1.0</td>\n      <td>0.0</td>\n      <td>-1.0</td>\n      <td>1.0</td>\n      <td>0.0</td>\n      <td>1.0</td>\n      <td>7.900250</td>\n    </tr>\n    <tr>\n      <th>93936</th>\n      <td>17882059</td>\n      <td>1</td>\n      <td>Alkmaar W</td>\n      <td>Excelsior Barendrecht W</td>\n      <td>2021-02-26 18:30:00</td>\n      <td>Eredivisie Cup</td>\n      <td>2037</td>\n      <td>1</td>\n      <td>504</td>\n      <td>1135</td>\n      <td>...</td>\n      <td>1.0</td>\n      <td>-1.0</td>\n      <td>-1.0</td>\n      <td>0.0</td>\n      <td>-1.0</td>\n      <td>0.0</td>\n      <td>0.0</td>\n      <td>0.0</td>\n      <td>-1.0</td>\n      <td>7.900250</td>\n    </tr>\n    <tr>\n      <th>93940</th>\n      <td>17887521</td>\n      <td>1</td>\n      <td>PSV W</td>\n      <td>PEC Zwolle W</td>\n      <td>2021-04-02 17:30:00</td>\n      <td>Eredivisie Cup</td>\n      <td>2037</td>\n      <td>1</td>\n      <td>72</td>\n      <td>222</td>\n      <td>...</td>\n      <td>-1.0</td>\n      <td>1.0</td>\n      <td>1.0</td>\n      <td>0.0</td>\n      <td>1.0</td>\n      <td>1.0</td>\n      <td>-1.0</td>\n      <td>1.0</td>\n      <td>-1.0</td>\n      <td>7.900250</td>\n    </tr>\n  </tbody>\n</table>\n<p>94169 rows × 155 columns</p>\n</div>"
     },
     "execution_count": 4,
     "metadata": {},
     "output_type": "execute_result"
    }
   ],
   "source": [
    "def team_regeneration(data_f, team_h_or_a, index, history_matches_amount):\n",
    "    i_str =str(index)\n",
    "    if index == 1:\n",
    "        data_f[team_h_or_a + '_team_mean_regeneration_time'] = data_f[team_h_or_a + '_team_history_match_date_' + i_str] / history_matches_amount\n",
    "    else:\n",
    "        data_f[team_h_or_a + '_team_mean_regeneration_time'] += data_f[team_h_or_a + '_team_history_match_date_' + i_str] / history_matches_amount\n",
    "    return data_f\n",
    "\n",
    "\n",
    "def history_target(data_f, team_h_or_a, index):\n",
    "    i_str = str(index)\n",
    "    team_history_goal = team_h_or_a + '_team_history_goal_' + i_str\n",
    "\n",
    "    team_history_opponent_goal = team_h_or_a + '_team_history_opponent_goal_' + i_str\n",
    "\n",
    "    data_f[team_h_or_a + '_team_history_target_' + i_str] = np.sign(\n",
    "        data_f[team_history_goal] - data_f[team_history_opponent_goal])\n",
    "    return  data_f\n",
    "\n",
    "def league_team_mean_ratting(data_f, team_h_or_a, index):\n",
    "    i_str = str(index)\n",
    "    last_match_columns = [x for x in data_f.columns if i_str in x]\n",
    "    rating_col_name = team_h_or_a + '_team_history_league_id_' + i_str\n",
    "\n",
    "    league_mean_ratting = data_f[last_match_columns].groupby(by=rating_col_name).mean()\n",
    "    league_mean_ratting['mean_ratting_' + team_h_or_a + '_' + i_str] = (league_mean_ratting[team_h_or_a + '_team_history_rating_' + i_str]\n",
    "                                                                      + league_mean_ratting[team_h_or_a + '_team_history_opponent_rating_' + i_str]) / 2\n",
    "\n",
    "    return league_mean_ratting['mean_ratting_' + team_h_or_a + '_' + i_str]\n",
    "\n",
    "league_mean_ratting_all = pd.DataFrame()\n",
    "number_of_history_matches = 8\n",
    "\n",
    "for i in range(1, number_of_history_matches + 1):\n",
    "    for home_or_away in ['home', 'away']:\n",
    "        league_mean_ratting_all = league_mean_ratting_all.append(league_team_mean_ratting(train, home_or_away, i))\n",
    "        train = history_target(train, home_or_away, i)\n",
    "        train = team_regeneration(train, home_or_away, i,number_of_history_matches)\n",
    "\n",
    "league_mean_ratting_all = league_mean_ratting_all.mean().reset_index().rename(\n",
    "    columns={'index': 'league_id', 0: 'league_id_ratting'})\n",
    "\n",
    "train = train.merge(league_mean_ratting_all, on='league_id').sort_values(by='league_id')\n",
    "train"
   ]
  },
  {
   "cell_type": "code",
   "execution_count": 5,
   "outputs": [
    {
     "data": {
      "text/plain": "       target  is_cup  home_team_history_match_date_1  \\\n61326       0       1                              99   \n61329       0       1                             144   \n61328       0       1                             144   \n61327       1       1                              80   \n61325      -1       1                              98   \n...       ...     ...                             ...   \n93939       0       1                             547   \n93938      -1       1                             545   \n93937       1       1                             504   \n93936       1       1                             504   \n93940       1       1                              72   \n\n       home_team_history_match_date_2  home_team_history_match_date_3  \\\n61326                              71                             406   \n61329                              75                              96   \n61328                             104                              66   \n61327                              64                              98   \n61325                              94                              95   \n...                               ...                             ...   \n93939                            1344                             463   \n93938                            1133                             715   \n93937                            1344                             504   \n93936                            1135                             712   \n93940                             222                              88   \n\n       home_team_history_match_date_4  home_team_history_match_date_5  \\\n61326                              98                              99   \n61329                              93                             314   \n61328                             119                             290   \n61327                              95                              97   \n61325                             196                              91   \n...                               ...                             ...   \n93939                             165                             211   \n93938                             168                             168   \n93937                             168                             168   \n93936                             168                             168   \n93940                             120                             127   \n\n       home_team_history_match_date_6  home_team_history_match_date_7  \\\n61326                              69                              98   \n61329                              93                              98   \n61328                              93                             169   \n61327                             406                             100   \n61325                             192                             169   \n...                               ...                             ...   \n93939                             168                             464   \n93938                             168                             505   \n93937                             168                             505   \n93936                             168                             505   \n93940                             165                             547   \n\n       home_team_history_match_date_8  ...  away_team_history_target_4  \\\n61326                             115  ...                         1.0   \n61329                              72  ...                         1.0   \n61328                             120  ...                         0.0   \n61327                             789  ...                         1.0   \n61325                             149  ...                         1.0   \n...                               ...  ...                         ...   \n93939                             208  ...                        -1.0   \n93938                             168  ...                        -1.0   \n93937                             168  ...                        -1.0   \n93936                             168  ...                         1.0   \n93940                            1133  ...                        -1.0   \n\n       home_team_history_target_5  away_team_history_target_5  \\\n61326                         1.0                         1.0   \n61329                         1.0                        -1.0   \n61328                         1.0                        -1.0   \n61327                         0.0                        -1.0   \n61325                         1.0                         1.0   \n...                           ...                         ...   \n93939                         1.0                         1.0   \n93938                         0.0                        -1.0   \n93937                         0.0                        -1.0   \n93936                        -1.0                        -1.0   \n93940                         1.0                         1.0   \n\n       home_team_history_target_6  away_team_history_target_6  \\\n61326                         1.0                         1.0   \n61329                         1.0                         1.0   \n61328                         1.0                         1.0   \n61327                         1.0                         0.0   \n61325                        -1.0                        -1.0   \n...                           ...                         ...   \n93939                         1.0                        -1.0   \n93938                        -1.0                         1.0   \n93937                        -1.0                         0.0   \n93936                         0.0                        -1.0   \n93940                         0.0                         1.0   \n\n       home_team_history_target_7  away_team_history_target_7  \\\n61326                        -1.0                         0.0   \n61329                         0.0                         1.0   \n61328                         1.0                         1.0   \n61327                         1.0                         1.0   \n61325                        -1.0                         1.0   \n...                           ...                         ...   \n93939                        -1.0                         1.0   \n93938                        -1.0                         1.0   \n93937                        -1.0                         1.0   \n93936                         0.0                         0.0   \n93940                         1.0                        -1.0   \n\n       home_team_history_target_8  away_team_history_target_8  \\\n61326                        -1.0                         1.0   \n61329                         1.0                        -1.0   \n61328                         0.0                         1.0   \n61327                        -1.0                        -1.0   \n61325                        -1.0                         0.0   \n...                           ...                         ...   \n93939                         1.0                         1.0   \n93938                        -1.0                         1.0   \n93937                         0.0                         1.0   \n93936                         0.0                        -1.0   \n93940                         1.0                        -1.0   \n\n       league_id_ratting  \n61326           6.805677  \n61329           6.805677  \n61328           6.805677  \n61327           6.805677  \n61325           6.805677  \n...                  ...  \n93939           7.900250  \n93938           7.900250  \n93937           7.900250  \n93936           7.900250  \n93940           7.900250  \n\n[94169 rows x 133 columns]",
      "text/html": "<div>\n<style scoped>\n    .dataframe tbody tr th:only-of-type {\n        vertical-align: middle;\n    }\n\n    .dataframe tbody tr th {\n        vertical-align: top;\n    }\n\n    .dataframe thead th {\n        text-align: right;\n    }\n</style>\n<table border=\"1\" class=\"dataframe\">\n  <thead>\n    <tr style=\"text-align: right;\">\n      <th></th>\n      <th>target</th>\n      <th>is_cup</th>\n      <th>home_team_history_match_date_1</th>\n      <th>home_team_history_match_date_2</th>\n      <th>home_team_history_match_date_3</th>\n      <th>home_team_history_match_date_4</th>\n      <th>home_team_history_match_date_5</th>\n      <th>home_team_history_match_date_6</th>\n      <th>home_team_history_match_date_7</th>\n      <th>home_team_history_match_date_8</th>\n      <th>...</th>\n      <th>away_team_history_target_4</th>\n      <th>home_team_history_target_5</th>\n      <th>away_team_history_target_5</th>\n      <th>home_team_history_target_6</th>\n      <th>away_team_history_target_6</th>\n      <th>home_team_history_target_7</th>\n      <th>away_team_history_target_7</th>\n      <th>home_team_history_target_8</th>\n      <th>away_team_history_target_8</th>\n      <th>league_id_ratting</th>\n    </tr>\n  </thead>\n  <tbody>\n    <tr>\n      <th>61326</th>\n      <td>0</td>\n      <td>1</td>\n      <td>99</td>\n      <td>71</td>\n      <td>406</td>\n      <td>98</td>\n      <td>99</td>\n      <td>69</td>\n      <td>98</td>\n      <td>115</td>\n      <td>...</td>\n      <td>1.0</td>\n      <td>1.0</td>\n      <td>1.0</td>\n      <td>1.0</td>\n      <td>1.0</td>\n      <td>-1.0</td>\n      <td>0.0</td>\n      <td>-1.0</td>\n      <td>1.0</td>\n      <td>6.805677</td>\n    </tr>\n    <tr>\n      <th>61329</th>\n      <td>0</td>\n      <td>1</td>\n      <td>144</td>\n      <td>75</td>\n      <td>96</td>\n      <td>93</td>\n      <td>314</td>\n      <td>93</td>\n      <td>98</td>\n      <td>72</td>\n      <td>...</td>\n      <td>1.0</td>\n      <td>1.0</td>\n      <td>-1.0</td>\n      <td>1.0</td>\n      <td>1.0</td>\n      <td>0.0</td>\n      <td>1.0</td>\n      <td>1.0</td>\n      <td>-1.0</td>\n      <td>6.805677</td>\n    </tr>\n    <tr>\n      <th>61328</th>\n      <td>0</td>\n      <td>1</td>\n      <td>144</td>\n      <td>104</td>\n      <td>66</td>\n      <td>119</td>\n      <td>290</td>\n      <td>93</td>\n      <td>169</td>\n      <td>120</td>\n      <td>...</td>\n      <td>0.0</td>\n      <td>1.0</td>\n      <td>-1.0</td>\n      <td>1.0</td>\n      <td>1.0</td>\n      <td>1.0</td>\n      <td>1.0</td>\n      <td>0.0</td>\n      <td>1.0</td>\n      <td>6.805677</td>\n    </tr>\n    <tr>\n      <th>61327</th>\n      <td>1</td>\n      <td>1</td>\n      <td>80</td>\n      <td>64</td>\n      <td>98</td>\n      <td>95</td>\n      <td>97</td>\n      <td>406</td>\n      <td>100</td>\n      <td>789</td>\n      <td>...</td>\n      <td>1.0</td>\n      <td>0.0</td>\n      <td>-1.0</td>\n      <td>1.0</td>\n      <td>0.0</td>\n      <td>1.0</td>\n      <td>1.0</td>\n      <td>-1.0</td>\n      <td>-1.0</td>\n      <td>6.805677</td>\n    </tr>\n    <tr>\n      <th>61325</th>\n      <td>-1</td>\n      <td>1</td>\n      <td>98</td>\n      <td>94</td>\n      <td>95</td>\n      <td>196</td>\n      <td>91</td>\n      <td>192</td>\n      <td>169</td>\n      <td>149</td>\n      <td>...</td>\n      <td>1.0</td>\n      <td>1.0</td>\n      <td>1.0</td>\n      <td>-1.0</td>\n      <td>-1.0</td>\n      <td>-1.0</td>\n      <td>1.0</td>\n      <td>-1.0</td>\n      <td>0.0</td>\n      <td>6.805677</td>\n    </tr>\n    <tr>\n      <th>...</th>\n      <td>...</td>\n      <td>...</td>\n      <td>...</td>\n      <td>...</td>\n      <td>...</td>\n      <td>...</td>\n      <td>...</td>\n      <td>...</td>\n      <td>...</td>\n      <td>...</td>\n      <td>...</td>\n      <td>...</td>\n      <td>...</td>\n      <td>...</td>\n      <td>...</td>\n      <td>...</td>\n      <td>...</td>\n      <td>...</td>\n      <td>...</td>\n      <td>...</td>\n      <td>...</td>\n    </tr>\n    <tr>\n      <th>93939</th>\n      <td>0</td>\n      <td>1</td>\n      <td>547</td>\n      <td>1344</td>\n      <td>463</td>\n      <td>165</td>\n      <td>211</td>\n      <td>168</td>\n      <td>464</td>\n      <td>208</td>\n      <td>...</td>\n      <td>-1.0</td>\n      <td>1.0</td>\n      <td>1.0</td>\n      <td>1.0</td>\n      <td>-1.0</td>\n      <td>-1.0</td>\n      <td>1.0</td>\n      <td>1.0</td>\n      <td>1.0</td>\n      <td>7.900250</td>\n    </tr>\n    <tr>\n      <th>93938</th>\n      <td>-1</td>\n      <td>1</td>\n      <td>545</td>\n      <td>1133</td>\n      <td>715</td>\n      <td>168</td>\n      <td>168</td>\n      <td>168</td>\n      <td>505</td>\n      <td>168</td>\n      <td>...</td>\n      <td>-1.0</td>\n      <td>0.0</td>\n      <td>-1.0</td>\n      <td>-1.0</td>\n      <td>1.0</td>\n      <td>-1.0</td>\n      <td>1.0</td>\n      <td>-1.0</td>\n      <td>1.0</td>\n      <td>7.900250</td>\n    </tr>\n    <tr>\n      <th>93937</th>\n      <td>1</td>\n      <td>1</td>\n      <td>504</td>\n      <td>1344</td>\n      <td>504</td>\n      <td>168</td>\n      <td>168</td>\n      <td>168</td>\n      <td>505</td>\n      <td>168</td>\n      <td>...</td>\n      <td>-1.0</td>\n      <td>0.0</td>\n      <td>-1.0</td>\n      <td>-1.0</td>\n      <td>0.0</td>\n      <td>-1.0</td>\n      <td>1.0</td>\n      <td>0.0</td>\n      <td>1.0</td>\n      <td>7.900250</td>\n    </tr>\n    <tr>\n      <th>93936</th>\n      <td>1</td>\n      <td>1</td>\n      <td>504</td>\n      <td>1135</td>\n      <td>712</td>\n      <td>168</td>\n      <td>168</td>\n      <td>168</td>\n      <td>505</td>\n      <td>168</td>\n      <td>...</td>\n      <td>1.0</td>\n      <td>-1.0</td>\n      <td>-1.0</td>\n      <td>0.0</td>\n      <td>-1.0</td>\n      <td>0.0</td>\n      <td>0.0</td>\n      <td>0.0</td>\n      <td>-1.0</td>\n      <td>7.900250</td>\n    </tr>\n    <tr>\n      <th>93940</th>\n      <td>1</td>\n      <td>1</td>\n      <td>72</td>\n      <td>222</td>\n      <td>88</td>\n      <td>120</td>\n      <td>127</td>\n      <td>165</td>\n      <td>547</td>\n      <td>1133</td>\n      <td>...</td>\n      <td>-1.0</td>\n      <td>1.0</td>\n      <td>1.0</td>\n      <td>0.0</td>\n      <td>1.0</td>\n      <td>1.0</td>\n      <td>-1.0</td>\n      <td>1.0</td>\n      <td>-1.0</td>\n      <td>7.900250</td>\n    </tr>\n  </tbody>\n</table>\n<p>94169 rows × 133 columns</p>\n</div>"
     },
     "execution_count": 5,
     "metadata": {},
     "output_type": "execute_result"
    }
   ],
   "source": [
    "train = remove_described_col(train)\n",
    "# %%\n",
    "train"
   ],
   "metadata": {
    "collapsed": false,
    "pycharm": {
     "name": "#%%\n"
    }
   }
  },
  {
   "cell_type": "code",
   "execution_count": 6,
   "outputs": [
    {
     "name": "stdout",
     "output_type": "stream",
     "text": [
      "['target', 'is_cup', 'home_team_history_match_date_1', 'home_team_history_is_play_home_1', 'home_team_history_is_cup_1', 'home_team_history_goal_1', 'home_team_history_opponent_goal_1', 'home_team_history_rating_1', 'home_team_history_opponent_rating_1', 'away_team_history_match_date_1', 'away_team_history_is_play_home_1', 'away_team_history_is_cup_1', 'away_team_history_goal_1', 'away_team_history_opponent_goal_1', 'away_team_history_rating_1', 'away_team_history_opponent_rating_1', 'home_team_history_target_1', 'home_team_mean_regeneration_time', 'away_team_history_target_1', 'away_team_mean_regeneration_time', 'league_id_ratting']\n"
     ]
    }
   ],
   "source": [
    "import re\n",
    "used = set()\n",
    "columns_only_first_hist = [column for column in train.columns.values if\n",
    "                           re.sub('\\d', '', column) not in used and (used.add(re.sub('\\d', '', column)) or True)]\n",
    "print(columns_only_first_hist)"
   ],
   "metadata": {
    "collapsed": false,
    "pycharm": {
     "name": "#%%\n"
    }
   }
  },
  {
   "cell_type": "code",
   "execution_count": 7,
   "metadata": {
    "collapsed": false,
    "pycharm": {
     "name": "#%%\n"
    }
   },
   "outputs": [
    {
     "name": "stdout",
     "output_type": "stream",
     "text": [
      "accuracy: 0.49\n",
      "train [-1  1 -1 ...  1  1 -1]\n"
     ]
    }
   ],
   "source": [
    "from sklearn.preprocessing import StandardScaler\n",
    "from sklearn.pipeline import make_pipeline\n",
    "from sklearn.model_selection import train_test_split\n",
    "from sklearn.linear_model import LogisticRegression\n",
    "\n",
    "for data, name in zip([train], ['train']):\n",
    "    X_train, X_test, y_train, y_test = train_test_split(data.iloc[:, 1:], data.iloc[:, 0], test_size=0.33,\n",
    "                                                        random_state=42)\n",
    "    pipe = make_pipeline(StandardScaler(), LogisticRegression(random_state=0, solver='lbfgs', multi_class='ovr'))\n",
    "\n",
    "    pipe.fit(X_train, y_train)\n",
    "    results = pipe.predict(X_train)\n",
    "    print(f'accuracy: {pipe.score(X_test, y_test):.02f}')\n",
    "    print(name, results)\n",
    "# drzewach, svm\n",
    "# kolumny\n",
    "# kaggle\n",
    "#"
   ]
  },
  {
   "cell_type": "markdown",
   "metadata": {
    "collapsed": false
   },
   "source": [
    "# Dobór cech"
   ]
  },
  {
   "cell_type": "code",
   "execution_count": 14,
   "metadata": {
    "collapsed": false,
    "pycharm": {
     "name": "#%%\n"
    }
   },
   "outputs": [
    {
     "name": "stdout",
     "output_type": "stream",
     "text": [
      "['is_cup'] 0.43134737674576895\n",
      "['home_team_history_match_date_1'] 0.43128398530440987\n",
      "['home_team_history_match_date_2'] 0.4312047309298471\n",
      "['home_team_history_match_date_3'] 0.43106209641857324\n",
      "['home_team_history_match_date_4'] 0.43139492535107615\n",
      "['home_team_history_match_date_5'] 0.43134737674576895\n",
      "['home_team_history_match_date_6'] 0.43134737674576895\n",
      "['home_team_history_match_date_7'] 0.43134737674576895\n",
      "['home_team_history_match_date_8'] 0.43134737674576895\n",
      "['home_team_history_is_play_home_1'] 0.43134737674576895\n",
      "['home_team_history_is_play_home_2'] 0.43134737674576895\n",
      "['home_team_history_is_play_home_3'] 0.43134737674576895\n",
      "['home_team_history_is_play_home_4'] 0.43134737674576895\n",
      "['home_team_history_is_play_home_5'] 0.43134737674576895\n",
      "['home_team_history_is_play_home_6'] 0.43134737674576895\n",
      "['home_team_history_is_play_home_7'] 0.43134737674576895\n",
      "['home_team_history_is_play_home_8'] 0.43134737674576895\n",
      "['home_team_history_is_cup_1'] 0.43134737674576895\n",
      "['home_team_history_is_cup_2'] 0.43134737674576895\n",
      "['home_team_history_is_cup_3'] 0.43134737674576895\n",
      "['home_team_history_is_cup_4'] 0.43134737674576895\n",
      "['home_team_history_is_cup_5'] 0.43134737674576895\n",
      "['home_team_history_is_cup_6'] 0.43134737674576895\n",
      "['home_team_history_is_cup_7'] 0.43134737674576895\n",
      "['home_team_history_is_cup_8'] 0.43134737674576895\n",
      "['home_team_history_goal_1'] 0.43134737674576895\n",
      "['home_team_history_goal_2'] 0.43134737674576895\n",
      "['home_team_history_goal_3'] 0.43134737674576895\n",
      "['home_team_history_goal_4'] 0.43134737674576895\n",
      "['home_team_history_goal_5'] 0.43134737674576895\n",
      "['home_team_history_goal_6'] 0.43134737674576895\n",
      "['home_team_history_goal_7'] 0.43134737674576895\n",
      "['home_team_history_goal_8'] 0.43134737674576895\n",
      "['home_team_history_opponent_goal_1'] 0.4343588118619067\n",
      "['home_team_history_opponent_goal_2'] 0.43516718462679416\n",
      "['home_team_history_opponent_goal_3'] 0.4343904925097224\n",
      "['home_team_history_opponent_goal_4'] 0.43340781840253745\n",
      "['home_team_history_opponent_goal_5'] 0.4325360981588108\n",
      "['home_team_history_opponent_goal_6'] 0.4329799098444278\n",
      "['home_team_history_opponent_goal_7'] 0.43272627876324793\n",
      "['home_team_history_opponent_goal_8'] 0.4328847762077254\n",
      "['home_team_history_rating_1'] 0.4310303893932458\n",
      "['home_team_history_rating_2'] 0.4329640092290643\n",
      "['home_team_history_rating_3'] 0.4306183035740361\n",
      "['home_team_history_rating_4'] 0.4311571973974038\n",
      "['home_team_history_rating_5'] 0.43133152260506924\n",
      "['home_team_history_rating_6'] 0.43129984070118155\n",
      "['home_team_history_rating_7'] 0.43103036427180585\n",
      "['home_team_history_rating_8'] 0.43149002004954673\n",
      "['home_team_history_opponent_rating_1'] 0.44000126561814046\n",
      "['home_team_history_opponent_rating_2'] 0.4402548916750324\n",
      "['home_team_history_opponent_rating_3'] 0.43898687192490804\n",
      "['home_team_history_opponent_rating_4'] 0.438574866494306\n",
      "['home_team_history_opponent_rating_5'] 0.43645092788613093\n",
      "['home_team_history_opponent_rating_6'] 0.4372910240052817\n",
      "['home_team_history_opponent_rating_7'] 0.4370374092530378\n",
      "['home_team_history_opponent_rating_8'] 0.435468242474298\n",
      "['away_team_history_match_date_1'] 0.43134737674576895\n",
      "['away_team_history_match_date_2'] 0.43134737674576895\n",
      "['away_team_history_match_date_3'] 0.43134737674576895\n",
      "['away_team_history_match_date_4'] 0.43134737674576895\n",
      "['away_team_history_match_date_5'] 0.43134737674576895\n",
      "['away_team_history_match_date_6'] 0.43134737674576895\n",
      "['away_team_history_match_date_7'] 0.43134737674576895\n",
      "['away_team_history_match_date_8'] 0.43134737674576895\n",
      "['away_team_history_is_play_home_1'] 0.43134737674576895\n",
      "['away_team_history_is_play_home_2'] 0.43134737674576895\n",
      "['away_team_history_is_play_home_3'] 0.43134737674576895\n",
      "['away_team_history_is_play_home_4'] 0.43134737674576895\n",
      "['away_team_history_is_play_home_5'] 0.43134737674576895\n",
      "['away_team_history_is_play_home_6'] 0.43134737674576895\n",
      "['away_team_history_is_play_home_7'] 0.43134737674576895\n",
      "['away_team_history_is_play_home_8'] 0.43134737674576895\n",
      "['away_team_history_is_cup_1'] 0.43134737674576895\n",
      "['away_team_history_is_cup_2'] 0.43134737674576895\n",
      "['away_team_history_is_cup_3'] 0.43134737674576895\n",
      "['away_team_history_is_cup_4'] 0.43134737674576895\n",
      "['away_team_history_is_cup_5'] 0.43134737674576895\n",
      "['away_team_history_is_cup_6'] 0.43134737674576895\n",
      "['away_team_history_is_cup_7'] 0.43134737674576895\n",
      "['away_team_history_is_cup_8'] 0.43134737674576895\n",
      "['away_team_history_goal_1'] 0.43315425012495723\n",
      "['away_team_history_goal_2'] 0.43242511666176864\n",
      "['away_team_history_goal_3'] 0.4325202339695351\n",
      "['away_team_history_goal_4'] 0.43250436978025936\n",
      "['away_team_history_goal_5'] 0.4324726740595798\n",
      "['away_team_history_goal_6'] 0.43198134014616735\n",
      "['away_team_history_goal_7'] 0.432647055790485\n",
      "['away_team_history_goal_8'] 0.43304326234755514\n",
      "['away_team_history_opponent_goal_1'] 0.43134737674576895\n",
      "['away_team_history_opponent_goal_2'] 0.43134737674576895\n",
      "['away_team_history_opponent_goal_3'] 0.43134737674576895\n",
      "['away_team_history_opponent_goal_4'] 0.43134737674576895\n",
      "['away_team_history_opponent_goal_5'] 0.43134737674576895\n",
      "['away_team_history_opponent_goal_6'] 0.43134737674576895\n",
      "['away_team_history_opponent_goal_7'] 0.43134737674576895\n",
      "['away_team_history_opponent_goal_8'] 0.43134737674576895\n",
      "['away_team_history_rating_1'] 0.44285418068050486\n",
      "['away_team_history_rating_2'] 0.44125340233790916\n",
      "['away_team_history_rating_3'] 0.4389869058388519\n",
      "['away_team_history_rating_4'] 0.4396208416056665\n",
      "['away_team_history_rating_5'] 0.4384479768454684\n",
      "['away_team_history_rating_6'] 0.4395257469071959\n",
      "['away_team_history_rating_7'] 0.43847966628578794\n",
      "['away_team_history_rating_8'] 0.436118083880764\n",
      "['away_team_history_opponent_rating_1'] 0.43194964316941586\n",
      "['away_team_history_opponent_rating_2'] 0.43389915231595\n",
      "['away_team_history_opponent_rating_3'] 0.43144247018816745\n",
      "['away_team_history_opponent_rating_4'] 0.43201304591542283\n",
      "['away_team_history_opponent_rating_5'] 0.4317436335457188\n",
      "['away_team_history_opponent_rating_6'] 0.4315851122358733\n",
      "['away_team_history_opponent_rating_7'] 0.4326470319251171\n",
      "['away_team_history_opponent_rating_8'] 0.4312205800462589\n",
      "['home_team_history_target_1'] 0.43134737674576895\n",
      "['home_team_mean_regeneration_time'] 0.4314266210717557\n",
      "['away_team_history_target_1'] 0.43134737674576895\n",
      "['away_team_mean_regeneration_time'] 0.43134737674576895\n",
      "['home_team_history_target_2'] 0.43134737674576895\n",
      "['away_team_history_target_2'] 0.43134737674576895\n",
      "['home_team_history_target_3'] 0.43134737674576895\n",
      "['away_team_history_target_3'] 0.43134737674576895\n",
      "['home_team_history_target_4'] 0.43134737674576895\n",
      "['away_team_history_target_4'] 0.43134737674576895\n",
      "['home_team_history_target_5'] 0.43134737674576895\n",
      "['away_team_history_target_5'] 0.43134737674576895\n",
      "['home_team_history_target_6'] 0.43134737674576895\n",
      "['away_team_history_target_6'] 0.43134737674576895\n",
      "['home_team_history_target_7'] 0.43134737674576895\n",
      "['away_team_history_target_7'] 0.43134737674576895\n",
      "['home_team_history_target_8'] 0.43134737674576895\n",
      "['away_team_history_target_8'] 0.43134737674576895\n",
      "['league_id_ratting'] 0.43134737674576895\n",
      "['away_team_history_rating_1', 'is_cup'] 0.44226774955647785\n",
      "['away_team_history_rating_1', 'home_team_history_match_date_1'] 0.44236284299887635\n",
      "['away_team_history_rating_1', 'home_team_history_match_date_2'] 0.4426322792339484\n",
      "['away_team_history_rating_1', 'home_team_history_match_date_3'] 0.4425530462126095\n",
      "['away_team_history_rating_1', 'home_team_history_match_date_4'] 0.4426639724424839\n",
      "['away_team_history_rating_1', 'home_team_history_match_date_5'] 0.44253718453547775\n",
      "['away_team_history_rating_1', 'home_team_history_match_date_6'] 0.4427432280731186\n",
      "['away_team_history_rating_1', 'home_team_history_match_date_7'] 0.4428700297969167\n",
      "['away_team_history_rating_1', 'home_team_history_match_date_8'] 0.442980969843583\n",
      "['away_team_history_rating_1', 'home_team_history_is_play_home_1'] 0.44255303993224954\n",
      "['away_team_history_rating_1', 'home_team_history_is_play_home_2'] 0.4426164338857525\n",
      "['away_team_history_rating_1', 'home_team_history_is_play_home_3'] 0.44288587765725645\n",
      "['away_team_history_rating_1', 'home_team_history_is_play_home_4'] 0.4426956907724593\n",
      "['away_team_history_rating_1', 'home_team_history_is_play_home_5'] 0.44290173054188414\n",
      "['away_team_history_rating_1', 'home_team_history_is_play_home_6'] 0.44255304495653747\n",
      "['away_team_history_rating_1', 'home_team_history_is_play_home_7'] 0.4429017368222441\n",
      "['away_team_history_rating_1', 'home_team_history_is_play_home_8'] 0.4426164363978965\n",
      "['away_team_history_rating_1', 'home_team_history_is_cup_1'] 0.44291757212186394\n",
      "['away_team_history_rating_1', 'home_team_history_is_cup_2'] 0.4430602154256419\n",
      "['away_team_history_rating_1', 'home_team_history_is_cup_3'] 0.4433772304117488\n",
      "['away_team_history_rating_1', 'home_team_history_is_cup_4'] 0.4434089286445723\n",
      "['away_team_history_rating_1', 'home_team_history_is_cup_5'] 0.4430126894296304\n",
      "['away_team_history_rating_1', 'home_team_history_is_cup_6'] 0.443504014550539\n",
      "['away_team_history_rating_1', 'home_team_history_is_cup_7'] 0.4431394710562765\n",
      "['away_team_history_rating_1', 'home_team_history_is_cup_8'] 0.44287003858942064\n",
      "['away_team_history_rating_1', 'home_team_history_goal_1'] 0.4463410779843476\n",
      "['away_team_history_rating_1', 'home_team_history_goal_2'] 0.446325201234352\n",
      "['away_team_history_rating_1', 'home_team_history_goal_3'] 0.44653127994200864\n",
      "['away_team_history_rating_1', 'home_team_history_goal_4'] 0.4455961280626191\n",
      "['away_team_history_rating_1', 'home_team_history_goal_5'] 0.4461508998920545\n",
      "['away_team_history_rating_1', 'home_team_history_goal_6'] 0.44602407555896056\n",
      "['away_team_history_rating_1', 'home_team_history_goal_7'] 0.44513651122311\n",
      "['away_team_history_rating_1', 'home_team_history_goal_8'] 0.446388605236431\n",
      "['away_team_history_rating_1', 'home_team_history_opponent_goal_1'] 0.4467056729775617\n",
      "['away_team_history_rating_1', 'home_team_history_opponent_goal_2'] 0.4464837966524451\n",
      "['away_team_history_rating_1', 'home_team_history_opponent_goal_3'] 0.4463410880329235\n",
      "['away_team_history_rating_1', 'home_team_history_opponent_goal_4'] 0.44529501494794754\n",
      "['away_team_history_rating_1', 'home_team_history_opponent_goal_5'] 0.44296506671607555\n",
      "['away_team_history_rating_1', 'home_team_history_opponent_goal_6'] 0.4453584202060986\n",
      "['away_team_history_rating_1', 'home_team_history_opponent_goal_7'] 0.4442489481433315\n",
      "['away_team_history_rating_1', 'home_team_history_opponent_goal_8'] 0.4443123194875387\n",
      "['away_team_history_rating_1', 'home_team_history_rating_1'] 0.45360021321068444\n",
      "['away_team_history_rating_1', 'home_team_history_rating_2'] 0.45321981557572233\n",
      "['away_team_history_rating_1', 'home_team_history_rating_3'] 0.4533149140424088\n",
      "['away_team_history_rating_1', 'home_team_history_rating_4'] 0.4528711249660876\n",
      "['away_team_history_rating_1', 'home_team_history_rating_5'] 0.4523005429584723\n",
      "['away_team_history_rating_1', 'home_team_history_rating_6'] 0.4513654563948265\n",
      "['away_team_history_rating_1', 'home_team_history_rating_7'] 0.45077890971217605\n",
      "['away_team_history_rating_1', 'home_team_history_rating_8'] 0.4496536613851728\n",
      "['away_team_history_rating_1', 'home_team_history_opponent_rating_1'] 0.4491306141660729\n",
      "['away_team_history_rating_1', 'home_team_history_opponent_rating_2'] 0.44852834397420993\n",
      "['away_team_history_rating_1', 'home_team_history_opponent_rating_3'] 0.4477516694421461\n",
      "['away_team_history_rating_1', 'home_team_history_opponent_rating_4'] 0.4479894941133621\n",
      "['away_team_history_rating_1', 'home_team_history_opponent_rating_5'] 0.4473395974397284\n",
      "['away_team_history_rating_1', 'home_team_history_opponent_rating_6'] 0.4474506053142823\n",
      "['away_team_history_rating_1', 'home_team_history_opponent_rating_7'] 0.4462301630591212\n",
      "['away_team_history_rating_1', 'home_team_history_opponent_rating_8'] 0.4468165539888444\n",
      "['away_team_history_rating_1', 'away_team_history_match_date_1'] 0.44315532519697626\n",
      "['away_team_history_rating_1', 'away_team_history_match_date_2'] 0.4427590809577463\n",
      "['away_team_history_rating_1', 'away_team_history_match_date_3'] 0.4427749237937982\n",
      "['away_team_history_rating_1', 'away_team_history_match_date_4'] 0.44271153109636713\n",
      "['away_team_history_rating_1', 'away_team_history_match_date_5'] 0.4429334275186356\n",
      "['away_team_history_rating_1', 'away_team_history_match_date_6'] 0.4429492716107594\n",
      "['away_team_history_rating_1', 'away_team_history_match_date_7'] 0.44271153486458303\n",
      "['away_team_history_rating_1', 'away_team_history_match_date_8'] 0.4429334224943477\n",
      "['away_team_history_rating_1', 'away_team_history_is_play_home_1'] 0.4417605527098617\n",
      "['away_team_history_rating_1', 'away_team_history_is_play_home_2'] 0.44298097361179894\n",
      "['away_team_history_rating_1', 'away_team_history_is_play_home_3'] 0.44212510248448406\n",
      "['away_team_history_rating_1', 'away_team_history_is_play_home_4'] 0.4423628543035244\n",
      "['away_team_history_rating_1', 'away_team_history_is_play_home_5'] 0.44267983160747154\n",
      "['away_team_history_rating_1', 'away_team_history_is_play_home_6'] 0.4428541882169368\n",
      "['away_team_history_rating_1', 'away_team_history_is_play_home_7'] 0.4424421061659431\n",
      "['away_team_history_rating_1', 'away_team_history_is_play_home_8'] 0.4426639850032038\n",
      "['away_team_history_rating_1', 'away_team_history_is_cup_1'] 0.44218850397441906\n",
      "['away_team_history_rating_1', 'away_team_history_is_cup_2'] 0.4421726586262233\n",
      "['away_team_history_rating_1', 'away_team_history_is_cup_3'] 0.44241041546955157\n",
      "['away_team_history_rating_1', 'away_team_history_is_cup_4'] 0.44288588896190434\n",
      "['away_team_history_rating_1', 'away_team_history_is_cup_5'] 0.4430761022242134\n",
      "['away_team_history_rating_1', 'away_team_history_is_cup_6'] 0.4432504312000948\n",
      "['away_team_history_rating_1', 'away_team_history_is_cup_7'] 0.44252133039477803\n",
      "['away_team_history_rating_1', 'away_team_history_is_cup_8'] 0.44280663709948553\n",
      "['away_team_history_rating_1', 'away_team_history_goal_1'] 0.4435990904079296\n",
      "['away_team_history_rating_1', 'away_team_history_goal_2'] 0.44291759347508786\n",
      "['away_team_history_rating_1', 'away_team_history_goal_3'] 0.44382099311055817\n",
      "['away_team_history_rating_1', 'away_team_history_goal_4'] 0.4432503709086391\n",
      "['away_team_history_rating_1', 'away_team_history_goal_5'] 0.44388438455191725\n",
      "['away_team_history_rating_1', 'away_team_history_goal_6'] 0.4432662338418428\n",
      "['away_team_history_rating_1', 'away_team_history_goal_7'] 0.4438526863190937\n",
      "['away_team_history_rating_1', 'away_team_history_goal_8'] 0.44369416752139224\n",
      "['away_team_history_rating_1', 'away_team_history_opponent_goal_1'] 0.4438526674780138\n",
      "['away_team_history_rating_1', 'away_team_history_opponent_goal_2'] 0.4449780012179126\n",
      "['away_team_history_rating_1', 'away_team_history_opponent_goal_3'] 0.44493045386867724\n",
      "['away_team_history_rating_1', 'away_team_history_opponent_goal_4'] 0.44423308144191187\n",
      "['away_team_history_rating_1', 'away_team_history_opponent_goal_5'] 0.44447083577309615\n",
      "['away_team_history_rating_1', 'away_team_history_opponent_goal_6'] 0.4441538358598531\n",
      "['away_team_history_rating_1', 'away_team_history_opponent_goal_7'] 0.44489877070871764\n",
      "['away_team_history_rating_1', 'away_team_history_opponent_goal_8'] 0.444946301729017\n",
      "['away_team_history_rating_1', 'away_team_history_rating_2'] 0.446499616879201\n",
      "['away_team_history_rating_1', 'away_team_history_rating_3'] 0.4461667477523942\n",
      "['away_team_history_rating_1', 'away_team_history_rating_4'] 0.4464361437931624\n",
      "['away_team_history_rating_1', 'away_team_history_rating_5'] 0.4458972863958824\n",
      "['away_team_history_rating_1', 'away_team_history_rating_6'] 0.4448036358159433\n",
      "['away_team_history_rating_1', 'away_team_history_rating_7'] 0.4448511957258985\n",
      "['away_team_history_rating_1', 'away_team_history_rating_8'] 0.44456592921549465\n",
      "['away_team_history_rating_1', 'away_team_history_opponent_rating_1'] 0.4455010685341644\n",
      "['away_team_history_rating_1', 'away_team_history_opponent_rating_2'] 0.44949520664714304\n",
      "['away_team_history_rating_1', 'away_team_history_opponent_rating_3'] 0.44749810116456584\n",
      "['away_team_history_rating_1', 'away_team_history_opponent_rating_4'] 0.44951103315425894\n",
      "['away_team_history_rating_1', 'away_team_history_opponent_rating_5'] 0.4487343963043548\n",
      "['away_team_history_rating_1', 'away_team_history_opponent_rating_6'] 0.44811621168033655\n",
      "['away_team_history_rating_1', 'away_team_history_opponent_rating_7'] 0.4484015573232759\n",
      "['away_team_history_rating_1', 'away_team_history_opponent_rating_8'] 0.4469909269272456\n",
      "['away_team_history_rating_1', 'home_team_history_target_1'] 0.4474822457677942\n",
      "['away_team_history_rating_1', 'home_team_mean_regeneration_time'] 0.4422201695493707\n",
      "['away_team_history_rating_1', 'away_team_history_target_1'] 0.44366249064179264\n",
      "['away_team_history_rating_1', 'away_team_mean_regeneration_time'] 0.44383687488484175\n",
      "['away_team_history_rating_1', 'home_team_history_target_2'] 0.44911473239178934\n",
      "['away_team_history_rating_1', 'away_team_history_target_2'] 0.4455168937852082\n",
      "['away_team_history_rating_1', 'home_team_history_target_3'] 0.448147911169232\n",
      "['away_team_history_rating_1', 'away_team_history_target_3'] 0.4454852018327447\n",
      "['away_team_history_rating_1', 'home_team_history_target_4'] 0.44681656906170825\n",
      "['away_team_history_rating_1', 'away_team_history_target_4'] 0.44462928925505396\n",
      "['away_team_history_rating_1', 'home_team_history_target_5'] 0.4454534646616894\n",
      "['away_team_history_rating_1', 'away_team_history_target_5'] 0.4443123433529066\n",
      "['away_team_history_rating_1', 'home_team_history_target_6'] 0.4474505073406669\n",
      "['away_team_history_rating_1', 'away_team_history_target_6'] 0.4446134401386422\n",
      "['away_team_history_rating_1', 'home_team_history_target_7'] 0.4445183894026914\n",
      "['away_team_history_rating_1', 'away_team_history_target_7'] 0.4440903703102464\n",
      "['away_team_history_rating_1', 'home_team_history_target_8'] 0.4459765068565014\n",
      "['away_team_history_rating_1', 'away_team_history_target_8'] 0.445168135347686\n",
      "['away_team_history_rating_1', 'league_id_ratting'] 0.44439160149568535\n",
      "the_best_feuteures\n",
      " ['away_team_history_rating_1', 'home_team_history_rating_1']\n",
      "the_best_cross_value score\n",
      " 0.45360021321068444\n"
     ]
    },
    {
     "data": {
      "text/plain": "['away_team_history_rating_1', 'home_team_history_rating_1']"
     },
     "execution_count": 14,
     "metadata": {},
     "output_type": "execute_result"
    }
   ],
   "source": [
    "X_train, X_test, y_train, y_test = train_test_split(train.iloc[:, 1:], train.iloc[:, 0], test_size=0.33,\n",
    "                                                     random_state=42)\n",
    "model = make_pipeline(StandardScaler(), LogisticRegression(random_state=0, solver='lbfgs', multi_class='ovr'))\n",
    "#\n",
    "\n",
    "def features_selection(grouped_columns, number_of_features):\n",
    "    the_best_features = []\n",
    "    the_best_score = 0\n",
    "    last_the_best_features = []\n",
    "\n",
    "    for L in range(number_of_features):\n",
    "        for value in grouped_columns:\n",
    "\n",
    "            if value in the_best_features:\n",
    "                continue\n",
    "            elif type(value) == list:\n",
    "                if value[0] in the_best_features:\n",
    "                    continue\n",
    "\n",
    "            tmp_the_best_features = last_the_best_features.copy()\n",
    "\n",
    "            if type(value) == list:\n",
    "                tmp_the_best_features.extend(value)\n",
    "            else:\n",
    "                tmp_the_best_features.append(value)\n",
    "\n",
    "\n",
    "            val_score = cross_val_score(model, X_train[tmp_the_best_features], y_train,cv=5).mean()\n",
    "            print(tmp_the_best_features, val_score)\n",
    "\n",
    "            if val_score > the_best_score or  the_best_score == 0:\n",
    "                the_best_score = val_score\n",
    "                the_best_features = tmp_the_best_features\n",
    "        last_the_best_features = the_best_features.copy()\n",
    "\n",
    "\n",
    "\n",
    "    print('the_best_feuteures\\n', the_best_features)\n",
    "    print('the_best_cross_value score\\n', the_best_score)\n",
    "    return the_best_features, the_best_score\n",
    "\n",
    "\n",
    "the_best_features, the_best_score = features_selection(list(X_train.columns.values), 2)\n",
    "the_best_features"
   ]
  },
  {
   "cell_type": "code",
   "execution_count": 9,
   "metadata": {
    "collapsed": false,
    "pycharm": {
     "name": "#%%\n"
    }
   },
   "outputs": [],
   "source": [
    "# 'is_cup' in the_best_features"
   ]
  },
  {
   "cell_type": "code",
   "execution_count": 10,
   "metadata": {
    "collapsed": false,
    "pycharm": {
     "name": "#%%\n"
    }
   },
   "outputs": [],
   "source": [
    "# grouped_columns = []\n",
    "# for column in sorted(X_train.columns.values, key=lambda x: x[-1]):\n",
    "#     if grouped_columns and column[:-3] in last_value:\n",
    "#         grouped_columns[-1].append(column)\n",
    "#     else:\n",
    "#         grouped_columns.append([column])\n",
    "#     last_value = column\n",
    "#\n",
    "# model = make_pipeline(StandardScaler(), LogisticRegression(random_state=0, solver='lbfgs', multi_class='ovr'))\n",
    "#\n",
    "# the_best_features, the_best_score = features_selection(grouped_columns)\n",
    "# the_best_features"
   ]
  },
  {
   "cell_type": "code",
   "execution_count": 10,
   "metadata": {
    "collapsed": false,
    "pycharm": {
     "name": "#%%\n"
    }
   },
   "outputs": [],
   "source": []
  }
 ],
 "metadata": {
  "kernelspec": {
   "display_name": "Python 3",
   "language": "python",
   "name": "python3"
  },
  "language_info": {
   "codemirror_mode": {
    "name": "ipython",
    "version": 3
   },
   "file_extension": ".py",
   "mimetype": "text/x-python",
   "name": "python",
   "nbconvert_exporter": "python",
   "pygments_lexer": "ipython3",
   "version": "3.8.5"
  }
 },
 "nbformat": 4,
 "nbformat_minor": 0
}