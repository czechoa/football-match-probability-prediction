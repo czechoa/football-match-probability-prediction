{
 "cells": [
  {
   "cell_type": "code",
   "execution_count": 1,
   "metadata": {
    "collapsed": false,
    "pycharm": {
     "name": "#%%\n"
    }
   },
   "outputs": [],
   "source": [
    "from completed_missing_data import completed_missing_data, convert_historical_date_to_date_difference, remove_described_col, map_target\n",
    "import pandas as pd\n",
    "import numpy as np\n",
    "from sklearn.model_selection import cross_val_score"
   ]
  },
  {
   "cell_type": "code",
   "execution_count": 2,
   "metadata": {
    "collapsed": true
   },
   "outputs": [
    {
     "name": "stderr",
     "output_type": "stream",
     "text": [
      "/home/andrzej/PycharmProjects/Physionet_Challenge_2021/venv/lib/python3.9/site-packages/IPython/core/interactiveshell.py:3251: DtypeWarning: Columns (7) have mixed types.Specify dtype option on import or set low_memory=False.\n",
      "  exec(code_obj, self.user_global_ns, self.user_ns)\n"
     ]
    },
    {
     "name": "stdout",
     "output_type": "stream",
     "text": [
      "correction col type..\n",
      "percent of object with nan value:  42.20\n",
      "remove coach columns..\n",
      "percent of object with nan value:  18.64\n",
      "remove object with more that  col 80 empty...\n",
      "percent of object with nan value:  18.64\n",
      "remove 9 and 10 day historii\n",
      "percent of object with nan value:  15.11\n",
      "remove all nan data\n",
      "percent of object with nan value:  15.11\n"
     ]
    }
   ],
   "source": [
    "\n",
    "\n",
    "train_org = pd.read_csv('data/train.csv')\n",
    "train = completed_missing_data(train_org)\n",
    "train = convert_historical_date_to_date_difference(train)\n",
    "train = map_target(train)\n",
    "\n",
    "#train_with_league_id = pd.concat([train, pd.get_dummies(train['league_id'],prefix='league_')], axis=1)\n",
    "\n",
    "# train = remove_described_col(train)\n",
    "# train_with_league_id = remove_described_col(train_with_league_id)\n",
    "\n"
   ]
  },
  {
   "cell_type": "code",
   "execution_count": 4,
   "metadata": {
    "collapsed": false,
    "pycharm": {
     "name": "#%%\n"
    }
   },
   "outputs": [
    {
     "name": "stdout",
     "output_type": "stream",
     "text": [
      "correction col type..\n",
      "percent of object with nan value:  39.35\n",
      "remove coach columns..\n",
      "percent of object with nan value:  13.93\n",
      "remove object with more that  col 80 empty...\n",
      "percent of object with nan value:  13.93\n",
      "remove 9 and 10 day historii\n",
      "percent of object with nan value:  11.15\n",
      "remove all nan data\n",
      "percent of object with nan value:  11.15\n"
     ]
    },
    {
     "data": {
      "text/plain": "       league_id  is_cup  home_team_history_match_date_1  \\\n0            755       0                              71   \n1            743       0                             166   \n3           1314       0                              48   \n4           1314       0                              48   \n5           1314       0                              48   \n...          ...     ...                             ...   \n72706        776       0                             145   \n72707        636       0                             141   \n72708       1363       0                             913   \n72709        648       0                              75   \n72710        800       0                              72   \n\n       home_team_history_match_date_2  home_team_history_match_date_3  \\\n0                                  97                              70   \n1                                 169                             168   \n3                                  98                              46   \n4                                  98                              48   \n5                                  98                              46   \n...                               ...                             ...   \n72706                             163                             169   \n72707                              98                             286   \n72708                             765                            1875   \n72709                              92                              71   \n72710                              96                             120   \n\n       home_team_history_match_date_4  home_team_history_match_date_5  \\\n0                                  96                             143   \n1                                 143                             360   \n3                                  48                             918   \n4                                  48                             917   \n5                                  50                             893   \n...                               ...                             ...   \n72706                             190                             122   \n72707                             120                              96   \n72708                              93                             450   \n72709                              72                              77   \n72710                             218                              69   \n\n       home_team_history_match_date_6  home_team_history_match_date_7  \\\n0                                  98                             120   \n1                                  94                             193   \n3                                  72                              97   \n4                                  68                             100   \n5                                  96                              96   \n...                               ...                             ...   \n72706                             216                             142   \n72707                             144                              95   \n72708                            1452                              77   \n72709                              69                              71   \n72710                              99                              68   \n\n       home_team_history_match_date_8  ...  \\\n0                                 288  ...   \n1                                  72  ...   \n3                                  95  ...   \n4                                  95  ...   \n5                                 119  ...   \n...                               ...  ...   \n72706                             219  ...   \n72707                              97  ...   \n72708                            1097  ...   \n72709                              70  ...   \n72710                             195  ...   \n\n       away_team_history_opponent_rating_7  \\\n0                                 4.922229   \n1                                 4.141575   \n3                                 3.746925   \n4                                 4.453211   \n5                                 8.730013   \n...                                    ...   \n72706                             4.494093   \n72707                             6.695206   \n72708                             2.612821   \n72709                             4.382062   \n72710                             2.959687   \n\n       away_team_history_opponent_rating_8  away_team_history_league_id_1  \\\n0                                 6.796484                          755.0   \n1                                 5.056690                          743.0   \n3                                 4.952475                         1314.0   \n4                                 8.787767                         1314.0   \n5                                 6.617900                         1314.0   \n...                                    ...                            ...   \n72706                             3.665037                          776.0   \n72707                             6.109570                          636.0   \n72708                             5.000000                         1363.0   \n72709                             5.823854                          648.0   \n72710                             4.906300                          800.0   \n\n       away_team_history_league_id_2  away_team_history_league_id_3  \\\n0                              755.0                          755.0   \n1                              743.0                          743.0   \n3                             1314.0                         1314.0   \n4                             1314.0                         1314.0   \n5                             1314.0                         1314.0   \n...                              ...                            ...   \n72706                          776.0                          776.0   \n72707                          636.0                          636.0   \n72708                         1363.0                         1126.0   \n72709                          648.0                          648.0   \n72710                          800.0                          800.0   \n\n       away_team_history_league_id_4  away_team_history_league_id_5  \\\n0                              755.0                          755.0   \n1                              743.0                          743.0   \n3                             1314.0                         1314.0   \n4                             1314.0                         1314.0   \n5                             1314.0                         1314.0   \n...                              ...                            ...   \n72706                          776.0                          776.0   \n72707                          636.0                          636.0   \n72708                         1126.0                         1126.0   \n72709                          648.0                          648.0   \n72710                          800.0                          800.0   \n\n       away_team_history_league_id_6  away_team_history_league_id_7  \\\n0                              755.0                          755.0   \n1                              743.0                          743.0   \n3                             1314.0                         1314.0   \n4                             1314.0                         1314.0   \n5                             1314.0                         1314.0   \n...                              ...                            ...   \n72706                          776.0                          776.0   \n72707                          636.0                          636.0   \n72708                         1126.0                         1126.0   \n72709                          648.0                          648.0   \n72710                          800.0                          800.0   \n\n       away_team_history_league_id_8  \n0                              755.0  \n1                              743.0  \n3                             1314.0  \n4                             1314.0  \n5                             1314.0  \n...                              ...  \n72706                          776.0  \n72707                          636.0  \n72708                         1126.0  \n72709                          648.0  \n72710                          800.0  \n\n[64601 rows x 130 columns]",
      "text/html": "<div>\n<style scoped>\n    .dataframe tbody tr th:only-of-type {\n        vertical-align: middle;\n    }\n\n    .dataframe tbody tr th {\n        vertical-align: top;\n    }\n\n    .dataframe thead th {\n        text-align: right;\n    }\n</style>\n<table border=\"1\" class=\"dataframe\">\n  <thead>\n    <tr style=\"text-align: right;\">\n      <th></th>\n      <th>league_id</th>\n      <th>is_cup</th>\n      <th>home_team_history_match_date_1</th>\n      <th>home_team_history_match_date_2</th>\n      <th>home_team_history_match_date_3</th>\n      <th>home_team_history_match_date_4</th>\n      <th>home_team_history_match_date_5</th>\n      <th>home_team_history_match_date_6</th>\n      <th>home_team_history_match_date_7</th>\n      <th>home_team_history_match_date_8</th>\n      <th>...</th>\n      <th>away_team_history_opponent_rating_7</th>\n      <th>away_team_history_opponent_rating_8</th>\n      <th>away_team_history_league_id_1</th>\n      <th>away_team_history_league_id_2</th>\n      <th>away_team_history_league_id_3</th>\n      <th>away_team_history_league_id_4</th>\n      <th>away_team_history_league_id_5</th>\n      <th>away_team_history_league_id_6</th>\n      <th>away_team_history_league_id_7</th>\n      <th>away_team_history_league_id_8</th>\n    </tr>\n  </thead>\n  <tbody>\n    <tr>\n      <th>0</th>\n      <td>755</td>\n      <td>0</td>\n      <td>71</td>\n      <td>97</td>\n      <td>70</td>\n      <td>96</td>\n      <td>143</td>\n      <td>98</td>\n      <td>120</td>\n      <td>288</td>\n      <td>...</td>\n      <td>4.922229</td>\n      <td>6.796484</td>\n      <td>755.0</td>\n      <td>755.0</td>\n      <td>755.0</td>\n      <td>755.0</td>\n      <td>755.0</td>\n      <td>755.0</td>\n      <td>755.0</td>\n      <td>755.0</td>\n    </tr>\n    <tr>\n      <th>1</th>\n      <td>743</td>\n      <td>0</td>\n      <td>166</td>\n      <td>169</td>\n      <td>168</td>\n      <td>143</td>\n      <td>360</td>\n      <td>94</td>\n      <td>193</td>\n      <td>72</td>\n      <td>...</td>\n      <td>4.141575</td>\n      <td>5.056690</td>\n      <td>743.0</td>\n      <td>743.0</td>\n      <td>743.0</td>\n      <td>743.0</td>\n      <td>743.0</td>\n      <td>743.0</td>\n      <td>743.0</td>\n      <td>743.0</td>\n    </tr>\n    <tr>\n      <th>3</th>\n      <td>1314</td>\n      <td>0</td>\n      <td>48</td>\n      <td>98</td>\n      <td>46</td>\n      <td>48</td>\n      <td>918</td>\n      <td>72</td>\n      <td>97</td>\n      <td>95</td>\n      <td>...</td>\n      <td>3.746925</td>\n      <td>4.952475</td>\n      <td>1314.0</td>\n      <td>1314.0</td>\n      <td>1314.0</td>\n      <td>1314.0</td>\n      <td>1314.0</td>\n      <td>1314.0</td>\n      <td>1314.0</td>\n      <td>1314.0</td>\n    </tr>\n    <tr>\n      <th>4</th>\n      <td>1314</td>\n      <td>0</td>\n      <td>48</td>\n      <td>98</td>\n      <td>48</td>\n      <td>48</td>\n      <td>917</td>\n      <td>68</td>\n      <td>100</td>\n      <td>95</td>\n      <td>...</td>\n      <td>4.453211</td>\n      <td>8.787767</td>\n      <td>1314.0</td>\n      <td>1314.0</td>\n      <td>1314.0</td>\n      <td>1314.0</td>\n      <td>1314.0</td>\n      <td>1314.0</td>\n      <td>1314.0</td>\n      <td>1314.0</td>\n    </tr>\n    <tr>\n      <th>5</th>\n      <td>1314</td>\n      <td>0</td>\n      <td>48</td>\n      <td>98</td>\n      <td>46</td>\n      <td>50</td>\n      <td>893</td>\n      <td>96</td>\n      <td>96</td>\n      <td>119</td>\n      <td>...</td>\n      <td>8.730013</td>\n      <td>6.617900</td>\n      <td>1314.0</td>\n      <td>1314.0</td>\n      <td>1314.0</td>\n      <td>1314.0</td>\n      <td>1314.0</td>\n      <td>1314.0</td>\n      <td>1314.0</td>\n      <td>1314.0</td>\n    </tr>\n    <tr>\n      <th>...</th>\n      <td>...</td>\n      <td>...</td>\n      <td>...</td>\n      <td>...</td>\n      <td>...</td>\n      <td>...</td>\n      <td>...</td>\n      <td>...</td>\n      <td>...</td>\n      <td>...</td>\n      <td>...</td>\n      <td>...</td>\n      <td>...</td>\n      <td>...</td>\n      <td>...</td>\n      <td>...</td>\n      <td>...</td>\n      <td>...</td>\n      <td>...</td>\n      <td>...</td>\n      <td>...</td>\n    </tr>\n    <tr>\n      <th>72706</th>\n      <td>776</td>\n      <td>0</td>\n      <td>145</td>\n      <td>163</td>\n      <td>169</td>\n      <td>190</td>\n      <td>122</td>\n      <td>216</td>\n      <td>142</td>\n      <td>219</td>\n      <td>...</td>\n      <td>4.494093</td>\n      <td>3.665037</td>\n      <td>776.0</td>\n      <td>776.0</td>\n      <td>776.0</td>\n      <td>776.0</td>\n      <td>776.0</td>\n      <td>776.0</td>\n      <td>776.0</td>\n      <td>776.0</td>\n    </tr>\n    <tr>\n      <th>72707</th>\n      <td>636</td>\n      <td>0</td>\n      <td>141</td>\n      <td>98</td>\n      <td>286</td>\n      <td>120</td>\n      <td>96</td>\n      <td>144</td>\n      <td>95</td>\n      <td>97</td>\n      <td>...</td>\n      <td>6.695206</td>\n      <td>6.109570</td>\n      <td>636.0</td>\n      <td>636.0</td>\n      <td>636.0</td>\n      <td>636.0</td>\n      <td>636.0</td>\n      <td>636.0</td>\n      <td>636.0</td>\n      <td>636.0</td>\n    </tr>\n    <tr>\n      <th>72708</th>\n      <td>1363</td>\n      <td>0</td>\n      <td>913</td>\n      <td>765</td>\n      <td>1875</td>\n      <td>93</td>\n      <td>450</td>\n      <td>1452</td>\n      <td>77</td>\n      <td>1097</td>\n      <td>...</td>\n      <td>2.612821</td>\n      <td>5.000000</td>\n      <td>1363.0</td>\n      <td>1363.0</td>\n      <td>1126.0</td>\n      <td>1126.0</td>\n      <td>1126.0</td>\n      <td>1126.0</td>\n      <td>1126.0</td>\n      <td>1126.0</td>\n    </tr>\n    <tr>\n      <th>72709</th>\n      <td>648</td>\n      <td>0</td>\n      <td>75</td>\n      <td>92</td>\n      <td>71</td>\n      <td>72</td>\n      <td>77</td>\n      <td>69</td>\n      <td>71</td>\n      <td>70</td>\n      <td>...</td>\n      <td>4.382062</td>\n      <td>5.823854</td>\n      <td>648.0</td>\n      <td>648.0</td>\n      <td>648.0</td>\n      <td>648.0</td>\n      <td>648.0</td>\n      <td>648.0</td>\n      <td>648.0</td>\n      <td>648.0</td>\n    </tr>\n    <tr>\n      <th>72710</th>\n      <td>800</td>\n      <td>0</td>\n      <td>72</td>\n      <td>96</td>\n      <td>120</td>\n      <td>218</td>\n      <td>69</td>\n      <td>99</td>\n      <td>68</td>\n      <td>195</td>\n      <td>...</td>\n      <td>2.959687</td>\n      <td>4.906300</td>\n      <td>800.0</td>\n      <td>800.0</td>\n      <td>800.0</td>\n      <td>800.0</td>\n      <td>800.0</td>\n      <td>800.0</td>\n      <td>800.0</td>\n      <td>800.0</td>\n    </tr>\n  </tbody>\n</table>\n<p>64601 rows × 130 columns</p>\n</div>"
     },
     "execution_count": 4,
     "metadata": {},
     "output_type": "execute_result"
    }
   ],
   "source": [
    "test_org = pd.read_csv('data/test.csv')\n",
    "test = completed_missing_data(test_org)\n",
    "test = convert_historical_date_to_date_difference(test)\n",
    "test = remove_described_col(test)\n",
    "test"
   ]
  },
  {
   "cell_type": "markdown",
   "metadata": {},
   "source": [
    "# Dodanie cech\n",
    "- srednia ilosc goli  na mecz w lidzie \n",
    "- sredni ranking drużyn w lidzie\n",
    "- sredni ilosc meczow wygranych w lidze\n",
    "- intensywność\n",
    "\n"
   ]
  },
  {
   "cell_type": "code",
   "execution_count": 3,
   "metadata": {},
   "outputs": [
    {
     "data": {
      "text/plain": "     league_id  league_id_ratting\n0          2.0           6.805677\n1          5.0           6.524094\n2          8.0           6.374938\n3          9.0           5.717973\n4         12.0           5.817057\n..         ...                ...\n830      782.0           9.903354\n831      977.0           4.259858\n832     1194.0           5.092400\n833     1629.0           5.653429\n834     1639.0           8.393356\n\n[835 rows x 2 columns]",
      "text/html": "<div>\n<style scoped>\n    .dataframe tbody tr th:only-of-type {\n        vertical-align: middle;\n    }\n\n    .dataframe tbody tr th {\n        vertical-align: top;\n    }\n\n    .dataframe thead th {\n        text-align: right;\n    }\n</style>\n<table border=\"1\" class=\"dataframe\">\n  <thead>\n    <tr style=\"text-align: right;\">\n      <th></th>\n      <th>league_id</th>\n      <th>league_id_ratting</th>\n    </tr>\n  </thead>\n  <tbody>\n    <tr>\n      <th>0</th>\n      <td>2.0</td>\n      <td>6.805677</td>\n    </tr>\n    <tr>\n      <th>1</th>\n      <td>5.0</td>\n      <td>6.524094</td>\n    </tr>\n    <tr>\n      <th>2</th>\n      <td>8.0</td>\n      <td>6.374938</td>\n    </tr>\n    <tr>\n      <th>3</th>\n      <td>9.0</td>\n      <td>5.717973</td>\n    </tr>\n    <tr>\n      <th>4</th>\n      <td>12.0</td>\n      <td>5.817057</td>\n    </tr>\n    <tr>\n      <th>...</th>\n      <td>...</td>\n      <td>...</td>\n    </tr>\n    <tr>\n      <th>830</th>\n      <td>782.0</td>\n      <td>9.903354</td>\n    </tr>\n    <tr>\n      <th>831</th>\n      <td>977.0</td>\n      <td>4.259858</td>\n    </tr>\n    <tr>\n      <th>832</th>\n      <td>1194.0</td>\n      <td>5.092400</td>\n    </tr>\n    <tr>\n      <th>833</th>\n      <td>1629.0</td>\n      <td>5.653429</td>\n    </tr>\n    <tr>\n      <th>834</th>\n      <td>1639.0</td>\n      <td>8.393356</td>\n    </tr>\n  </tbody>\n</table>\n<p>835 rows × 2 columns</p>\n</div>"
     },
     "execution_count": 3,
     "metadata": {},
     "output_type": "execute_result"
    }
   ],
   "source": [
    "home_mean_ratting_all =pd.DataFrame()\n",
    "for i in range(1,9):\n",
    "    for home_or_away in ['home', 'away']:\n",
    "        last_match_columns  =  [x for x in train.columns  if  str(i) in x]\n",
    "        rating_col_name = home_or_away + '_team_history_league_id_'+str(i)\n",
    "        home_mean_ratting = train[last_match_columns].groupby(by=rating_col_name).mean()\n",
    "        # train['league_name']\n",
    "        home_mean_ratting['mean_ratting_'+home_or_away +'_' + str(i)] = (home_mean_ratting[home_or_away +'_team_history_rating_'+str(i)] + home_mean_ratting[home_or_away+'_team_history_opponent_rating_'+str(i)]) / 2\n",
    "        home_mean_ratting_all = home_mean_ratting_all.append(home_mean_ratting[ 'mean_ratting_'+home_or_away+ '_'+str(i)])\n",
    "\n",
    "        team_history_goal = home_or_away + '_team_history_goal_'+str(i)\n",
    "        team_history_opponent_goal = home_or_away + '_team_history_opponent_goal_'+str(i)\n",
    "\n",
    "        train[home_or_away + '_team_history_target_' + str(i)] = np.sign(train[team_history_goal] - train[team_history_opponent_goal])\n",
    "\n",
    "\n",
    "\n",
    "\n",
    "\n",
    "home_mean_ratting_all =home_mean_ratting_all.mean().reset_index().rename(columns = {'index': 'league_id',0: 'league_id_ratting'})\n",
    "\n",
    "train = train.merge(home_mean_ratting_all,on ='league_id').sort_values(by='league_id')\n",
    "home_mean_ratting_all"
   ]
  },
  {
   "cell_type": "code",
   "execution_count": 4,
   "outputs": [
    {
     "data": {
      "text/plain": "       target  is_cup  home_team_history_match_date_1  \\\n61326       0       1                              99   \n61329       0       1                             144   \n61328       0       1                             144   \n61327       1       1                              80   \n61325      -1       1                              98   \n...       ...     ...                             ...   \n93939       0       1                             547   \n93938      -1       1                             545   \n93937       1       1                             504   \n93936       1       1                             504   \n93940       1       1                              72   \n\n       home_team_history_match_date_2  home_team_history_match_date_3  \\\n61326                              71                             406   \n61329                              75                              96   \n61328                             104                              66   \n61327                              64                              98   \n61325                              94                              95   \n...                               ...                             ...   \n93939                            1344                             463   \n93938                            1133                             715   \n93937                            1344                             504   \n93936                            1135                             712   \n93940                             222                              88   \n\n       home_team_history_match_date_4  home_team_history_match_date_5  \\\n61326                              98                              99   \n61329                              93                             314   \n61328                             119                             290   \n61327                              95                              97   \n61325                             196                              91   \n...                               ...                             ...   \n93939                             165                             211   \n93938                             168                             168   \n93937                             168                             168   \n93936                             168                             168   \n93940                             120                             127   \n\n       home_team_history_match_date_6  home_team_history_match_date_7  \\\n61326                              69                              98   \n61329                              93                              98   \n61328                              93                             169   \n61327                             406                             100   \n61325                             192                             169   \n...                               ...                             ...   \n93939                             168                             464   \n93938                             168                             505   \n93937                             168                             505   \n93936                             168                             505   \n93940                             165                             547   \n\n       home_team_history_match_date_8  ...  away_team_history_target_4  \\\n61326                             115  ...                         1.0   \n61329                              72  ...                         1.0   \n61328                             120  ...                         0.0   \n61327                             789  ...                         1.0   \n61325                             149  ...                         1.0   \n...                               ...  ...                         ...   \n93939                             208  ...                        -1.0   \n93938                             168  ...                        -1.0   \n93937                             168  ...                        -1.0   \n93936                             168  ...                         1.0   \n93940                            1133  ...                        -1.0   \n\n       home_team_history_target_5  away_team_history_target_5  \\\n61326                         1.0                         1.0   \n61329                         1.0                        -1.0   \n61328                         1.0                        -1.0   \n61327                         0.0                        -1.0   \n61325                         1.0                         1.0   \n...                           ...                         ...   \n93939                         1.0                         1.0   \n93938                         0.0                        -1.0   \n93937                         0.0                        -1.0   \n93936                        -1.0                        -1.0   \n93940                         1.0                         1.0   \n\n       home_team_history_target_6  away_team_history_target_6  \\\n61326                         1.0                         1.0   \n61329                         1.0                         1.0   \n61328                         1.0                         1.0   \n61327                         1.0                         0.0   \n61325                        -1.0                        -1.0   \n...                           ...                         ...   \n93939                         1.0                        -1.0   \n93938                        -1.0                         1.0   \n93937                        -1.0                         0.0   \n93936                         0.0                        -1.0   \n93940                         0.0                         1.0   \n\n       home_team_history_target_7  away_team_history_target_7  \\\n61326                        -1.0                         0.0   \n61329                         0.0                         1.0   \n61328                         1.0                         1.0   \n61327                         1.0                         1.0   \n61325                        -1.0                         1.0   \n...                           ...                         ...   \n93939                        -1.0                         1.0   \n93938                        -1.0                         1.0   \n93937                        -1.0                         1.0   \n93936                         0.0                         0.0   \n93940                         1.0                        -1.0   \n\n       home_team_history_target_8  away_team_history_target_8  \\\n61326                        -1.0                         1.0   \n61329                         1.0                        -1.0   \n61328                         0.0                         1.0   \n61327                        -1.0                        -1.0   \n61325                        -1.0                         0.0   \n...                           ...                         ...   \n93939                         1.0                         1.0   \n93938                        -1.0                         1.0   \n93937                         0.0                         1.0   \n93936                         0.0                        -1.0   \n93940                         1.0                        -1.0   \n\n       league_id_ratting  \n61326           6.805677  \n61329           6.805677  \n61328           6.805677  \n61327           6.805677  \n61325           6.805677  \n...                  ...  \n93939           7.900250  \n93938           7.900250  \n93937           7.900250  \n93936           7.900250  \n93940           7.900250  \n\n[94169 rows x 131 columns]",
      "text/html": "<div>\n<style scoped>\n    .dataframe tbody tr th:only-of-type {\n        vertical-align: middle;\n    }\n\n    .dataframe tbody tr th {\n        vertical-align: top;\n    }\n\n    .dataframe thead th {\n        text-align: right;\n    }\n</style>\n<table border=\"1\" class=\"dataframe\">\n  <thead>\n    <tr style=\"text-align: right;\">\n      <th></th>\n      <th>target</th>\n      <th>is_cup</th>\n      <th>home_team_history_match_date_1</th>\n      <th>home_team_history_match_date_2</th>\n      <th>home_team_history_match_date_3</th>\n      <th>home_team_history_match_date_4</th>\n      <th>home_team_history_match_date_5</th>\n      <th>home_team_history_match_date_6</th>\n      <th>home_team_history_match_date_7</th>\n      <th>home_team_history_match_date_8</th>\n      <th>...</th>\n      <th>away_team_history_target_4</th>\n      <th>home_team_history_target_5</th>\n      <th>away_team_history_target_5</th>\n      <th>home_team_history_target_6</th>\n      <th>away_team_history_target_6</th>\n      <th>home_team_history_target_7</th>\n      <th>away_team_history_target_7</th>\n      <th>home_team_history_target_8</th>\n      <th>away_team_history_target_8</th>\n      <th>league_id_ratting</th>\n    </tr>\n  </thead>\n  <tbody>\n    <tr>\n      <th>61326</th>\n      <td>0</td>\n      <td>1</td>\n      <td>99</td>\n      <td>71</td>\n      <td>406</td>\n      <td>98</td>\n      <td>99</td>\n      <td>69</td>\n      <td>98</td>\n      <td>115</td>\n      <td>...</td>\n      <td>1.0</td>\n      <td>1.0</td>\n      <td>1.0</td>\n      <td>1.0</td>\n      <td>1.0</td>\n      <td>-1.0</td>\n      <td>0.0</td>\n      <td>-1.0</td>\n      <td>1.0</td>\n      <td>6.805677</td>\n    </tr>\n    <tr>\n      <th>61329</th>\n      <td>0</td>\n      <td>1</td>\n      <td>144</td>\n      <td>75</td>\n      <td>96</td>\n      <td>93</td>\n      <td>314</td>\n      <td>93</td>\n      <td>98</td>\n      <td>72</td>\n      <td>...</td>\n      <td>1.0</td>\n      <td>1.0</td>\n      <td>-1.0</td>\n      <td>1.0</td>\n      <td>1.0</td>\n      <td>0.0</td>\n      <td>1.0</td>\n      <td>1.0</td>\n      <td>-1.0</td>\n      <td>6.805677</td>\n    </tr>\n    <tr>\n      <th>61328</th>\n      <td>0</td>\n      <td>1</td>\n      <td>144</td>\n      <td>104</td>\n      <td>66</td>\n      <td>119</td>\n      <td>290</td>\n      <td>93</td>\n      <td>169</td>\n      <td>120</td>\n      <td>...</td>\n      <td>0.0</td>\n      <td>1.0</td>\n      <td>-1.0</td>\n      <td>1.0</td>\n      <td>1.0</td>\n      <td>1.0</td>\n      <td>1.0</td>\n      <td>0.0</td>\n      <td>1.0</td>\n      <td>6.805677</td>\n    </tr>\n    <tr>\n      <th>61327</th>\n      <td>1</td>\n      <td>1</td>\n      <td>80</td>\n      <td>64</td>\n      <td>98</td>\n      <td>95</td>\n      <td>97</td>\n      <td>406</td>\n      <td>100</td>\n      <td>789</td>\n      <td>...</td>\n      <td>1.0</td>\n      <td>0.0</td>\n      <td>-1.0</td>\n      <td>1.0</td>\n      <td>0.0</td>\n      <td>1.0</td>\n      <td>1.0</td>\n      <td>-1.0</td>\n      <td>-1.0</td>\n      <td>6.805677</td>\n    </tr>\n    <tr>\n      <th>61325</th>\n      <td>-1</td>\n      <td>1</td>\n      <td>98</td>\n      <td>94</td>\n      <td>95</td>\n      <td>196</td>\n      <td>91</td>\n      <td>192</td>\n      <td>169</td>\n      <td>149</td>\n      <td>...</td>\n      <td>1.0</td>\n      <td>1.0</td>\n      <td>1.0</td>\n      <td>-1.0</td>\n      <td>-1.0</td>\n      <td>-1.0</td>\n      <td>1.0</td>\n      <td>-1.0</td>\n      <td>0.0</td>\n      <td>6.805677</td>\n    </tr>\n    <tr>\n      <th>...</th>\n      <td>...</td>\n      <td>...</td>\n      <td>...</td>\n      <td>...</td>\n      <td>...</td>\n      <td>...</td>\n      <td>...</td>\n      <td>...</td>\n      <td>...</td>\n      <td>...</td>\n      <td>...</td>\n      <td>...</td>\n      <td>...</td>\n      <td>...</td>\n      <td>...</td>\n      <td>...</td>\n      <td>...</td>\n      <td>...</td>\n      <td>...</td>\n      <td>...</td>\n      <td>...</td>\n    </tr>\n    <tr>\n      <th>93939</th>\n      <td>0</td>\n      <td>1</td>\n      <td>547</td>\n      <td>1344</td>\n      <td>463</td>\n      <td>165</td>\n      <td>211</td>\n      <td>168</td>\n      <td>464</td>\n      <td>208</td>\n      <td>...</td>\n      <td>-1.0</td>\n      <td>1.0</td>\n      <td>1.0</td>\n      <td>1.0</td>\n      <td>-1.0</td>\n      <td>-1.0</td>\n      <td>1.0</td>\n      <td>1.0</td>\n      <td>1.0</td>\n      <td>7.900250</td>\n    </tr>\n    <tr>\n      <th>93938</th>\n      <td>-1</td>\n      <td>1</td>\n      <td>545</td>\n      <td>1133</td>\n      <td>715</td>\n      <td>168</td>\n      <td>168</td>\n      <td>168</td>\n      <td>505</td>\n      <td>168</td>\n      <td>...</td>\n      <td>-1.0</td>\n      <td>0.0</td>\n      <td>-1.0</td>\n      <td>-1.0</td>\n      <td>1.0</td>\n      <td>-1.0</td>\n      <td>1.0</td>\n      <td>-1.0</td>\n      <td>1.0</td>\n      <td>7.900250</td>\n    </tr>\n    <tr>\n      <th>93937</th>\n      <td>1</td>\n      <td>1</td>\n      <td>504</td>\n      <td>1344</td>\n      <td>504</td>\n      <td>168</td>\n      <td>168</td>\n      <td>168</td>\n      <td>505</td>\n      <td>168</td>\n      <td>...</td>\n      <td>-1.0</td>\n      <td>0.0</td>\n      <td>-1.0</td>\n      <td>-1.0</td>\n      <td>0.0</td>\n      <td>-1.0</td>\n      <td>1.0</td>\n      <td>0.0</td>\n      <td>1.0</td>\n      <td>7.900250</td>\n    </tr>\n    <tr>\n      <th>93936</th>\n      <td>1</td>\n      <td>1</td>\n      <td>504</td>\n      <td>1135</td>\n      <td>712</td>\n      <td>168</td>\n      <td>168</td>\n      <td>168</td>\n      <td>505</td>\n      <td>168</td>\n      <td>...</td>\n      <td>1.0</td>\n      <td>-1.0</td>\n      <td>-1.0</td>\n      <td>0.0</td>\n      <td>-1.0</td>\n      <td>0.0</td>\n      <td>0.0</td>\n      <td>0.0</td>\n      <td>-1.0</td>\n      <td>7.900250</td>\n    </tr>\n    <tr>\n      <th>93940</th>\n      <td>1</td>\n      <td>1</td>\n      <td>72</td>\n      <td>222</td>\n      <td>88</td>\n      <td>120</td>\n      <td>127</td>\n      <td>165</td>\n      <td>547</td>\n      <td>1133</td>\n      <td>...</td>\n      <td>-1.0</td>\n      <td>1.0</td>\n      <td>1.0</td>\n      <td>0.0</td>\n      <td>1.0</td>\n      <td>1.0</td>\n      <td>-1.0</td>\n      <td>1.0</td>\n      <td>-1.0</td>\n      <td>7.900250</td>\n    </tr>\n  </tbody>\n</table>\n<p>94169 rows × 131 columns</p>\n</div>"
     },
     "execution_count": 4,
     "metadata": {},
     "output_type": "execute_result"
    }
   ],
   "source": [
    "train = remove_described_col(train)\n",
    "# %%\n",
    "train"
   ],
   "metadata": {
    "collapsed": false,
    "pycharm": {
     "name": "#%%\n"
    }
   }
  },
  {
   "cell_type": "code",
   "execution_count": 5,
   "outputs": [
    {
     "name": "stdout",
     "output_type": "stream",
     "text": [
      "target int64\n",
      "is_cup int64\n",
      "home_team_history_match_date_1 int64\n",
      "home_team_history_match_date_2 int64\n",
      "home_team_history_match_date_3 int64\n",
      "home_team_history_match_date_4 int64\n",
      "home_team_history_match_date_5 int64\n",
      "home_team_history_match_date_6 int64\n",
      "home_team_history_match_date_7 int64\n",
      "home_team_history_match_date_8 int64\n",
      "home_team_history_is_play_home_1 float64\n",
      "home_team_history_is_play_home_2 float64\n",
      "home_team_history_is_play_home_3 float64\n",
      "home_team_history_is_play_home_4 float64\n",
      "home_team_history_is_play_home_5 float64\n",
      "home_team_history_is_play_home_6 float64\n",
      "home_team_history_is_play_home_7 float64\n",
      "home_team_history_is_play_home_8 float64\n",
      "home_team_history_is_cup_1 float64\n",
      "home_team_history_is_cup_2 float64\n",
      "home_team_history_is_cup_3 float64\n",
      "home_team_history_is_cup_4 float64\n",
      "home_team_history_is_cup_5 float64\n",
      "home_team_history_is_cup_6 float64\n",
      "home_team_history_is_cup_7 float64\n",
      "home_team_history_is_cup_8 float64\n",
      "home_team_history_goal_1 float64\n",
      "home_team_history_goal_2 float64\n",
      "home_team_history_goal_3 float64\n",
      "home_team_history_goal_4 float64\n",
      "home_team_history_goal_5 float64\n",
      "home_team_history_goal_6 float64\n",
      "home_team_history_goal_7 float64\n",
      "home_team_history_goal_8 float64\n",
      "home_team_history_opponent_goal_1 float64\n",
      "home_team_history_opponent_goal_2 float64\n",
      "home_team_history_opponent_goal_3 float64\n",
      "home_team_history_opponent_goal_4 float64\n",
      "home_team_history_opponent_goal_5 float64\n",
      "home_team_history_opponent_goal_6 float64\n",
      "home_team_history_opponent_goal_7 float64\n",
      "home_team_history_opponent_goal_8 float64\n",
      "home_team_history_rating_1 float64\n",
      "home_team_history_rating_2 float64\n",
      "home_team_history_rating_3 float64\n",
      "home_team_history_rating_4 float64\n",
      "home_team_history_rating_5 float64\n",
      "home_team_history_rating_6 float64\n",
      "home_team_history_rating_7 float64\n",
      "home_team_history_rating_8 float64\n",
      "home_team_history_opponent_rating_1 float64\n",
      "home_team_history_opponent_rating_2 float64\n",
      "home_team_history_opponent_rating_3 float64\n",
      "home_team_history_opponent_rating_4 float64\n",
      "home_team_history_opponent_rating_5 float64\n",
      "home_team_history_opponent_rating_6 float64\n",
      "home_team_history_opponent_rating_7 float64\n",
      "home_team_history_opponent_rating_8 float64\n",
      "away_team_history_match_date_1 int64\n",
      "away_team_history_match_date_2 int64\n",
      "away_team_history_match_date_3 int64\n",
      "away_team_history_match_date_4 int64\n",
      "away_team_history_match_date_5 int64\n",
      "away_team_history_match_date_6 int64\n",
      "away_team_history_match_date_7 int64\n",
      "away_team_history_match_date_8 int64\n",
      "away_team_history_is_play_home_1 float64\n",
      "away_team_history_is_play_home_2 float64\n",
      "away_team_history_is_play_home_3 float64\n",
      "away_team_history_is_play_home_4 float64\n",
      "away_team_history_is_play_home_5 float64\n",
      "away_team_history_is_play_home_6 float64\n",
      "away_team_history_is_play_home_7 float64\n",
      "away_team_history_is_play_home_8 float64\n",
      "away_team_history_is_cup_1 float64\n",
      "away_team_history_is_cup_2 float64\n",
      "away_team_history_is_cup_3 float64\n",
      "away_team_history_is_cup_4 float64\n",
      "away_team_history_is_cup_5 float64\n",
      "away_team_history_is_cup_6 float64\n",
      "away_team_history_is_cup_7 float64\n",
      "away_team_history_is_cup_8 float64\n",
      "away_team_history_goal_1 float64\n",
      "away_team_history_goal_2 float64\n",
      "away_team_history_goal_3 float64\n",
      "away_team_history_goal_4 float64\n",
      "away_team_history_goal_5 float64\n",
      "away_team_history_goal_6 float64\n",
      "away_team_history_goal_7 float64\n",
      "away_team_history_goal_8 float64\n",
      "away_team_history_opponent_goal_1 float64\n",
      "away_team_history_opponent_goal_2 float64\n",
      "away_team_history_opponent_goal_3 float64\n",
      "away_team_history_opponent_goal_4 float64\n",
      "away_team_history_opponent_goal_5 float64\n",
      "away_team_history_opponent_goal_6 float64\n",
      "away_team_history_opponent_goal_7 float64\n",
      "away_team_history_opponent_goal_8 float64\n",
      "away_team_history_rating_1 float64\n",
      "away_team_history_rating_2 float64\n",
      "away_team_history_rating_3 float64\n",
      "away_team_history_rating_4 float64\n",
      "away_team_history_rating_5 float64\n",
      "away_team_history_rating_6 float64\n",
      "away_team_history_rating_7 float64\n",
      "away_team_history_rating_8 float64\n",
      "away_team_history_opponent_rating_1 float64\n",
      "away_team_history_opponent_rating_2 float64\n",
      "away_team_history_opponent_rating_3 float64\n",
      "away_team_history_opponent_rating_4 float64\n",
      "away_team_history_opponent_rating_5 float64\n",
      "away_team_history_opponent_rating_6 float64\n",
      "away_team_history_opponent_rating_7 float64\n",
      "away_team_history_opponent_rating_8 float64\n",
      "home_team_history_target_1 float64\n",
      "away_team_history_target_1 float64\n",
      "home_team_history_target_2 float64\n",
      "away_team_history_target_2 float64\n",
      "home_team_history_target_3 float64\n",
      "away_team_history_target_3 float64\n",
      "home_team_history_target_4 float64\n",
      "away_team_history_target_4 float64\n",
      "home_team_history_target_5 float64\n",
      "away_team_history_target_5 float64\n",
      "home_team_history_target_6 float64\n",
      "away_team_history_target_6 float64\n",
      "home_team_history_target_7 float64\n",
      "away_team_history_target_7 float64\n",
      "home_team_history_target_8 float64\n",
      "away_team_history_target_8 float64\n",
      "league_id_ratting float64\n"
     ]
    }
   ],
   "source": [
    "for columns in train.columns:\n",
    "    print(columns, train[columns].dtype)"
   ],
   "metadata": {
    "collapsed": false,
    "pycharm": {
     "name": "#%%\n"
    }
   }
  },
  {
   "cell_type": "code",
   "execution_count": 6,
   "metadata": {
    "collapsed": false,
    "pycharm": {
     "name": "#%%\n"
    }
   },
   "outputs": [
    {
     "name": "stdout",
     "output_type": "stream",
     "text": [
      "accuracy: 0.49\n",
      "train [-1  1 -1 ...  1  1 -1]\n"
     ]
    }
   ],
   "source": [
    "from sklearn.preprocessing import StandardScaler\n",
    "from sklearn.pipeline import make_pipeline\n",
    "from sklearn.model_selection import train_test_split\n",
    "from sklearn.linear_model import LogisticRegression\n",
    "\n",
    "for data, name in  zip([train],['train'] ):\n",
    "    X_train, X_test, y_train, y_test = train_test_split(data.iloc[:, 1:], data.iloc[:, 0], test_size=0.33,\n",
    "                                                        random_state=42)\n",
    "    pipe = make_pipeline(StandardScaler(), LogisticRegression(random_state=0, solver='lbfgs', multi_class='ovr'))\n",
    "\n",
    "    pipe.fit(X_train, y_train)\n",
    "    results = pipe.predict(X_train)\n",
    "    print(f'accuracy: {pipe.score(X_test, y_test):.02f}')\n",
    "    print(name, results)\n",
    "# drzewach, svm\n",
    "# kolumny\n",
    "# kaggle\n",
    "#"
   ]
  },
  {
   "cell_type": "markdown",
   "metadata": {
    "collapsed": false
   },
   "source": [
    "# Dobór cech"
   ]
  },
  {
   "cell_type": "code",
   "execution_count": 28,
   "metadata": {
    "collapsed": false,
    "pycharm": {
     "name": "#%%\n"
    }
   },
   "outputs": [
    {
     "name": "stdout",
     "output_type": "stream",
     "text": [
      "the_best_feuteures\n",
      " ['away_team_history_rating_1', 'away_team_history_rating_2', 'away_team_history_rating_3', 'away_team_history_rating_4', 'away_team_history_rating_5', 'away_team_history_rating_6', 'away_team_history_rating_7', 'away_team_history_rating_8', 'home_team_history_rating_1', 'home_team_history_rating_2', 'home_team_history_rating_3', 'home_team_history_rating_4', 'home_team_history_rating_5', 'home_team_history_rating_6', 'home_team_history_rating_7', 'home_team_history_rating_8', 'home_team_history_opponent_goal_1', 'home_team_history_opponent_goal_2', 'home_team_history_opponent_goal_3', 'home_team_history_opponent_goal_4', 'home_team_history_opponent_goal_5', 'home_team_history_opponent_goal_6', 'home_team_history_opponent_goal_7', 'home_team_history_opponent_goal_8', 'away_team_history_opponent_goal_1', 'away_team_history_opponent_goal_2', 'away_team_history_opponent_goal_3', 'away_team_history_opponent_goal_4', 'away_team_history_opponent_goal_5', 'away_team_history_opponent_goal_6', 'away_team_history_opponent_goal_7', 'away_team_history_opponent_goal_8', 'away_team_history_opponent_rating_1', 'away_team_history_opponent_rating_2', 'away_team_history_opponent_rating_3', 'away_team_history_opponent_rating_4', 'away_team_history_opponent_rating_5', 'away_team_history_opponent_rating_6', 'away_team_history_opponent_rating_7', 'away_team_history_opponent_rating_8', 'home_team_history_is_play_home_1', 'home_team_history_is_play_home_2', 'home_team_history_is_play_home_3', 'home_team_history_is_play_home_4', 'home_team_history_is_play_home_5', 'home_team_history_is_play_home_6', 'home_team_history_is_play_home_7', 'home_team_history_is_play_home_8', 'home_team_history_opponent_rating_1', 'home_team_history_opponent_rating_2', 'home_team_history_opponent_rating_3', 'home_team_history_opponent_rating_4', 'home_team_history_opponent_rating_5', 'home_team_history_opponent_rating_6', 'home_team_history_opponent_rating_7', 'home_team_history_opponent_rating_8', 'away_team_history_is_cup_1', 'away_team_history_is_cup_2', 'away_team_history_is_cup_3', 'away_team_history_is_cup_4', 'away_team_history_is_cup_5', 'away_team_history_is_cup_6', 'away_team_history_is_cup_7', 'away_team_history_is_cup_8', 'home_team_history_is_cup_1', 'home_team_history_is_cup_2', 'home_team_history_is_cup_3', 'home_team_history_is_cup_4', 'home_team_history_is_cup_5', 'home_team_history_is_cup_6', 'home_team_history_is_cup_7', 'home_team_history_is_cup_8']\n",
      "the_best_cross_value score\n",
      " 0.4925428186464038\n"
     ]
    }
   ],
   "source": [
    "X_train, X_test, y_train, y_test = train_test_split(train.iloc[:, 1:], train.iloc[:, 0], test_size=0.33,\n",
    "                                                    random_state=42)\n",
    "model = make_pipeline(StandardScaler(), LogisticRegression(random_state=0, solver='lbfgs', multi_class='ovr'))\n",
    "\n",
    "grouped_columns = []\n",
    "last_value = None\n",
    "for column in X_train.columns:\n",
    "    if grouped_columns and column[:-3] in last_value:\n",
    "        grouped_columns[-1].append(column)\n",
    "    else:\n",
    "        grouped_columns.append([column])\n",
    "    last_value = column\n",
    "\n",
    "\n",
    "\n",
    "def  features_selection(grouped_columns):\n",
    "    the_best_features = []\n",
    "    the_best_score = 0\n",
    "    for L in range(0, 1 + len(grouped_columns)):\n",
    "        errors = []\n",
    "        for value in grouped_columns:\n",
    "\n",
    "            if value in the_best_features:\n",
    "                continue\n",
    "            elif type(value) == list:\n",
    "                if value[0] in the_best_features:\n",
    "                    continue\n",
    "\n",
    "            tmp_the_best_feuteures = the_best_features.copy()\n",
    "\n",
    "            if type(value) == list:\n",
    "                tmp_the_best_feuteures.extend(value)  # dla weekday, mnths, seazon\n",
    "            else:\n",
    "                tmp_the_best_feuteures.append(value)\n",
    "\n",
    "            error = np.mean(cross_val_score(model, X_train[tmp_the_best_feuteures], y_train))\n",
    "            errors.append((tmp_the_best_feuteures, error))\n",
    "\n",
    "        errors = [(k, v) for k, v in sorted(errors, key=lambda item: item[1])]\n",
    "\n",
    "        if errors[-1][\n",
    "            1] < the_best_score and the_best_score != 0:  # Jesli  dodanie cechy zwieksza bład, to zakoncz algorytm\n",
    "            break\n",
    "\n",
    "        the_best_features = errors[-1][0]\n",
    "        the_best_score = errors[-1][1]\n",
    "\n",
    "    print('the_best_feuteures\\n', the_best_features)\n",
    "    print('the_best_cross_value score\\n', the_best_score)\n",
    "    return  the_best_features, the_best_score\n",
    "the_best_features, the_best_score = features_selection(grouped_columns)\n",
    "the_best_features"
   ]
  },
  {
   "cell_type": "code",
   "execution_count": 30,
   "metadata": {
    "collapsed": false,
    "pycharm": {
     "name": "#%%\n"
    }
   },
   "outputs": [
    {
     "data": {
      "text/plain": [
       "False"
      ]
     },
     "execution_count": 30,
     "metadata": {},
     "output_type": "execute_result"
    }
   ],
   "source": [
    "'is_cup' in the_best_features"
   ]
  },
  {
   "cell_type": "code",
   "execution_count": null,
   "metadata": {
    "collapsed": false,
    "pycharm": {
     "name": "#%%\n"
    }
   },
   "outputs": [],
   "source": [
    "grouped_columns = []\n",
    "for column in sorted(X_train.columns.values, key=lambda  x: x[-1]):\n",
    "    if grouped_columns and column[:-3] in last_value:\n",
    "        grouped_columns[-1].append(column)\n",
    "    else:\n",
    "        grouped_columns.append([column])\n",
    "    last_value = column\n",
    "\n",
    "model = make_pipeline(StandardScaler(), LogisticRegression(random_state=0, solver='lbfgs', multi_class='ovr'))\n",
    "\n",
    "the_best_features, the_best_score = features_selection(grouped_columns)\n",
    "the_best_features"
   ]
  },
  {
   "cell_type": "code",
   "execution_count": null,
   "metadata": {
    "collapsed": false,
    "pycharm": {
     "name": "#%%\n"
    }
   },
   "outputs": [],
   "source": []
  }
 ],
 "metadata": {
  "kernelspec": {
   "display_name": "Python 3",
   "language": "python",
   "name": "python3"
  },
  "language_info": {
   "codemirror_mode": {
    "name": "ipython",
    "version": 3
   },
   "file_extension": ".py",
   "mimetype": "text/x-python",
   "name": "python",
   "nbconvert_exporter": "python",
   "pygments_lexer": "ipython3",
   "version": "3.8.5"
  }
 },
 "nbformat": 4,
 "nbformat_minor": 0
}