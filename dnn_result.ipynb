{
 "cells": [
  {
   "cell_type": "code",
   "execution_count": null,
   "metadata": {
    "collapsed": true,
    "pycharm": {
     "name": "#%%\n",
     "is_executing": true
    }
   },
   "outputs": [],
   "source": [
    "from sklearn.linear_model import LogisticRegression\n",
    "from sklearn.pipeline import make_pipeline\n",
    "\n",
    "from prepared_data.get_prepared_data import get_prepared_data\n",
    "import pandas as pd\n",
    "from sklearn.preprocessing import MinMaxScaler\n",
    "from prepared_data.prepared_test_results import result_predict_prob_to_dataFrame, not_duplicate_elements_in_dataframes\n",
    "\n",
    "import tensorflow as tf\n",
    "from prepared_data.train_model import split_features_target_and_map_target"
   ]
  },
  {
   "cell_type": "markdown",
   "source": [
    "Data loading and preparation"
   ],
   "metadata": {
    "collapsed": false,
    "pycharm": {
     "name": "#%% md\n"
    }
   }
  },
  {
   "cell_type": "code",
   "execution_count": null,
   "outputs": [],
   "source": [
    "train_org = pd.read_csv('data/train.csv')\n",
    "train, league_mean_ratting_all, teams_ratting_all = get_prepared_data(train_org,number_of_history_matches=4,map_target=False)\n",
    "\n",
    "test_org = pd.read_csv('data/test.csv')\n",
    "test,_,_ = get_prepared_data(test_org, 4,league_mean_ratting_all, teams_ratting_all,map_target=False)\n"
   ],
   "metadata": {
    "collapsed": false,
    "pycharm": {
     "name": "#%%\n",
     "is_executing": true
    }
   }
  },
  {
   "cell_type": "markdown",
   "source": [
    "Model"
   ],
   "metadata": {
    "collapsed": false,
    "pycharm": {
     "name": "#%% md\n"
    }
   }
  },
  {
   "cell_type": "code",
   "execution_count": 4,
   "outputs": [],
   "source": [
    "def build_and_compile_model(shape,n_neurons, dropout, learning_rate):\n",
    "    model = tf.keras.Sequential([\n",
    "      tf.keras.layers.Dense(\n",
    "          n_neurons, activation='relu',\n",
    "          input_shape=shape),\n",
    "      tf.keras.layers.Dropout(dropout),\n",
    "      tf.keras.layers.Dense(3)\n",
    "     ])\n",
    "\n",
    "    model.compile(optimizer=tf.keras.optimizers.Adam(learning_rate),\n",
    "              loss=tf.keras.losses.SparseCategoricalCrossentropy(from_logits=True),\n",
    "              metrics=['accuracy'])\n",
    "\n",
    "    return model"
   ],
   "metadata": {
    "collapsed": false,
    "pycharm": {
     "name": "#%%\n"
    }
   }
  },
  {
   "cell_type": "markdown",
   "source": [
    "Train model"
   ],
   "metadata": {
    "collapsed": false,
    "pycharm": {
     "name": "#%% md\n"
    }
   }
  },
  {
   "cell_type": "code",
   "execution_count": 5,
   "outputs": [
    {
     "name": "stderr",
     "output_type": "stream",
     "text": [
      "2022-06-04 12:49:05.682567: W tensorflow/stream_executor/platform/default/dso_loader.cc:64] Could not load dynamic library 'libcuda.so.1'; dlerror: libcuda.so.1: cannot open shared object file: No such file or directory\n",
      "2022-06-04 12:49:05.682595: W tensorflow/stream_executor/cuda/cuda_driver.cc:269] failed call to cuInit: UNKNOWN ERROR (303)\n",
      "2022-06-04 12:49:05.682616: I tensorflow/stream_executor/cuda/cuda_diagnostics.cc:156] kernel driver does not appear to be running on this host (Zenon): /proc/driver/nvidia/version does not exist\n",
      "2022-06-04 12:49:05.682976: I tensorflow/core/platform/cpu_feature_guard.cc:151] This TensorFlow binary is optimized with oneAPI Deep Neural Network Library (oneDNN) to use the following CPU instructions in performance-critical operations:  AVX2 FMA\n",
      "To enable them in other operations, rebuild TensorFlow with the appropriate compiler flags.\n"
     ]
    }
   ],
   "source": [
    "from datetime import datetime\n",
    "from prepared_data.train_model import callbacks\n",
    "\n",
    "dropout = 0.3\n",
    "n_neurons = 16\n",
    "learning_rate = 0.001\n",
    "batch_size = None\n",
    "\n",
    "scaler = MinMaxScaler()\n",
    "\n",
    "train_features, target = split_features_target_and_map_target(train)\n",
    "\n",
    "X_train  = scaler.fit_transform(train_features)\n",
    "\n",
    "dnn_model = build_and_compile_model( (train_features.shape[-1],),n_neurons,dropout,learning_rate)\n",
    "\n",
    "model_name = f'final/final' + datetime.now().strftime(\"%Y:%m:%d-%H:%M:%S\")\n",
    "\n",
    "early_stop, reduce_lr, tensorboard_callback, checkpoint_callback =  callbacks(model_name)\n",
    "\n",
    "history = dnn_model.fit(\n",
    "    X_train,\n",
    "    target,\n",
    "    verbose=0, epochs=20,\n",
    "   callbacks=[reduce_lr,checkpoint_callback, tensorboard_callback],\n",
    "    batch_size = batch_size\n",
    ")"
   ],
   "metadata": {
    "collapsed": false,
    "pycharm": {
     "name": "#%%\n"
    }
   }
  },
  {
   "cell_type": "markdown",
   "source": [
    "Predict test"
   ],
   "metadata": {
    "collapsed": false,
    "pycharm": {
     "name": "#%% md\n"
    }
   }
  },
  {
   "cell_type": "code",
   "execution_count": 6,
   "outputs": [
    {
     "data": {
      "text/plain": "             id      away      draw      home\n0      18300194  0.297770  0.238329  0.463901\n1      18244932  0.278344  0.214762  0.506894\n2      18300196  0.292891  0.225543  0.481566\n3      18139735  0.394708  0.238409  0.366883\n4      18137425  0.394579  0.282672  0.322749\n...         ...       ...       ...       ...\n58999  18125501  0.166454  0.324038  0.509507\n59000  18070396  0.274875  0.368509  0.356615\n59001  18094517  0.301714  0.328158  0.370128\n59002  18163535  0.256769  0.309018  0.434213\n59003  18109903  0.265040  0.295141  0.439819\n\n[59004 rows x 4 columns]",
      "text/html": "<div>\n<style scoped>\n    .dataframe tbody tr th:only-of-type {\n        vertical-align: middle;\n    }\n\n    .dataframe tbody tr th {\n        vertical-align: top;\n    }\n\n    .dataframe thead th {\n        text-align: right;\n    }\n</style>\n<table border=\"1\" class=\"dataframe\">\n  <thead>\n    <tr style=\"text-align: right;\">\n      <th></th>\n      <th>id</th>\n      <th>away</th>\n      <th>draw</th>\n      <th>home</th>\n    </tr>\n  </thead>\n  <tbody>\n    <tr>\n      <th>0</th>\n      <td>18300194</td>\n      <td>0.297770</td>\n      <td>0.238329</td>\n      <td>0.463901</td>\n    </tr>\n    <tr>\n      <th>1</th>\n      <td>18244932</td>\n      <td>0.278344</td>\n      <td>0.214762</td>\n      <td>0.506894</td>\n    </tr>\n    <tr>\n      <th>2</th>\n      <td>18300196</td>\n      <td>0.292891</td>\n      <td>0.225543</td>\n      <td>0.481566</td>\n    </tr>\n    <tr>\n      <th>3</th>\n      <td>18139735</td>\n      <td>0.394708</td>\n      <td>0.238409</td>\n      <td>0.366883</td>\n    </tr>\n    <tr>\n      <th>4</th>\n      <td>18137425</td>\n      <td>0.394579</td>\n      <td>0.282672</td>\n      <td>0.322749</td>\n    </tr>\n    <tr>\n      <th>...</th>\n      <td>...</td>\n      <td>...</td>\n      <td>...</td>\n      <td>...</td>\n    </tr>\n    <tr>\n      <th>58999</th>\n      <td>18125501</td>\n      <td>0.166454</td>\n      <td>0.324038</td>\n      <td>0.509507</td>\n    </tr>\n    <tr>\n      <th>59000</th>\n      <td>18070396</td>\n      <td>0.274875</td>\n      <td>0.368509</td>\n      <td>0.356615</td>\n    </tr>\n    <tr>\n      <th>59001</th>\n      <td>18094517</td>\n      <td>0.301714</td>\n      <td>0.328158</td>\n      <td>0.370128</td>\n    </tr>\n    <tr>\n      <th>59002</th>\n      <td>18163535</td>\n      <td>0.256769</td>\n      <td>0.309018</td>\n      <td>0.434213</td>\n    </tr>\n    <tr>\n      <th>59003</th>\n      <td>18109903</td>\n      <td>0.265040</td>\n      <td>0.295141</td>\n      <td>0.439819</td>\n    </tr>\n  </tbody>\n</table>\n<p>59004 rows × 4 columns</p>\n</div>"
     },
     "execution_count": 6,
     "metadata": {},
     "output_type": "execute_result"
    }
   ],
   "source": [
    "filepath = 'saved_model/checkpoint/final_result_train/2022:05:07-00:56:29_epoch18-train1.011.hdf5'\n",
    "\n",
    "dnn_model = build_and_compile_model( (train_features.shape[-1],),n_neurons,dropout,learning_rate)\n",
    "\n",
    "dnn_model.load_weights(filepath)\n",
    "\n",
    "probability_model = tf.keras.Sequential([dnn_model,\n",
    "                                         tf.keras.layers.Softmax()])\n",
    "\n",
    "X_test = scaler.transform(test)\n",
    "\n",
    "test_result = probability_model.predict(X_test)\n",
    "\n",
    "test_result = result_predict_prob_to_dataFrame(test_result, test)\n",
    "test_result"
   ],
   "metadata": {
    "collapsed": false,
    "pycharm": {
     "name": "#%%\n"
    }
   }
  },
  {
   "cell_type": "markdown",
   "source": [
    "## Load missing data with number_of_history_matches=1"
   ],
   "metadata": {
    "collapsed": false,
    "pycharm": {
     "name": "#%% md\n"
    }
   }
  },
  {
   "cell_type": "code",
   "execution_count": 7,
   "outputs": [
    {
     "name": "stderr",
     "output_type": "stream",
     "text": [
      "/home/andrzej/PycharmProjects/Physionet_Challenge_2021/venv/lib/python3.9/site-packages/IPython/core/interactiveshell.py:3251: DtypeWarning: Columns (7) have mixed types.Specify dtype option on import or set low_memory=False.\n",
      "  exec(code_obj, self.user_global_ns, self.user_ns)\n"
     ]
    },
    {
     "name": "stdout",
     "output_type": "stream",
     "text": [
      "percent of object with nan value and orginals:  0.00, 98.210712\n",
      "percent of object with nan value and orginals:  0.00, 98.786979\n",
      "Number of not duplicate elements  9359\n"
     ]
    },
    {
     "data": {
      "text/plain": "          is_cup  home_team_history_match_date_1  \\\nid                                                 \n18395531       1                             388   \n18395534       1                              96   \n18395559       1                             101   \n18395595       1                              72   \n18395597       1                              76   \n...          ...                             ...   \n18433161       1                              74   \n18430451       1                              72   \n18433160       1                              78   \n18430453       1                              69   \n18447519       1                              74   \n\n          home_team_history_is_play_home_1  home_team_history_is_cup_1  \\\nid                                                                       \n18395531                               1.0                         0.0   \n18395534                               0.0                         0.0   \n18395559                               0.0                         0.0   \n18395595                               1.0                         0.0   \n18395597                               1.0                         0.0   \n...                                    ...                         ...   \n18433161                               0.0                         1.0   \n18430451                               1.0                         1.0   \n18433160                               0.0                         0.0   \n18430453                               0.0                         1.0   \n18447519                               0.0                         1.0   \n\n          home_team_history_goal_1  home_team_history_opponent_goal_1  \\\nid                                                                      \n18395531                       2.0                                1.0   \n18395534                       1.0                                2.0   \n18395559                       1.0                                3.0   \n18395595                       1.0                                0.0   \n18395597                       2.0                                2.0   \n...                            ...                                ...   \n18433161                       0.0                                3.0   \n18430451                       1.0                                0.0   \n18433160                       1.0                                4.0   \n18430453                       0.0                                0.0   \n18447519                       4.0                                0.0   \n\n          home_team_history_rating_1  home_team_history_opponent_rating_1  \\\nid                                                                          \n18395531                   11.078400                             3.724950   \n18395534                    6.489692                             4.418742   \n18395559                    6.168855                             5.675820   \n18395595                   10.392432                             3.526532   \n18395597                    9.860605                             3.190473   \n...                              ...                                  ...   \n18433161                    5.328017                            12.617483   \n18430451                    6.779631                            10.878485   \n18433160                    5.731083                            13.314733   \n18430453                    7.629958                             5.679331   \n18447519                   21.731536                             4.474055   \n\n          away_team_history_match_date_1  away_team_history_is_play_home_1  \\\nid                                                                           \n18395531                              74                               0.0   \n18395534                              77                               0.0   \n18395559                              98                               1.0   \n18395595                              95                               1.0   \n18395597                              77                               0.0   \n...                                  ...                               ...   \n18433161                            1317                               0.0   \n18430451                              69                               1.0   \n18433160                            5662                               1.0   \n18430453                              72                               1.0   \n18447519                              72                               1.0   \n\n          ...  away_team_history_gol_difference_1  \\\nid        ...                                       \n18395531  ...                                 3.0   \n18395534  ...                                 2.0   \n18395559  ...                                 2.0   \n18395595  ...                                 3.0   \n18395597  ...                                 0.0   \n...       ...                                 ...   \n18433161  ...                                 0.0   \n18430451  ...                                -4.0   \n18433160  ...                                -1.0   \n18430453  ...                                 2.0   \n18447519  ...                                 5.0   \n\n          away_team_mean_regeneration_time  league_id_ratting  \\\nid                                                              \n18395531                              74.0           6.801392   \n18395534                              77.0           6.801392   \n18395559                              98.0           6.801392   \n18395595                              95.0           6.801392   \n18395597                              77.0           6.801392   \n...                                    ...                ...   \n18433161                            1317.0           8.857095   \n18430451                              69.0           8.857095   \n18433160                            5662.0           8.857095   \n18430453                              72.0           8.857095   \n18447519                              72.0           8.857095   \n\n          sum_history_targets  home_team_history_target_1_-1.0  \\\nid                                                               \n18395531                  2.0                                0   \n18395534                  0.0                                1   \n18395559                  0.0                                1   \n18395595                  2.0                                0   \n18395597                  0.0                                0   \n...                       ...                              ...   \n18433161                 -1.0                                1   \n18430451                  0.0                                0   \n18433160                 -2.0                                1   \n18430453                  1.0                                0   \n18447519                  2.0                                0   \n\n          home_team_history_target_1_0.0  home_team_history_target_1_1.0  \\\nid                                                                         \n18395531                               0                               1   \n18395534                               0                               0   \n18395559                               0                               0   \n18395595                               0                               1   \n18395597                               1                               0   \n...                                  ...                             ...   \n18433161                               0                               0   \n18430451                               0                               1   \n18433160                               0                               0   \n18430453                               1                               0   \n18447519                               0                               1   \n\n          away_team_history_target_1_-1.0  away_team_history_target_1_0.0  \\\nid                                                                          \n18395531                                0                               0   \n18395534                                0                               0   \n18395559                                0                               0   \n18395595                                0                               0   \n18395597                                0                               1   \n...                                   ...                             ...   \n18433161                                0                               1   \n18430451                                1                               0   \n18433160                                1                               0   \n18430453                                0                               0   \n18447519                                0                               0   \n\n          away_team_history_target_1_1.0  \nid                                        \n18395531                               1  \n18395534                               1  \n18395559                               1  \n18395595                               1  \n18395597                               0  \n...                                  ...  \n18433161                               0  \n18430451                               0  \n18433160                               0  \n18430453                               1  \n18447519                               1  \n\n[9359 rows x 27 columns]",
      "text/html": "<div>\n<style scoped>\n    .dataframe tbody tr th:only-of-type {\n        vertical-align: middle;\n    }\n\n    .dataframe tbody tr th {\n        vertical-align: top;\n    }\n\n    .dataframe thead th {\n        text-align: right;\n    }\n</style>\n<table border=\"1\" class=\"dataframe\">\n  <thead>\n    <tr style=\"text-align: right;\">\n      <th></th>\n      <th>is_cup</th>\n      <th>home_team_history_match_date_1</th>\n      <th>home_team_history_is_play_home_1</th>\n      <th>home_team_history_is_cup_1</th>\n      <th>home_team_history_goal_1</th>\n      <th>home_team_history_opponent_goal_1</th>\n      <th>home_team_history_rating_1</th>\n      <th>home_team_history_opponent_rating_1</th>\n      <th>away_team_history_match_date_1</th>\n      <th>away_team_history_is_play_home_1</th>\n      <th>...</th>\n      <th>away_team_history_gol_difference_1</th>\n      <th>away_team_mean_regeneration_time</th>\n      <th>league_id_ratting</th>\n      <th>sum_history_targets</th>\n      <th>home_team_history_target_1_-1.0</th>\n      <th>home_team_history_target_1_0.0</th>\n      <th>home_team_history_target_1_1.0</th>\n      <th>away_team_history_target_1_-1.0</th>\n      <th>away_team_history_target_1_0.0</th>\n      <th>away_team_history_target_1_1.0</th>\n    </tr>\n    <tr>\n      <th>id</th>\n      <th></th>\n      <th></th>\n      <th></th>\n      <th></th>\n      <th></th>\n      <th></th>\n      <th></th>\n      <th></th>\n      <th></th>\n      <th></th>\n      <th></th>\n      <th></th>\n      <th></th>\n      <th></th>\n      <th></th>\n      <th></th>\n      <th></th>\n      <th></th>\n      <th></th>\n      <th></th>\n      <th></th>\n    </tr>\n  </thead>\n  <tbody>\n    <tr>\n      <th>18395531</th>\n      <td>1</td>\n      <td>388</td>\n      <td>1.0</td>\n      <td>0.0</td>\n      <td>2.0</td>\n      <td>1.0</td>\n      <td>11.078400</td>\n      <td>3.724950</td>\n      <td>74</td>\n      <td>0.0</td>\n      <td>...</td>\n      <td>3.0</td>\n      <td>74.0</td>\n      <td>6.801392</td>\n      <td>2.0</td>\n      <td>0</td>\n      <td>0</td>\n      <td>1</td>\n      <td>0</td>\n      <td>0</td>\n      <td>1</td>\n    </tr>\n    <tr>\n      <th>18395534</th>\n      <td>1</td>\n      <td>96</td>\n      <td>0.0</td>\n      <td>0.0</td>\n      <td>1.0</td>\n      <td>2.0</td>\n      <td>6.489692</td>\n      <td>4.418742</td>\n      <td>77</td>\n      <td>0.0</td>\n      <td>...</td>\n      <td>2.0</td>\n      <td>77.0</td>\n      <td>6.801392</td>\n      <td>0.0</td>\n      <td>1</td>\n      <td>0</td>\n      <td>0</td>\n      <td>0</td>\n      <td>0</td>\n      <td>1</td>\n    </tr>\n    <tr>\n      <th>18395559</th>\n      <td>1</td>\n      <td>101</td>\n      <td>0.0</td>\n      <td>0.0</td>\n      <td>1.0</td>\n      <td>3.0</td>\n      <td>6.168855</td>\n      <td>5.675820</td>\n      <td>98</td>\n      <td>1.0</td>\n      <td>...</td>\n      <td>2.0</td>\n      <td>98.0</td>\n      <td>6.801392</td>\n      <td>0.0</td>\n      <td>1</td>\n      <td>0</td>\n      <td>0</td>\n      <td>0</td>\n      <td>0</td>\n      <td>1</td>\n    </tr>\n    <tr>\n      <th>18395595</th>\n      <td>1</td>\n      <td>72</td>\n      <td>1.0</td>\n      <td>0.0</td>\n      <td>1.0</td>\n      <td>0.0</td>\n      <td>10.392432</td>\n      <td>3.526532</td>\n      <td>95</td>\n      <td>1.0</td>\n      <td>...</td>\n      <td>3.0</td>\n      <td>95.0</td>\n      <td>6.801392</td>\n      <td>2.0</td>\n      <td>0</td>\n      <td>0</td>\n      <td>1</td>\n      <td>0</td>\n      <td>0</td>\n      <td>1</td>\n    </tr>\n    <tr>\n      <th>18395597</th>\n      <td>1</td>\n      <td>76</td>\n      <td>1.0</td>\n      <td>0.0</td>\n      <td>2.0</td>\n      <td>2.0</td>\n      <td>9.860605</td>\n      <td>3.190473</td>\n      <td>77</td>\n      <td>0.0</td>\n      <td>...</td>\n      <td>0.0</td>\n      <td>77.0</td>\n      <td>6.801392</td>\n      <td>0.0</td>\n      <td>0</td>\n      <td>1</td>\n      <td>0</td>\n      <td>0</td>\n      <td>1</td>\n      <td>0</td>\n    </tr>\n    <tr>\n      <th>...</th>\n      <td>...</td>\n      <td>...</td>\n      <td>...</td>\n      <td>...</td>\n      <td>...</td>\n      <td>...</td>\n      <td>...</td>\n      <td>...</td>\n      <td>...</td>\n      <td>...</td>\n      <td>...</td>\n      <td>...</td>\n      <td>...</td>\n      <td>...</td>\n      <td>...</td>\n      <td>...</td>\n      <td>...</td>\n      <td>...</td>\n      <td>...</td>\n      <td>...</td>\n      <td>...</td>\n    </tr>\n    <tr>\n      <th>18433161</th>\n      <td>1</td>\n      <td>74</td>\n      <td>0.0</td>\n      <td>1.0</td>\n      <td>0.0</td>\n      <td>3.0</td>\n      <td>5.328017</td>\n      <td>12.617483</td>\n      <td>1317</td>\n      <td>0.0</td>\n      <td>...</td>\n      <td>0.0</td>\n      <td>1317.0</td>\n      <td>8.857095</td>\n      <td>-1.0</td>\n      <td>1</td>\n      <td>0</td>\n      <td>0</td>\n      <td>0</td>\n      <td>1</td>\n      <td>0</td>\n    </tr>\n    <tr>\n      <th>18430451</th>\n      <td>1</td>\n      <td>72</td>\n      <td>1.0</td>\n      <td>1.0</td>\n      <td>1.0</td>\n      <td>0.0</td>\n      <td>6.779631</td>\n      <td>10.878485</td>\n      <td>69</td>\n      <td>1.0</td>\n      <td>...</td>\n      <td>-4.0</td>\n      <td>69.0</td>\n      <td>8.857095</td>\n      <td>0.0</td>\n      <td>0</td>\n      <td>0</td>\n      <td>1</td>\n      <td>1</td>\n      <td>0</td>\n      <td>0</td>\n    </tr>\n    <tr>\n      <th>18433160</th>\n      <td>1</td>\n      <td>78</td>\n      <td>0.0</td>\n      <td>0.0</td>\n      <td>1.0</td>\n      <td>4.0</td>\n      <td>5.731083</td>\n      <td>13.314733</td>\n      <td>5662</td>\n      <td>1.0</td>\n      <td>...</td>\n      <td>-1.0</td>\n      <td>5662.0</td>\n      <td>8.857095</td>\n      <td>-2.0</td>\n      <td>1</td>\n      <td>0</td>\n      <td>0</td>\n      <td>1</td>\n      <td>0</td>\n      <td>0</td>\n    </tr>\n    <tr>\n      <th>18430453</th>\n      <td>1</td>\n      <td>69</td>\n      <td>0.0</td>\n      <td>1.0</td>\n      <td>0.0</td>\n      <td>0.0</td>\n      <td>7.629958</td>\n      <td>5.679331</td>\n      <td>72</td>\n      <td>1.0</td>\n      <td>...</td>\n      <td>2.0</td>\n      <td>72.0</td>\n      <td>8.857095</td>\n      <td>1.0</td>\n      <td>0</td>\n      <td>1</td>\n      <td>0</td>\n      <td>0</td>\n      <td>0</td>\n      <td>1</td>\n    </tr>\n    <tr>\n      <th>18447519</th>\n      <td>1</td>\n      <td>74</td>\n      <td>0.0</td>\n      <td>1.0</td>\n      <td>4.0</td>\n      <td>0.0</td>\n      <td>21.731536</td>\n      <td>4.474055</td>\n      <td>72</td>\n      <td>1.0</td>\n      <td>...</td>\n      <td>5.0</td>\n      <td>72.0</td>\n      <td>8.857095</td>\n      <td>2.0</td>\n      <td>0</td>\n      <td>0</td>\n      <td>1</td>\n      <td>0</td>\n      <td>0</td>\n      <td>1</td>\n    </tr>\n  </tbody>\n</table>\n<p>9359 rows × 27 columns</p>\n</div>"
     },
     "execution_count": 7,
     "metadata": {},
     "output_type": "execute_result"
    }
   ],
   "source": [
    "train_org = pd.read_csv('data/train.csv')\n",
    "train,_,_ = get_prepared_data(train_org, number_of_history_matches=1)\n",
    "test_org = pd.read_csv('data/test.csv')\n",
    "test_history_1,_,_ = get_prepared_data(test_org, number_of_history_matches=1,league_mean_ratting_all=league_mean_ratting_all,teams_mean_ratting_all= teams_ratting_all)\n",
    "test_history_1 = not_duplicate_elements_in_dataframes(test_history_1.reset_index(), test)\n",
    "test_history_1"
   ],
   "metadata": {
    "collapsed": false,
    "pycharm": {
     "name": "#%%\n"
    }
   }
  },
  {
   "cell_type": "markdown",
   "source": [
    "Train LogisticRegression model"
   ],
   "metadata": {
    "collapsed": false,
    "pycharm": {
     "name": "#%% md\n"
    }
   }
  },
  {
   "cell_type": "code",
   "execution_count": null,
   "outputs": [],
   "source": [
    "target = train['target']\n",
    "X_train_org = train.drop('target', axis=1)\n",
    "pipe = make_pipeline(MinMaxScaler(),\n",
    "                     LogisticRegression(random_state=0, solver='lbfgs', multi_class='ovr', max_iter=1000, n_jobs=-1))\n",
    "pipe.fit(X_train_org, target)"
   ],
   "metadata": {
    "collapsed": false,
    "pycharm": {
     "name": "#%%\n"
    }
   }
  },
  {
   "cell_type": "markdown",
   "source": [
    "Predict"
   ],
   "metadata": {
    "collapsed": false,
    "pycharm": {
     "name": "#%% md\n"
    }
   }
  },
  {
   "cell_type": "code",
   "execution_count": 8,
   "outputs": [
    {
     "data": {
      "text/plain": "            id      away      draw      home\n0     18395531  0.326631  0.217357  0.456012\n1     18395534  0.401950  0.226799  0.371251\n2     18395559  0.419427  0.221510  0.359063\n3     18395595  0.445531  0.223663  0.330806\n4     18395597  0.327524  0.222984  0.449493\n...        ...       ...       ...       ...\n9354  18433161  0.466112  0.162647  0.371241\n9355  18430451  0.236442  0.135125  0.628432\n9356  18433160  0.412746  0.161971  0.425283\n9357  18430453  0.476034  0.162803  0.361163\n9358  18447519  0.379877  0.116287  0.503836\n\n[9359 rows x 4 columns]",
      "text/html": "<div>\n<style scoped>\n    .dataframe tbody tr th:only-of-type {\n        vertical-align: middle;\n    }\n\n    .dataframe tbody tr th {\n        vertical-align: top;\n    }\n\n    .dataframe thead th {\n        text-align: right;\n    }\n</style>\n<table border=\"1\" class=\"dataframe\">\n  <thead>\n    <tr style=\"text-align: right;\">\n      <th></th>\n      <th>id</th>\n      <th>away</th>\n      <th>draw</th>\n      <th>home</th>\n    </tr>\n  </thead>\n  <tbody>\n    <tr>\n      <th>0</th>\n      <td>18395531</td>\n      <td>0.326631</td>\n      <td>0.217357</td>\n      <td>0.456012</td>\n    </tr>\n    <tr>\n      <th>1</th>\n      <td>18395534</td>\n      <td>0.401950</td>\n      <td>0.226799</td>\n      <td>0.371251</td>\n    </tr>\n    <tr>\n      <th>2</th>\n      <td>18395559</td>\n      <td>0.419427</td>\n      <td>0.221510</td>\n      <td>0.359063</td>\n    </tr>\n    <tr>\n      <th>3</th>\n      <td>18395595</td>\n      <td>0.445531</td>\n      <td>0.223663</td>\n      <td>0.330806</td>\n    </tr>\n    <tr>\n      <th>4</th>\n      <td>18395597</td>\n      <td>0.327524</td>\n      <td>0.222984</td>\n      <td>0.449493</td>\n    </tr>\n    <tr>\n      <th>...</th>\n      <td>...</td>\n      <td>...</td>\n      <td>...</td>\n      <td>...</td>\n    </tr>\n    <tr>\n      <th>9354</th>\n      <td>18433161</td>\n      <td>0.466112</td>\n      <td>0.162647</td>\n      <td>0.371241</td>\n    </tr>\n    <tr>\n      <th>9355</th>\n      <td>18430451</td>\n      <td>0.236442</td>\n      <td>0.135125</td>\n      <td>0.628432</td>\n    </tr>\n    <tr>\n      <th>9356</th>\n      <td>18433160</td>\n      <td>0.412746</td>\n      <td>0.161971</td>\n      <td>0.425283</td>\n    </tr>\n    <tr>\n      <th>9357</th>\n      <td>18430453</td>\n      <td>0.476034</td>\n      <td>0.162803</td>\n      <td>0.361163</td>\n    </tr>\n    <tr>\n      <th>9358</th>\n      <td>18447519</td>\n      <td>0.379877</td>\n      <td>0.116287</td>\n      <td>0.503836</td>\n    </tr>\n  </tbody>\n</table>\n<p>9359 rows × 4 columns</p>\n</div>"
     },
     "execution_count": 8,
     "metadata": {},
     "output_type": "execute_result"
    }
   ],
   "source": [
    "test_result_history_1 = pipe.predict_proba(test_history_1)\n",
    "test_result_history_1 = result_predict_prob_to_dataFrame(test_result_history_1, test_history_1)\n",
    "test_result_history_1"
   ],
   "metadata": {
    "collapsed": false,
    "pycharm": {
     "name": "#%%\n"
    }
   }
  },
  {
   "cell_type": "markdown",
   "source": [
    "Append missing predicted test"
   ],
   "metadata": {
    "collapsed": false,
    "pycharm": {
     "name": "#%% md\n"
    }
   }
  },
  {
   "cell_type": "code",
   "execution_count": 9,
   "outputs": [
    {
     "data": {
      "text/plain": "             id      away      draw      home\n0      18395531  0.326631  0.217357  0.456012\n1      18395534  0.401950  0.226799  0.371251\n2      18395559  0.419427  0.221510  0.359063\n3      18395595  0.445531  0.223663  0.330806\n4      18395597  0.327524  0.222984  0.449493\n...         ...       ...       ...       ...\n68358  18125501  0.166454  0.324038  0.509507\n68359  18070396  0.274875  0.368509  0.356615\n68360  18094517  0.301714  0.328158  0.370128\n68361  18163535  0.256769  0.309018  0.434213\n68362  18109903  0.265040  0.295141  0.439819\n\n[68363 rows x 4 columns]",
      "text/html": "<div>\n<style scoped>\n    .dataframe tbody tr th:only-of-type {\n        vertical-align: middle;\n    }\n\n    .dataframe tbody tr th {\n        vertical-align: top;\n    }\n\n    .dataframe thead th {\n        text-align: right;\n    }\n</style>\n<table border=\"1\" class=\"dataframe\">\n  <thead>\n    <tr style=\"text-align: right;\">\n      <th></th>\n      <th>id</th>\n      <th>away</th>\n      <th>draw</th>\n      <th>home</th>\n    </tr>\n  </thead>\n  <tbody>\n    <tr>\n      <th>0</th>\n      <td>18395531</td>\n      <td>0.326631</td>\n      <td>0.217357</td>\n      <td>0.456012</td>\n    </tr>\n    <tr>\n      <th>1</th>\n      <td>18395534</td>\n      <td>0.401950</td>\n      <td>0.226799</td>\n      <td>0.371251</td>\n    </tr>\n    <tr>\n      <th>2</th>\n      <td>18395559</td>\n      <td>0.419427</td>\n      <td>0.221510</td>\n      <td>0.359063</td>\n    </tr>\n    <tr>\n      <th>3</th>\n      <td>18395595</td>\n      <td>0.445531</td>\n      <td>0.223663</td>\n      <td>0.330806</td>\n    </tr>\n    <tr>\n      <th>4</th>\n      <td>18395597</td>\n      <td>0.327524</td>\n      <td>0.222984</td>\n      <td>0.449493</td>\n    </tr>\n    <tr>\n      <th>...</th>\n      <td>...</td>\n      <td>...</td>\n      <td>...</td>\n      <td>...</td>\n    </tr>\n    <tr>\n      <th>68358</th>\n      <td>18125501</td>\n      <td>0.166454</td>\n      <td>0.324038</td>\n      <td>0.509507</td>\n    </tr>\n    <tr>\n      <th>68359</th>\n      <td>18070396</td>\n      <td>0.274875</td>\n      <td>0.368509</td>\n      <td>0.356615</td>\n    </tr>\n    <tr>\n      <th>68360</th>\n      <td>18094517</td>\n      <td>0.301714</td>\n      <td>0.328158</td>\n      <td>0.370128</td>\n    </tr>\n    <tr>\n      <th>68361</th>\n      <td>18163535</td>\n      <td>0.256769</td>\n      <td>0.309018</td>\n      <td>0.434213</td>\n    </tr>\n    <tr>\n      <th>68362</th>\n      <td>18109903</td>\n      <td>0.265040</td>\n      <td>0.295141</td>\n      <td>0.439819</td>\n    </tr>\n  </tbody>\n</table>\n<p>68363 rows × 4 columns</p>\n</div>"
     },
     "execution_count": 9,
     "metadata": {},
     "output_type": "execute_result"
    }
   ],
   "source": [
    "from prepared_data.prepared_test_results import append_test_results\n",
    "\n",
    "test_result_learn = append_test_results(test_result_history_1, test_result)\n",
    "test_result_learn"
   ],
   "metadata": {
    "collapsed": false,
    "pycharm": {
     "name": "#%%\n"
    }
   }
  },
  {
   "cell_type": "markdown",
   "source": [],
   "metadata": {
    "collapsed": false,
    "pycharm": {
     "name": "#%% md\n"
    }
   }
  },
  {
   "cell_type": "markdown",
   "source": [],
   "metadata": {
    "collapsed": false,
    "pycharm": {
     "name": "#%% md\n"
    }
   }
  },
  {
   "cell_type": "markdown",
   "source": [
    "Save predicted test"
   ],
   "metadata": {
    "collapsed": false,
    "pycharm": {
     "name": "#%% md\n"
    }
   }
  },
  {
   "cell_type": "code",
   "execution_count": 10,
   "outputs": [
    {
     "name": "stdout",
     "output_type": "stream",
     "text": [
      "Number of not duplicate elements  4348\n"
     ]
    },
    {
     "data": {
      "text/plain": "True"
     },
     "execution_count": 10,
     "metadata": {},
     "output_type": "execute_result"
    }
   ],
   "source": [
    "from prepared_data.prepared_test_results import completed_test_result_and_save\n",
    "\n",
    "result_all = completed_test_result_and_save(test_org, test_result_learn, 'final_dnn_04_+_1_fit_on_the_full_train')\n",
    "result_all.shape[0]  == test_org.shape[0]\n"
   ],
   "metadata": {
    "collapsed": false,
    "pycharm": {
     "name": "#%%\n"
    }
   }
  }
 ],
 "metadata": {
  "kernelspec": {
   "display_name": "Python 3",
   "language": "python",
   "name": "python3"
  },
  "language_info": {
   "codemirror_mode": {
    "name": "ipython",
    "version": 2
   },
   "file_extension": ".py",
   "mimetype": "text/x-python",
   "name": "python",
   "nbconvert_exporter": "python",
   "pygments_lexer": "ipython2",
   "version": "2.7.6"
  }
 },
 "nbformat": 4,
 "nbformat_minor": 0
}