{
 "cells": [
  {
   "cell_type": "code",
   "execution_count": 1,
   "metadata": {
    "collapsed": true,
    "pycharm": {
     "name": "#%%\n"
    }
   },
   "outputs": [
    {
     "name": "stderr",
     "output_type": "stream",
     "text": [
      "2022-05-06 16:41:03.854676: W tensorflow/stream_executor/platform/default/dso_loader.cc:64] Could not load dynamic library 'libcudart.so.11.0'; dlerror: libcudart.so.11.0: cannot open shared object file: No such file or directory\n",
      "2022-05-06 16:41:03.854698: I tensorflow/stream_executor/cuda/cudart_stub.cc:29] Ignore above cudart dlerror if you do not have a GPU set up on your machine.\n"
     ]
    }
   ],
   "source": [
    "from prepared_data.get_prepared_data import get_prepared_data\n",
    "import pandas as pd\n",
    "from sklearn.preprocessing import MinMaxScaler\n",
    "from sklearn.pipeline import make_pipeline\n",
    "from prepared_data.prepared_test_results import result_predict_prob_to_dataFrame, not_duplicate_elements_in_dataframes\n",
    "from sklearn.linear_model import LogisticRegression\n",
    "\n",
    "import tensorflow as tf\n",
    "import numpy as np\n",
    "\n",
    "from prepared_data.train_model import split_features_target_and_map_target"
   ]
  },
  {
   "cell_type": "code",
   "execution_count": 8,
   "outputs": [
    {
     "name": "stderr",
     "output_type": "stream",
     "text": [
      "/home/andrzej/PycharmProjects/Physionet_Challenge_2021/venv/lib/python3.9/site-packages/IPython/core/interactiveshell.py:3251: DtypeWarning: Columns (7) have mixed types.Specify dtype option on import or set low_memory=False.\n",
      "  exec(code_obj, self.user_global_ns, self.user_ns)\n"
     ]
    },
    {
     "name": "stdout",
     "output_type": "stream",
     "text": [
      "percent of object with nan value and orginals:  42.20, 100.000000\n",
      "remove object with more that  col 50 % empty...\n",
      "date to datetime type and remove nan date....\n",
      "percent of object with nan value and orginals:  0.00, 92.767131\n",
      "percent of object with nan value and orginals:  39.35, 100.000000\n",
      "remove object with more that  col 50 % empty...\n",
      "date to datetime type and remove nan date....\n",
      "percent of object with nan value and orginals:  0.00, 94.684436\n"
     ]
    },
    {
     "data": {
      "text/plain": "         target  is_cup  home_team_history_match_date_1  \\\nid                                                        \n11989266   home       1                              77   \n17361043   away       1                             456   \n17934238   away       1                              74   \n17361047   away       1                              98   \n17687749   home       1                              72   \n...         ...     ...                             ...   \n17887524   home       1                             168   \n17882062   draw       1                             547   \n17933781   away       1                              98   \n17933780   home       1                              96   \n17920423   draw       1                              72   \n\n          home_team_history_match_date_2  home_team_history_match_date_3  \\\nid                                                                         \n11989266                             144                             189   \n17361043                              72                             168   \n17934238                              69                             103   \n17361047                              93                              74   \n17687749                              96                              72   \n...                                  ...                             ...   \n17887524                             167                              88   \n17882062                            1344                             463   \n17933781                              69                              74   \n17933780                              72                              72   \n17920423                              72                              69   \n\n          home_team_history_match_date_4  home_team_history_is_play_home_1  \\\nid                                                                           \n11989266                              69                               0.0   \n17361043                              77                               0.0   \n17934238                             310                               0.0   \n17361047                              71                               1.0   \n17687749                             120                               1.0   \n...                                  ...                               ...   \n17887524                              79                               1.0   \n17882062                             165                               1.0   \n17933781                             141                               0.0   \n17933780                              72                               1.0   \n17920423                              72                               1.0   \n\n          home_team_history_is_play_home_2  home_team_history_is_play_home_3  \\\nid                                                                             \n11989266                               1.0                               0.0   \n17361043                               0.0                               1.0   \n17934238                               0.0                               1.0   \n17361047                               0.0                               0.0   \n17687749                               1.0                               0.0   \n...                                    ...                               ...   \n17887524                               0.0                               0.0   \n17882062                               0.0                               1.0   \n17933781                               0.0                               1.0   \n17933780                               1.0                               0.0   \n17920423                               1.0                               0.0   \n\n          home_team_history_is_play_home_4  ...  \\\nid                                          ...   \n11989266                               0.0  ...   \n17361043                               0.0  ...   \n17934238                               1.0  ...   \n17361047                               1.0  ...   \n17687749                               1.0  ...   \n...                                    ...  ...   \n17887524                               1.0  ...   \n17882062                               1.0  ...   \n17933781                               0.0  ...   \n17933780                               1.0  ...   \n17920423                               0.0  ...   \n\n          home_team_history_target_3_1.0  away_team_history_target_3_-1.0  \\\nid                                                                          \n11989266                               1                                1   \n17361043                               0                                0   \n17934238                               0                                0   \n17361047                               1                                0   \n17687749                               0                                0   \n...                                  ...                              ...   \n17887524                               0                                0   \n17882062                               1                                1   \n17933781                               0                                0   \n17933780                               1                                1   \n17920423                               1                                0   \n\n          away_team_history_target_3_0.0  away_team_history_target_3_1.0  \\\nid                                                                         \n11989266                               0                               0   \n17361043                               0                               1   \n17934238                               0                               1   \n17361047                               0                               1   \n17687749                               1                               0   \n...                                  ...                             ...   \n17887524                               0                               1   \n17882062                               0                               0   \n17933781                               0                               1   \n17933780                               0                               0   \n17920423                               1                               0   \n\n          home_team_history_target_4_-1.0  home_team_history_target_4_0.0  \\\nid                                                                          \n11989266                                0                               0   \n17361043                                0                               0   \n17934238                                0                               0   \n17361047                                1                               0   \n17687749                                0                               0   \n...                                   ...                             ...   \n17887524                                1                               0   \n17882062                                0                               0   \n17933781                                0                               0   \n17933780                                0                               0   \n17920423                                0                               0   \n\n          home_team_history_target_4_1.0  away_team_history_target_4_-1.0  \\\nid                                                                          \n11989266                               1                                1   \n17361043                               1                                1   \n17934238                               1                                0   \n17361047                               0                                0   \n17687749                               1                                0   \n...                                  ...                              ...   \n17887524                               0                                0   \n17882062                               1                                1   \n17933781                               1                                0   \n17933780                               1                                0   \n17920423                               1                                1   \n\n          away_team_history_target_4_0.0  away_team_history_target_4_1.0  \nid                                                                        \n11989266                               0                               0  \n17361043                               0                               0  \n17934238                               0                               1  \n17361047                               0                               1  \n17687749                               0                               1  \n...                                  ...                             ...  \n17887524                               0                               1  \n17882062                               0                               0  \n17933781                               1                               0  \n17933780                               0                               1  \n17920423                               0                               0  \n\n[102912 rows x 104 columns]",
      "text/html": "<div>\n<style scoped>\n    .dataframe tbody tr th:only-of-type {\n        vertical-align: middle;\n    }\n\n    .dataframe tbody tr th {\n        vertical-align: top;\n    }\n\n    .dataframe thead th {\n        text-align: right;\n    }\n</style>\n<table border=\"1\" class=\"dataframe\">\n  <thead>\n    <tr style=\"text-align: right;\">\n      <th></th>\n      <th>target</th>\n      <th>is_cup</th>\n      <th>home_team_history_match_date_1</th>\n      <th>home_team_history_match_date_2</th>\n      <th>home_team_history_match_date_3</th>\n      <th>home_team_history_match_date_4</th>\n      <th>home_team_history_is_play_home_1</th>\n      <th>home_team_history_is_play_home_2</th>\n      <th>home_team_history_is_play_home_3</th>\n      <th>home_team_history_is_play_home_4</th>\n      <th>...</th>\n      <th>home_team_history_target_3_1.0</th>\n      <th>away_team_history_target_3_-1.0</th>\n      <th>away_team_history_target_3_0.0</th>\n      <th>away_team_history_target_3_1.0</th>\n      <th>home_team_history_target_4_-1.0</th>\n      <th>home_team_history_target_4_0.0</th>\n      <th>home_team_history_target_4_1.0</th>\n      <th>away_team_history_target_4_-1.0</th>\n      <th>away_team_history_target_4_0.0</th>\n      <th>away_team_history_target_4_1.0</th>\n    </tr>\n    <tr>\n      <th>id</th>\n      <th></th>\n      <th></th>\n      <th></th>\n      <th></th>\n      <th></th>\n      <th></th>\n      <th></th>\n      <th></th>\n      <th></th>\n      <th></th>\n      <th></th>\n      <th></th>\n      <th></th>\n      <th></th>\n      <th></th>\n      <th></th>\n      <th></th>\n      <th></th>\n      <th></th>\n      <th></th>\n      <th></th>\n    </tr>\n  </thead>\n  <tbody>\n    <tr>\n      <th>11989266</th>\n      <td>home</td>\n      <td>1</td>\n      <td>77</td>\n      <td>144</td>\n      <td>189</td>\n      <td>69</td>\n      <td>0.0</td>\n      <td>1.0</td>\n      <td>0.0</td>\n      <td>0.0</td>\n      <td>...</td>\n      <td>1</td>\n      <td>1</td>\n      <td>0</td>\n      <td>0</td>\n      <td>0</td>\n      <td>0</td>\n      <td>1</td>\n      <td>1</td>\n      <td>0</td>\n      <td>0</td>\n    </tr>\n    <tr>\n      <th>17361043</th>\n      <td>away</td>\n      <td>1</td>\n      <td>456</td>\n      <td>72</td>\n      <td>168</td>\n      <td>77</td>\n      <td>0.0</td>\n      <td>0.0</td>\n      <td>1.0</td>\n      <td>0.0</td>\n      <td>...</td>\n      <td>0</td>\n      <td>0</td>\n      <td>0</td>\n      <td>1</td>\n      <td>0</td>\n      <td>0</td>\n      <td>1</td>\n      <td>1</td>\n      <td>0</td>\n      <td>0</td>\n    </tr>\n    <tr>\n      <th>17934238</th>\n      <td>away</td>\n      <td>1</td>\n      <td>74</td>\n      <td>69</td>\n      <td>103</td>\n      <td>310</td>\n      <td>0.0</td>\n      <td>0.0</td>\n      <td>1.0</td>\n      <td>1.0</td>\n      <td>...</td>\n      <td>0</td>\n      <td>0</td>\n      <td>0</td>\n      <td>1</td>\n      <td>0</td>\n      <td>0</td>\n      <td>1</td>\n      <td>0</td>\n      <td>0</td>\n      <td>1</td>\n    </tr>\n    <tr>\n      <th>17361047</th>\n      <td>away</td>\n      <td>1</td>\n      <td>98</td>\n      <td>93</td>\n      <td>74</td>\n      <td>71</td>\n      <td>1.0</td>\n      <td>0.0</td>\n      <td>0.0</td>\n      <td>1.0</td>\n      <td>...</td>\n      <td>1</td>\n      <td>0</td>\n      <td>0</td>\n      <td>1</td>\n      <td>1</td>\n      <td>0</td>\n      <td>0</td>\n      <td>0</td>\n      <td>0</td>\n      <td>1</td>\n    </tr>\n    <tr>\n      <th>17687749</th>\n      <td>home</td>\n      <td>1</td>\n      <td>72</td>\n      <td>96</td>\n      <td>72</td>\n      <td>120</td>\n      <td>1.0</td>\n      <td>1.0</td>\n      <td>0.0</td>\n      <td>1.0</td>\n      <td>...</td>\n      <td>0</td>\n      <td>0</td>\n      <td>1</td>\n      <td>0</td>\n      <td>0</td>\n      <td>0</td>\n      <td>1</td>\n      <td>0</td>\n      <td>0</td>\n      <td>1</td>\n    </tr>\n    <tr>\n      <th>...</th>\n      <td>...</td>\n      <td>...</td>\n      <td>...</td>\n      <td>...</td>\n      <td>...</td>\n      <td>...</td>\n      <td>...</td>\n      <td>...</td>\n      <td>...</td>\n      <td>...</td>\n      <td>...</td>\n      <td>...</td>\n      <td>...</td>\n      <td>...</td>\n      <td>...</td>\n      <td>...</td>\n      <td>...</td>\n      <td>...</td>\n      <td>...</td>\n      <td>...</td>\n      <td>...</td>\n    </tr>\n    <tr>\n      <th>17887524</th>\n      <td>home</td>\n      <td>1</td>\n      <td>168</td>\n      <td>167</td>\n      <td>88</td>\n      <td>79</td>\n      <td>1.0</td>\n      <td>0.0</td>\n      <td>0.0</td>\n      <td>1.0</td>\n      <td>...</td>\n      <td>0</td>\n      <td>0</td>\n      <td>0</td>\n      <td>1</td>\n      <td>1</td>\n      <td>0</td>\n      <td>0</td>\n      <td>0</td>\n      <td>0</td>\n      <td>1</td>\n    </tr>\n    <tr>\n      <th>17882062</th>\n      <td>draw</td>\n      <td>1</td>\n      <td>547</td>\n      <td>1344</td>\n      <td>463</td>\n      <td>165</td>\n      <td>1.0</td>\n      <td>0.0</td>\n      <td>1.0</td>\n      <td>1.0</td>\n      <td>...</td>\n      <td>1</td>\n      <td>1</td>\n      <td>0</td>\n      <td>0</td>\n      <td>0</td>\n      <td>0</td>\n      <td>1</td>\n      <td>1</td>\n      <td>0</td>\n      <td>0</td>\n    </tr>\n    <tr>\n      <th>17933781</th>\n      <td>away</td>\n      <td>1</td>\n      <td>98</td>\n      <td>69</td>\n      <td>74</td>\n      <td>141</td>\n      <td>0.0</td>\n      <td>0.0</td>\n      <td>1.0</td>\n      <td>0.0</td>\n      <td>...</td>\n      <td>0</td>\n      <td>0</td>\n      <td>0</td>\n      <td>1</td>\n      <td>0</td>\n      <td>0</td>\n      <td>1</td>\n      <td>0</td>\n      <td>1</td>\n      <td>0</td>\n    </tr>\n    <tr>\n      <th>17933780</th>\n      <td>home</td>\n      <td>1</td>\n      <td>96</td>\n      <td>72</td>\n      <td>72</td>\n      <td>72</td>\n      <td>1.0</td>\n      <td>1.0</td>\n      <td>0.0</td>\n      <td>1.0</td>\n      <td>...</td>\n      <td>1</td>\n      <td>1</td>\n      <td>0</td>\n      <td>0</td>\n      <td>0</td>\n      <td>0</td>\n      <td>1</td>\n      <td>0</td>\n      <td>0</td>\n      <td>1</td>\n    </tr>\n    <tr>\n      <th>17920423</th>\n      <td>draw</td>\n      <td>1</td>\n      <td>72</td>\n      <td>72</td>\n      <td>69</td>\n      <td>72</td>\n      <td>1.0</td>\n      <td>1.0</td>\n      <td>0.0</td>\n      <td>0.0</td>\n      <td>...</td>\n      <td>1</td>\n      <td>0</td>\n      <td>1</td>\n      <td>0</td>\n      <td>0</td>\n      <td>0</td>\n      <td>1</td>\n      <td>1</td>\n      <td>0</td>\n      <td>0</td>\n    </tr>\n  </tbody>\n</table>\n<p>102912 rows × 104 columns</p>\n</div>"
     },
     "execution_count": 8,
     "metadata": {},
     "output_type": "execute_result"
    }
   ],
   "source": [
    "train_org = pd.read_csv('data/train.csv')\n",
    "train, league_mean_ratting_all, teams_ratting_all = get_prepared_data(train_org,number_of_history_matches=4,map_target=False)\n",
    "\n",
    "test_org = pd.read_csv('data/test.csv')\n",
    "test,_,_ = get_prepared_data(test_org, 4,league_mean_ratting_all, teams_ratting_all,map_target=False)\n"
   ],
   "metadata": {
    "collapsed": false,
    "pycharm": {
     "name": "#%%\n"
    }
   }
  },
  {
   "cell_type": "code",
   "execution_count": 9,
   "outputs": [
    {
     "data": {
      "text/plain": "Index(['target', 'is_cup', 'home_team_history_match_date_1',\n       'home_team_history_match_date_2', 'home_team_history_match_date_3',\n       'home_team_history_match_date_4', 'home_team_history_is_play_home_1',\n       'home_team_history_is_play_home_2', 'home_team_history_is_play_home_3',\n       'home_team_history_is_play_home_4',\n       ...\n       'home_team_history_target_3_1.0', 'away_team_history_target_3_-1.0',\n       'away_team_history_target_3_0.0', 'away_team_history_target_3_1.0',\n       'home_team_history_target_4_-1.0', 'home_team_history_target_4_0.0',\n       'home_team_history_target_4_1.0', 'away_team_history_target_4_-1.0',\n       'away_team_history_target_4_0.0', 'away_team_history_target_4_1.0'],\n      dtype='object', length=104)"
     },
     "execution_count": 9,
     "metadata": {},
     "output_type": "execute_result"
    }
   ],
   "source": [
    "train.columns\n",
    "normalizer = tf.keras.layers.Normalization(axis=-1)\n",
    "normalizer.adapt(np.array(train_features))\n"
   ],
   "metadata": {
    "collapsed": false,
    "pycharm": {
     "name": "#%%\n"
    }
   }
  },
  {
   "cell_type": "code",
   "execution_count": 3,
   "outputs": [],
   "source": [
    "def build_and_compile_model(norm,n_neurons, dropout, learning_rate):\n",
    "    model = tf.keras.Sequential([\n",
    "    norm,\n",
    "    tf.keras.layers.Dense(n_neurons, activation= tf.keras.activations.relu),\n",
    "    # tf.keras.layers.Dropout(dropout),\n",
    "\n",
    "    tf.keras.layers.Dense(n_neurons, activation= tf.keras.activations.relu),\n",
    "\n",
    "    tf.keras.layers.Dense(3)\n",
    "\n",
    "    # tf.keras.layers.Dense(3,activation= tf.keras.activations.softmax)\n",
    "    ])\n",
    "    model.compile(optimizer=tf.keras.optimizers.Adam(learning_rate),\n",
    "              loss=tf.keras.losses.SparseCategoricalCrossentropy(from_logits=True),\n",
    "              # loss=tf.keras.losses.SparseCategoricalCrossentropy(),\n",
    "\n",
    "              metrics=['accuracy'])\n",
    "\n",
    "    return model"
   ],
   "metadata": {
    "collapsed": false,
    "pycharm": {
     "name": "#%%\n"
    }
   }
  },
  {
   "cell_type": "code",
   "execution_count": 4,
   "outputs": [
    {
     "name": "stderr",
     "output_type": "stream",
     "text": [
      "2022-05-06 16:41:20.981810: W tensorflow/stream_executor/platform/default/dso_loader.cc:64] Could not load dynamic library 'libcuda.so.1'; dlerror: libcuda.so.1: cannot open shared object file: No such file or directory\n",
      "2022-05-06 16:41:20.981834: W tensorflow/stream_executor/cuda/cuda_driver.cc:269] failed call to cuInit: UNKNOWN ERROR (303)\n",
      "2022-05-06 16:41:20.981849: I tensorflow/stream_executor/cuda/cuda_diagnostics.cc:156] kernel driver does not appear to be running on this host (Zenon): /proc/driver/nvidia/version does not exist\n",
      "2022-05-06 16:41:20.982033: I tensorflow/core/platform/cpu_feature_guard.cc:151] This TensorFlow binary is optimized with oneAPI Deep Neural Network Library (oneDNN) to use the following CPU instructions in performance-critical operations:  AVX2 FMA\n",
      "To enable them in other operations, rebuild TensorFlow with the appropriate compiler flags.\n"
     ]
    },
    {
     "name": "stdout",
     "output_type": "stream",
     "text": [
      "Epoch 1/3\n",
      "3216/3216 [==============================] - 4s 1ms/step - loss: 1.0238 - accuracy: 0.4875\n",
      "Epoch 2/3\n",
      "3216/3216 [==============================] - 4s 1ms/step - loss: 1.0065 - accuracy: 0.5006\n",
      "Epoch 3/3\n",
      "3216/3216 [==============================] - 3s 1ms/step - loss: 1.0033 - accuracy: 0.5025\n"
     ]
    }
   ],
   "source": [
    "\n",
    "from prepared_data.train_model import callbacks\n",
    "\n",
    "n_neurons = 10\n",
    "dropout = 0.0\n",
    "learning_rate = 0.001\n",
    "batch_size = None\n",
    "\n",
    "train_features, target = split_features_target_and_map_target(train)\n",
    "\n",
    "normalizer = tf.keras.layers.Normalization(axis=-1)\n",
    "normalizer.adapt(np.array(train_features))\n",
    "\n",
    "dnn_model = build_and_compile_model(normalizer,n_neurons,dropout,learning_rate)\n",
    "\n",
    "model_full_name = 'logs/fit/dnn_model_h_4'\n",
    "\n",
    "early_stop, reduce_lr, tensorboard_callback, checkpoint_callback =   callbacks(model_full_name)\n",
    "\n",
    "history = dnn_model.fit(\n",
    "    train_features,\n",
    "    target,\n",
    "    verbose=1, epochs=3,\n",
    "   callbacks=[checkpoint_callback, tensorboard_callback],\n",
    ")\n",
    "\n"
   ],
   "metadata": {
    "collapsed": false,
    "pycharm": {
     "name": "#%%\n"
    }
   }
  },
  {
   "cell_type": "code",
   "execution_count": 7,
   "outputs": [
    {
     "data": {
      "text/plain": "array([[0.3694033 , 0.2659013 , 0.36469543],\n       [0.24921568, 0.20935705, 0.5414272 ],\n       [0.31836146, 0.24757883, 0.43405974],\n       ...,\n       [0.2964891 , 0.32590556, 0.37760538],\n       [0.21672882, 0.27920592, 0.50406533],\n       [0.27503297, 0.3136828 , 0.41128418]], dtype=float32)"
     },
     "execution_count": 7,
     "metadata": {},
     "output_type": "execute_result"
    }
   ],
   "source": [
    "\n",
    "probability_model = tf.keras.Sequential([dnn_model,\n",
    "                                         tf.keras.layers.Softmax()])\n",
    "\n",
    "\n",
    "test_result = probability_model.predict(test)\n",
    "test_result = result_predict_prob_to_dataFrame(test_result, test)\n"
   ],
   "metadata": {
    "collapsed": false,
    "pycharm": {
     "name": "#%%\n"
    }
   }
  },
  {
   "cell_type": "markdown",
   "source": [
    "Training for nan value"
   ],
   "metadata": {
    "collapsed": false,
    "pycharm": {
     "name": "#%% md\n"
    }
   }
  },
  {
   "cell_type": "code",
   "execution_count": 6,
   "outputs": [
    {
     "name": "stderr",
     "output_type": "stream",
     "text": [
      "/home/andrzej/PycharmProjects/Physionet_Challenge_2021/venv/lib/python3.9/site-packages/IPython/core/interactiveshell.py:3251: DtypeWarning: Columns (7) have mixed types.Specify dtype option on import or set low_memory=False.\n",
      "  exec(code_obj, self.user_global_ns, self.user_ns)\n"
     ]
    },
    {
     "name": "stdout",
     "output_type": "stream",
     "text": [
      "percent of object with nan value and orginals:  42.20, 100.000000\n",
      "remove history columns [2, 3, 4, 5, 6, 7, 8, 9, 10]\n",
      "percent of object with nan value and orginals:  26.12, 100.000000\n",
      "remove object with more that  col 50 % empty...\n",
      "percent of object with nan value and orginals:  26.12, 100.000000\n",
      "date to datetime type and remove nan date....\n",
      "percent of object with nan value and orginals:  24.78, 98.210712\n",
      "filna coach_id and change to is new coach\n",
      "percent of object with nan value and orginals:  0.09, 98.210712\n",
      "fill zero nan data\n",
      "percent of object with nan value and orginals:  0.00, 98.210712\n",
      "percent of object with nan value and orginals:  39.35, 100.000000\n",
      "remove history columns [2, 3, 4, 5, 6, 7, 8, 9, 10]\n",
      "percent of object with nan value and orginals:  33.03, 100.000000\n",
      "remove object with more that  col 50 % empty...\n",
      "percent of object with nan value and orginals:  33.03, 100.000000\n",
      "date to datetime type and remove nan date....\n",
      "percent of object with nan value and orginals:  32.21, 98.786979\n",
      "filna coach_id and change to is new coach\n",
      "percent of object with nan value and orginals:  0.05, 98.786979\n",
      "fill zero nan data\n",
      "percent of object with nan value and orginals:  0.00, 98.786979\n",
      "Number of not duplicate elements  9359\n"
     ]
    },
    {
     "data": {
      "text/plain": "          is_cup  home_team_history_match_date_1  \\\nid                                                 \n18395531       1                             388   \n18395534       1                              96   \n18395559       1                             101   \n18395595       1                              72   \n18395597       1                              76   \n...          ...                             ...   \n18433161       1                              74   \n18430451       1                              72   \n18433160       1                              78   \n18430453       1                              69   \n18447519       1                              74   \n\n          home_team_history_is_play_home_1  home_team_history_is_cup_1  \\\nid                                                                       \n18395531                               1.0                         0.0   \n18395534                               0.0                         0.0   \n18395559                               0.0                         0.0   \n18395595                               1.0                         0.0   \n18395597                               1.0                         0.0   \n...                                    ...                         ...   \n18433161                               0.0                         1.0   \n18430451                               1.0                         1.0   \n18433160                               0.0                         0.0   \n18430453                               0.0                         1.0   \n18447519                               0.0                         1.0   \n\n          home_team_history_goal_1  home_team_history_opponent_goal_1  \\\nid                                                                      \n18395531                       2.0                                1.0   \n18395534                       1.0                                2.0   \n18395559                       1.0                                3.0   \n18395595                       1.0                                0.0   \n18395597                       2.0                                2.0   \n...                            ...                                ...   \n18433161                       0.0                                3.0   \n18430451                       1.0                                0.0   \n18433160                       1.0                                4.0   \n18430453                       0.0                                0.0   \n18447519                       4.0                                0.0   \n\n          home_team_history_rating_1  home_team_history_opponent_rating_1  \\\nid                                                                          \n18395531                   11.078400                             3.724950   \n18395534                    6.489692                             4.418742   \n18395559                    6.168855                             5.675820   \n18395595                   10.392432                             3.526532   \n18395597                    9.860605                             3.190473   \n...                              ...                                  ...   \n18433161                    5.328017                            12.617483   \n18430451                    6.779631                            10.878485   \n18433160                    5.731083                            13.314733   \n18430453                    7.629958                             5.679331   \n18447519                   21.731536                             4.474055   \n\n          away_team_history_match_date_1  away_team_history_is_play_home_1  \\\nid                                                                           \n18395531                              74                               0.0   \n18395534                              77                               0.0   \n18395559                              98                               1.0   \n18395595                              95                               1.0   \n18395597                              77                               0.0   \n...                                  ...                               ...   \n18433161                            1317                               0.0   \n18430451                              69                               1.0   \n18433160                            5662                               1.0   \n18430453                              72                               1.0   \n18447519                              72                               1.0   \n\n          ...  away_team_history_gol_difference_1  \\\nid        ...                                       \n18395531  ...                                 3.0   \n18395534  ...                                 2.0   \n18395559  ...                                 2.0   \n18395595  ...                                 3.0   \n18395597  ...                                 0.0   \n...       ...                                 ...   \n18433161  ...                                 0.0   \n18430451  ...                                -4.0   \n18433160  ...                                -1.0   \n18430453  ...                                 2.0   \n18447519  ...                                 5.0   \n\n          away_team_mean_regeneration_time  league_id_ratting  \\\nid                                                              \n18395531                              74.0           6.801392   \n18395534                              77.0           6.801392   \n18395559                              98.0           6.801392   \n18395595                              95.0           6.801392   \n18395597                              77.0           6.801392   \n...                                    ...                ...   \n18433161                            1317.0           8.857095   \n18430451                              69.0           8.857095   \n18433160                            5662.0           8.857095   \n18430453                              72.0           8.857095   \n18447519                              72.0           8.857095   \n\n          sum_history_targets  home_team_history_target_1_-1.0  \\\nid                                                               \n18395531                  2.0                                0   \n18395534                  0.0                                1   \n18395559                  0.0                                1   \n18395595                  2.0                                0   \n18395597                  0.0                                0   \n...                       ...                              ...   \n18433161                 -1.0                                1   \n18430451                  0.0                                0   \n18433160                 -2.0                                1   \n18430453                  1.0                                0   \n18447519                  2.0                                0   \n\n          home_team_history_target_1_0.0  home_team_history_target_1_1.0  \\\nid                                                                         \n18395531                               0                               1   \n18395534                               0                               0   \n18395559                               0                               0   \n18395595                               0                               1   \n18395597                               1                               0   \n...                                  ...                             ...   \n18433161                               0                               0   \n18430451                               0                               1   \n18433160                               0                               0   \n18430453                               1                               0   \n18447519                               0                               1   \n\n          away_team_history_target_1_-1.0  away_team_history_target_1_0.0  \\\nid                                                                          \n18395531                                0                               0   \n18395534                                0                               0   \n18395559                                0                               0   \n18395595                                0                               0   \n18395597                                0                               1   \n...                                   ...                             ...   \n18433161                                0                               1   \n18430451                                1                               0   \n18433160                                1                               0   \n18430453                                0                               0   \n18447519                                0                               0   \n\n          away_team_history_target_1_1.0  \nid                                        \n18395531                               1  \n18395534                               1  \n18395559                               1  \n18395595                               1  \n18395597                               0  \n...                                  ...  \n18433161                               0  \n18430451                               0  \n18433160                               0  \n18430453                               1  \n18447519                               1  \n\n[9359 rows x 27 columns]",
      "text/html": "<div>\n<style scoped>\n    .dataframe tbody tr th:only-of-type {\n        vertical-align: middle;\n    }\n\n    .dataframe tbody tr th {\n        vertical-align: top;\n    }\n\n    .dataframe thead th {\n        text-align: right;\n    }\n</style>\n<table border=\"1\" class=\"dataframe\">\n  <thead>\n    <tr style=\"text-align: right;\">\n      <th></th>\n      <th>is_cup</th>\n      <th>home_team_history_match_date_1</th>\n      <th>home_team_history_is_play_home_1</th>\n      <th>home_team_history_is_cup_1</th>\n      <th>home_team_history_goal_1</th>\n      <th>home_team_history_opponent_goal_1</th>\n      <th>home_team_history_rating_1</th>\n      <th>home_team_history_opponent_rating_1</th>\n      <th>away_team_history_match_date_1</th>\n      <th>away_team_history_is_play_home_1</th>\n      <th>...</th>\n      <th>away_team_history_gol_difference_1</th>\n      <th>away_team_mean_regeneration_time</th>\n      <th>league_id_ratting</th>\n      <th>sum_history_targets</th>\n      <th>home_team_history_target_1_-1.0</th>\n      <th>home_team_history_target_1_0.0</th>\n      <th>home_team_history_target_1_1.0</th>\n      <th>away_team_history_target_1_-1.0</th>\n      <th>away_team_history_target_1_0.0</th>\n      <th>away_team_history_target_1_1.0</th>\n    </tr>\n    <tr>\n      <th>id</th>\n      <th></th>\n      <th></th>\n      <th></th>\n      <th></th>\n      <th></th>\n      <th></th>\n      <th></th>\n      <th></th>\n      <th></th>\n      <th></th>\n      <th></th>\n      <th></th>\n      <th></th>\n      <th></th>\n      <th></th>\n      <th></th>\n      <th></th>\n      <th></th>\n      <th></th>\n      <th></th>\n      <th></th>\n    </tr>\n  </thead>\n  <tbody>\n    <tr>\n      <th>18395531</th>\n      <td>1</td>\n      <td>388</td>\n      <td>1.0</td>\n      <td>0.0</td>\n      <td>2.0</td>\n      <td>1.0</td>\n      <td>11.078400</td>\n      <td>3.724950</td>\n      <td>74</td>\n      <td>0.0</td>\n      <td>...</td>\n      <td>3.0</td>\n      <td>74.0</td>\n      <td>6.801392</td>\n      <td>2.0</td>\n      <td>0</td>\n      <td>0</td>\n      <td>1</td>\n      <td>0</td>\n      <td>0</td>\n      <td>1</td>\n    </tr>\n    <tr>\n      <th>18395534</th>\n      <td>1</td>\n      <td>96</td>\n      <td>0.0</td>\n      <td>0.0</td>\n      <td>1.0</td>\n      <td>2.0</td>\n      <td>6.489692</td>\n      <td>4.418742</td>\n      <td>77</td>\n      <td>0.0</td>\n      <td>...</td>\n      <td>2.0</td>\n      <td>77.0</td>\n      <td>6.801392</td>\n      <td>0.0</td>\n      <td>1</td>\n      <td>0</td>\n      <td>0</td>\n      <td>0</td>\n      <td>0</td>\n      <td>1</td>\n    </tr>\n    <tr>\n      <th>18395559</th>\n      <td>1</td>\n      <td>101</td>\n      <td>0.0</td>\n      <td>0.0</td>\n      <td>1.0</td>\n      <td>3.0</td>\n      <td>6.168855</td>\n      <td>5.675820</td>\n      <td>98</td>\n      <td>1.0</td>\n      <td>...</td>\n      <td>2.0</td>\n      <td>98.0</td>\n      <td>6.801392</td>\n      <td>0.0</td>\n      <td>1</td>\n      <td>0</td>\n      <td>0</td>\n      <td>0</td>\n      <td>0</td>\n      <td>1</td>\n    </tr>\n    <tr>\n      <th>18395595</th>\n      <td>1</td>\n      <td>72</td>\n      <td>1.0</td>\n      <td>0.0</td>\n      <td>1.0</td>\n      <td>0.0</td>\n      <td>10.392432</td>\n      <td>3.526532</td>\n      <td>95</td>\n      <td>1.0</td>\n      <td>...</td>\n      <td>3.0</td>\n      <td>95.0</td>\n      <td>6.801392</td>\n      <td>2.0</td>\n      <td>0</td>\n      <td>0</td>\n      <td>1</td>\n      <td>0</td>\n      <td>0</td>\n      <td>1</td>\n    </tr>\n    <tr>\n      <th>18395597</th>\n      <td>1</td>\n      <td>76</td>\n      <td>1.0</td>\n      <td>0.0</td>\n      <td>2.0</td>\n      <td>2.0</td>\n      <td>9.860605</td>\n      <td>3.190473</td>\n      <td>77</td>\n      <td>0.0</td>\n      <td>...</td>\n      <td>0.0</td>\n      <td>77.0</td>\n      <td>6.801392</td>\n      <td>0.0</td>\n      <td>0</td>\n      <td>1</td>\n      <td>0</td>\n      <td>0</td>\n      <td>1</td>\n      <td>0</td>\n    </tr>\n    <tr>\n      <th>...</th>\n      <td>...</td>\n      <td>...</td>\n      <td>...</td>\n      <td>...</td>\n      <td>...</td>\n      <td>...</td>\n      <td>...</td>\n      <td>...</td>\n      <td>...</td>\n      <td>...</td>\n      <td>...</td>\n      <td>...</td>\n      <td>...</td>\n      <td>...</td>\n      <td>...</td>\n      <td>...</td>\n      <td>...</td>\n      <td>...</td>\n      <td>...</td>\n      <td>...</td>\n      <td>...</td>\n    </tr>\n    <tr>\n      <th>18433161</th>\n      <td>1</td>\n      <td>74</td>\n      <td>0.0</td>\n      <td>1.0</td>\n      <td>0.0</td>\n      <td>3.0</td>\n      <td>5.328017</td>\n      <td>12.617483</td>\n      <td>1317</td>\n      <td>0.0</td>\n      <td>...</td>\n      <td>0.0</td>\n      <td>1317.0</td>\n      <td>8.857095</td>\n      <td>-1.0</td>\n      <td>1</td>\n      <td>0</td>\n      <td>0</td>\n      <td>0</td>\n      <td>1</td>\n      <td>0</td>\n    </tr>\n    <tr>\n      <th>18430451</th>\n      <td>1</td>\n      <td>72</td>\n      <td>1.0</td>\n      <td>1.0</td>\n      <td>1.0</td>\n      <td>0.0</td>\n      <td>6.779631</td>\n      <td>10.878485</td>\n      <td>69</td>\n      <td>1.0</td>\n      <td>...</td>\n      <td>-4.0</td>\n      <td>69.0</td>\n      <td>8.857095</td>\n      <td>0.0</td>\n      <td>0</td>\n      <td>0</td>\n      <td>1</td>\n      <td>1</td>\n      <td>0</td>\n      <td>0</td>\n    </tr>\n    <tr>\n      <th>18433160</th>\n      <td>1</td>\n      <td>78</td>\n      <td>0.0</td>\n      <td>0.0</td>\n      <td>1.0</td>\n      <td>4.0</td>\n      <td>5.731083</td>\n      <td>13.314733</td>\n      <td>5662</td>\n      <td>1.0</td>\n      <td>...</td>\n      <td>-1.0</td>\n      <td>5662.0</td>\n      <td>8.857095</td>\n      <td>-2.0</td>\n      <td>1</td>\n      <td>0</td>\n      <td>0</td>\n      <td>1</td>\n      <td>0</td>\n      <td>0</td>\n    </tr>\n    <tr>\n      <th>18430453</th>\n      <td>1</td>\n      <td>69</td>\n      <td>0.0</td>\n      <td>1.0</td>\n      <td>0.0</td>\n      <td>0.0</td>\n      <td>7.629958</td>\n      <td>5.679331</td>\n      <td>72</td>\n      <td>1.0</td>\n      <td>...</td>\n      <td>2.0</td>\n      <td>72.0</td>\n      <td>8.857095</td>\n      <td>1.0</td>\n      <td>0</td>\n      <td>1</td>\n      <td>0</td>\n      <td>0</td>\n      <td>0</td>\n      <td>1</td>\n    </tr>\n    <tr>\n      <th>18447519</th>\n      <td>1</td>\n      <td>74</td>\n      <td>0.0</td>\n      <td>1.0</td>\n      <td>4.0</td>\n      <td>0.0</td>\n      <td>21.731536</td>\n      <td>4.474055</td>\n      <td>72</td>\n      <td>1.0</td>\n      <td>...</td>\n      <td>5.0</td>\n      <td>72.0</td>\n      <td>8.857095</td>\n      <td>2.0</td>\n      <td>0</td>\n      <td>0</td>\n      <td>1</td>\n      <td>0</td>\n      <td>0</td>\n      <td>1</td>\n    </tr>\n  </tbody>\n</table>\n<p>9359 rows × 27 columns</p>\n</div>"
     },
     "execution_count": 6,
     "metadata": {},
     "output_type": "execute_result"
    }
   ],
   "source": [
    "train_org = pd.read_csv('data/train.csv')\n",
    "train,_,_ = get_prepared_data(train_org, number_of_history_matches=1)\n",
    "test_org = pd.read_csv('data/test.csv')\n",
    "test_history_1,_,_ = get_prepared_data(test_org, number_of_history_matches=1,league_mean_ratting_all=league_mean_ratting_all,teams_mean_ratting_all= teams_ratting_all)\n",
    "test_history_1 = not_duplicate_elements_in_dataframes(test_history_1.reset_index(), test)\n",
    "test_history_1"
   ],
   "metadata": {
    "collapsed": false,
    "pycharm": {
     "name": "#%%\n"
    }
   }
  },
  {
   "cell_type": "code",
   "execution_count": 7,
   "outputs": [
    {
     "data": {
      "text/plain": "Pipeline(steps=[('minmaxscaler', MinMaxScaler()),\n                ('logisticregression',\n                 LogisticRegression(max_iter=1000, multi_class='ovr', n_jobs=-1,\n                                    random_state=0))])"
     },
     "execution_count": 7,
     "metadata": {},
     "output_type": "execute_result"
    }
   ],
   "source": [
    "target = train['target']\n",
    "X_train_org = train.drop('target', axis=1)\n",
    "pipe = make_pipeline(MinMaxScaler(),\n",
    "                     LogisticRegression(random_state=0, solver='lbfgs', multi_class='ovr', max_iter=1000, n_jobs=-1))\n",
    "pipe.fit(X_train_org, target)"
   ],
   "metadata": {
    "collapsed": false,
    "pycharm": {
     "name": "#%%\n"
    }
   }
  },
  {
   "cell_type": "code",
   "execution_count": 8,
   "outputs": [
    {
     "data": {
      "text/plain": "            id      away      draw      home\n0     18395531  0.326631  0.217357  0.456012\n1     18395534  0.401950  0.226799  0.371251\n2     18395559  0.419427  0.221510  0.359063\n3     18395595  0.445531  0.223663  0.330806\n4     18395597  0.327524  0.222984  0.449493\n...        ...       ...       ...       ...\n9354  18433161  0.466112  0.162647  0.371241\n9355  18430451  0.236442  0.135125  0.628432\n9356  18433160  0.412746  0.161971  0.425283\n9357  18430453  0.476034  0.162803  0.361163\n9358  18447519  0.379877  0.116287  0.503836\n\n[9359 rows x 4 columns]",
      "text/html": "<div>\n<style scoped>\n    .dataframe tbody tr th:only-of-type {\n        vertical-align: middle;\n    }\n\n    .dataframe tbody tr th {\n        vertical-align: top;\n    }\n\n    .dataframe thead th {\n        text-align: right;\n    }\n</style>\n<table border=\"1\" class=\"dataframe\">\n  <thead>\n    <tr style=\"text-align: right;\">\n      <th></th>\n      <th>id</th>\n      <th>away</th>\n      <th>draw</th>\n      <th>home</th>\n    </tr>\n  </thead>\n  <tbody>\n    <tr>\n      <th>0</th>\n      <td>18395531</td>\n      <td>0.326631</td>\n      <td>0.217357</td>\n      <td>0.456012</td>\n    </tr>\n    <tr>\n      <th>1</th>\n      <td>18395534</td>\n      <td>0.401950</td>\n      <td>0.226799</td>\n      <td>0.371251</td>\n    </tr>\n    <tr>\n      <th>2</th>\n      <td>18395559</td>\n      <td>0.419427</td>\n      <td>0.221510</td>\n      <td>0.359063</td>\n    </tr>\n    <tr>\n      <th>3</th>\n      <td>18395595</td>\n      <td>0.445531</td>\n      <td>0.223663</td>\n      <td>0.330806</td>\n    </tr>\n    <tr>\n      <th>4</th>\n      <td>18395597</td>\n      <td>0.327524</td>\n      <td>0.222984</td>\n      <td>0.449493</td>\n    </tr>\n    <tr>\n      <th>...</th>\n      <td>...</td>\n      <td>...</td>\n      <td>...</td>\n      <td>...</td>\n    </tr>\n    <tr>\n      <th>9354</th>\n      <td>18433161</td>\n      <td>0.466112</td>\n      <td>0.162647</td>\n      <td>0.371241</td>\n    </tr>\n    <tr>\n      <th>9355</th>\n      <td>18430451</td>\n      <td>0.236442</td>\n      <td>0.135125</td>\n      <td>0.628432</td>\n    </tr>\n    <tr>\n      <th>9356</th>\n      <td>18433160</td>\n      <td>0.412746</td>\n      <td>0.161971</td>\n      <td>0.425283</td>\n    </tr>\n    <tr>\n      <th>9357</th>\n      <td>18430453</td>\n      <td>0.476034</td>\n      <td>0.162803</td>\n      <td>0.361163</td>\n    </tr>\n    <tr>\n      <th>9358</th>\n      <td>18447519</td>\n      <td>0.379877</td>\n      <td>0.116287</td>\n      <td>0.503836</td>\n    </tr>\n  </tbody>\n</table>\n<p>9359 rows × 4 columns</p>\n</div>"
     },
     "execution_count": 8,
     "metadata": {},
     "output_type": "execute_result"
    }
   ],
   "source": [
    "test_result_history_1 = pipe.predict_proba(test_history_1)\n",
    "test_result_history_1 = result_predict_prob_to_dataFrame(test_result_history_1, test_history_1)\n",
    "test_result_history_1"
   ],
   "metadata": {
    "collapsed": false,
    "pycharm": {
     "name": "#%%\n"
    }
   }
  },
  {
   "cell_type": "code",
   "execution_count": 9,
   "outputs": [
    {
     "data": {
      "text/plain": "             id      away      draw      home\n0      18395531  0.326631  0.217357  0.456012\n1      18395534  0.401950  0.226799  0.371251\n2      18395559  0.419427  0.221510  0.359063\n3      18395595  0.445531  0.223663  0.330806\n4      18395597  0.327524  0.222984  0.449493\n...         ...       ...       ...       ...\n68358  18125501  0.225129  0.272082  0.502789\n68359  18070396  0.361701  0.333688  0.304611\n68360  18094517  0.328333  0.310938  0.360729\n68361  18163535  0.313334  0.295313  0.391354\n68362  18109903  0.245155  0.318257  0.436587\n\n[68363 rows x 4 columns]",
      "text/html": "<div>\n<style scoped>\n    .dataframe tbody tr th:only-of-type {\n        vertical-align: middle;\n    }\n\n    .dataframe tbody tr th {\n        vertical-align: top;\n    }\n\n    .dataframe thead th {\n        text-align: right;\n    }\n</style>\n<table border=\"1\" class=\"dataframe\">\n  <thead>\n    <tr style=\"text-align: right;\">\n      <th></th>\n      <th>id</th>\n      <th>away</th>\n      <th>draw</th>\n      <th>home</th>\n    </tr>\n  </thead>\n  <tbody>\n    <tr>\n      <th>0</th>\n      <td>18395531</td>\n      <td>0.326631</td>\n      <td>0.217357</td>\n      <td>0.456012</td>\n    </tr>\n    <tr>\n      <th>1</th>\n      <td>18395534</td>\n      <td>0.401950</td>\n      <td>0.226799</td>\n      <td>0.371251</td>\n    </tr>\n    <tr>\n      <th>2</th>\n      <td>18395559</td>\n      <td>0.419427</td>\n      <td>0.221510</td>\n      <td>0.359063</td>\n    </tr>\n    <tr>\n      <th>3</th>\n      <td>18395595</td>\n      <td>0.445531</td>\n      <td>0.223663</td>\n      <td>0.330806</td>\n    </tr>\n    <tr>\n      <th>4</th>\n      <td>18395597</td>\n      <td>0.327524</td>\n      <td>0.222984</td>\n      <td>0.449493</td>\n    </tr>\n    <tr>\n      <th>...</th>\n      <td>...</td>\n      <td>...</td>\n      <td>...</td>\n      <td>...</td>\n    </tr>\n    <tr>\n      <th>68358</th>\n      <td>18125501</td>\n      <td>0.225129</td>\n      <td>0.272082</td>\n      <td>0.502789</td>\n    </tr>\n    <tr>\n      <th>68359</th>\n      <td>18070396</td>\n      <td>0.361701</td>\n      <td>0.333688</td>\n      <td>0.304611</td>\n    </tr>\n    <tr>\n      <th>68360</th>\n      <td>18094517</td>\n      <td>0.328333</td>\n      <td>0.310938</td>\n      <td>0.360729</td>\n    </tr>\n    <tr>\n      <th>68361</th>\n      <td>18163535</td>\n      <td>0.313334</td>\n      <td>0.295313</td>\n      <td>0.391354</td>\n    </tr>\n    <tr>\n      <th>68362</th>\n      <td>18109903</td>\n      <td>0.245155</td>\n      <td>0.318257</td>\n      <td>0.436587</td>\n    </tr>\n  </tbody>\n</table>\n<p>68363 rows × 4 columns</p>\n</div>"
     },
     "execution_count": 9,
     "metadata": {},
     "output_type": "execute_result"
    }
   ],
   "source": [
    "from prepared_data.prepared_test_results import append_test_results\n",
    "\n",
    "test_result_learn = append_test_results(test_result_history_1, test_result)\n",
    "test_result_learn"
   ],
   "metadata": {
    "collapsed": false,
    "pycharm": {
     "name": "#%%\n"
    }
   }
  },
  {
   "cell_type": "code",
   "execution_count": 10,
   "outputs": [
    {
     "name": "stdout",
     "output_type": "stream",
     "text": [
      "Number of not duplicate elements  4348\n"
     ]
    },
    {
     "data": {
      "text/plain": "True"
     },
     "execution_count": 10,
     "metadata": {},
     "output_type": "execute_result"
    }
   ],
   "source": [
    "from prepared_data.prepared_test_results import completed_test_result_and_save\n",
    "\n",
    "result_all = completed_test_result_and_save(test_org, test_result_learn, 'logist_regression_history_8_+_1')\n",
    "result_all.shape[0]  == test_org.shape[0]\n"
   ],
   "metadata": {
    "collapsed": false,
    "pycharm": {
     "name": "#%%\n"
    }
   }
  }
 ],
 "metadata": {
  "kernelspec": {
   "display_name": "Python 3",
   "language": "python",
   "name": "python3"
  },
  "language_info": {
   "codemirror_mode": {
    "name": "ipython",
    "version": 2
   },
   "file_extension": ".py",
   "mimetype": "text/x-python",
   "name": "python",
   "nbconvert_exporter": "python",
   "pygments_lexer": "ipython2",
   "version": "2.7.6"
  }
 },
 "nbformat": 4,
 "nbformat_minor": 0
}