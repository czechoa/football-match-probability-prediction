{
 "cells": [
  {
   "cell_type": "code",
   "execution_count": 1,
   "metadata": {
    "collapsed": false,
    "pycharm": {
     "name": "#%%\n"
    }
   },
   "outputs": [],
   "source": [
    "from completed_missing_data import completed_missing_data, convert_historical_date_to_date_difference, remove_described_col, map_target\n",
    "import pandas as pd\n",
    "import numpy as np\n"
   ]
  },
  {
   "cell_type": "code",
   "execution_count": 2,
   "metadata": {
    "collapsed": true
   },
   "outputs": [
    {
     "name": "stderr",
     "output_type": "stream",
     "text": [
      "/home/andrzej/PycharmProjects/Physionet_Challenge_2021/venv/lib/python3.9/site-packages/IPython/core/interactiveshell.py:3251: DtypeWarning: Columns (7) have mixed types.Specify dtype option on import or set low_memory=False.\n",
      "  exec(code_obj, self.user_global_ns, self.user_ns)\n"
     ]
    },
    {
     "name": "stdout",
     "output_type": "stream",
     "text": [
      "correction col type..\n",
      "percent of object with nan value:  42.20\n",
      "remove coach columns..\n",
      "percent of object with nan value:  18.64\n",
      "remove object with more that  col 80 empty...\n",
      "percent of object with nan value:  18.64\n",
      "remove 9 and 10 day historii\n",
      "percent of object with nan value:  15.11\n",
      "remove all nan data\n",
      "percent of object with nan value:  15.11\n"
     ]
    }
   ],
   "source": [
    "train_org = pd.read_csv('data/train.csv')\n",
    "train = completed_missing_data(train_org)\n",
    "train = convert_historical_date_to_date_difference(train)\n",
    "train = map_target(train)\n"
   ]
  },
  {
   "cell_type": "code",
   "execution_count": 3,
   "metadata": {
    "collapsed": false,
    "pycharm": {
     "name": "#%%\n"
    }
   },
   "outputs": [
    {
     "name": "stdout",
     "output_type": "stream",
     "text": [
      "correction col type..\n",
      "percent of object with nan value:  39.35\n",
      "remove coach columns..\n",
      "percent of object with nan value:  13.93\n",
      "remove object with more that  col 80 empty...\n",
      "percent of object with nan value:  13.93\n",
      "remove 9 and 10 day historii\n",
      "percent of object with nan value:  11.15\n",
      "remove all nan data\n",
      "percent of object with nan value:  11.15\n"
     ]
    },
    {
     "data": {
      "text/plain": "       is_cup  home_team_history_match_date_1  home_team_history_match_date_2  \\\n0           0                              71                              97   \n1           0                             166                             169   \n3           0                              48                              98   \n4           0                              48                              98   \n5           0                              48                              98   \n...       ...                             ...                             ...   \n72706       0                             145                             163   \n72707       0                             141                              98   \n72708       0                             913                             765   \n72709       0                              75                              92   \n72710       0                              72                              96   \n\n       home_team_history_match_date_3  home_team_history_match_date_4  \\\n0                                  70                              96   \n1                                 168                             143   \n3                                  46                              48   \n4                                  48                              48   \n5                                  46                              50   \n...                               ...                             ...   \n72706                             169                             190   \n72707                             286                             120   \n72708                            1875                              93   \n72709                              71                              72   \n72710                             120                             218   \n\n       home_team_history_match_date_5  home_team_history_match_date_6  \\\n0                                 143                              98   \n1                                 360                              94   \n3                                 918                              72   \n4                                 917                              68   \n5                                 893                              96   \n...                               ...                             ...   \n72706                             122                             216   \n72707                              96                             144   \n72708                             450                            1452   \n72709                              77                              69   \n72710                              69                              99   \n\n       home_team_history_match_date_7  home_team_history_match_date_8  \\\n0                                 120                             288   \n1                                 193                              72   \n3                                  97                              95   \n4                                 100                              95   \n5                                  96                             119   \n...                               ...                             ...   \n72706                             142                             219   \n72707                              95                              97   \n72708                              77                            1097   \n72709                              71                              70   \n72710                              68                             195   \n\n       home_team_history_is_play_home_1  ...  away_team_history_rating_7  \\\n0                                   0.0  ...                    4.972890   \n1                                   0.0  ...                    6.765418   \n3                                   0.0  ...                    8.730013   \n4                                   0.0  ...                    6.550694   \n5                                   0.0  ...                    3.746925   \n...                                 ...  ...                         ...   \n72706                               1.0  ...                    7.010503   \n72707                               0.0  ...                    4.458606   \n72708                               1.0  ...                   12.404786   \n72709                               0.0  ...                    5.390842   \n72710                               0.0  ...                   12.226984   \n\n       away_team_history_rating_8  away_team_history_opponent_rating_1  \\\n0                        3.150812                             4.721590   \n1                        6.203948                             4.459100   \n3                        7.177425                             3.790810   \n4                        3.018285                             6.000775   \n5                        4.472350                             5.304272   \n...                           ...                                  ...   \n72706                    6.770769                             5.418217   \n72707                    5.017476                             4.839404   \n72708                    5.000000                             4.828760   \n72709                    4.837319                             4.963700   \n72710                    6.490004                             4.866435   \n\n       away_team_history_opponent_rating_2  \\\n0                                 6.953965   \n1                                 4.543053   \n3                                 3.562960   \n4                                 7.648230   \n5                                 7.069420   \n...                                    ...   \n72706                             4.389327   \n72707                             5.167733   \n72708                             4.448000   \n72709                             5.099264   \n72710                             4.928650   \n\n       away_team_history_opponent_rating_3  \\\n0                                 6.535228   \n1                                 4.861583   \n3                                 4.655450   \n4                                 5.580242   \n5                                 6.717443   \n...                                    ...   \n72706                             4.568866   \n72707                             5.403118   \n72708                             8.047350   \n72709                             6.111216   \n72710                             5.713721   \n\n       away_team_history_opponent_rating_4  \\\n0                                 5.782611   \n1                                 5.082300   \n3                                 4.232500   \n4                                 6.971550   \n5                                 6.130100   \n...                                    ...   \n72706                             6.076045   \n72707                             5.803769   \n72708                             7.526000   \n72709                             3.620043   \n72710                             5.204172   \n\n       away_team_history_opponent_rating_5  \\\n0                                 7.538950   \n1                                 9.011000   \n3                                 3.999711   \n4                                 5.624680   \n5                                 5.281494   \n...                                    ...   \n72706                             3.720895   \n72707                             5.873700   \n72708                             7.597350   \n72709                             6.283775   \n72710                             5.295343   \n\n       away_team_history_opponent_rating_6  \\\n0                                 8.428800   \n1                                 6.621075   \n3                                 4.095675   \n4                                 5.733725   \n5                                 5.731775   \n...                                    ...   \n72706                             4.656597   \n72707                             5.143589   \n72708                             6.304886   \n72709                             3.359233   \n72710                             4.804935   \n\n       away_team_history_opponent_rating_7  \\\n0                                 4.922229   \n1                                 4.141575   \n3                                 3.746925   \n4                                 4.453211   \n5                                 8.730013   \n...                                    ...   \n72706                             4.494093   \n72707                             6.695206   \n72708                             2.612821   \n72709                             4.382062   \n72710                             2.959687   \n\n       away_team_history_opponent_rating_8  \n0                                 6.796484  \n1                                 5.056690  \n3                                 4.952475  \n4                                 8.787767  \n5                                 6.617900  \n...                                    ...  \n72706                             3.665037  \n72707                             6.109570  \n72708                             5.000000  \n72709                             5.823854  \n72710                             4.906300  \n\n[64601 rows x 113 columns]",
      "text/html": "<div>\n<style scoped>\n    .dataframe tbody tr th:only-of-type {\n        vertical-align: middle;\n    }\n\n    .dataframe tbody tr th {\n        vertical-align: top;\n    }\n\n    .dataframe thead th {\n        text-align: right;\n    }\n</style>\n<table border=\"1\" class=\"dataframe\">\n  <thead>\n    <tr style=\"text-align: right;\">\n      <th></th>\n      <th>is_cup</th>\n      <th>home_team_history_match_date_1</th>\n      <th>home_team_history_match_date_2</th>\n      <th>home_team_history_match_date_3</th>\n      <th>home_team_history_match_date_4</th>\n      <th>home_team_history_match_date_5</th>\n      <th>home_team_history_match_date_6</th>\n      <th>home_team_history_match_date_7</th>\n      <th>home_team_history_match_date_8</th>\n      <th>home_team_history_is_play_home_1</th>\n      <th>...</th>\n      <th>away_team_history_rating_7</th>\n      <th>away_team_history_rating_8</th>\n      <th>away_team_history_opponent_rating_1</th>\n      <th>away_team_history_opponent_rating_2</th>\n      <th>away_team_history_opponent_rating_3</th>\n      <th>away_team_history_opponent_rating_4</th>\n      <th>away_team_history_opponent_rating_5</th>\n      <th>away_team_history_opponent_rating_6</th>\n      <th>away_team_history_opponent_rating_7</th>\n      <th>away_team_history_opponent_rating_8</th>\n    </tr>\n  </thead>\n  <tbody>\n    <tr>\n      <th>0</th>\n      <td>0</td>\n      <td>71</td>\n      <td>97</td>\n      <td>70</td>\n      <td>96</td>\n      <td>143</td>\n      <td>98</td>\n      <td>120</td>\n      <td>288</td>\n      <td>0.0</td>\n      <td>...</td>\n      <td>4.972890</td>\n      <td>3.150812</td>\n      <td>4.721590</td>\n      <td>6.953965</td>\n      <td>6.535228</td>\n      <td>5.782611</td>\n      <td>7.538950</td>\n      <td>8.428800</td>\n      <td>4.922229</td>\n      <td>6.796484</td>\n    </tr>\n    <tr>\n      <th>1</th>\n      <td>0</td>\n      <td>166</td>\n      <td>169</td>\n      <td>168</td>\n      <td>143</td>\n      <td>360</td>\n      <td>94</td>\n      <td>193</td>\n      <td>72</td>\n      <td>0.0</td>\n      <td>...</td>\n      <td>6.765418</td>\n      <td>6.203948</td>\n      <td>4.459100</td>\n      <td>4.543053</td>\n      <td>4.861583</td>\n      <td>5.082300</td>\n      <td>9.011000</td>\n      <td>6.621075</td>\n      <td>4.141575</td>\n      <td>5.056690</td>\n    </tr>\n    <tr>\n      <th>3</th>\n      <td>0</td>\n      <td>48</td>\n      <td>98</td>\n      <td>46</td>\n      <td>48</td>\n      <td>918</td>\n      <td>72</td>\n      <td>97</td>\n      <td>95</td>\n      <td>0.0</td>\n      <td>...</td>\n      <td>8.730013</td>\n      <td>7.177425</td>\n      <td>3.790810</td>\n      <td>3.562960</td>\n      <td>4.655450</td>\n      <td>4.232500</td>\n      <td>3.999711</td>\n      <td>4.095675</td>\n      <td>3.746925</td>\n      <td>4.952475</td>\n    </tr>\n    <tr>\n      <th>4</th>\n      <td>0</td>\n      <td>48</td>\n      <td>98</td>\n      <td>48</td>\n      <td>48</td>\n      <td>917</td>\n      <td>68</td>\n      <td>100</td>\n      <td>95</td>\n      <td>0.0</td>\n      <td>...</td>\n      <td>6.550694</td>\n      <td>3.018285</td>\n      <td>6.000775</td>\n      <td>7.648230</td>\n      <td>5.580242</td>\n      <td>6.971550</td>\n      <td>5.624680</td>\n      <td>5.733725</td>\n      <td>4.453211</td>\n      <td>8.787767</td>\n    </tr>\n    <tr>\n      <th>5</th>\n      <td>0</td>\n      <td>48</td>\n      <td>98</td>\n      <td>46</td>\n      <td>50</td>\n      <td>893</td>\n      <td>96</td>\n      <td>96</td>\n      <td>119</td>\n      <td>0.0</td>\n      <td>...</td>\n      <td>3.746925</td>\n      <td>4.472350</td>\n      <td>5.304272</td>\n      <td>7.069420</td>\n      <td>6.717443</td>\n      <td>6.130100</td>\n      <td>5.281494</td>\n      <td>5.731775</td>\n      <td>8.730013</td>\n      <td>6.617900</td>\n    </tr>\n    <tr>\n      <th>...</th>\n      <td>...</td>\n      <td>...</td>\n      <td>...</td>\n      <td>...</td>\n      <td>...</td>\n      <td>...</td>\n      <td>...</td>\n      <td>...</td>\n      <td>...</td>\n      <td>...</td>\n      <td>...</td>\n      <td>...</td>\n      <td>...</td>\n      <td>...</td>\n      <td>...</td>\n      <td>...</td>\n      <td>...</td>\n      <td>...</td>\n      <td>...</td>\n      <td>...</td>\n      <td>...</td>\n    </tr>\n    <tr>\n      <th>72706</th>\n      <td>0</td>\n      <td>145</td>\n      <td>163</td>\n      <td>169</td>\n      <td>190</td>\n      <td>122</td>\n      <td>216</td>\n      <td>142</td>\n      <td>219</td>\n      <td>1.0</td>\n      <td>...</td>\n      <td>7.010503</td>\n      <td>6.770769</td>\n      <td>5.418217</td>\n      <td>4.389327</td>\n      <td>4.568866</td>\n      <td>6.076045</td>\n      <td>3.720895</td>\n      <td>4.656597</td>\n      <td>4.494093</td>\n      <td>3.665037</td>\n    </tr>\n    <tr>\n      <th>72707</th>\n      <td>0</td>\n      <td>141</td>\n      <td>98</td>\n      <td>286</td>\n      <td>120</td>\n      <td>96</td>\n      <td>144</td>\n      <td>95</td>\n      <td>97</td>\n      <td>0.0</td>\n      <td>...</td>\n      <td>4.458606</td>\n      <td>5.017476</td>\n      <td>4.839404</td>\n      <td>5.167733</td>\n      <td>5.403118</td>\n      <td>5.803769</td>\n      <td>5.873700</td>\n      <td>5.143589</td>\n      <td>6.695206</td>\n      <td>6.109570</td>\n    </tr>\n    <tr>\n      <th>72708</th>\n      <td>0</td>\n      <td>913</td>\n      <td>765</td>\n      <td>1875</td>\n      <td>93</td>\n      <td>450</td>\n      <td>1452</td>\n      <td>77</td>\n      <td>1097</td>\n      <td>1.0</td>\n      <td>...</td>\n      <td>12.404786</td>\n      <td>5.000000</td>\n      <td>4.828760</td>\n      <td>4.448000</td>\n      <td>8.047350</td>\n      <td>7.526000</td>\n      <td>7.597350</td>\n      <td>6.304886</td>\n      <td>2.612821</td>\n      <td>5.000000</td>\n    </tr>\n    <tr>\n      <th>72709</th>\n      <td>0</td>\n      <td>75</td>\n      <td>92</td>\n      <td>71</td>\n      <td>72</td>\n      <td>77</td>\n      <td>69</td>\n      <td>71</td>\n      <td>70</td>\n      <td>0.0</td>\n      <td>...</td>\n      <td>5.390842</td>\n      <td>4.837319</td>\n      <td>4.963700</td>\n      <td>5.099264</td>\n      <td>6.111216</td>\n      <td>3.620043</td>\n      <td>6.283775</td>\n      <td>3.359233</td>\n      <td>4.382062</td>\n      <td>5.823854</td>\n    </tr>\n    <tr>\n      <th>72710</th>\n      <td>0</td>\n      <td>72</td>\n      <td>96</td>\n      <td>120</td>\n      <td>218</td>\n      <td>69</td>\n      <td>99</td>\n      <td>68</td>\n      <td>195</td>\n      <td>0.0</td>\n      <td>...</td>\n      <td>12.226984</td>\n      <td>6.490004</td>\n      <td>4.866435</td>\n      <td>4.928650</td>\n      <td>5.713721</td>\n      <td>5.204172</td>\n      <td>5.295343</td>\n      <td>4.804935</td>\n      <td>2.959687</td>\n      <td>4.906300</td>\n    </tr>\n  </tbody>\n</table>\n<p>64601 rows × 113 columns</p>\n</div>"
     },
     "execution_count": 3,
     "metadata": {},
     "output_type": "execute_result"
    }
   ],
   "source": [
    "test_org = pd.read_csv('data/test.csv')\n",
    "test = completed_missing_data(test_org)\n",
    "test = convert_historical_date_to_date_difference(test)\n",
    "test = remove_described_col(test)\n",
    "test"
   ]
  },
  {
   "cell_type": "markdown",
   "metadata": {},
   "source": [
    "# Dodanie cech\n",
    "- Sredni ranking drużyn w lidzie\n",
    "- Sredni ilosc meczow wygranych w lidze\n",
    "- Intensywnosc druzyny, na podstawie dat rozegranych meczów\n",
    "- Historyczny mecz target, na postawie bramek\n",
    "\n",
    "\n"
   ]
  },
  {
   "cell_type": "code",
   "execution_count": 4,
   "metadata": {},
   "outputs": [
    {
     "data": {
      "text/plain": "             id  target     home_team_name           away_team_name  \\\n23020  11989265      -1  Tottenham Hotspur               RB Leipzig   \n23092  16865249       1             Celtic                       KR   \n23091  16916583       1     Legia Warszawa                 Linfield   \n23090  16940078      -1             Sūduva         Maccabi Tel Aviv   \n23089  17213503       1           Salzburg         Maccabi Tel Aviv   \n...         ...     ...                ...                      ...   \n42463  17882059       1          Alkmaar W  Excelsior Barendrecht W   \n42462  17887522      -1    SC Heerenveen W                Alkmaar W   \n42461  17882061      -1    SC Heerenveen W                   Ajax W   \n42460  17882060       1       PEC Zwolle W           ADO Den Haag W   \n42464  17887523       1     ADO Den Haag W  Excelsior Barendrecht W   \n\n               match_date       league_name  league_id  is_cup  \\\n23020 2020-02-19 20:00:00  Champions League          2       1   \n23092 2020-08-18 18:45:00  Champions League          2       1   \n23091 2020-08-18 17:00:00  Champions League          2       1   \n23090 2020-08-26 16:00:00  Champions League          2       1   \n23089 2020-09-30 19:00:00  Champions League          2       1   \n...                   ...               ...        ...     ...   \n42463 2021-02-26 18:30:00    Eredivisie Cup       2037       1   \n42462 2021-04-02 17:30:00    Eredivisie Cup       2037       1   \n42461 2021-02-28 11:30:00    Eredivisie Cup       2037       1   \n42460 2021-02-26 18:30:00    Eredivisie Cup       2037       1   \n42464 2021-04-02 17:30:00    Eredivisie Cup       2037       1   \n\n       home_team_history_match_date_1  home_team_history_match_date_2  ...  \\\n23020                              78                             258  ...   \n23092                             219                             168  ...   \n23091                              94                             627  ...   \n23090                             167                             168  ...   \n23089                             100                              92  ...   \n...                               ...                             ...  ...   \n42463                             504                            1135  ...   \n42462                             127                             167  ...   \n42461                             545                            1133  ...   \n42460                             504                            1344  ...   \n42464                             127                             167  ...   \n\n       away_team_history_target_5  home_team_history_target_6  \\\n23020                        -1.0                         0.0   \n23092                         1.0                         1.0   \n23091                         1.0                        -1.0   \n23090                         1.0                         0.0   \n23089                         1.0                         1.0   \n...                           ...                         ...   \n42463                        -1.0                         0.0   \n42462                        -1.0                        -1.0   \n42461                        -1.0                        -1.0   \n42460                        -1.0                        -1.0   \n42464                        -1.0                        -1.0   \n\n       away_team_history_target_6  home_team_history_target_7  \\\n23020                         1.0                         1.0   \n23092                         1.0                         0.0   \n23091                         1.0                         0.0   \n23090                         1.0                         1.0   \n23089                         1.0                         0.0   \n...                           ...                         ...   \n42463                        -1.0                         0.0   \n42462                         1.0                        -1.0   \n42461                         1.0                        -1.0   \n42460                         0.0                        -1.0   \n42464                        -1.0                         1.0   \n\n       home_team_mean_ratting  away_team_history_target_7  \\\n23020                8.243467                         1.0   \n23092               10.467791                         1.0   \n23091                8.842619                        -1.0   \n23090                9.933509                         1.0   \n23089               11.734431                         1.0   \n...                       ...                         ...   \n42463                6.549518                         0.0   \n42462                6.748837                        -1.0   \n42461                6.748837                         1.0   \n42460                6.834174                         1.0   \n42464                9.696512                        -1.0   \n\n       away_team_mean_ratting  home_team_history_target_8  \\\n23020                9.009022                        -1.0   \n23092                9.855052                         1.0   \n23091                9.742074                         0.0   \n23090                8.395570                         1.0   \n23089                8.395570                        -1.0   \n...                       ...                         ...   \n42463                5.621235                         0.0   \n42462                6.489733                        -1.0   \n42461               11.682420                        -1.0   \n42460                9.663588                         0.0   \n42464                5.621235                         0.0   \n\n       away_team_history_target_8  league_id_ratting  \n23020                         0.0           6.805677  \n23092                         1.0           6.805677  \n23091                         1.0           6.805677  \n23090                         1.0           6.805677  \n23089                        -1.0           6.805677  \n...                           ...                ...  \n42463                        -1.0           7.900250  \n42462                        -1.0           7.900250  \n42461                         1.0           7.900250  \n42460                         1.0           7.900250  \n42464                         0.0           7.900250  \n\n[94169 rows x 157 columns]",
      "text/html": "<div>\n<style scoped>\n    .dataframe tbody tr th:only-of-type {\n        vertical-align: middle;\n    }\n\n    .dataframe tbody tr th {\n        vertical-align: top;\n    }\n\n    .dataframe thead th {\n        text-align: right;\n    }\n</style>\n<table border=\"1\" class=\"dataframe\">\n  <thead>\n    <tr style=\"text-align: right;\">\n      <th></th>\n      <th>id</th>\n      <th>target</th>\n      <th>home_team_name</th>\n      <th>away_team_name</th>\n      <th>match_date</th>\n      <th>league_name</th>\n      <th>league_id</th>\n      <th>is_cup</th>\n      <th>home_team_history_match_date_1</th>\n      <th>home_team_history_match_date_2</th>\n      <th>...</th>\n      <th>away_team_history_target_5</th>\n      <th>home_team_history_target_6</th>\n      <th>away_team_history_target_6</th>\n      <th>home_team_history_target_7</th>\n      <th>home_team_mean_ratting</th>\n      <th>away_team_history_target_7</th>\n      <th>away_team_mean_ratting</th>\n      <th>home_team_history_target_8</th>\n      <th>away_team_history_target_8</th>\n      <th>league_id_ratting</th>\n    </tr>\n  </thead>\n  <tbody>\n    <tr>\n      <th>23020</th>\n      <td>11989265</td>\n      <td>-1</td>\n      <td>Tottenham Hotspur</td>\n      <td>RB Leipzig</td>\n      <td>2020-02-19 20:00:00</td>\n      <td>Champions League</td>\n      <td>2</td>\n      <td>1</td>\n      <td>78</td>\n      <td>258</td>\n      <td>...</td>\n      <td>-1.0</td>\n      <td>0.0</td>\n      <td>1.0</td>\n      <td>1.0</td>\n      <td>8.243467</td>\n      <td>1.0</td>\n      <td>9.009022</td>\n      <td>-1.0</td>\n      <td>0.0</td>\n      <td>6.805677</td>\n    </tr>\n    <tr>\n      <th>23092</th>\n      <td>16865249</td>\n      <td>1</td>\n      <td>Celtic</td>\n      <td>KR</td>\n      <td>2020-08-18 18:45:00</td>\n      <td>Champions League</td>\n      <td>2</td>\n      <td>1</td>\n      <td>219</td>\n      <td>168</td>\n      <td>...</td>\n      <td>1.0</td>\n      <td>1.0</td>\n      <td>1.0</td>\n      <td>0.0</td>\n      <td>10.467791</td>\n      <td>1.0</td>\n      <td>9.855052</td>\n      <td>1.0</td>\n      <td>1.0</td>\n      <td>6.805677</td>\n    </tr>\n    <tr>\n      <th>23091</th>\n      <td>16916583</td>\n      <td>1</td>\n      <td>Legia Warszawa</td>\n      <td>Linfield</td>\n      <td>2020-08-18 17:00:00</td>\n      <td>Champions League</td>\n      <td>2</td>\n      <td>1</td>\n      <td>94</td>\n      <td>627</td>\n      <td>...</td>\n      <td>1.0</td>\n      <td>-1.0</td>\n      <td>1.0</td>\n      <td>0.0</td>\n      <td>8.842619</td>\n      <td>-1.0</td>\n      <td>9.742074</td>\n      <td>0.0</td>\n      <td>1.0</td>\n      <td>6.805677</td>\n    </tr>\n    <tr>\n      <th>23090</th>\n      <td>16940078</td>\n      <td>-1</td>\n      <td>Sūduva</td>\n      <td>Maccabi Tel Aviv</td>\n      <td>2020-08-26 16:00:00</td>\n      <td>Champions League</td>\n      <td>2</td>\n      <td>1</td>\n      <td>167</td>\n      <td>168</td>\n      <td>...</td>\n      <td>1.0</td>\n      <td>0.0</td>\n      <td>1.0</td>\n      <td>1.0</td>\n      <td>9.933509</td>\n      <td>1.0</td>\n      <td>8.395570</td>\n      <td>1.0</td>\n      <td>1.0</td>\n      <td>6.805677</td>\n    </tr>\n    <tr>\n      <th>23089</th>\n      <td>17213503</td>\n      <td>1</td>\n      <td>Salzburg</td>\n      <td>Maccabi Tel Aviv</td>\n      <td>2020-09-30 19:00:00</td>\n      <td>Champions League</td>\n      <td>2</td>\n      <td>1</td>\n      <td>100</td>\n      <td>92</td>\n      <td>...</td>\n      <td>1.0</td>\n      <td>1.0</td>\n      <td>1.0</td>\n      <td>0.0</td>\n      <td>11.734431</td>\n      <td>1.0</td>\n      <td>8.395570</td>\n      <td>-1.0</td>\n      <td>-1.0</td>\n      <td>6.805677</td>\n    </tr>\n    <tr>\n      <th>...</th>\n      <td>...</td>\n      <td>...</td>\n      <td>...</td>\n      <td>...</td>\n      <td>...</td>\n      <td>...</td>\n      <td>...</td>\n      <td>...</td>\n      <td>...</td>\n      <td>...</td>\n      <td>...</td>\n      <td>...</td>\n      <td>...</td>\n      <td>...</td>\n      <td>...</td>\n      <td>...</td>\n      <td>...</td>\n      <td>...</td>\n      <td>...</td>\n      <td>...</td>\n      <td>...</td>\n    </tr>\n    <tr>\n      <th>42463</th>\n      <td>17882059</td>\n      <td>1</td>\n      <td>Alkmaar W</td>\n      <td>Excelsior Barendrecht W</td>\n      <td>2021-02-26 18:30:00</td>\n      <td>Eredivisie Cup</td>\n      <td>2037</td>\n      <td>1</td>\n      <td>504</td>\n      <td>1135</td>\n      <td>...</td>\n      <td>-1.0</td>\n      <td>0.0</td>\n      <td>-1.0</td>\n      <td>0.0</td>\n      <td>6.549518</td>\n      <td>0.0</td>\n      <td>5.621235</td>\n      <td>0.0</td>\n      <td>-1.0</td>\n      <td>7.900250</td>\n    </tr>\n    <tr>\n      <th>42462</th>\n      <td>17887522</td>\n      <td>-1</td>\n      <td>SC Heerenveen W</td>\n      <td>Alkmaar W</td>\n      <td>2021-04-02 17:30:00</td>\n      <td>Eredivisie Cup</td>\n      <td>2037</td>\n      <td>1</td>\n      <td>127</td>\n      <td>167</td>\n      <td>...</td>\n      <td>-1.0</td>\n      <td>-1.0</td>\n      <td>1.0</td>\n      <td>-1.0</td>\n      <td>6.748837</td>\n      <td>-1.0</td>\n      <td>6.489733</td>\n      <td>-1.0</td>\n      <td>-1.0</td>\n      <td>7.900250</td>\n    </tr>\n    <tr>\n      <th>42461</th>\n      <td>17882061</td>\n      <td>-1</td>\n      <td>SC Heerenveen W</td>\n      <td>Ajax W</td>\n      <td>2021-02-28 11:30:00</td>\n      <td>Eredivisie Cup</td>\n      <td>2037</td>\n      <td>1</td>\n      <td>545</td>\n      <td>1133</td>\n      <td>...</td>\n      <td>-1.0</td>\n      <td>-1.0</td>\n      <td>1.0</td>\n      <td>-1.0</td>\n      <td>6.748837</td>\n      <td>1.0</td>\n      <td>11.682420</td>\n      <td>-1.0</td>\n      <td>1.0</td>\n      <td>7.900250</td>\n    </tr>\n    <tr>\n      <th>42460</th>\n      <td>17882060</td>\n      <td>1</td>\n      <td>PEC Zwolle W</td>\n      <td>ADO Den Haag W</td>\n      <td>2021-02-26 18:30:00</td>\n      <td>Eredivisie Cup</td>\n      <td>2037</td>\n      <td>1</td>\n      <td>504</td>\n      <td>1344</td>\n      <td>...</td>\n      <td>-1.0</td>\n      <td>-1.0</td>\n      <td>0.0</td>\n      <td>-1.0</td>\n      <td>6.834174</td>\n      <td>1.0</td>\n      <td>9.663588</td>\n      <td>0.0</td>\n      <td>1.0</td>\n      <td>7.900250</td>\n    </tr>\n    <tr>\n      <th>42464</th>\n      <td>17887523</td>\n      <td>1</td>\n      <td>ADO Den Haag W</td>\n      <td>Excelsior Barendrecht W</td>\n      <td>2021-04-02 17:30:00</td>\n      <td>Eredivisie Cup</td>\n      <td>2037</td>\n      <td>1</td>\n      <td>127</td>\n      <td>167</td>\n      <td>...</td>\n      <td>-1.0</td>\n      <td>-1.0</td>\n      <td>-1.0</td>\n      <td>1.0</td>\n      <td>9.696512</td>\n      <td>-1.0</td>\n      <td>5.621235</td>\n      <td>0.0</td>\n      <td>0.0</td>\n      <td>7.900250</td>\n    </tr>\n  </tbody>\n</table>\n<p>94169 rows × 157 columns</p>\n</div>"
     },
     "execution_count": 4,
     "metadata": {},
     "output_type": "execute_result"
    }
   ],
   "source": [
    "def team_regeneration(data_f, team_h_or_a, index, history_matches_amount):\n",
    "    i_str =str(index)\n",
    "    if index == 1:\n",
    "        data_f[team_h_or_a + '_team_mean_regeneration_time'] = data_f[team_h_or_a + '_team_history_match_date_' + i_str] / history_matches_amount\n",
    "    else:\n",
    "        data_f[team_h_or_a + '_team_mean_regeneration_time'] += data_f[team_h_or_a + '_team_history_match_date_' + i_str] / history_matches_amount\n",
    "    return data_f\n",
    "\n",
    "\n",
    "def history_target(data_f, team_h_or_a, index):\n",
    "    i_str = str(index)\n",
    "    team_history_goal = team_h_or_a + '_team_history_goal_' + i_str\n",
    "\n",
    "    team_history_opponent_goal = team_h_or_a + '_team_history_opponent_goal_' + i_str\n",
    "\n",
    "    data_f[team_h_or_a + '_team_history_target_' + i_str] = np.sign(\n",
    "        data_f[team_history_goal] - data_f[team_history_opponent_goal])\n",
    "    return  data_f\n",
    "\n",
    "def league_team_mean_ratting(data_f, team_h_or_a, index):\n",
    "    i_str = str(index)\n",
    "    last_match_columns = [x for x in data_f.columns if i_str in x]\n",
    "    rating_col_name = team_h_or_a + '_team_history_league_id_' + i_str\n",
    "\n",
    "    league_mean_ratting = data_f[last_match_columns].groupby(by=rating_col_name).mean()\n",
    "    league_mean_ratting['mean_ratting_' + team_h_or_a + '_' + i_str] = (league_mean_ratting[team_h_or_a + '_team_history_rating_' + i_str]\n",
    "                                                                      + league_mean_ratting[team_h_or_a + '_team_history_opponent_rating_' + i_str]) / 2\n",
    "\n",
    "    return league_mean_ratting['mean_ratting_' + team_h_or_a + '_' + i_str]\n",
    "\n",
    "def teams_mean_ratting(data_f, team_h_or_a, index):\n",
    "    i_str = str(index)\n",
    "    team_col_name = team_h_or_a+'_team_name'\n",
    "\n",
    "    team_mean_ratting = data_f.groupby(by=team_col_name).mean()\n",
    "\n",
    "    return team_mean_ratting[team_h_or_a + '_team_history_rating_' + i_str]\n",
    "\n",
    "league_mean_ratting_all = pd.DataFrame()\n",
    "teams_mean_ratting_all = pd.DataFrame()\n",
    "\n",
    "number_of_history_matches = 8\n",
    "\n",
    "for i in range(1, number_of_history_matches + 1):\n",
    "    for home_or_away in ['home', 'away']:\n",
    "        league_mean_ratting_all = league_mean_ratting_all.append(league_team_mean_ratting(train, home_or_away, i))\n",
    "        teams_mean_ratting_all = teams_mean_ratting_all.append(teams_mean_ratting(train,home_or_away,i))\n",
    "        train = history_target(train, home_or_away, i)\n",
    "        train = team_regeneration(train, home_or_away, i,number_of_history_matches)\n",
    "        if i == number_of_history_matches-1:\n",
    "            team_name_col = home_or_away + '_team_name'\n",
    "            teams_ratting = teams_mean_ratting_all.mean().reset_index().rename(columns = {'index': team_name_col, 0: home_or_away+'_team_mean_ratting'})\n",
    "            train = train.merge(teams_ratting, on=team_name_col)\n",
    "\n",
    "league_mean_ratting_all = league_mean_ratting_all.mean().reset_index().rename(\n",
    "    columns={'index': 'league_id', 0: 'league_id_ratting'})\n",
    "\n",
    "train = train.merge(league_mean_ratting_all, on='league_id').sort_values(by='league_id')\n",
    "\n",
    "train"
   ]
  },
  {
   "cell_type": "code",
   "execution_count": 5,
   "outputs": [
    {
     "data": {
      "text/plain": "       target  is_cup  home_team_history_match_date_1  \\\n23020      -1       1                              78   \n23092       1       1                             219   \n23091       1       1                              94   \n23090      -1       1                             167   \n23089       1       1                             100   \n...       ...     ...                             ...   \n42463       1       1                             504   \n42462      -1       1                             127   \n42461      -1       1                             545   \n42460       1       1                             504   \n42464       1       1                             127   \n\n       home_team_history_match_date_2  home_team_history_match_date_3  \\\n23020                             258                              75   \n23092                             168                             286   \n23091                             627                              93   \n23090                             168                             119   \n23089                              92                              76   \n...                               ...                             ...   \n42463                            1135                             712   \n42462                             167                             208   \n42461                            1133                             715   \n42460                            1344                             504   \n42464                             167                             208   \n\n       home_team_history_match_date_4  home_team_history_match_date_5  \\\n23020                             193                              67   \n23092                              71                              49   \n23091                              99                              93   \n23090                             123                             117   \n23089                             144                              92   \n...                               ...                             ...   \n42463                             168                             168   \n42462                              72                              96   \n42461                             168                             168   \n42460                             168                             168   \n42464                              72                              96   \n\n       home_team_history_match_date_6  home_team_history_match_date_7  \\\n23020                             103                              88   \n23092                            3145                              67   \n23091                              74                             168   \n23090                             121                              96   \n23089                             126                             238   \n...                               ...                             ...   \n42463                             168                             505   \n42462                             127                             545   \n42461                             168                             505   \n42460                             168                             505   \n42464                             168                             504   \n\n       home_team_history_match_date_8  ...  away_team_history_target_5  \\\n23020                              74  ...                        -1.0   \n23092                              76  ...                         1.0   \n23091                              69  ...                         1.0   \n23090                              96  ...                         1.0   \n23089                              72  ...                         1.0   \n...                               ...  ...                         ...   \n42463                             168  ...                        -1.0   \n42462                            1133  ...                        -1.0   \n42461                             168  ...                        -1.0   \n42460                             168  ...                        -1.0   \n42464                            1344  ...                        -1.0   \n\n       home_team_history_target_6  away_team_history_target_6  \\\n23020                         0.0                         1.0   \n23092                         1.0                         1.0   \n23091                        -1.0                         1.0   \n23090                         0.0                         1.0   \n23089                         1.0                         1.0   \n...                           ...                         ...   \n42463                         0.0                        -1.0   \n42462                        -1.0                         1.0   \n42461                        -1.0                         1.0   \n42460                        -1.0                         0.0   \n42464                        -1.0                        -1.0   \n\n       home_team_history_target_7  home_team_mean_ratting  \\\n23020                         1.0                8.243467   \n23092                         0.0               10.467791   \n23091                         0.0                8.842619   \n23090                         1.0                9.933509   \n23089                         0.0               11.734431   \n...                           ...                     ...   \n42463                         0.0                6.549518   \n42462                        -1.0                6.748837   \n42461                        -1.0                6.748837   \n42460                        -1.0                6.834174   \n42464                         1.0                9.696512   \n\n       away_team_history_target_7  away_team_mean_ratting  \\\n23020                         1.0                9.009022   \n23092                         1.0                9.855052   \n23091                        -1.0                9.742074   \n23090                         1.0                8.395570   \n23089                         1.0                8.395570   \n...                           ...                     ...   \n42463                         0.0                5.621235   \n42462                        -1.0                6.489733   \n42461                         1.0               11.682420   \n42460                         1.0                9.663588   \n42464                        -1.0                5.621235   \n\n       home_team_history_target_8  away_team_history_target_8  \\\n23020                        -1.0                         0.0   \n23092                         1.0                         1.0   \n23091                         0.0                         1.0   \n23090                         1.0                         1.0   \n23089                        -1.0                        -1.0   \n...                           ...                         ...   \n42463                         0.0                        -1.0   \n42462                        -1.0                        -1.0   \n42461                        -1.0                         1.0   \n42460                         0.0                         1.0   \n42464                         0.0                         0.0   \n\n       league_id_ratting  \n23020           6.805677  \n23092           6.805677  \n23091           6.805677  \n23090           6.805677  \n23089           6.805677  \n...                  ...  \n42463           7.900250  \n42462           7.900250  \n42461           7.900250  \n42460           7.900250  \n42464           7.900250  \n\n[94169 rows x 135 columns]",
      "text/html": "<div>\n<style scoped>\n    .dataframe tbody tr th:only-of-type {\n        vertical-align: middle;\n    }\n\n    .dataframe tbody tr th {\n        vertical-align: top;\n    }\n\n    .dataframe thead th {\n        text-align: right;\n    }\n</style>\n<table border=\"1\" class=\"dataframe\">\n  <thead>\n    <tr style=\"text-align: right;\">\n      <th></th>\n      <th>target</th>\n      <th>is_cup</th>\n      <th>home_team_history_match_date_1</th>\n      <th>home_team_history_match_date_2</th>\n      <th>home_team_history_match_date_3</th>\n      <th>home_team_history_match_date_4</th>\n      <th>home_team_history_match_date_5</th>\n      <th>home_team_history_match_date_6</th>\n      <th>home_team_history_match_date_7</th>\n      <th>home_team_history_match_date_8</th>\n      <th>...</th>\n      <th>away_team_history_target_5</th>\n      <th>home_team_history_target_6</th>\n      <th>away_team_history_target_6</th>\n      <th>home_team_history_target_7</th>\n      <th>home_team_mean_ratting</th>\n      <th>away_team_history_target_7</th>\n      <th>away_team_mean_ratting</th>\n      <th>home_team_history_target_8</th>\n      <th>away_team_history_target_8</th>\n      <th>league_id_ratting</th>\n    </tr>\n  </thead>\n  <tbody>\n    <tr>\n      <th>23020</th>\n      <td>-1</td>\n      <td>1</td>\n      <td>78</td>\n      <td>258</td>\n      <td>75</td>\n      <td>193</td>\n      <td>67</td>\n      <td>103</td>\n      <td>88</td>\n      <td>74</td>\n      <td>...</td>\n      <td>-1.0</td>\n      <td>0.0</td>\n      <td>1.0</td>\n      <td>1.0</td>\n      <td>8.243467</td>\n      <td>1.0</td>\n      <td>9.009022</td>\n      <td>-1.0</td>\n      <td>0.0</td>\n      <td>6.805677</td>\n    </tr>\n    <tr>\n      <th>23092</th>\n      <td>1</td>\n      <td>1</td>\n      <td>219</td>\n      <td>168</td>\n      <td>286</td>\n      <td>71</td>\n      <td>49</td>\n      <td>3145</td>\n      <td>67</td>\n      <td>76</td>\n      <td>...</td>\n      <td>1.0</td>\n      <td>1.0</td>\n      <td>1.0</td>\n      <td>0.0</td>\n      <td>10.467791</td>\n      <td>1.0</td>\n      <td>9.855052</td>\n      <td>1.0</td>\n      <td>1.0</td>\n      <td>6.805677</td>\n    </tr>\n    <tr>\n      <th>23091</th>\n      <td>1</td>\n      <td>1</td>\n      <td>94</td>\n      <td>627</td>\n      <td>93</td>\n      <td>99</td>\n      <td>93</td>\n      <td>74</td>\n      <td>168</td>\n      <td>69</td>\n      <td>...</td>\n      <td>1.0</td>\n      <td>-1.0</td>\n      <td>1.0</td>\n      <td>0.0</td>\n      <td>8.842619</td>\n      <td>-1.0</td>\n      <td>9.742074</td>\n      <td>0.0</td>\n      <td>1.0</td>\n      <td>6.805677</td>\n    </tr>\n    <tr>\n      <th>23090</th>\n      <td>-1</td>\n      <td>1</td>\n      <td>167</td>\n      <td>168</td>\n      <td>119</td>\n      <td>123</td>\n      <td>117</td>\n      <td>121</td>\n      <td>96</td>\n      <td>96</td>\n      <td>...</td>\n      <td>1.0</td>\n      <td>0.0</td>\n      <td>1.0</td>\n      <td>1.0</td>\n      <td>9.933509</td>\n      <td>1.0</td>\n      <td>8.395570</td>\n      <td>1.0</td>\n      <td>1.0</td>\n      <td>6.805677</td>\n    </tr>\n    <tr>\n      <th>23089</th>\n      <td>1</td>\n      <td>1</td>\n      <td>100</td>\n      <td>92</td>\n      <td>76</td>\n      <td>144</td>\n      <td>92</td>\n      <td>126</td>\n      <td>238</td>\n      <td>72</td>\n      <td>...</td>\n      <td>1.0</td>\n      <td>1.0</td>\n      <td>1.0</td>\n      <td>0.0</td>\n      <td>11.734431</td>\n      <td>1.0</td>\n      <td>8.395570</td>\n      <td>-1.0</td>\n      <td>-1.0</td>\n      <td>6.805677</td>\n    </tr>\n    <tr>\n      <th>...</th>\n      <td>...</td>\n      <td>...</td>\n      <td>...</td>\n      <td>...</td>\n      <td>...</td>\n      <td>...</td>\n      <td>...</td>\n      <td>...</td>\n      <td>...</td>\n      <td>...</td>\n      <td>...</td>\n      <td>...</td>\n      <td>...</td>\n      <td>...</td>\n      <td>...</td>\n      <td>...</td>\n      <td>...</td>\n      <td>...</td>\n      <td>...</td>\n      <td>...</td>\n      <td>...</td>\n    </tr>\n    <tr>\n      <th>42463</th>\n      <td>1</td>\n      <td>1</td>\n      <td>504</td>\n      <td>1135</td>\n      <td>712</td>\n      <td>168</td>\n      <td>168</td>\n      <td>168</td>\n      <td>505</td>\n      <td>168</td>\n      <td>...</td>\n      <td>-1.0</td>\n      <td>0.0</td>\n      <td>-1.0</td>\n      <td>0.0</td>\n      <td>6.549518</td>\n      <td>0.0</td>\n      <td>5.621235</td>\n      <td>0.0</td>\n      <td>-1.0</td>\n      <td>7.900250</td>\n    </tr>\n    <tr>\n      <th>42462</th>\n      <td>-1</td>\n      <td>1</td>\n      <td>127</td>\n      <td>167</td>\n      <td>208</td>\n      <td>72</td>\n      <td>96</td>\n      <td>127</td>\n      <td>545</td>\n      <td>1133</td>\n      <td>...</td>\n      <td>-1.0</td>\n      <td>-1.0</td>\n      <td>1.0</td>\n      <td>-1.0</td>\n      <td>6.748837</td>\n      <td>-1.0</td>\n      <td>6.489733</td>\n      <td>-1.0</td>\n      <td>-1.0</td>\n      <td>7.900250</td>\n    </tr>\n    <tr>\n      <th>42461</th>\n      <td>-1</td>\n      <td>1</td>\n      <td>545</td>\n      <td>1133</td>\n      <td>715</td>\n      <td>168</td>\n      <td>168</td>\n      <td>168</td>\n      <td>505</td>\n      <td>168</td>\n      <td>...</td>\n      <td>-1.0</td>\n      <td>-1.0</td>\n      <td>1.0</td>\n      <td>-1.0</td>\n      <td>6.748837</td>\n      <td>1.0</td>\n      <td>11.682420</td>\n      <td>-1.0</td>\n      <td>1.0</td>\n      <td>7.900250</td>\n    </tr>\n    <tr>\n      <th>42460</th>\n      <td>1</td>\n      <td>1</td>\n      <td>504</td>\n      <td>1344</td>\n      <td>504</td>\n      <td>168</td>\n      <td>168</td>\n      <td>168</td>\n      <td>505</td>\n      <td>168</td>\n      <td>...</td>\n      <td>-1.0</td>\n      <td>-1.0</td>\n      <td>0.0</td>\n      <td>-1.0</td>\n      <td>6.834174</td>\n      <td>1.0</td>\n      <td>9.663588</td>\n      <td>0.0</td>\n      <td>1.0</td>\n      <td>7.900250</td>\n    </tr>\n    <tr>\n      <th>42464</th>\n      <td>1</td>\n      <td>1</td>\n      <td>127</td>\n      <td>167</td>\n      <td>208</td>\n      <td>72</td>\n      <td>96</td>\n      <td>168</td>\n      <td>504</td>\n      <td>1344</td>\n      <td>...</td>\n      <td>-1.0</td>\n      <td>-1.0</td>\n      <td>-1.0</td>\n      <td>1.0</td>\n      <td>9.696512</td>\n      <td>-1.0</td>\n      <td>5.621235</td>\n      <td>0.0</td>\n      <td>0.0</td>\n      <td>7.900250</td>\n    </tr>\n  </tbody>\n</table>\n<p>94169 rows × 135 columns</p>\n</div>"
     },
     "execution_count": 5,
     "metadata": {},
     "output_type": "execute_result"
    }
   ],
   "source": [
    "train = remove_described_col(train)\n",
    "# %%\n",
    "train"
   ],
   "metadata": {
    "collapsed": false,
    "pycharm": {
     "name": "#%%\n"
    }
   }
  },
  {
   "cell_type": "code",
   "execution_count": 6,
   "outputs": [
    {
     "name": "stdout",
     "output_type": "stream",
     "text": [
      "['target', 'is_cup', 'home_team_history_match_date_1', 'home_team_history_is_play_home_1', 'home_team_history_is_cup_1', 'home_team_history_goal_1', 'home_team_history_opponent_goal_1', 'home_team_history_rating_1', 'home_team_history_opponent_rating_1', 'away_team_history_match_date_1', 'away_team_history_is_play_home_1', 'away_team_history_is_cup_1', 'away_team_history_goal_1', 'away_team_history_opponent_goal_1', 'away_team_history_rating_1', 'away_team_history_opponent_rating_1', 'home_team_history_target_1', 'home_team_mean_regeneration_time', 'away_team_history_target_1', 'away_team_mean_regeneration_time', 'home_team_mean_ratting', 'away_team_mean_ratting', 'league_id_ratting']\n"
     ]
    }
   ],
   "source": [
    "import re\n",
    "used = set()\n",
    "columns_only_first_hist = [column for column in train.columns.values if\n",
    "                           re.sub('\\d', '', column) not in used and (used.add(re.sub('\\d', '', column)) or True)]\n",
    "print(columns_only_first_hist)"
   ],
   "metadata": {
    "collapsed": false,
    "pycharm": {
     "name": "#%%\n"
    }
   }
  },
  {
   "cell_type": "code",
   "execution_count": 7,
   "metadata": {
    "collapsed": false,
    "pycharm": {
     "name": "#%%\n"
    }
   },
   "outputs": [
    {
     "name": "stdout",
     "output_type": "stream",
     "text": [
      "accuracy: 0.50\n",
      "train [ 1  1  1 ...  1 -1  1]\n"
     ]
    }
   ],
   "source": [
    "from sklearn.preprocessing import StandardScaler\n",
    "from sklearn.pipeline import make_pipeline\n",
    "from sklearn.model_selection import train_test_split\n",
    "from sklearn.linear_model import LogisticRegression\n",
    "\n",
    "for data, name in zip([train], ['train']):\n",
    "    X_train, X_test, y_train, y_test = train_test_split(data.iloc[:, 1:], data.iloc[:, 0], test_size=0.33,\n",
    "                                                        random_state=42)\n",
    "    pipe = make_pipeline(StandardScaler(), LogisticRegression(random_state=0, solver='lbfgs', multi_class='ovr'))\n",
    "\n",
    "    pipe.fit(X_train, y_train)\n",
    "    results = pipe.predict(X_train)\n",
    "    print(f'accuracy: {pipe.score(X_test, y_test):.02f}')\n",
    "    print(name, results)\n",
    "# drzewach, svm\n",
    "# kolumny\n",
    "# kaggle\n",
    "#"
   ]
  },
  {
   "cell_type": "markdown",
   "metadata": {
    "collapsed": false
   },
   "source": [
    "# Dobór cech"
   ]
  },
  {
   "cell_type": "code",
   "execution_count": 8,
   "metadata": {
    "collapsed": false,
    "pycharm": {
     "name": "#%%\n"
    }
   },
   "outputs": [
    {
     "data": {
      "text/plain": "Index(['home_team_history_opponent_goal_3',\n       'home_team_history_opponent_rating_2',\n       'away_team_history_opponent_rating_2', 'home_team_mean_ratting',\n       'away_team_mean_ratting'],\n      dtype='object')"
     },
     "execution_count": 8,
     "metadata": {},
     "output_type": "execute_result"
    }
   ],
   "source": [
    "from sklearn.feature_selection import SequentialFeatureSelector\n",
    "\n",
    "svc = make_pipeline(StandardScaler(), LogisticRegression(random_state=0, solver='lbfgs', multi_class='ovr'))\n",
    "\n",
    "sfs = SequentialFeatureSelector(svc, n_features_to_select=5,cv= 5)\n",
    "sfs.fit(X_train, y_train)\n",
    "\n",
    "X_train.columns[ sfs.get_support()]\n"
   ]
  }
 ],
 "metadata": {
  "kernelspec": {
   "display_name": "Python 3",
   "language": "python",
   "name": "python3"
  },
  "language_info": {
   "codemirror_mode": {
    "name": "ipython",
    "version": 3
   },
   "file_extension": ".py",
   "mimetype": "text/x-python",
   "name": "python",
   "nbconvert_exporter": "python",
   "pygments_lexer": "ipython3",
   "version": "3.8.5"
  }
 },
 "nbformat": 4,
 "nbformat_minor": 0
}