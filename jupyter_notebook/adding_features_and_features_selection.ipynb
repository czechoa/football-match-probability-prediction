{
 "cells": [
  {
   "cell_type": "code",
   "execution_count": 18,
   "metadata": {
    "collapsed": false,
    "pycharm": {
     "name": "#%%\n"
    }
   },
   "outputs": [],
   "source": [
    "from prepared_data.completed_missing_data import completed_missing_data, convert_historical_date_to_date_difference, remove_described_col_and_set_index_id, map_target\n",
    "import pandas as pd\n",
    "import numpy as np\n"
   ]
  },
  {
   "cell_type": "code",
   "execution_count": 19,
   "metadata": {
    "collapsed": true
   },
   "outputs": [
    {
     "name": "stderr",
     "output_type": "stream",
     "text": [
      "/home/andrzej/PycharmProjects/Physionet_Challenge_2021/venv/lib/python3.9/site-packages/IPython/core/interactiveshell.py:3251: DtypeWarning: Columns (7) have mixed types.Specify dtype option on import or set low_memory=False.\n",
      "  exec(code_obj, self.user_global_ns, self.user_ns)\n"
     ]
    },
    {
     "name": "stdout",
     "output_type": "stream",
     "text": [
      "correction col type..\n",
      "percent of object with nan value:  42.20\n",
      "remove coach columns..\n",
      "percent of object with nan value:  18.64\n",
      "remove object with more that  col 80 empty...\n",
      "percent of object with nan value:  18.64\n",
      "remove 9 and 10 day historii\n",
      "percent of object with nan value:  15.11\n",
      "remove all nan data\n",
      "percent of object with nan value:  15.11\n"
     ]
    }
   ],
   "source": [
    "train_org = pd.read_csv('../data/train.csv')\n",
    "train = completed_missing_data(train_org)\n",
    "train = convert_historical_date_to_date_difference(train)\n",
    "train = map_target(train)\n"
   ]
  },
  {
   "cell_type": "code",
   "execution_count": 20,
   "metadata": {
    "collapsed": false,
    "pycharm": {
     "name": "#%%\n"
    }
   },
   "outputs": [
    {
     "name": "stdout",
     "output_type": "stream",
     "text": [
      "correction col type..\n",
      "percent of object with nan value:  39.35\n",
      "remove coach columns..\n",
      "percent of object with nan value:  13.93\n",
      "remove object with more that  col 80 empty...\n",
      "percent of object with nan value:  13.93\n",
      "remove 9 and 10 day historii\n",
      "percent of object with nan value:  11.15\n",
      "remove all nan data\n",
      "percent of object with nan value:  11.15\n"
     ]
    },
    {
     "data": {
      "text/plain": "          is_cup  home_team_history_match_date_1  \\\nid                                                 \n17761448       0                              71   \n17695487       0                             166   \n17715493       0                              48   \n17715492       0                              48   \n17715490       0                              48   \n...          ...                             ...   \n18450246       0                             145   \n18164889       0                             141   \n18449018       0                             913   \n17958831       0                              75   \n18441629       0                              72   \n\n          home_team_history_match_date_2  home_team_history_match_date_3  \\\nid                                                                         \n17761448                              97                              70   \n17695487                             169                             168   \n17715493                              98                              46   \n17715492                              98                              48   \n17715490                              98                              46   \n...                                  ...                             ...   \n18450246                             163                             169   \n18164889                              98                             286   \n18449018                             765                            1875   \n17958831                              92                              71   \n18441629                              96                             120   \n\n          home_team_history_match_date_4  home_team_history_match_date_5  \\\nid                                                                         \n17761448                              96                             143   \n17695487                             143                             360   \n17715493                              48                             918   \n17715492                              48                             917   \n17715490                              50                             893   \n...                                  ...                             ...   \n18450246                             190                             122   \n18164889                             120                              96   \n18449018                              93                             450   \n17958831                              72                              77   \n18441629                             218                              69   \n\n          home_team_history_match_date_6  home_team_history_match_date_7  \\\nid                                                                         \n17761448                              98                             120   \n17695487                              94                             193   \n17715493                              72                              97   \n17715492                              68                             100   \n17715490                              96                              96   \n...                                  ...                             ...   \n18450246                             216                             142   \n18164889                             144                              95   \n18449018                            1452                              77   \n17958831                              69                              71   \n18441629                              99                              68   \n\n          home_team_history_match_date_8  home_team_history_is_play_home_1  \\\nid                                                                           \n17761448                             288                               0.0   \n17695487                              72                               0.0   \n17715493                              95                               0.0   \n17715492                              95                               0.0   \n17715490                             119                               0.0   \n...                                  ...                               ...   \n18450246                             219                               1.0   \n18164889                              97                               0.0   \n18449018                            1097                               1.0   \n17958831                              70                               0.0   \n18441629                             195                               0.0   \n\n          ...  away_team_history_rating_7  away_team_history_rating_8  \\\nid        ...                                                           \n17761448  ...                    4.972890                    3.150812   \n17695487  ...                    6.765418                    6.203948   \n17715493  ...                    8.730013                    7.177425   \n17715492  ...                    6.550694                    3.018285   \n17715490  ...                    3.746925                    4.472350   \n...       ...                         ...                         ...   \n18450246  ...                    7.010503                    6.770769   \n18164889  ...                    4.458606                    5.017476   \n18449018  ...                   12.404786                    5.000000   \n17958831  ...                    5.390842                    4.837319   \n18441629  ...                   12.226984                    6.490004   \n\n          away_team_history_opponent_rating_1  \\\nid                                              \n17761448                             4.721590   \n17695487                             4.459100   \n17715493                             3.790810   \n17715492                             6.000775   \n17715490                             5.304272   \n...                                       ...   \n18450246                             5.418217   \n18164889                             4.839404   \n18449018                             4.828760   \n17958831                             4.963700   \n18441629                             4.866435   \n\n          away_team_history_opponent_rating_2  \\\nid                                              \n17761448                             6.953965   \n17695487                             4.543053   \n17715493                             3.562960   \n17715492                             7.648230   \n17715490                             7.069420   \n...                                       ...   \n18450246                             4.389327   \n18164889                             5.167733   \n18449018                             4.448000   \n17958831                             5.099264   \n18441629                             4.928650   \n\n          away_team_history_opponent_rating_3  \\\nid                                              \n17761448                             6.535228   \n17695487                             4.861583   \n17715493                             4.655450   \n17715492                             5.580242   \n17715490                             6.717443   \n...                                       ...   \n18450246                             4.568866   \n18164889                             5.403118   \n18449018                             8.047350   \n17958831                             6.111216   \n18441629                             5.713721   \n\n          away_team_history_opponent_rating_4  \\\nid                                              \n17761448                             5.782611   \n17695487                             5.082300   \n17715493                             4.232500   \n17715492                             6.971550   \n17715490                             6.130100   \n...                                       ...   \n18450246                             6.076045   \n18164889                             5.803769   \n18449018                             7.526000   \n17958831                             3.620043   \n18441629                             5.204172   \n\n          away_team_history_opponent_rating_5  \\\nid                                              \n17761448                             7.538950   \n17695487                             9.011000   \n17715493                             3.999711   \n17715492                             5.624680   \n17715490                             5.281494   \n...                                       ...   \n18450246                             3.720895   \n18164889                             5.873700   \n18449018                             7.597350   \n17958831                             6.283775   \n18441629                             5.295343   \n\n          away_team_history_opponent_rating_6  \\\nid                                              \n17761448                             8.428800   \n17695487                             6.621075   \n17715493                             4.095675   \n17715492                             5.733725   \n17715490                             5.731775   \n...                                       ...   \n18450246                             4.656597   \n18164889                             5.143589   \n18449018                             6.304886   \n17958831                             3.359233   \n18441629                             4.804935   \n\n          away_team_history_opponent_rating_7  \\\nid                                              \n17761448                             4.922229   \n17695487                             4.141575   \n17715493                             3.746925   \n17715492                             4.453211   \n17715490                             8.730013   \n...                                       ...   \n18450246                             4.494093   \n18164889                             6.695206   \n18449018                             2.612821   \n17958831                             4.382062   \n18441629                             2.959687   \n\n          away_team_history_opponent_rating_8  \nid                                             \n17761448                             6.796484  \n17695487                             5.056690  \n17715493                             4.952475  \n17715492                             8.787767  \n17715490                             6.617900  \n...                                       ...  \n18450246                             3.665037  \n18164889                             6.109570  \n18449018                             5.000000  \n17958831                             5.823854  \n18441629                             4.906300  \n\n[64601 rows x 113 columns]",
      "text/html": "<div>\n<style scoped>\n    .dataframe tbody tr th:only-of-type {\n        vertical-align: middle;\n    }\n\n    .dataframe tbody tr th {\n        vertical-align: top;\n    }\n\n    .dataframe thead th {\n        text-align: right;\n    }\n</style>\n<table border=\"1\" class=\"dataframe\">\n  <thead>\n    <tr style=\"text-align: right;\">\n      <th></th>\n      <th>is_cup</th>\n      <th>home_team_history_match_date_1</th>\n      <th>home_team_history_match_date_2</th>\n      <th>home_team_history_match_date_3</th>\n      <th>home_team_history_match_date_4</th>\n      <th>home_team_history_match_date_5</th>\n      <th>home_team_history_match_date_6</th>\n      <th>home_team_history_match_date_7</th>\n      <th>home_team_history_match_date_8</th>\n      <th>home_team_history_is_play_home_1</th>\n      <th>...</th>\n      <th>away_team_history_rating_7</th>\n      <th>away_team_history_rating_8</th>\n      <th>away_team_history_opponent_rating_1</th>\n      <th>away_team_history_opponent_rating_2</th>\n      <th>away_team_history_opponent_rating_3</th>\n      <th>away_team_history_opponent_rating_4</th>\n      <th>away_team_history_opponent_rating_5</th>\n      <th>away_team_history_opponent_rating_6</th>\n      <th>away_team_history_opponent_rating_7</th>\n      <th>away_team_history_opponent_rating_8</th>\n    </tr>\n    <tr>\n      <th>id</th>\n      <th></th>\n      <th></th>\n      <th></th>\n      <th></th>\n      <th></th>\n      <th></th>\n      <th></th>\n      <th></th>\n      <th></th>\n      <th></th>\n      <th></th>\n      <th></th>\n      <th></th>\n      <th></th>\n      <th></th>\n      <th></th>\n      <th></th>\n      <th></th>\n      <th></th>\n      <th></th>\n      <th></th>\n    </tr>\n  </thead>\n  <tbody>\n    <tr>\n      <th>17761448</th>\n      <td>0</td>\n      <td>71</td>\n      <td>97</td>\n      <td>70</td>\n      <td>96</td>\n      <td>143</td>\n      <td>98</td>\n      <td>120</td>\n      <td>288</td>\n      <td>0.0</td>\n      <td>...</td>\n      <td>4.972890</td>\n      <td>3.150812</td>\n      <td>4.721590</td>\n      <td>6.953965</td>\n      <td>6.535228</td>\n      <td>5.782611</td>\n      <td>7.538950</td>\n      <td>8.428800</td>\n      <td>4.922229</td>\n      <td>6.796484</td>\n    </tr>\n    <tr>\n      <th>17695487</th>\n      <td>0</td>\n      <td>166</td>\n      <td>169</td>\n      <td>168</td>\n      <td>143</td>\n      <td>360</td>\n      <td>94</td>\n      <td>193</td>\n      <td>72</td>\n      <td>0.0</td>\n      <td>...</td>\n      <td>6.765418</td>\n      <td>6.203948</td>\n      <td>4.459100</td>\n      <td>4.543053</td>\n      <td>4.861583</td>\n      <td>5.082300</td>\n      <td>9.011000</td>\n      <td>6.621075</td>\n      <td>4.141575</td>\n      <td>5.056690</td>\n    </tr>\n    <tr>\n      <th>17715493</th>\n      <td>0</td>\n      <td>48</td>\n      <td>98</td>\n      <td>46</td>\n      <td>48</td>\n      <td>918</td>\n      <td>72</td>\n      <td>97</td>\n      <td>95</td>\n      <td>0.0</td>\n      <td>...</td>\n      <td>8.730013</td>\n      <td>7.177425</td>\n      <td>3.790810</td>\n      <td>3.562960</td>\n      <td>4.655450</td>\n      <td>4.232500</td>\n      <td>3.999711</td>\n      <td>4.095675</td>\n      <td>3.746925</td>\n      <td>4.952475</td>\n    </tr>\n    <tr>\n      <th>17715492</th>\n      <td>0</td>\n      <td>48</td>\n      <td>98</td>\n      <td>48</td>\n      <td>48</td>\n      <td>917</td>\n      <td>68</td>\n      <td>100</td>\n      <td>95</td>\n      <td>0.0</td>\n      <td>...</td>\n      <td>6.550694</td>\n      <td>3.018285</td>\n      <td>6.000775</td>\n      <td>7.648230</td>\n      <td>5.580242</td>\n      <td>6.971550</td>\n      <td>5.624680</td>\n      <td>5.733725</td>\n      <td>4.453211</td>\n      <td>8.787767</td>\n    </tr>\n    <tr>\n      <th>17715490</th>\n      <td>0</td>\n      <td>48</td>\n      <td>98</td>\n      <td>46</td>\n      <td>50</td>\n      <td>893</td>\n      <td>96</td>\n      <td>96</td>\n      <td>119</td>\n      <td>0.0</td>\n      <td>...</td>\n      <td>3.746925</td>\n      <td>4.472350</td>\n      <td>5.304272</td>\n      <td>7.069420</td>\n      <td>6.717443</td>\n      <td>6.130100</td>\n      <td>5.281494</td>\n      <td>5.731775</td>\n      <td>8.730013</td>\n      <td>6.617900</td>\n    </tr>\n    <tr>\n      <th>...</th>\n      <td>...</td>\n      <td>...</td>\n      <td>...</td>\n      <td>...</td>\n      <td>...</td>\n      <td>...</td>\n      <td>...</td>\n      <td>...</td>\n      <td>...</td>\n      <td>...</td>\n      <td>...</td>\n      <td>...</td>\n      <td>...</td>\n      <td>...</td>\n      <td>...</td>\n      <td>...</td>\n      <td>...</td>\n      <td>...</td>\n      <td>...</td>\n      <td>...</td>\n      <td>...</td>\n    </tr>\n    <tr>\n      <th>18450246</th>\n      <td>0</td>\n      <td>145</td>\n      <td>163</td>\n      <td>169</td>\n      <td>190</td>\n      <td>122</td>\n      <td>216</td>\n      <td>142</td>\n      <td>219</td>\n      <td>1.0</td>\n      <td>...</td>\n      <td>7.010503</td>\n      <td>6.770769</td>\n      <td>5.418217</td>\n      <td>4.389327</td>\n      <td>4.568866</td>\n      <td>6.076045</td>\n      <td>3.720895</td>\n      <td>4.656597</td>\n      <td>4.494093</td>\n      <td>3.665037</td>\n    </tr>\n    <tr>\n      <th>18164889</th>\n      <td>0</td>\n      <td>141</td>\n      <td>98</td>\n      <td>286</td>\n      <td>120</td>\n      <td>96</td>\n      <td>144</td>\n      <td>95</td>\n      <td>97</td>\n      <td>0.0</td>\n      <td>...</td>\n      <td>4.458606</td>\n      <td>5.017476</td>\n      <td>4.839404</td>\n      <td>5.167733</td>\n      <td>5.403118</td>\n      <td>5.803769</td>\n      <td>5.873700</td>\n      <td>5.143589</td>\n      <td>6.695206</td>\n      <td>6.109570</td>\n    </tr>\n    <tr>\n      <th>18449018</th>\n      <td>0</td>\n      <td>913</td>\n      <td>765</td>\n      <td>1875</td>\n      <td>93</td>\n      <td>450</td>\n      <td>1452</td>\n      <td>77</td>\n      <td>1097</td>\n      <td>1.0</td>\n      <td>...</td>\n      <td>12.404786</td>\n      <td>5.000000</td>\n      <td>4.828760</td>\n      <td>4.448000</td>\n      <td>8.047350</td>\n      <td>7.526000</td>\n      <td>7.597350</td>\n      <td>6.304886</td>\n      <td>2.612821</td>\n      <td>5.000000</td>\n    </tr>\n    <tr>\n      <th>17958831</th>\n      <td>0</td>\n      <td>75</td>\n      <td>92</td>\n      <td>71</td>\n      <td>72</td>\n      <td>77</td>\n      <td>69</td>\n      <td>71</td>\n      <td>70</td>\n      <td>0.0</td>\n      <td>...</td>\n      <td>5.390842</td>\n      <td>4.837319</td>\n      <td>4.963700</td>\n      <td>5.099264</td>\n      <td>6.111216</td>\n      <td>3.620043</td>\n      <td>6.283775</td>\n      <td>3.359233</td>\n      <td>4.382062</td>\n      <td>5.823854</td>\n    </tr>\n    <tr>\n      <th>18441629</th>\n      <td>0</td>\n      <td>72</td>\n      <td>96</td>\n      <td>120</td>\n      <td>218</td>\n      <td>69</td>\n      <td>99</td>\n      <td>68</td>\n      <td>195</td>\n      <td>0.0</td>\n      <td>...</td>\n      <td>12.226984</td>\n      <td>6.490004</td>\n      <td>4.866435</td>\n      <td>4.928650</td>\n      <td>5.713721</td>\n      <td>5.204172</td>\n      <td>5.295343</td>\n      <td>4.804935</td>\n      <td>2.959687</td>\n      <td>4.906300</td>\n    </tr>\n  </tbody>\n</table>\n<p>64601 rows × 113 columns</p>\n</div>"
     },
     "execution_count": 20,
     "metadata": {},
     "output_type": "execute_result"
    }
   ],
   "source": [
    "test_org = pd.read_csv('../data/test.csv')\n",
    "test = completed_missing_data(test_org)\n",
    "test = convert_historical_date_to_date_difference(test)\n",
    "test = remove_described_col_and_set_index_id(test)\n",
    "test"
   ]
  },
  {
   "cell_type": "markdown",
   "metadata": {},
   "source": [
    "# Dodanie cech\n",
    "- Sredni ranking drużyn w lidzie\n",
    "- Sredni ranking ligi wygranych w lidze\n",
    "- Intensywnosc druzyny, na podstawie dat rozegranych meczów\n",
    "- Historyczny mecz target, na postawie bramek\n",
    "\n",
    "\n"
   ]
  },
  {
   "cell_type": "code",
   "execution_count": 21,
   "metadata": {},
   "outputs": [
    {
     "data": {
      "text/plain": "             id  target     home_team_name           away_team_name  \\\n23020  11989265      -1  Tottenham Hotspur               RB Leipzig   \n23092  16865249       1             Celtic                       KR   \n23091  16916583       1     Legia Warszawa                 Linfield   \n23090  16940078      -1             Sūduva         Maccabi Tel Aviv   \n23089  17213503       1           Salzburg         Maccabi Tel Aviv   \n...         ...     ...                ...                      ...   \n42463  17882059       1          Alkmaar W  Excelsior Barendrecht W   \n42462  17887522      -1    SC Heerenveen W                Alkmaar W   \n42461  17882061      -1    SC Heerenveen W                   Ajax W   \n42460  17882060       1       PEC Zwolle W           ADO Den Haag W   \n42464  17887523       1     ADO Den Haag W  Excelsior Barendrecht W   \n\n               match_date       league_name  league_id  is_cup  \\\n23020 2020-02-19 20:00:00  Champions League          2       1   \n23092 2020-08-18 18:45:00  Champions League          2       1   \n23091 2020-08-18 17:00:00  Champions League          2       1   \n23090 2020-08-26 16:00:00  Champions League          2       1   \n23089 2020-09-30 19:00:00  Champions League          2       1   \n...                   ...               ...        ...     ...   \n42463 2021-02-26 18:30:00    Eredivisie Cup       2037       1   \n42462 2021-04-02 17:30:00    Eredivisie Cup       2037       1   \n42461 2021-02-28 11:30:00    Eredivisie Cup       2037       1   \n42460 2021-02-26 18:30:00    Eredivisie Cup       2037       1   \n42464 2021-04-02 17:30:00    Eredivisie Cup       2037       1   \n\n       home_team_history_match_date_1  home_team_history_match_date_2  ...  \\\n23020                              78                             258  ...   \n23092                             219                             168  ...   \n23091                              94                             627  ...   \n23090                             167                             168  ...   \n23089                             100                              92  ...   \n...                               ...                             ...  ...   \n42463                             504                            1135  ...   \n42462                             127                             167  ...   \n42461                             545                            1133  ...   \n42460                             504                            1344  ...   \n42464                             127                             167  ...   \n\n       home_team_history_target_7  home_team_mean_ratting  \\\n23020                         1.0                8.243467   \n23092                         0.0               10.467791   \n23091                         0.0                8.842619   \n23090                         1.0                9.933509   \n23089                         0.0               11.734431   \n...                           ...                     ...   \n42463                         0.0                6.549518   \n42462                        -1.0                6.748837   \n42461                        -1.0                6.748837   \n42460                        -1.0                6.834174   \n42464                         1.0                9.696512   \n\n       away_team_history_gol_difference_7  away_team_history_target_7  \\\n23020                                 2.0                         1.0   \n23092                                 2.0                         1.0   \n23091                                -2.0                        -1.0   \n23090                                 3.0                         1.0   \n23089                                 2.0                         1.0   \n...                                   ...                         ...   \n42463                                 0.0                         0.0   \n42462                                -3.0                        -1.0   \n42461                                 1.0                         1.0   \n42460                                 2.0                         1.0   \n42464                                -4.0                        -1.0   \n\n       away_team_mean_ratting  home_team_history_gol_difference_8  \\\n23020                9.009022                                -1.0   \n23092                9.855052                                 1.0   \n23091                9.742074                                 0.0   \n23090                8.395570                                 3.0   \n23089                8.395570                                -3.0   \n...                       ...                                 ...   \n42463                5.621235                                 0.0   \n42462                6.489733                                -2.0   \n42461               11.682420                                -2.0   \n42460                9.663588                                 0.0   \n42464                5.621235                                 0.0   \n\n       home_team_history_target_8  away_team_history_gol_difference_8  \\\n23020                        -1.0                                 0.0   \n23092                         1.0                                 1.0   \n23091                         0.0                                 7.0   \n23090                         1.0                                 2.0   \n23089                        -1.0                                -2.0   \n...                           ...                                 ...   \n42463                         0.0                                -3.0   \n42462                        -1.0                                -1.0   \n42461                        -1.0                                 3.0   \n42460                         0.0                                 2.0   \n42464                         0.0                                 0.0   \n\n       away_team_history_target_8  league_id_ratting  \n23020                         0.0           6.805677  \n23092                         1.0           6.805677  \n23091                         1.0           6.805677  \n23090                         1.0           6.805677  \n23089                        -1.0           6.805677  \n...                           ...                ...  \n42463                        -1.0           7.900250  \n42462                        -1.0           7.900250  \n42461                         1.0           7.900250  \n42460                         1.0           7.900250  \n42464                         0.0           7.900250  \n\n[94169 rows x 173 columns]",
      "text/html": "<div>\n<style scoped>\n    .dataframe tbody tr th:only-of-type {\n        vertical-align: middle;\n    }\n\n    .dataframe tbody tr th {\n        vertical-align: top;\n    }\n\n    .dataframe thead th {\n        text-align: right;\n    }\n</style>\n<table border=\"1\" class=\"dataframe\">\n  <thead>\n    <tr style=\"text-align: right;\">\n      <th></th>\n      <th>id</th>\n      <th>target</th>\n      <th>home_team_name</th>\n      <th>away_team_name</th>\n      <th>match_date</th>\n      <th>league_name</th>\n      <th>league_id</th>\n      <th>is_cup</th>\n      <th>home_team_history_match_date_1</th>\n      <th>home_team_history_match_date_2</th>\n      <th>...</th>\n      <th>home_team_history_target_7</th>\n      <th>home_team_mean_ratting</th>\n      <th>away_team_history_gol_difference_7</th>\n      <th>away_team_history_target_7</th>\n      <th>away_team_mean_ratting</th>\n      <th>home_team_history_gol_difference_8</th>\n      <th>home_team_history_target_8</th>\n      <th>away_team_history_gol_difference_8</th>\n      <th>away_team_history_target_8</th>\n      <th>league_id_ratting</th>\n    </tr>\n  </thead>\n  <tbody>\n    <tr>\n      <th>23020</th>\n      <td>11989265</td>\n      <td>-1</td>\n      <td>Tottenham Hotspur</td>\n      <td>RB Leipzig</td>\n      <td>2020-02-19 20:00:00</td>\n      <td>Champions League</td>\n      <td>2</td>\n      <td>1</td>\n      <td>78</td>\n      <td>258</td>\n      <td>...</td>\n      <td>1.0</td>\n      <td>8.243467</td>\n      <td>2.0</td>\n      <td>1.0</td>\n      <td>9.009022</td>\n      <td>-1.0</td>\n      <td>-1.0</td>\n      <td>0.0</td>\n      <td>0.0</td>\n      <td>6.805677</td>\n    </tr>\n    <tr>\n      <th>23092</th>\n      <td>16865249</td>\n      <td>1</td>\n      <td>Celtic</td>\n      <td>KR</td>\n      <td>2020-08-18 18:45:00</td>\n      <td>Champions League</td>\n      <td>2</td>\n      <td>1</td>\n      <td>219</td>\n      <td>168</td>\n      <td>...</td>\n      <td>0.0</td>\n      <td>10.467791</td>\n      <td>2.0</td>\n      <td>1.0</td>\n      <td>9.855052</td>\n      <td>1.0</td>\n      <td>1.0</td>\n      <td>1.0</td>\n      <td>1.0</td>\n      <td>6.805677</td>\n    </tr>\n    <tr>\n      <th>23091</th>\n      <td>16916583</td>\n      <td>1</td>\n      <td>Legia Warszawa</td>\n      <td>Linfield</td>\n      <td>2020-08-18 17:00:00</td>\n      <td>Champions League</td>\n      <td>2</td>\n      <td>1</td>\n      <td>94</td>\n      <td>627</td>\n      <td>...</td>\n      <td>0.0</td>\n      <td>8.842619</td>\n      <td>-2.0</td>\n      <td>-1.0</td>\n      <td>9.742074</td>\n      <td>0.0</td>\n      <td>0.0</td>\n      <td>7.0</td>\n      <td>1.0</td>\n      <td>6.805677</td>\n    </tr>\n    <tr>\n      <th>23090</th>\n      <td>16940078</td>\n      <td>-1</td>\n      <td>Sūduva</td>\n      <td>Maccabi Tel Aviv</td>\n      <td>2020-08-26 16:00:00</td>\n      <td>Champions League</td>\n      <td>2</td>\n      <td>1</td>\n      <td>167</td>\n      <td>168</td>\n      <td>...</td>\n      <td>1.0</td>\n      <td>9.933509</td>\n      <td>3.0</td>\n      <td>1.0</td>\n      <td>8.395570</td>\n      <td>3.0</td>\n      <td>1.0</td>\n      <td>2.0</td>\n      <td>1.0</td>\n      <td>6.805677</td>\n    </tr>\n    <tr>\n      <th>23089</th>\n      <td>17213503</td>\n      <td>1</td>\n      <td>Salzburg</td>\n      <td>Maccabi Tel Aviv</td>\n      <td>2020-09-30 19:00:00</td>\n      <td>Champions League</td>\n      <td>2</td>\n      <td>1</td>\n      <td>100</td>\n      <td>92</td>\n      <td>...</td>\n      <td>0.0</td>\n      <td>11.734431</td>\n      <td>2.0</td>\n      <td>1.0</td>\n      <td>8.395570</td>\n      <td>-3.0</td>\n      <td>-1.0</td>\n      <td>-2.0</td>\n      <td>-1.0</td>\n      <td>6.805677</td>\n    </tr>\n    <tr>\n      <th>...</th>\n      <td>...</td>\n      <td>...</td>\n      <td>...</td>\n      <td>...</td>\n      <td>...</td>\n      <td>...</td>\n      <td>...</td>\n      <td>...</td>\n      <td>...</td>\n      <td>...</td>\n      <td>...</td>\n      <td>...</td>\n      <td>...</td>\n      <td>...</td>\n      <td>...</td>\n      <td>...</td>\n      <td>...</td>\n      <td>...</td>\n      <td>...</td>\n      <td>...</td>\n      <td>...</td>\n    </tr>\n    <tr>\n      <th>42463</th>\n      <td>17882059</td>\n      <td>1</td>\n      <td>Alkmaar W</td>\n      <td>Excelsior Barendrecht W</td>\n      <td>2021-02-26 18:30:00</td>\n      <td>Eredivisie Cup</td>\n      <td>2037</td>\n      <td>1</td>\n      <td>504</td>\n      <td>1135</td>\n      <td>...</td>\n      <td>0.0</td>\n      <td>6.549518</td>\n      <td>0.0</td>\n      <td>0.0</td>\n      <td>5.621235</td>\n      <td>0.0</td>\n      <td>0.0</td>\n      <td>-3.0</td>\n      <td>-1.0</td>\n      <td>7.900250</td>\n    </tr>\n    <tr>\n      <th>42462</th>\n      <td>17887522</td>\n      <td>-1</td>\n      <td>SC Heerenveen W</td>\n      <td>Alkmaar W</td>\n      <td>2021-04-02 17:30:00</td>\n      <td>Eredivisie Cup</td>\n      <td>2037</td>\n      <td>1</td>\n      <td>127</td>\n      <td>167</td>\n      <td>...</td>\n      <td>-1.0</td>\n      <td>6.748837</td>\n      <td>-3.0</td>\n      <td>-1.0</td>\n      <td>6.489733</td>\n      <td>-2.0</td>\n      <td>-1.0</td>\n      <td>-1.0</td>\n      <td>-1.0</td>\n      <td>7.900250</td>\n    </tr>\n    <tr>\n      <th>42461</th>\n      <td>17882061</td>\n      <td>-1</td>\n      <td>SC Heerenveen W</td>\n      <td>Ajax W</td>\n      <td>2021-02-28 11:30:00</td>\n      <td>Eredivisie Cup</td>\n      <td>2037</td>\n      <td>1</td>\n      <td>545</td>\n      <td>1133</td>\n      <td>...</td>\n      <td>-1.0</td>\n      <td>6.748837</td>\n      <td>1.0</td>\n      <td>1.0</td>\n      <td>11.682420</td>\n      <td>-2.0</td>\n      <td>-1.0</td>\n      <td>3.0</td>\n      <td>1.0</td>\n      <td>7.900250</td>\n    </tr>\n    <tr>\n      <th>42460</th>\n      <td>17882060</td>\n      <td>1</td>\n      <td>PEC Zwolle W</td>\n      <td>ADO Den Haag W</td>\n      <td>2021-02-26 18:30:00</td>\n      <td>Eredivisie Cup</td>\n      <td>2037</td>\n      <td>1</td>\n      <td>504</td>\n      <td>1344</td>\n      <td>...</td>\n      <td>-1.0</td>\n      <td>6.834174</td>\n      <td>2.0</td>\n      <td>1.0</td>\n      <td>9.663588</td>\n      <td>0.0</td>\n      <td>0.0</td>\n      <td>2.0</td>\n      <td>1.0</td>\n      <td>7.900250</td>\n    </tr>\n    <tr>\n      <th>42464</th>\n      <td>17887523</td>\n      <td>1</td>\n      <td>ADO Den Haag W</td>\n      <td>Excelsior Barendrecht W</td>\n      <td>2021-04-02 17:30:00</td>\n      <td>Eredivisie Cup</td>\n      <td>2037</td>\n      <td>1</td>\n      <td>127</td>\n      <td>167</td>\n      <td>...</td>\n      <td>1.0</td>\n      <td>9.696512</td>\n      <td>-4.0</td>\n      <td>-1.0</td>\n      <td>5.621235</td>\n      <td>0.0</td>\n      <td>0.0</td>\n      <td>0.0</td>\n      <td>0.0</td>\n      <td>7.900250</td>\n    </tr>\n  </tbody>\n</table>\n<p>94169 rows × 173 columns</p>\n</div>"
     },
     "execution_count": 21,
     "metadata": {},
     "output_type": "execute_result"
    }
   ],
   "source": [
    "def team_regeneration(data_f, team_h_or_a, index, history_matches_amount):\n",
    "    i_str =str(index)\n",
    "    if index == 1:\n",
    "        data_f[team_h_or_a + '_team_mean_regeneration_time'] = data_f[team_h_or_a + '_team_history_match_date_' + i_str] / history_matches_amount\n",
    "    else:\n",
    "        data_f[team_h_or_a + '_team_mean_regeneration_time'] += data_f[team_h_or_a + '_team_history_match_date_' + i_str] / history_matches_amount\n",
    "    return data_f\n",
    "\n",
    "\n",
    "def history_target(data_f, team_h_or_a, index):\n",
    "    i_str = str(index)\n",
    "    team_history_goal = team_h_or_a + '_team_history_goal_' + i_str\n",
    "\n",
    "    team_history_opponent_goal = team_h_or_a + '_team_history_opponent_goal_' + i_str\n",
    "\n",
    "\n",
    "    data_f[team_h_or_a + '_team_history_gol_difference_' + i_str] = data_f[team_history_goal] - data_f[team_history_opponent_goal]\n",
    "\n",
    "    data_f[team_h_or_a + '_team_history_target_' + i_str] = np.sign(\n",
    "        data_f[team_history_goal] - data_f[team_history_opponent_goal])\n",
    "    return  data_f\n",
    "\n",
    "\n",
    "\n",
    "\n",
    "def league_team_mean_ratting(data_f, team_h_or_a, index):\n",
    "    i_str = str(index)\n",
    "    last_match_columns = [x for x in data_f.columns if i_str in x]\n",
    "    rating_col_name = team_h_or_a + '_team_history_league_id_' + i_str\n",
    "\n",
    "    league_mean_ratting = data_f[last_match_columns].groupby(by=rating_col_name).mean()\n",
    "    league_mean_ratting['mean_ratting_' + team_h_or_a + '_' + i_str] = (league_mean_ratting[team_h_or_a + '_team_history_rating_' + i_str]\n",
    "                                                                      + league_mean_ratting[team_h_or_a + '_team_history_opponent_rating_' + i_str]) / 2\n",
    "\n",
    "    return league_mean_ratting['mean_ratting_' + team_h_or_a + '_' + i_str]\n",
    "\n",
    "def teams_mean_ratting(data_f, team_h_or_a, index):\n",
    "    i_str = str(index)\n",
    "    team_col_name = team_h_or_a+'_team_name'\n",
    "\n",
    "    team_mean_ratting = data_f.groupby(by=team_col_name).mean()\n",
    "\n",
    "    return team_mean_ratting[team_h_or_a + '_team_history_rating_' + i_str]\n",
    "\n",
    "league_mean_ratting_all = pd.DataFrame()\n",
    "teams_mean_ratting_all = pd.DataFrame()\n",
    "\n",
    "number_of_history_matches = 8\n",
    "\n",
    "for i in range(1, number_of_history_matches + 1):\n",
    "    for home_or_away in ['home', 'away']:\n",
    "\n",
    "        league_mean_ratting_all = league_mean_ratting_all.append(league_team_mean_ratting(train, home_or_away, i))\n",
    "        teams_mean_ratting_all = teams_mean_ratting_all.append(teams_mean_ratting(train,home_or_away,i))\n",
    "\n",
    "\n",
    "\n",
    "        train = history_target(train, home_or_away, i)\n",
    "        train = team_regeneration(train, home_or_away, i,number_of_history_matches)\n",
    "\n",
    "        if i == number_of_history_matches-1:\n",
    "            team_name_col = home_or_away + '_team_name'\n",
    "            teams_ratting = teams_mean_ratting_all.mean().reset_index().rename(columns = {'index': team_name_col, 0: home_or_away+'_team_mean_ratting'})\n",
    "            train = train.merge(teams_ratting, on=team_name_col)\n",
    "\n",
    "league_mean_ratting_all = league_mean_ratting_all.mean().reset_index().rename(\n",
    "    columns={'index': 'league_id', 0: 'league_id_ratting'})\n",
    "\n",
    "train = train.merge(league_mean_ratting_all, on='league_id').sort_values(by='league_id')\n",
    "\n",
    "train"
   ]
  },
  {
   "cell_type": "code",
   "execution_count": 22,
   "outputs": [],
   "source": [
    "target_columns = [x for x in train.columns if 'history_target' in x]\n",
    "train = pd.get_dummies(train, columns=target_columns)"
   ],
   "metadata": {
    "collapsed": false,
    "pycharm": {
     "name": "#%%\n"
    }
   }
  },
  {
   "cell_type": "code",
   "execution_count": 23,
   "outputs": [
    {
     "data": {
      "text/plain": "          target  is_cup  home_team_history_match_date_1  \\\nid                                                         \n11989265      -1       1                              78   \n16865249       1       1                             219   \n16916583       1       1                              94   \n16940078      -1       1                             167   \n17213503       1       1                             100   \n...          ...     ...                             ...   \n17882059       1       1                             504   \n17887522      -1       1                             127   \n17882061      -1       1                             545   \n17882060       1       1                             504   \n17887523       1       1                             127   \n\n          home_team_history_match_date_2  home_team_history_match_date_3  \\\nid                                                                         \n11989265                             258                              75   \n16865249                             168                             286   \n16916583                             627                              93   \n16940078                             168                             119   \n17213503                              92                              76   \n...                                  ...                             ...   \n17882059                            1135                             712   \n17887522                             167                             208   \n17882061                            1133                             715   \n17882060                            1344                             504   \n17887523                             167                             208   \n\n          home_team_history_match_date_4  home_team_history_match_date_5  \\\nid                                                                         \n11989265                             193                              67   \n16865249                              71                              49   \n16916583                              99                              93   \n16940078                             123                             117   \n17213503                             144                              92   \n...                                  ...                             ...   \n17882059                             168                             168   \n17887522                              72                              96   \n17882061                             168                             168   \n17882060                             168                             168   \n17887523                              72                              96   \n\n          home_team_history_match_date_6  home_team_history_match_date_7  \\\nid                                                                         \n11989265                             103                              88   \n16865249                            3145                              67   \n16916583                              74                             168   \n16940078                             121                              96   \n17213503                             126                             238   \n...                                  ...                             ...   \n17882059                             168                             505   \n17887522                             127                             545   \n17882061                             168                             505   \n17882060                             168                             505   \n17887523                             168                             504   \n\n          home_team_history_match_date_8  ...  home_team_history_target_7_1.0  \\\nid                                        ...                                   \n11989265                              74  ...                               1   \n16865249                              76  ...                               0   \n16916583                              69  ...                               0   \n16940078                              96  ...                               1   \n17213503                              72  ...                               0   \n...                                  ...  ...                             ...   \n17882059                             168  ...                               0   \n17887522                            1133  ...                               0   \n17882061                             168  ...                               0   \n17882060                             168  ...                               0   \n17887523                            1344  ...                               1   \n\n          away_team_history_target_7_-1.0  away_team_history_target_7_0.0  \\\nid                                                                          \n11989265                                0                               0   \n16865249                                0                               0   \n16916583                                1                               0   \n16940078                                0                               0   \n17213503                                0                               0   \n...                                   ...                             ...   \n17882059                                0                               1   \n17887522                                1                               0   \n17882061                                0                               0   \n17882060                                0                               0   \n17887523                                1                               0   \n\n          away_team_history_target_7_1.0  home_team_history_target_8_-1.0  \\\nid                                                                          \n11989265                               1                                1   \n16865249                               1                                0   \n16916583                               0                                0   \n16940078                               1                                0   \n17213503                               1                                1   \n...                                  ...                              ...   \n17882059                               0                                0   \n17887522                               0                                1   \n17882061                               1                                1   \n17882060                               1                                0   \n17887523                               0                                0   \n\n          home_team_history_target_8_0.0  home_team_history_target_8_1.0  \\\nid                                                                         \n11989265                               0                               0   \n16865249                               0                               1   \n16916583                               1                               0   \n16940078                               0                               1   \n17213503                               0                               0   \n...                                  ...                             ...   \n17882059                               1                               0   \n17887522                               0                               0   \n17882061                               0                               0   \n17882060                               1                               0   \n17887523                               1                               0   \n\n          away_team_history_target_8_-1.0  away_team_history_target_8_0.0  \\\nid                                                                          \n11989265                                0                               1   \n16865249                                0                               0   \n16916583                                0                               0   \n16940078                                0                               0   \n17213503                                1                               0   \n...                                   ...                             ...   \n17882059                                1                               0   \n17887522                                1                               0   \n17882061                                0                               0   \n17882060                                0                               0   \n17887523                                0                               1   \n\n          away_team_history_target_8_1.0  \nid                                        \n11989265                               0  \n16865249                               1  \n16916583                               1  \n16940078                               1  \n17213503                               0  \n...                                  ...  \n17882059                               0  \n17887522                               0  \n17882061                               1  \n17882060                               1  \n17887523                               0  \n\n[94169 rows x 183 columns]",
      "text/html": "<div>\n<style scoped>\n    .dataframe tbody tr th:only-of-type {\n        vertical-align: middle;\n    }\n\n    .dataframe tbody tr th {\n        vertical-align: top;\n    }\n\n    .dataframe thead th {\n        text-align: right;\n    }\n</style>\n<table border=\"1\" class=\"dataframe\">\n  <thead>\n    <tr style=\"text-align: right;\">\n      <th></th>\n      <th>target</th>\n      <th>is_cup</th>\n      <th>home_team_history_match_date_1</th>\n      <th>home_team_history_match_date_2</th>\n      <th>home_team_history_match_date_3</th>\n      <th>home_team_history_match_date_4</th>\n      <th>home_team_history_match_date_5</th>\n      <th>home_team_history_match_date_6</th>\n      <th>home_team_history_match_date_7</th>\n      <th>home_team_history_match_date_8</th>\n      <th>...</th>\n      <th>home_team_history_target_7_1.0</th>\n      <th>away_team_history_target_7_-1.0</th>\n      <th>away_team_history_target_7_0.0</th>\n      <th>away_team_history_target_7_1.0</th>\n      <th>home_team_history_target_8_-1.0</th>\n      <th>home_team_history_target_8_0.0</th>\n      <th>home_team_history_target_8_1.0</th>\n      <th>away_team_history_target_8_-1.0</th>\n      <th>away_team_history_target_8_0.0</th>\n      <th>away_team_history_target_8_1.0</th>\n    </tr>\n    <tr>\n      <th>id</th>\n      <th></th>\n      <th></th>\n      <th></th>\n      <th></th>\n      <th></th>\n      <th></th>\n      <th></th>\n      <th></th>\n      <th></th>\n      <th></th>\n      <th></th>\n      <th></th>\n      <th></th>\n      <th></th>\n      <th></th>\n      <th></th>\n      <th></th>\n      <th></th>\n      <th></th>\n      <th></th>\n      <th></th>\n    </tr>\n  </thead>\n  <tbody>\n    <tr>\n      <th>11989265</th>\n      <td>-1</td>\n      <td>1</td>\n      <td>78</td>\n      <td>258</td>\n      <td>75</td>\n      <td>193</td>\n      <td>67</td>\n      <td>103</td>\n      <td>88</td>\n      <td>74</td>\n      <td>...</td>\n      <td>1</td>\n      <td>0</td>\n      <td>0</td>\n      <td>1</td>\n      <td>1</td>\n      <td>0</td>\n      <td>0</td>\n      <td>0</td>\n      <td>1</td>\n      <td>0</td>\n    </tr>\n    <tr>\n      <th>16865249</th>\n      <td>1</td>\n      <td>1</td>\n      <td>219</td>\n      <td>168</td>\n      <td>286</td>\n      <td>71</td>\n      <td>49</td>\n      <td>3145</td>\n      <td>67</td>\n      <td>76</td>\n      <td>...</td>\n      <td>0</td>\n      <td>0</td>\n      <td>0</td>\n      <td>1</td>\n      <td>0</td>\n      <td>0</td>\n      <td>1</td>\n      <td>0</td>\n      <td>0</td>\n      <td>1</td>\n    </tr>\n    <tr>\n      <th>16916583</th>\n      <td>1</td>\n      <td>1</td>\n      <td>94</td>\n      <td>627</td>\n      <td>93</td>\n      <td>99</td>\n      <td>93</td>\n      <td>74</td>\n      <td>168</td>\n      <td>69</td>\n      <td>...</td>\n      <td>0</td>\n      <td>1</td>\n      <td>0</td>\n      <td>0</td>\n      <td>0</td>\n      <td>1</td>\n      <td>0</td>\n      <td>0</td>\n      <td>0</td>\n      <td>1</td>\n    </tr>\n    <tr>\n      <th>16940078</th>\n      <td>-1</td>\n      <td>1</td>\n      <td>167</td>\n      <td>168</td>\n      <td>119</td>\n      <td>123</td>\n      <td>117</td>\n      <td>121</td>\n      <td>96</td>\n      <td>96</td>\n      <td>...</td>\n      <td>1</td>\n      <td>0</td>\n      <td>0</td>\n      <td>1</td>\n      <td>0</td>\n      <td>0</td>\n      <td>1</td>\n      <td>0</td>\n      <td>0</td>\n      <td>1</td>\n    </tr>\n    <tr>\n      <th>17213503</th>\n      <td>1</td>\n      <td>1</td>\n      <td>100</td>\n      <td>92</td>\n      <td>76</td>\n      <td>144</td>\n      <td>92</td>\n      <td>126</td>\n      <td>238</td>\n      <td>72</td>\n      <td>...</td>\n      <td>0</td>\n      <td>0</td>\n      <td>0</td>\n      <td>1</td>\n      <td>1</td>\n      <td>0</td>\n      <td>0</td>\n      <td>1</td>\n      <td>0</td>\n      <td>0</td>\n    </tr>\n    <tr>\n      <th>...</th>\n      <td>...</td>\n      <td>...</td>\n      <td>...</td>\n      <td>...</td>\n      <td>...</td>\n      <td>...</td>\n      <td>...</td>\n      <td>...</td>\n      <td>...</td>\n      <td>...</td>\n      <td>...</td>\n      <td>...</td>\n      <td>...</td>\n      <td>...</td>\n      <td>...</td>\n      <td>...</td>\n      <td>...</td>\n      <td>...</td>\n      <td>...</td>\n      <td>...</td>\n      <td>...</td>\n    </tr>\n    <tr>\n      <th>17882059</th>\n      <td>1</td>\n      <td>1</td>\n      <td>504</td>\n      <td>1135</td>\n      <td>712</td>\n      <td>168</td>\n      <td>168</td>\n      <td>168</td>\n      <td>505</td>\n      <td>168</td>\n      <td>...</td>\n      <td>0</td>\n      <td>0</td>\n      <td>1</td>\n      <td>0</td>\n      <td>0</td>\n      <td>1</td>\n      <td>0</td>\n      <td>1</td>\n      <td>0</td>\n      <td>0</td>\n    </tr>\n    <tr>\n      <th>17887522</th>\n      <td>-1</td>\n      <td>1</td>\n      <td>127</td>\n      <td>167</td>\n      <td>208</td>\n      <td>72</td>\n      <td>96</td>\n      <td>127</td>\n      <td>545</td>\n      <td>1133</td>\n      <td>...</td>\n      <td>0</td>\n      <td>1</td>\n      <td>0</td>\n      <td>0</td>\n      <td>1</td>\n      <td>0</td>\n      <td>0</td>\n      <td>1</td>\n      <td>0</td>\n      <td>0</td>\n    </tr>\n    <tr>\n      <th>17882061</th>\n      <td>-1</td>\n      <td>1</td>\n      <td>545</td>\n      <td>1133</td>\n      <td>715</td>\n      <td>168</td>\n      <td>168</td>\n      <td>168</td>\n      <td>505</td>\n      <td>168</td>\n      <td>...</td>\n      <td>0</td>\n      <td>0</td>\n      <td>0</td>\n      <td>1</td>\n      <td>1</td>\n      <td>0</td>\n      <td>0</td>\n      <td>0</td>\n      <td>0</td>\n      <td>1</td>\n    </tr>\n    <tr>\n      <th>17882060</th>\n      <td>1</td>\n      <td>1</td>\n      <td>504</td>\n      <td>1344</td>\n      <td>504</td>\n      <td>168</td>\n      <td>168</td>\n      <td>168</td>\n      <td>505</td>\n      <td>168</td>\n      <td>...</td>\n      <td>0</td>\n      <td>0</td>\n      <td>0</td>\n      <td>1</td>\n      <td>0</td>\n      <td>1</td>\n      <td>0</td>\n      <td>0</td>\n      <td>0</td>\n      <td>1</td>\n    </tr>\n    <tr>\n      <th>17887523</th>\n      <td>1</td>\n      <td>1</td>\n      <td>127</td>\n      <td>167</td>\n      <td>208</td>\n      <td>72</td>\n      <td>96</td>\n      <td>168</td>\n      <td>504</td>\n      <td>1344</td>\n      <td>...</td>\n      <td>1</td>\n      <td>1</td>\n      <td>0</td>\n      <td>0</td>\n      <td>0</td>\n      <td>1</td>\n      <td>0</td>\n      <td>0</td>\n      <td>1</td>\n      <td>0</td>\n    </tr>\n  </tbody>\n</table>\n<p>94169 rows × 183 columns</p>\n</div>"
     },
     "execution_count": 23,
     "metadata": {},
     "output_type": "execute_result"
    }
   ],
   "source": [
    "train = remove_described_col_and_set_index_id(train)\n",
    "# %%\n",
    "train"
   ],
   "metadata": {
    "collapsed": false,
    "pycharm": {
     "name": "#%%\n"
    }
   }
  },
  {
   "cell_type": "code",
   "execution_count": 24,
   "outputs": [
    {
     "name": "stdout",
     "output_type": "stream",
     "text": [
      "['target', 'is_cup', 'home_team_history_match_date_1', 'home_team_history_is_play_home_1', 'home_team_history_is_cup_1', 'home_team_history_goal_1', 'home_team_history_opponent_goal_1', 'home_team_history_rating_1', 'home_team_history_opponent_rating_1', 'away_team_history_match_date_1', 'away_team_history_is_play_home_1', 'away_team_history_is_cup_1', 'away_team_history_goal_1', 'away_team_history_opponent_goal_1', 'away_team_history_rating_1', 'away_team_history_opponent_rating_1', 'home_team_history_gol_difference_1', 'home_team_mean_regeneration_time', 'away_team_history_gol_difference_1', 'away_team_mean_regeneration_time', 'home_team_mean_ratting', 'away_team_mean_ratting', 'league_id_ratting', 'home_team_history_target_1_-1.0', 'home_team_history_target_1_0.0', 'away_team_history_target_1_-1.0', 'away_team_history_target_1_0.0']\n"
     ]
    }
   ],
   "source": [
    "import re\n",
    "used = set()\n",
    "columns_only_first_hist = [column for column in train.columns.values if\n",
    "                           re.sub('\\d', '', column) not in used and (used.add(re.sub('\\d', '', column)) or True)]\n",
    "print(columns_only_first_hist)"
   ],
   "metadata": {
    "collapsed": false,
    "pycharm": {
     "name": "#%%\n"
    }
   }
  },
  {
   "cell_type": "code",
   "execution_count": 25,
   "metadata": {
    "collapsed": false,
    "pycharm": {
     "name": "#%%\n"
    }
   },
   "outputs": [
    {
     "name": "stdout",
     "output_type": "stream",
     "text": [
      "accuracy: 0.50\n",
      "train [ 1  1  1 ...  1 -1  1]\n"
     ]
    }
   ],
   "source": [
    "from sklearn.preprocessing import StandardScaler\n",
    "from sklearn.pipeline import make_pipeline\n",
    "from sklearn.model_selection import train_test_split\n",
    "from sklearn.linear_model import LogisticRegression\n",
    "\n",
    "for data, name in zip([train], ['train']):\n",
    "    X_train, X_test, y_train, y_test = train_test_split(data.iloc[:, 1:], data.iloc[:, 0], test_size=0.33,\n",
    "                                                        random_state=42)\n",
    "    pipe = make_pipeline(StandardScaler(), LogisticRegression(random_state=0, solver='lbfgs', multi_class='ovr'))\n",
    "\n",
    "    pipe.fit(X_train, y_train)\n",
    "    results = pipe.predict(X_train)\n",
    "    print(f'accuracy: {pipe.score(X_test, y_test):.02f}')\n",
    "    print(name, results)\n",
    "# drzewach, svm\n",
    "# kolumny\n",
    "# kaggle\n",
    "#"
   ]
  },
  {
   "cell_type": "markdown",
   "metadata": {
    "collapsed": false
   },
   "source": [
    "# Dobór cech"
   ]
  },
  {
   "cell_type": "code",
   "execution_count": null,
   "metadata": {
    "collapsed": false,
    "pycharm": {
     "name": "#%%\n",
     "is_executing": true
    }
   },
   "outputs": [],
   "source": [
    "from sklearn.feature_selection import SequentialFeatureSelector\n",
    "\n",
    "svc = make_pipeline(StandardScaler(), LogisticRegression(random_state=0, solver='lbfgs', multi_class='ovr'))\n",
    "\n",
    "sfs = SequentialFeatureSelector(svc, n_features_to_select=5,cv= 5)\n",
    "sfs.fit(X_train, y_train)\n",
    "\n",
    "X_train.columns[ sfs.get_support()]\n"
   ]
  }
 ],
 "metadata": {
  "kernelspec": {
   "display_name": "Python 3",
   "language": "python",
   "name": "python3"
  },
  "language_info": {
   "codemirror_mode": {
    "name": "ipython",
    "version": 3
   },
   "file_extension": ".py",
   "mimetype": "text/x-python",
   "name": "python",
   "nbconvert_exporter": "python",
   "pygments_lexer": "ipython3",
   "version": "3.8.5"
  }
 },
 "nbformat": 4,
 "nbformat_minor": 0
}