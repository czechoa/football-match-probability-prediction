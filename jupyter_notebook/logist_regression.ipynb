{
 "cells": [
  {
   "cell_type": "code",
   "execution_count": 1,
   "metadata": {
    "collapsed": true,
    "pycharm": {
     "name": "#%%\n"
    }
   },
   "outputs": [
    {
     "name": "stderr",
     "output_type": "stream",
     "text": [
      "/home/andrzej/PycharmProjects/Football-match-probability-prediction/prepared_data/get_prepared_data.py:2: DtypeWarning: Columns (7) have mixed types.Specify dtype option on import or set low_memory=False.\n",
      "  from prepared_data.completed_missing_data import completed_missing_data, convert_historical_date_to_date_difference, \\\n"
     ]
    },
    {
     "name": "stdout",
     "output_type": "stream",
     "text": [
      "percent of object with nan value and orginals:  42.20, 100.000000\n",
      "remove history columns [7, 8, 9, 10]\n",
      "percent of object with nan value and orginals:  35.06, 100.000000\n",
      "remove object with more that  col 50 % empty...\n",
      "percent of object with nan value and orginals:  35.06, 100.000000\n",
      "date to datetime type and remove nan date....\n",
      "percent of object with nan value and orginals:  27.25, 89.274189\n",
      "filna coach_id and change to is new coach\n",
      "percent of object with nan value and orginals:  0.75, 89.274189\n",
      "fill zero nan data\n",
      "percent of object with nan value and orginals:  0.00, 89.274189\n"
     ]
    }
   ],
   "source": [
    "import numpy as np\n",
    "import pandas as pd\n",
    "from matplotlib import pyplot as plt\n",
    "from sklearn.decomposition import PCA\n",
    "from sklearn.linear_model import LogisticRegression\n",
    "from sklearn.model_selection import GridSearchCV\n",
    "from sklearn.pipeline import Pipeline\n",
    "from sklearn.pipeline import make_pipeline\n",
    "from sklearn.preprocessing import MinMaxScaler\n",
    "from sklearn.preprocessing import StandardScaler\n",
    "\n",
    "from prepared_data.get_prepared_data import get_prepared_data\n",
    "from prepared_data.prepared_test_results import result_predict_prob_to_dataFrame, not_duplicate_elements_in_dataframes"
   ]
  },
  {
   "cell_type": "code",
   "execution_count": 2,
   "outputs": [
    {
     "name": "stderr",
     "output_type": "stream",
     "text": [
      "/home/andrzej/PycharmProjects/Physionet_Challenge_2021/venv/lib/python3.9/site-packages/IPython/core/interactiveshell.py:3251: DtypeWarning: Columns (7) have mixed types.Specify dtype option on import or set low_memory=False.\n",
      "  exec(code_obj, self.user_global_ns, self.user_ns)\n"
     ]
    },
    {
     "name": "stdout",
     "output_type": "stream",
     "text": [
      "percent of object with nan value and orginals:  42.20, 100.000000\n",
      "remove history columns [9, 10]\n",
      "percent of object with nan value and orginals:  38.76, 100.000000\n",
      "remove object with more that  col 50 % empty...\n",
      "percent of object with nan value and orginals:  38.76, 100.000000\n",
      "date to datetime type and remove nan date....\n",
      "percent of object with nan value and orginals:  28.72, 85.915556\n",
      "filna coach_id and change to is new coach\n",
      "percent of object with nan value and orginals:  1.20, 85.915556\n",
      "fill zero nan data\n",
      "percent of object with nan value and orginals:  0.00, 85.915556\n"
     ]
    },
    {
     "data": {
      "text/plain": "                                   0  07 Vestur  1. FC M'gladbach  \\\nhome_team_history_rating_1  3.070815   8.247721          4.735950   \naway_team_history_rating_1  5.667507   7.350362          5.972467   \nhome_team_history_rating_2  5.850329   8.532616          5.355725   \naway_team_history_rating_2  7.775267   6.908470          4.735950   \nhome_team_history_rating_3  5.221400   8.856112          5.640194   \naway_team_history_rating_3  4.871950   6.748184          5.355725   \nhome_team_history_rating_4  4.541867   7.934810          8.042094   \naway_team_history_rating_4  6.230704   9.464661          5.640194   \nhome_team_history_rating_5  5.063669   7.697220          6.610879   \naway_team_history_rating_5  6.655800   9.794950          8.042094   \nhome_team_history_rating_6  6.437014   8.642930          8.333661   \naway_team_history_rating_6  3.579700   8.284307          6.610879   \nhome_team_history_rating_7  9.143400   8.676215          8.524733   \naway_team_history_rating_7  4.280150   8.574494          8.333661   \nhome_team_history_rating_8  4.497265   8.104860          9.028083   \naway_team_history_rating_8  8.140700   8.206035          8.524733   \n\n                            1. FC Merseburg  1. Maj Ruma  12 de Octubre  \\\nhome_team_history_rating_1         6.974668     1.461400       4.542867   \naway_team_history_rating_1         8.583335     6.199050       4.885013   \nhome_team_history_rating_2         8.814662     8.418200       4.806454   \naway_team_history_rating_2         7.365322     1.461400       4.706100   \nhome_team_history_rating_3         7.341014     6.241900       4.900469   \naway_team_history_rating_3         8.191349     8.418200       4.714871   \nhome_team_history_rating_4         8.578879     8.027725       4.863077   \naway_team_history_rating_4         7.796437     6.241900       4.784917   \nhome_team_history_rating_5         7.810133     7.392300       5.200468   \naway_team_history_rating_5         8.313656     8.027725       4.645906   \nhome_team_history_rating_6         8.583455     6.671700       4.810785   \naway_team_history_rating_6         8.613652     7.392300       5.098282   \nhome_team_history_rating_7         8.547724     2.985375       5.221518   \naway_team_history_rating_7         8.598885     6.671700       4.696382   \nhome_team_history_rating_8         7.968504     6.577475       5.113963   \naway_team_history_rating_8         8.506705     2.985375       4.850997   \n\n                            1860 München  1860 München II  1860 Rosenheim  \\\nhome_team_history_rating_1      6.439402        10.189010        4.729081   \naway_team_history_rating_1      6.937842         5.554950        5.221107   \nhome_team_history_rating_2      6.645256         8.547972        6.101598   \naway_team_history_rating_2      6.555754        10.189010        4.729081   \nhome_team_history_rating_3      6.584791         3.752905        5.065149   \naway_team_history_rating_3      6.619288         8.547972        6.101598   \nhome_team_history_rating_4      6.447406         7.416014        6.443605   \naway_team_history_rating_4      6.645606         3.752905        5.065149   \nhome_team_history_rating_5      6.806721         8.368990        5.604541   \naway_team_history_rating_5      6.315494         7.416014        6.443605   \nhome_team_history_rating_6      6.304914         6.211369        5.670918   \naway_team_history_rating_6      6.803073         8.368990        5.604541   \nhome_team_history_rating_7      6.852614         8.612300        5.598865   \naway_team_history_rating_7      6.246632         6.211369        5.670918   \nhome_team_history_rating_8      6.276615         8.536272        5.946340   \naway_team_history_rating_8      6.762788         8.612300        5.598865   \n\n                            1877 Alemdağspor  ...    Yafoot   Zhlobin  \\\nhome_team_history_rating_1          5.064542  ...       NaN       NaN   \naway_team_history_rating_1          5.156260  ...  2.763339  7.265364   \nhome_team_history_rating_2          5.369217  ...       NaN       NaN   \naway_team_history_rating_2          4.852948  ...  3.138267  4.723370   \nhome_team_history_rating_3          4.913009  ...       NaN       NaN   \naway_team_history_rating_3          4.943627  ...  3.452772  7.576471   \nhome_team_history_rating_4          5.103263  ...       NaN       NaN   \naway_team_history_rating_4          5.249407  ...  3.950805  7.358263   \nhome_team_history_rating_5          5.400142  ...       NaN       NaN   \naway_team_history_rating_5          4.768613  ...  3.679646  8.715285   \nhome_team_history_rating_6          5.072112  ...       NaN       NaN   \naway_team_history_rating_6          5.097015  ...  3.151221  6.561093   \nhome_team_history_rating_7          5.435743  ...       NaN       NaN   \naway_team_history_rating_7          4.858133  ...  4.960400  6.373933   \nhome_team_history_rating_8          5.324157  ...       NaN       NaN   \naway_team_history_rating_8          4.948547  ...  6.212450  4.333900   \n\n                            Älvsjö AIK W      Åland  Åland United W  \\\nhome_team_history_rating_1           NaN        NaN             NaN   \naway_team_history_rating_1      6.075592   8.049517        9.545010   \nhome_team_history_rating_2           NaN        NaN             NaN   \naway_team_history_rating_2      6.024660  15.266450        8.516831   \nhome_team_history_rating_3           NaN        NaN             NaN   \naway_team_history_rating_3      5.600462  14.171193        9.446250   \nhome_team_history_rating_4           NaN        NaN             NaN   \naway_team_history_rating_4      6.503723  10.280550        9.850811   \nhome_team_history_rating_5           NaN        NaN             NaN   \naway_team_history_rating_5      9.157685  11.081358        9.447794   \nhome_team_history_rating_6           NaN        NaN             NaN   \naway_team_history_rating_6      4.649443  13.396170       13.180269   \nhome_team_history_rating_7           NaN        NaN             NaN   \naway_team_history_rating_7      6.975341  10.931300       16.148421   \nhome_team_history_rating_8           NaN        NaN             NaN   \naway_team_history_rating_8      9.122200   9.563086       11.226036   \n\n                            Çarşambaspor     Épila  Érdi VSE        ÍBU  \\\nhome_team_history_rating_1           NaN       NaN       NaN        NaN   \naway_team_history_rating_1      5.111615  5.158081  6.589200   8.078382   \nhome_team_history_rating_2           NaN       NaN       NaN        NaN   \naway_team_history_rating_2      5.548759  4.480228  4.234285  13.150767   \nhome_team_history_rating_3           NaN       NaN       NaN        NaN   \naway_team_history_rating_3      5.546972  4.844197  7.339883  10.740400   \nhome_team_history_rating_4           NaN       NaN       NaN        NaN   \naway_team_history_rating_4      6.028750  5.636585  3.515693   5.005294   \nhome_team_history_rating_5           NaN       NaN       NaN        NaN   \naway_team_history_rating_5      5.883482  4.749920  7.423083   5.087044   \nhome_team_history_rating_6           NaN       NaN       NaN        NaN   \naway_team_history_rating_6      6.250227  5.845883  9.318592   9.708429   \nhome_team_history_rating_7           NaN       NaN       NaN        NaN   \naway_team_history_rating_7      6.412616  6.193402  8.498467   9.106167   \nhome_team_history_rating_8           NaN       NaN       NaN        NaN   \naway_team_history_rating_8      6.596890  5.905615  4.068580   6.245825   \n\n                             Úlfarnir  \nhome_team_history_rating_1        NaN  \naway_team_history_rating_1  10.728200  \nhome_team_history_rating_2        NaN  \naway_team_history_rating_2   5.642425  \nhome_team_history_rating_3        NaN  \naway_team_history_rating_3  10.147982  \nhome_team_history_rating_4        NaN  \naway_team_history_rating_4  15.036395  \nhome_team_history_rating_5        NaN  \naway_team_history_rating_5   6.719700  \nhome_team_history_rating_6        NaN  \naway_team_history_rating_6   7.932468  \nhome_team_history_rating_7        NaN  \naway_team_history_rating_7  20.981050  \nhome_team_history_rating_8        NaN  \naway_team_history_rating_8  11.751829  \n\n[16 rows x 8189 columns]",
      "text/html": "<div>\n<style scoped>\n    .dataframe tbody tr th:only-of-type {\n        vertical-align: middle;\n    }\n\n    .dataframe tbody tr th {\n        vertical-align: top;\n    }\n\n    .dataframe thead th {\n        text-align: right;\n    }\n</style>\n<table border=\"1\" class=\"dataframe\">\n  <thead>\n    <tr style=\"text-align: right;\">\n      <th></th>\n      <th>0</th>\n      <th>07 Vestur</th>\n      <th>1. FC M'gladbach</th>\n      <th>1. FC Merseburg</th>\n      <th>1. Maj Ruma</th>\n      <th>12 de Octubre</th>\n      <th>1860 München</th>\n      <th>1860 München II</th>\n      <th>1860 Rosenheim</th>\n      <th>1877 Alemdağspor</th>\n      <th>...</th>\n      <th>Yafoot</th>\n      <th>Zhlobin</th>\n      <th>Älvsjö AIK W</th>\n      <th>Åland</th>\n      <th>Åland United W</th>\n      <th>Çarşambaspor</th>\n      <th>Épila</th>\n      <th>Érdi VSE</th>\n      <th>ÍBU</th>\n      <th>Úlfarnir</th>\n    </tr>\n  </thead>\n  <tbody>\n    <tr>\n      <th>home_team_history_rating_1</th>\n      <td>3.070815</td>\n      <td>8.247721</td>\n      <td>4.735950</td>\n      <td>6.974668</td>\n      <td>1.461400</td>\n      <td>4.542867</td>\n      <td>6.439402</td>\n      <td>10.189010</td>\n      <td>4.729081</td>\n      <td>5.064542</td>\n      <td>...</td>\n      <td>NaN</td>\n      <td>NaN</td>\n      <td>NaN</td>\n      <td>NaN</td>\n      <td>NaN</td>\n      <td>NaN</td>\n      <td>NaN</td>\n      <td>NaN</td>\n      <td>NaN</td>\n      <td>NaN</td>\n    </tr>\n    <tr>\n      <th>away_team_history_rating_1</th>\n      <td>5.667507</td>\n      <td>7.350362</td>\n      <td>5.972467</td>\n      <td>8.583335</td>\n      <td>6.199050</td>\n      <td>4.885013</td>\n      <td>6.937842</td>\n      <td>5.554950</td>\n      <td>5.221107</td>\n      <td>5.156260</td>\n      <td>...</td>\n      <td>2.763339</td>\n      <td>7.265364</td>\n      <td>6.075592</td>\n      <td>8.049517</td>\n      <td>9.545010</td>\n      <td>5.111615</td>\n      <td>5.158081</td>\n      <td>6.589200</td>\n      <td>8.078382</td>\n      <td>10.728200</td>\n    </tr>\n    <tr>\n      <th>home_team_history_rating_2</th>\n      <td>5.850329</td>\n      <td>8.532616</td>\n      <td>5.355725</td>\n      <td>8.814662</td>\n      <td>8.418200</td>\n      <td>4.806454</td>\n      <td>6.645256</td>\n      <td>8.547972</td>\n      <td>6.101598</td>\n      <td>5.369217</td>\n      <td>...</td>\n      <td>NaN</td>\n      <td>NaN</td>\n      <td>NaN</td>\n      <td>NaN</td>\n      <td>NaN</td>\n      <td>NaN</td>\n      <td>NaN</td>\n      <td>NaN</td>\n      <td>NaN</td>\n      <td>NaN</td>\n    </tr>\n    <tr>\n      <th>away_team_history_rating_2</th>\n      <td>7.775267</td>\n      <td>6.908470</td>\n      <td>4.735950</td>\n      <td>7.365322</td>\n      <td>1.461400</td>\n      <td>4.706100</td>\n      <td>6.555754</td>\n      <td>10.189010</td>\n      <td>4.729081</td>\n      <td>4.852948</td>\n      <td>...</td>\n      <td>3.138267</td>\n      <td>4.723370</td>\n      <td>6.024660</td>\n      <td>15.266450</td>\n      <td>8.516831</td>\n      <td>5.548759</td>\n      <td>4.480228</td>\n      <td>4.234285</td>\n      <td>13.150767</td>\n      <td>5.642425</td>\n    </tr>\n    <tr>\n      <th>home_team_history_rating_3</th>\n      <td>5.221400</td>\n      <td>8.856112</td>\n      <td>5.640194</td>\n      <td>7.341014</td>\n      <td>6.241900</td>\n      <td>4.900469</td>\n      <td>6.584791</td>\n      <td>3.752905</td>\n      <td>5.065149</td>\n      <td>4.913009</td>\n      <td>...</td>\n      <td>NaN</td>\n      <td>NaN</td>\n      <td>NaN</td>\n      <td>NaN</td>\n      <td>NaN</td>\n      <td>NaN</td>\n      <td>NaN</td>\n      <td>NaN</td>\n      <td>NaN</td>\n      <td>NaN</td>\n    </tr>\n    <tr>\n      <th>away_team_history_rating_3</th>\n      <td>4.871950</td>\n      <td>6.748184</td>\n      <td>5.355725</td>\n      <td>8.191349</td>\n      <td>8.418200</td>\n      <td>4.714871</td>\n      <td>6.619288</td>\n      <td>8.547972</td>\n      <td>6.101598</td>\n      <td>4.943627</td>\n      <td>...</td>\n      <td>3.452772</td>\n      <td>7.576471</td>\n      <td>5.600462</td>\n      <td>14.171193</td>\n      <td>9.446250</td>\n      <td>5.546972</td>\n      <td>4.844197</td>\n      <td>7.339883</td>\n      <td>10.740400</td>\n      <td>10.147982</td>\n    </tr>\n    <tr>\n      <th>home_team_history_rating_4</th>\n      <td>4.541867</td>\n      <td>7.934810</td>\n      <td>8.042094</td>\n      <td>8.578879</td>\n      <td>8.027725</td>\n      <td>4.863077</td>\n      <td>6.447406</td>\n      <td>7.416014</td>\n      <td>6.443605</td>\n      <td>5.103263</td>\n      <td>...</td>\n      <td>NaN</td>\n      <td>NaN</td>\n      <td>NaN</td>\n      <td>NaN</td>\n      <td>NaN</td>\n      <td>NaN</td>\n      <td>NaN</td>\n      <td>NaN</td>\n      <td>NaN</td>\n      <td>NaN</td>\n    </tr>\n    <tr>\n      <th>away_team_history_rating_4</th>\n      <td>6.230704</td>\n      <td>9.464661</td>\n      <td>5.640194</td>\n      <td>7.796437</td>\n      <td>6.241900</td>\n      <td>4.784917</td>\n      <td>6.645606</td>\n      <td>3.752905</td>\n      <td>5.065149</td>\n      <td>5.249407</td>\n      <td>...</td>\n      <td>3.950805</td>\n      <td>7.358263</td>\n      <td>6.503723</td>\n      <td>10.280550</td>\n      <td>9.850811</td>\n      <td>6.028750</td>\n      <td>5.636585</td>\n      <td>3.515693</td>\n      <td>5.005294</td>\n      <td>15.036395</td>\n    </tr>\n    <tr>\n      <th>home_team_history_rating_5</th>\n      <td>5.063669</td>\n      <td>7.697220</td>\n      <td>6.610879</td>\n      <td>7.810133</td>\n      <td>7.392300</td>\n      <td>5.200468</td>\n      <td>6.806721</td>\n      <td>8.368990</td>\n      <td>5.604541</td>\n      <td>5.400142</td>\n      <td>...</td>\n      <td>NaN</td>\n      <td>NaN</td>\n      <td>NaN</td>\n      <td>NaN</td>\n      <td>NaN</td>\n      <td>NaN</td>\n      <td>NaN</td>\n      <td>NaN</td>\n      <td>NaN</td>\n      <td>NaN</td>\n    </tr>\n    <tr>\n      <th>away_team_history_rating_5</th>\n      <td>6.655800</td>\n      <td>9.794950</td>\n      <td>8.042094</td>\n      <td>8.313656</td>\n      <td>8.027725</td>\n      <td>4.645906</td>\n      <td>6.315494</td>\n      <td>7.416014</td>\n      <td>6.443605</td>\n      <td>4.768613</td>\n      <td>...</td>\n      <td>3.679646</td>\n      <td>8.715285</td>\n      <td>9.157685</td>\n      <td>11.081358</td>\n      <td>9.447794</td>\n      <td>5.883482</td>\n      <td>4.749920</td>\n      <td>7.423083</td>\n      <td>5.087044</td>\n      <td>6.719700</td>\n    </tr>\n    <tr>\n      <th>home_team_history_rating_6</th>\n      <td>6.437014</td>\n      <td>8.642930</td>\n      <td>8.333661</td>\n      <td>8.583455</td>\n      <td>6.671700</td>\n      <td>4.810785</td>\n      <td>6.304914</td>\n      <td>6.211369</td>\n      <td>5.670918</td>\n      <td>5.072112</td>\n      <td>...</td>\n      <td>NaN</td>\n      <td>NaN</td>\n      <td>NaN</td>\n      <td>NaN</td>\n      <td>NaN</td>\n      <td>NaN</td>\n      <td>NaN</td>\n      <td>NaN</td>\n      <td>NaN</td>\n      <td>NaN</td>\n    </tr>\n    <tr>\n      <th>away_team_history_rating_6</th>\n      <td>3.579700</td>\n      <td>8.284307</td>\n      <td>6.610879</td>\n      <td>8.613652</td>\n      <td>7.392300</td>\n      <td>5.098282</td>\n      <td>6.803073</td>\n      <td>8.368990</td>\n      <td>5.604541</td>\n      <td>5.097015</td>\n      <td>...</td>\n      <td>3.151221</td>\n      <td>6.561093</td>\n      <td>4.649443</td>\n      <td>13.396170</td>\n      <td>13.180269</td>\n      <td>6.250227</td>\n      <td>5.845883</td>\n      <td>9.318592</td>\n      <td>9.708429</td>\n      <td>7.932468</td>\n    </tr>\n    <tr>\n      <th>home_team_history_rating_7</th>\n      <td>9.143400</td>\n      <td>8.676215</td>\n      <td>8.524733</td>\n      <td>8.547724</td>\n      <td>2.985375</td>\n      <td>5.221518</td>\n      <td>6.852614</td>\n      <td>8.612300</td>\n      <td>5.598865</td>\n      <td>5.435743</td>\n      <td>...</td>\n      <td>NaN</td>\n      <td>NaN</td>\n      <td>NaN</td>\n      <td>NaN</td>\n      <td>NaN</td>\n      <td>NaN</td>\n      <td>NaN</td>\n      <td>NaN</td>\n      <td>NaN</td>\n      <td>NaN</td>\n    </tr>\n    <tr>\n      <th>away_team_history_rating_7</th>\n      <td>4.280150</td>\n      <td>8.574494</td>\n      <td>8.333661</td>\n      <td>8.598885</td>\n      <td>6.671700</td>\n      <td>4.696382</td>\n      <td>6.246632</td>\n      <td>6.211369</td>\n      <td>5.670918</td>\n      <td>4.858133</td>\n      <td>...</td>\n      <td>4.960400</td>\n      <td>6.373933</td>\n      <td>6.975341</td>\n      <td>10.931300</td>\n      <td>16.148421</td>\n      <td>6.412616</td>\n      <td>6.193402</td>\n      <td>8.498467</td>\n      <td>9.106167</td>\n      <td>20.981050</td>\n    </tr>\n    <tr>\n      <th>home_team_history_rating_8</th>\n      <td>4.497265</td>\n      <td>8.104860</td>\n      <td>9.028083</td>\n      <td>7.968504</td>\n      <td>6.577475</td>\n      <td>5.113963</td>\n      <td>6.276615</td>\n      <td>8.536272</td>\n      <td>5.946340</td>\n      <td>5.324157</td>\n      <td>...</td>\n      <td>NaN</td>\n      <td>NaN</td>\n      <td>NaN</td>\n      <td>NaN</td>\n      <td>NaN</td>\n      <td>NaN</td>\n      <td>NaN</td>\n      <td>NaN</td>\n      <td>NaN</td>\n      <td>NaN</td>\n    </tr>\n    <tr>\n      <th>away_team_history_rating_8</th>\n      <td>8.140700</td>\n      <td>8.206035</td>\n      <td>8.524733</td>\n      <td>8.506705</td>\n      <td>2.985375</td>\n      <td>4.850997</td>\n      <td>6.762788</td>\n      <td>8.612300</td>\n      <td>5.598865</td>\n      <td>4.948547</td>\n      <td>...</td>\n      <td>6.212450</td>\n      <td>4.333900</td>\n      <td>9.122200</td>\n      <td>9.563086</td>\n      <td>11.226036</td>\n      <td>6.596890</td>\n      <td>5.905615</td>\n      <td>4.068580</td>\n      <td>6.245825</td>\n      <td>11.751829</td>\n    </tr>\n  </tbody>\n</table>\n<p>16 rows × 8189 columns</p>\n</div>"
     },
     "execution_count": 2,
     "metadata": {},
     "output_type": "execute_result"
    }
   ],
   "source": [
    "train_org = pd.read_csv('data/train.csv')\n",
    "train, league_mean_ratting_all, teams_ratting_all = get_prepared_data(train_org)\n",
    "teams_ratting_all"
   ],
   "metadata": {
    "collapsed": false,
    "pycharm": {
     "name": "#%%\n"
    }
   }
  },
  {
   "cell_type": "code",
   "execution_count": 3,
   "outputs": [
    {
     "name": "stdout",
     "output_type": "stream",
     "text": [
      "Fitting 5 folds for each of 20 candidates, totalling 100 fits\n",
      "Best parameter (CV score=0.491):\n",
      "{'logistic__C': 0.0001, 'pca__n_components': 60}\n"
     ]
    },
    {
     "data": {
      "text/plain": "<Figure size 432x432 with 2 Axes>",
      "image/png": "[encoded data removed]"
     },
     "metadata": {
      "needs_background": "light"
     },
     "output_type": "display_data"
    }
   ],
   "source": [
    "\n",
    "\n",
    "# Define a pipeline to search for the best combination of PCA truncation\n",
    "# and classifier regularization.\n",
    "pca = PCA()\n",
    "# Define a Standard Scaler to normalize inputs\n",
    "scaler = StandardScaler()\n",
    "\n",
    "# set the tolerance to a large value to make the example faster\n",
    "logistic = LogisticRegression(max_iter=10000, tol=0.1)\n",
    "pipe = Pipeline(steps=[(\"scaler\", scaler), (\"pca\", pca), (\"logistic\", logistic)])\n",
    "\n",
    "# X_digits, y_digits = datasets.load_digits(return_X_y=True)\n",
    "# Parameters of pipelines can be set using ‘__’ separated parameter names:\n",
    "param_grid = {\n",
    "    \"pca__n_components\": [5, 15, 30, 45, 60],\n",
    "    \"logistic__C\": np.logspace(-4, 4, 4),\n",
    "}\n",
    "search = GridSearchCV(pipe, param_grid, n_jobs=-1, verbose=3)\n",
    "search.fit(train.iloc[:, 1:], train.iloc[:, 0])\n",
    "print(\"Best parameter (CV score=%0.3f):\" % search.best_score_)\n",
    "print(search.best_params_)\n",
    "\n",
    "# Plot the PCA spectrum\n",
    "pca.fit(train.iloc[:, 1:])\n",
    "\n",
    "fig, (ax0, ax1) = plt.subplots(nrows=2, sharex=True, figsize=(6, 6))\n",
    "ax0.plot(\n",
    "    np.arange(1, pca.n_components_ + 1), pca.explained_variance_ratio_, \"+\", linewidth=2\n",
    ")\n",
    "ax0.set_ylabel(\"PCA explained variance ratio\")\n",
    "\n",
    "ax0.axvline(\n",
    "    search.best_estimator_.named_steps[\"pca\"].n_components,\n",
    "    linestyle=\":\",\n",
    "    label=\"n_components chosen\",\n",
    ")\n",
    "plt.show()"
   ],
   "metadata": {
    "collapsed": false,
    "pycharm": {
     "name": "#%%\n"
    }
   }
  },
  {
   "cell_type": "code",
   "execution_count": 4,
   "outputs": [
    {
     "name": "stdout",
     "output_type": "stream",
     "text": [
      "percent of object with nan value and orginals:  39.35, 100.000000\n",
      "remove history columns [9, 10]\n",
      "percent of object with nan value and orginals:  37.84, 100.000000\n",
      "remove object with more that  col 50 % empty...\n",
      "percent of object with nan value and orginals:  37.84, 100.000000\n",
      "date to datetime type and remove nan date....\n",
      "percent of object with nan value and orginals:  30.36, 89.256096\n",
      "filna coach_id and change to is new coach\n",
      "percent of object with nan value and orginals:  0.46, 89.256096\n",
      "fill zero nan data\n",
      "percent of object with nan value and orginals:  0.00, 89.256096\n"
     ]
    },
    {
     "data": {
      "text/plain": "          is_cup  home_team_history_match_date_1  \\\nid                                                 \n18139735    True                              97   \n18137442    True                              98   \n18304452    True                              72   \n18219408    True                              97   \n18395549    True                              94   \n...          ...                             ...   \n18109223   False                             240   \n18148017   False                             336   \n18125499   False                             169   \n18082058   False                               0   \n18071048   False                             263   \n\n          home_team_history_match_date_2  home_team_history_match_date_3  \\\nid                                                                         \n18139735                              93                              97   \n18137442                             123                             213   \n18304452                              94                              76   \n18219408                              71                              98   \n18395549                             123                              94   \n...                                  ...                             ...   \n18109223                             168                             119   \n18148017                             287                             264   \n18125499                             118                               0   \n18082058                             191                             359   \n18071048                             120                             144   \n\n          home_team_history_match_date_4  home_team_history_match_date_5  \\\nid                                                                         \n18139735                             146                              72   \n18137442                              71                              97   \n18304452                              70                             194   \n18219408                              67                             124   \n18395549                              95                             338   \n...                                  ...                             ...   \n18109223                             264                             412   \n18148017                             552                             316   \n18125499                             119                             144   \n18082058                               0                             167   \n18071048                             148                             192   \n\n          home_team_history_match_date_6  home_team_history_match_date_7  \\\nid                                                                         \n18139735                             243                             813   \n18137442                             336                              96   \n18304452                             166                             144   \n18219408                              96                             120   \n18395549                             144                             168   \n...                                  ...                             ...   \n18109223                             625                             384   \n18148017                             600                             119   \n18125499                               0                             191   \n18082058                               0                             147   \n18071048                             432                              72   \n\n          home_team_history_match_date_8  home_team_history_is_play_home_1  \\\nid                                                                           \n18139735                             117                               0.0   \n18137442                              94                               0.0   \n18304452                             912                               1.0   \n18219408                              94                               1.0   \n18395549                             168                               0.0   \n...                                  ...                               ...   \n18109223                             408                               0.0   \n18148017                             120                               1.0   \n18125499                             359                               0.0   \n18082058                             168                               1.0   \n18071048                             312                               0.0   \n\n          ...  home_team_history_target_7_1.0  \\\nid        ...                                   \n18139735  ...                               1   \n18137442  ...                               1   \n18304452  ...                               1   \n18219408  ...                               1   \n18395549  ...                               1   \n...       ...                             ...   \n18109223  ...                               0   \n18148017  ...                               0   \n18125499  ...                               0   \n18082058  ...                               0   \n18071048  ...                               1   \n\n          away_team_history_target_7_-1.0  away_team_history_target_7_0.0  \\\nid                                                                          \n18139735                                0                               0   \n18137442                                0                               0   \n18304452                                0                               1   \n18219408                                0                               0   \n18395549                                0                               0   \n...                                   ...                             ...   \n18109223                                0                               1   \n18148017                                0                               1   \n18125499                                1                               0   \n18082058                                0                               0   \n18071048                                1                               0   \n\n          away_team_history_target_7_1.0  home_team_history_target_8_-1.0  \\\nid                                                                          \n18139735                               1                                1   \n18137442                               1                                0   \n18304452                               0                                0   \n18219408                               1                                0   \n18395549                               1                                0   \n...                                  ...                              ...   \n18109223                               0                                0   \n18148017                               0                                0   \n18125499                               0                                0   \n18082058                               1                                0   \n18071048                               0                                1   \n\n          home_team_history_target_8_0.0  home_team_history_target_8_1.0  \\\nid                                                                         \n18139735                               0                               0   \n18137442                               0                               1   \n18304452                               1                               0   \n18219408                               0                               1   \n18395549                               0                               1   \n...                                  ...                             ...   \n18109223                               0                               1   \n18148017                               0                               1   \n18125499                               1                               0   \n18082058                               1                               0   \n18071048                               0                               0   \n\n          away_team_history_target_8_-1.0  away_team_history_target_8_0.0  \\\nid                                                                          \n18139735                                1                               0   \n18137442                                0                               1   \n18304452                                0                               1   \n18219408                                0                               0   \n18395549                                0                               0   \n...                                   ...                             ...   \n18109223                                1                               0   \n18148017                                0                               0   \n18125499                                1                               0   \n18082058                                0                               1   \n18071048                                0                               1   \n\n          away_team_history_target_8_1.0  \nid                                        \n18139735                               0  \n18137442                               0  \n18304452                               0  \n18219408                               1  \n18395549                               1  \n...                                  ...  \n18109223                               0  \n18148017                               1  \n18125499                               0  \n18082058                               0  \n18071048                               0  \n\n[55500 rows x 199 columns]",
      "text/html": "<div>\n<style scoped>\n    .dataframe tbody tr th:only-of-type {\n        vertical-align: middle;\n    }\n\n    .dataframe tbody tr th {\n        vertical-align: top;\n    }\n\n    .dataframe thead th {\n        text-align: right;\n    }\n</style>\n<table border=\"1\" class=\"dataframe\">\n  <thead>\n    <tr style=\"text-align: right;\">\n      <th></th>\n      <th>is_cup</th>\n      <th>home_team_history_match_date_1</th>\n      <th>home_team_history_match_date_2</th>\n      <th>home_team_history_match_date_3</th>\n      <th>home_team_history_match_date_4</th>\n      <th>home_team_history_match_date_5</th>\n      <th>home_team_history_match_date_6</th>\n      <th>home_team_history_match_date_7</th>\n      <th>home_team_history_match_date_8</th>\n      <th>home_team_history_is_play_home_1</th>\n      <th>...</th>\n      <th>home_team_history_target_7_1.0</th>\n      <th>away_team_history_target_7_-1.0</th>\n      <th>away_team_history_target_7_0.0</th>\n      <th>away_team_history_target_7_1.0</th>\n      <th>home_team_history_target_8_-1.0</th>\n      <th>home_team_history_target_8_0.0</th>\n      <th>home_team_history_target_8_1.0</th>\n      <th>away_team_history_target_8_-1.0</th>\n      <th>away_team_history_target_8_0.0</th>\n      <th>away_team_history_target_8_1.0</th>\n    </tr>\n    <tr>\n      <th>id</th>\n      <th></th>\n      <th></th>\n      <th></th>\n      <th></th>\n      <th></th>\n      <th></th>\n      <th></th>\n      <th></th>\n      <th></th>\n      <th></th>\n      <th></th>\n      <th></th>\n      <th></th>\n      <th></th>\n      <th></th>\n      <th></th>\n      <th></th>\n      <th></th>\n      <th></th>\n      <th></th>\n      <th></th>\n    </tr>\n  </thead>\n  <tbody>\n    <tr>\n      <th>18139735</th>\n      <td>True</td>\n      <td>97</td>\n      <td>93</td>\n      <td>97</td>\n      <td>146</td>\n      <td>72</td>\n      <td>243</td>\n      <td>813</td>\n      <td>117</td>\n      <td>0.0</td>\n      <td>...</td>\n      <td>1</td>\n      <td>0</td>\n      <td>0</td>\n      <td>1</td>\n      <td>1</td>\n      <td>0</td>\n      <td>0</td>\n      <td>1</td>\n      <td>0</td>\n      <td>0</td>\n    </tr>\n    <tr>\n      <th>18137442</th>\n      <td>True</td>\n      <td>98</td>\n      <td>123</td>\n      <td>213</td>\n      <td>71</td>\n      <td>97</td>\n      <td>336</td>\n      <td>96</td>\n      <td>94</td>\n      <td>0.0</td>\n      <td>...</td>\n      <td>1</td>\n      <td>0</td>\n      <td>0</td>\n      <td>1</td>\n      <td>0</td>\n      <td>0</td>\n      <td>1</td>\n      <td>0</td>\n      <td>1</td>\n      <td>0</td>\n    </tr>\n    <tr>\n      <th>18304452</th>\n      <td>True</td>\n      <td>72</td>\n      <td>94</td>\n      <td>76</td>\n      <td>70</td>\n      <td>194</td>\n      <td>166</td>\n      <td>144</td>\n      <td>912</td>\n      <td>1.0</td>\n      <td>...</td>\n      <td>1</td>\n      <td>0</td>\n      <td>1</td>\n      <td>0</td>\n      <td>0</td>\n      <td>1</td>\n      <td>0</td>\n      <td>0</td>\n      <td>1</td>\n      <td>0</td>\n    </tr>\n    <tr>\n      <th>18219408</th>\n      <td>True</td>\n      <td>97</td>\n      <td>71</td>\n      <td>98</td>\n      <td>67</td>\n      <td>124</td>\n      <td>96</td>\n      <td>120</td>\n      <td>94</td>\n      <td>1.0</td>\n      <td>...</td>\n      <td>1</td>\n      <td>0</td>\n      <td>0</td>\n      <td>1</td>\n      <td>0</td>\n      <td>0</td>\n      <td>1</td>\n      <td>0</td>\n      <td>0</td>\n      <td>1</td>\n    </tr>\n    <tr>\n      <th>18395549</th>\n      <td>True</td>\n      <td>94</td>\n      <td>123</td>\n      <td>94</td>\n      <td>95</td>\n      <td>338</td>\n      <td>144</td>\n      <td>168</td>\n      <td>168</td>\n      <td>0.0</td>\n      <td>...</td>\n      <td>1</td>\n      <td>0</td>\n      <td>0</td>\n      <td>1</td>\n      <td>0</td>\n      <td>0</td>\n      <td>1</td>\n      <td>0</td>\n      <td>0</td>\n      <td>1</td>\n    </tr>\n    <tr>\n      <th>...</th>\n      <td>...</td>\n      <td>...</td>\n      <td>...</td>\n      <td>...</td>\n      <td>...</td>\n      <td>...</td>\n      <td>...</td>\n      <td>...</td>\n      <td>...</td>\n      <td>...</td>\n      <td>...</td>\n      <td>...</td>\n      <td>...</td>\n      <td>...</td>\n      <td>...</td>\n      <td>...</td>\n      <td>...</td>\n      <td>...</td>\n      <td>...</td>\n      <td>...</td>\n      <td>...</td>\n    </tr>\n    <tr>\n      <th>18109223</th>\n      <td>False</td>\n      <td>240</td>\n      <td>168</td>\n      <td>119</td>\n      <td>264</td>\n      <td>412</td>\n      <td>625</td>\n      <td>384</td>\n      <td>408</td>\n      <td>0.0</td>\n      <td>...</td>\n      <td>0</td>\n      <td>0</td>\n      <td>1</td>\n      <td>0</td>\n      <td>0</td>\n      <td>0</td>\n      <td>1</td>\n      <td>1</td>\n      <td>0</td>\n      <td>0</td>\n    </tr>\n    <tr>\n      <th>18148017</th>\n      <td>False</td>\n      <td>336</td>\n      <td>287</td>\n      <td>264</td>\n      <td>552</td>\n      <td>316</td>\n      <td>600</td>\n      <td>119</td>\n      <td>120</td>\n      <td>1.0</td>\n      <td>...</td>\n      <td>0</td>\n      <td>0</td>\n      <td>1</td>\n      <td>0</td>\n      <td>0</td>\n      <td>0</td>\n      <td>1</td>\n      <td>0</td>\n      <td>0</td>\n      <td>1</td>\n    </tr>\n    <tr>\n      <th>18125499</th>\n      <td>False</td>\n      <td>169</td>\n      <td>118</td>\n      <td>0</td>\n      <td>119</td>\n      <td>144</td>\n      <td>0</td>\n      <td>191</td>\n      <td>359</td>\n      <td>0.0</td>\n      <td>...</td>\n      <td>0</td>\n      <td>1</td>\n      <td>0</td>\n      <td>0</td>\n      <td>0</td>\n      <td>1</td>\n      <td>0</td>\n      <td>1</td>\n      <td>0</td>\n      <td>0</td>\n    </tr>\n    <tr>\n      <th>18082058</th>\n      <td>False</td>\n      <td>0</td>\n      <td>191</td>\n      <td>359</td>\n      <td>0</td>\n      <td>167</td>\n      <td>0</td>\n      <td>147</td>\n      <td>168</td>\n      <td>1.0</td>\n      <td>...</td>\n      <td>0</td>\n      <td>0</td>\n      <td>0</td>\n      <td>1</td>\n      <td>0</td>\n      <td>1</td>\n      <td>0</td>\n      <td>0</td>\n      <td>1</td>\n      <td>0</td>\n    </tr>\n    <tr>\n      <th>18071048</th>\n      <td>False</td>\n      <td>263</td>\n      <td>120</td>\n      <td>144</td>\n      <td>148</td>\n      <td>192</td>\n      <td>432</td>\n      <td>72</td>\n      <td>312</td>\n      <td>0.0</td>\n      <td>...</td>\n      <td>1</td>\n      <td>1</td>\n      <td>0</td>\n      <td>0</td>\n      <td>1</td>\n      <td>0</td>\n      <td>0</td>\n      <td>0</td>\n      <td>1</td>\n      <td>0</td>\n    </tr>\n  </tbody>\n</table>\n<p>55500 rows × 199 columns</p>\n</div>"
     },
     "execution_count": 4,
     "metadata": {},
     "output_type": "execute_result"
    }
   ],
   "source": [
    "test_org = pd.read_csv('data/test.csv')\n",
    "test, _, _ = get_prepared_data(test_org, 8, league_mean_ratting_all, teams_ratting_all)\n",
    "test"
   ],
   "metadata": {
    "collapsed": false,
    "pycharm": {
     "name": "#%%\n"
    }
   }
  },
  {
   "cell_type": "code",
   "execution_count": 5,
   "outputs": [
    {
     "data": {
      "text/plain": "Pipeline(steps=[('minmaxscaler', MinMaxScaler()),\n                ('logisticregression',\n                 LogisticRegression(max_iter=1000, multi_class='ovr', n_jobs=-1,\n                                    random_state=0))])"
     },
     "execution_count": 5,
     "metadata": {},
     "output_type": "execute_result"
    }
   ],
   "source": [
    "target = train['target']\n",
    "X_train_org = train.drop('target', axis=1)\n",
    "pipe = make_pipeline(MinMaxScaler(),\n",
    "                     LogisticRegression(random_state=0, solver='lbfgs', multi_class='ovr', max_iter=1000, n_jobs=-1))\n",
    "pipe.fit(X_train_org, target)"
   ],
   "metadata": {
    "collapsed": false,
    "pycharm": {
     "name": "#%%\n"
    }
   }
  },
  {
   "cell_type": "code",
   "execution_count": 6,
   "outputs": [
    {
     "name": "stderr",
     "output_type": "stream",
     "text": [
      "/home/andrzej/PycharmProjects/Physionet_Challenge_2021/venv/lib/python3.9/site-packages/sklearn/base.py:493: FutureWarning: The feature names should match those that were passed during fit. Starting version 1.2, an error will be raised.\n",
      "Feature names unseen at fit time:\n",
      "- is_cup\n",
      "Feature names must be in the same order as they were in fit.\n",
      "\n",
      "  warnings.warn(message, FutureWarning)\n"
     ]
    },
    {
     "ename": "ValueError",
     "evalue": "X has 199 features, but MinMaxScaler is expecting 198 features as input.",
     "output_type": "error",
     "traceback": [
      "\u001B[0;31m---------------------------------------------------------------------------\u001B[0m",
      "\u001B[0;31mValueError\u001B[0m                                Traceback (most recent call last)",
      "Input \u001B[0;32mIn [6]\u001B[0m, in \u001B[0;36m<module>\u001B[0;34m\u001B[0m\n\u001B[0;32m----> 1\u001B[0m test_result \u001B[38;5;241m=\u001B[39m \u001B[43mpipe\u001B[49m\u001B[38;5;241;43m.\u001B[39;49m\u001B[43mpredict_proba\u001B[49m\u001B[43m(\u001B[49m\u001B[43mtest\u001B[49m\u001B[43m)\u001B[49m\n\u001B[1;32m      2\u001B[0m test_result \u001B[38;5;241m=\u001B[39m result_predict_prob_to_dataFrame(test_result, test)\n\u001B[1;32m      3\u001B[0m test_result\n",
      "File \u001B[0;32m~/PycharmProjects/Physionet_Challenge_2021/venv/lib/python3.9/site-packages/sklearn/utils/metaestimators.py:113\u001B[0m, in \u001B[0;36m_AvailableIfDescriptor.__get__.<locals>.<lambda>\u001B[0;34m(*args, **kwargs)\u001B[0m\n\u001B[1;32m    110\u001B[0m         \u001B[38;5;28;01mraise\u001B[39;00m attr_err\n\u001B[1;32m    112\u001B[0m     \u001B[38;5;66;03m# lambda, but not partial, allows help() to work with update_wrapper\u001B[39;00m\n\u001B[0;32m--> 113\u001B[0m     out \u001B[38;5;241m=\u001B[39m \u001B[38;5;28;01mlambda\u001B[39;00m \u001B[38;5;241m*\u001B[39margs, \u001B[38;5;241m*\u001B[39m\u001B[38;5;241m*\u001B[39mkwargs: \u001B[38;5;28;43mself\u001B[39;49m\u001B[38;5;241;43m.\u001B[39;49m\u001B[43mfn\u001B[49m\u001B[43m(\u001B[49m\u001B[43mobj\u001B[49m\u001B[43m,\u001B[49m\u001B[43m \u001B[49m\u001B[38;5;241;43m*\u001B[39;49m\u001B[43margs\u001B[49m\u001B[43m,\u001B[49m\u001B[43m \u001B[49m\u001B[38;5;241;43m*\u001B[39;49m\u001B[38;5;241;43m*\u001B[39;49m\u001B[43mkwargs\u001B[49m\u001B[43m)\u001B[49m  \u001B[38;5;66;03m# noqa\u001B[39;00m\n\u001B[1;32m    114\u001B[0m \u001B[38;5;28;01melse\u001B[39;00m:\n\u001B[1;32m    116\u001B[0m     \u001B[38;5;28;01mdef\u001B[39;00m \u001B[38;5;21mfn\u001B[39m(\u001B[38;5;241m*\u001B[39margs, \u001B[38;5;241m*\u001B[39m\u001B[38;5;241m*\u001B[39mkwargs):\n",
      "File \u001B[0;32m~/PycharmProjects/Physionet_Challenge_2021/venv/lib/python3.9/site-packages/sklearn/pipeline.py:535\u001B[0m, in \u001B[0;36mPipeline.predict_proba\u001B[0;34m(self, X, **predict_proba_params)\u001B[0m\n\u001B[1;32m    533\u001B[0m Xt \u001B[38;5;241m=\u001B[39m X\n\u001B[1;32m    534\u001B[0m \u001B[38;5;28;01mfor\u001B[39;00m _, name, transform \u001B[38;5;129;01min\u001B[39;00m \u001B[38;5;28mself\u001B[39m\u001B[38;5;241m.\u001B[39m_iter(with_final\u001B[38;5;241m=\u001B[39m\u001B[38;5;28;01mFalse\u001B[39;00m):\n\u001B[0;32m--> 535\u001B[0m     Xt \u001B[38;5;241m=\u001B[39m \u001B[43mtransform\u001B[49m\u001B[38;5;241;43m.\u001B[39;49m\u001B[43mtransform\u001B[49m\u001B[43m(\u001B[49m\u001B[43mXt\u001B[49m\u001B[43m)\u001B[49m\n\u001B[1;32m    536\u001B[0m \u001B[38;5;28;01mreturn\u001B[39;00m \u001B[38;5;28mself\u001B[39m\u001B[38;5;241m.\u001B[39msteps[\u001B[38;5;241m-\u001B[39m\u001B[38;5;241m1\u001B[39m][\u001B[38;5;241m1\u001B[39m]\u001B[38;5;241m.\u001B[39mpredict_proba(Xt, \u001B[38;5;241m*\u001B[39m\u001B[38;5;241m*\u001B[39mpredict_proba_params)\n",
      "File \u001B[0;32m~/PycharmProjects/Physionet_Challenge_2021/venv/lib/python3.9/site-packages/sklearn/preprocessing/_data.py:496\u001B[0m, in \u001B[0;36mMinMaxScaler.transform\u001B[0;34m(self, X)\u001B[0m\n\u001B[1;32m    482\u001B[0m \u001B[38;5;124;03m\"\"\"Scale features of X according to feature_range.\u001B[39;00m\n\u001B[1;32m    483\u001B[0m \n\u001B[1;32m    484\u001B[0m \u001B[38;5;124;03mParameters\u001B[39;00m\n\u001B[0;32m   (...)\u001B[0m\n\u001B[1;32m    492\u001B[0m \u001B[38;5;124;03m    Transformed data.\u001B[39;00m\n\u001B[1;32m    493\u001B[0m \u001B[38;5;124;03m\"\"\"\u001B[39;00m\n\u001B[1;32m    494\u001B[0m check_is_fitted(\u001B[38;5;28mself\u001B[39m)\n\u001B[0;32m--> 496\u001B[0m X \u001B[38;5;241m=\u001B[39m \u001B[38;5;28;43mself\u001B[39;49m\u001B[38;5;241;43m.\u001B[39;49m\u001B[43m_validate_data\u001B[49m\u001B[43m(\u001B[49m\n\u001B[1;32m    497\u001B[0m \u001B[43m    \u001B[49m\u001B[43mX\u001B[49m\u001B[43m,\u001B[49m\n\u001B[1;32m    498\u001B[0m \u001B[43m    \u001B[49m\u001B[43mcopy\u001B[49m\u001B[38;5;241;43m=\u001B[39;49m\u001B[38;5;28;43mself\u001B[39;49m\u001B[38;5;241;43m.\u001B[39;49m\u001B[43mcopy\u001B[49m\u001B[43m,\u001B[49m\n\u001B[1;32m    499\u001B[0m \u001B[43m    \u001B[49m\u001B[43mdtype\u001B[49m\u001B[38;5;241;43m=\u001B[39;49m\u001B[43mFLOAT_DTYPES\u001B[49m\u001B[43m,\u001B[49m\n\u001B[1;32m    500\u001B[0m \u001B[43m    \u001B[49m\u001B[43mforce_all_finite\u001B[49m\u001B[38;5;241;43m=\u001B[39;49m\u001B[38;5;124;43m\"\u001B[39;49m\u001B[38;5;124;43mallow-nan\u001B[39;49m\u001B[38;5;124;43m\"\u001B[39;49m\u001B[43m,\u001B[49m\n\u001B[1;32m    501\u001B[0m \u001B[43m    \u001B[49m\u001B[43mreset\u001B[49m\u001B[38;5;241;43m=\u001B[39;49m\u001B[38;5;28;43;01mFalse\u001B[39;49;00m\u001B[43m,\u001B[49m\n\u001B[1;32m    502\u001B[0m \u001B[43m\u001B[49m\u001B[43m)\u001B[49m\n\u001B[1;32m    504\u001B[0m X \u001B[38;5;241m*\u001B[39m\u001B[38;5;241m=\u001B[39m \u001B[38;5;28mself\u001B[39m\u001B[38;5;241m.\u001B[39mscale_\n\u001B[1;32m    505\u001B[0m X \u001B[38;5;241m+\u001B[39m\u001B[38;5;241m=\u001B[39m \u001B[38;5;28mself\u001B[39m\u001B[38;5;241m.\u001B[39mmin_\n",
      "File \u001B[0;32m~/PycharmProjects/Physionet_Challenge_2021/venv/lib/python3.9/site-packages/sklearn/base.py:585\u001B[0m, in \u001B[0;36mBaseEstimator._validate_data\u001B[0;34m(self, X, y, reset, validate_separately, **check_params)\u001B[0m\n\u001B[1;32m    582\u001B[0m     out \u001B[38;5;241m=\u001B[39m X, y\n\u001B[1;32m    584\u001B[0m \u001B[38;5;28;01mif\u001B[39;00m \u001B[38;5;129;01mnot\u001B[39;00m no_val_X \u001B[38;5;129;01mand\u001B[39;00m check_params\u001B[38;5;241m.\u001B[39mget(\u001B[38;5;124m\"\u001B[39m\u001B[38;5;124mensure_2d\u001B[39m\u001B[38;5;124m\"\u001B[39m, \u001B[38;5;28;01mTrue\u001B[39;00m):\n\u001B[0;32m--> 585\u001B[0m     \u001B[38;5;28;43mself\u001B[39;49m\u001B[38;5;241;43m.\u001B[39;49m\u001B[43m_check_n_features\u001B[49m\u001B[43m(\u001B[49m\u001B[43mX\u001B[49m\u001B[43m,\u001B[49m\u001B[43m \u001B[49m\u001B[43mreset\u001B[49m\u001B[38;5;241;43m=\u001B[39;49m\u001B[43mreset\u001B[49m\u001B[43m)\u001B[49m\n\u001B[1;32m    587\u001B[0m \u001B[38;5;28;01mreturn\u001B[39;00m out\n",
      "File \u001B[0;32m~/PycharmProjects/Physionet_Challenge_2021/venv/lib/python3.9/site-packages/sklearn/base.py:400\u001B[0m, in \u001B[0;36mBaseEstimator._check_n_features\u001B[0;34m(self, X, reset)\u001B[0m\n\u001B[1;32m    397\u001B[0m     \u001B[38;5;28;01mreturn\u001B[39;00m\n\u001B[1;32m    399\u001B[0m \u001B[38;5;28;01mif\u001B[39;00m n_features \u001B[38;5;241m!=\u001B[39m \u001B[38;5;28mself\u001B[39m\u001B[38;5;241m.\u001B[39mn_features_in_:\n\u001B[0;32m--> 400\u001B[0m     \u001B[38;5;28;01mraise\u001B[39;00m \u001B[38;5;167;01mValueError\u001B[39;00m(\n\u001B[1;32m    401\u001B[0m         \u001B[38;5;124mf\u001B[39m\u001B[38;5;124m\"\u001B[39m\u001B[38;5;124mX has \u001B[39m\u001B[38;5;132;01m{\u001B[39;00mn_features\u001B[38;5;132;01m}\u001B[39;00m\u001B[38;5;124m features, but \u001B[39m\u001B[38;5;132;01m{\u001B[39;00m\u001B[38;5;28mself\u001B[39m\u001B[38;5;241m.\u001B[39m\u001B[38;5;18m__class__\u001B[39m\u001B[38;5;241m.\u001B[39m\u001B[38;5;18m__name__\u001B[39m\u001B[38;5;132;01m}\u001B[39;00m\u001B[38;5;124m \u001B[39m\u001B[38;5;124m\"\u001B[39m\n\u001B[1;32m    402\u001B[0m         \u001B[38;5;124mf\u001B[39m\u001B[38;5;124m\"\u001B[39m\u001B[38;5;124mis expecting \u001B[39m\u001B[38;5;132;01m{\u001B[39;00m\u001B[38;5;28mself\u001B[39m\u001B[38;5;241m.\u001B[39mn_features_in_\u001B[38;5;132;01m}\u001B[39;00m\u001B[38;5;124m features as input.\u001B[39m\u001B[38;5;124m\"\u001B[39m\n\u001B[1;32m    403\u001B[0m     )\n",
      "\u001B[0;31mValueError\u001B[0m: X has 199 features, but MinMaxScaler is expecting 198 features as input."
     ]
    }
   ],
   "source": [
    "test_result = pipe.predict_proba(test)\n",
    "test_result = result_predict_prob_to_dataFrame(test_result, test)\n",
    "test_result"
   ],
   "metadata": {
    "collapsed": false,
    "pycharm": {
     "name": "#%%\n"
    }
   }
  },
  {
   "cell_type": "markdown",
   "source": [
    "Training for nan value"
   ],
   "metadata": {
    "collapsed": false,
    "pycharm": {
     "name": "#%% md\n"
    }
   }
  },
  {
   "cell_type": "code",
   "execution_count": null,
   "outputs": [],
   "source": [
    "train_org = pd.read_csv('data/train.csv')\n",
    "train, _, _ = get_prepared_data(train_org, number_of_history_matches=1)\n",
    "test_org = pd.read_csv('data/test.csv')\n",
    "test_history_1, _, _ = get_prepared_data(test_org, number_of_history_matches=1,\n",
    "                                         league_mean_ratting_all=league_mean_ratting_all,\n",
    "                                         teams_mean_ratting_all=teams_ratting_all)\n",
    "test_history_1 = not_duplicate_elements_in_dataframes(test_history_1.reset_index(), test)\n",
    "test_history_1"
   ],
   "metadata": {
    "collapsed": false,
    "pycharm": {
     "name": "#%%\n"
    }
   }
  },
  {
   "cell_type": "code",
   "execution_count": null,
   "outputs": [],
   "source": [
    "target = train['target']\n",
    "X_train_org = train.drop('target', axis=1)\n",
    "pipe = make_pipeline(MinMaxScaler(),\n",
    "                     LogisticRegression(random_state=0, solver='lbfgs', multi_class='ovr', max_iter=1000, n_jobs=-1))\n",
    "pipe.fit(X_train_org, target)"
   ],
   "metadata": {
    "collapsed": false,
    "pycharm": {
     "name": "#%%\n"
    }
   }
  },
  {
   "cell_type": "code",
   "execution_count": null,
   "outputs": [],
   "source": [
    "test_result_history_1 = pipe.predict_proba(test_history_1)\n",
    "test_result_history_1 = result_predict_prob_to_dataFrame(test_result_history_1, test_history_1)\n",
    "test_result_history_1"
   ],
   "metadata": {
    "collapsed": false,
    "pycharm": {
     "name": "#%%\n"
    }
   }
  },
  {
   "cell_type": "code",
   "execution_count": null,
   "outputs": [],
   "source": [
    "from prepared_data.prepared_test_results import append_test_results\n",
    "\n",
    "test_result_learn = append_test_results(test_result_history_1, test_result)\n",
    "test_result_learn"
   ],
   "metadata": {
    "collapsed": false,
    "pycharm": {
     "name": "#%%\n"
    }
   }
  },
  {
   "cell_type": "code",
   "execution_count": null,
   "outputs": [],
   "source": [
    "from prepared_data.prepared_test_results import completed_test_result_and_save\n",
    "\n",
    "result_all = completed_test_result_and_save(test_org, test_result_learn, 'logist_regression_history_8_+_1')\n",
    "result_all.shape[0] == test_org.shape[0]\n"
   ],
   "metadata": {
    "collapsed": false,
    "pycharm": {
     "name": "#%%\n"
    }
   }
  }
 ],
 "metadata": {
  "kernelspec": {
   "display_name": "Python 3",
   "language": "python",
   "name": "python3"
  },
  "language_info": {
   "codemirror_mode": {
    "name": "ipython",
    "version": 2
   },
   "file_extension": ".py",
   "mimetype": "text/x-python",
   "name": "python",
   "nbconvert_exporter": "python",
   "pygments_lexer": "ipython2",
   "version": "2.7.6"
  }
 },
 "nbformat": 4,
 "nbformat_minor": 0
}