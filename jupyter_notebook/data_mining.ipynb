{
 "cells": [
  {
   "cell_type": "code",
   "execution_count": 3,
   "outputs": [
    {
     "name": "stderr",
     "output_type": "stream",
     "text": [
      "/home/andrzej/PycharmProjects/Physionet_Challenge_2021/venv/lib/python3.9/site-packages/IPython/core/interactiveshell.py:3251: DtypeWarning: Columns (7) have mixed types.Specify dtype option on import or set low_memory=False.\n",
      "  exec(code_obj, self.user_global_ns, self.user_ns)\n"
     ]
    }
   ],
   "source": [
    "import pandas as pd\n",
    "\n",
    "train_org = pd.read_csv('../data/train.csv')\n",
    "train = train_org.copy()"
   ],
   "metadata": {
    "collapsed": false,
    "pycharm": {
     "name": "#%%\n"
    }
   }
  },
  {
   "cell_type": "code",
   "execution_count": 4,
   "outputs": [
    {
     "data": {
      "text/plain": "array([ 752,  708,  764,  702,  687,  800,  770, 1616,  663])"
     },
     "execution_count": 4,
     "metadata": {},
     "output_type": "execute_result"
    }
   ],
   "source": [
    "train[train['league_name'] == 'Primera Division']['league_id'].unique()\n"
   ],
   "metadata": {
    "collapsed": false,
    "pycharm": {
     "name": "#%%\n"
    }
   }
  },
  {
   "cell_type": "code",
   "execution_count": 5,
   "outputs": [
    {
     "name": "stdout",
     "output_type": "stream",
     "text": [
      "not historical value: \n",
      "['id', 'target', 'home_team_name', 'away_team_name', 'match_date', 'league_name', 'league_id', 'is_cup', 'home_team_coach_id', 'away_team_coach_id']\n",
      "first historical value: \n",
      "['home_team_history_match_date_1', 'home_team_history_is_play_home_1', 'home_team_history_is_cup_1', 'home_team_history_goal_1', 'home_team_history_opponent_goal_1', 'home_team_history_rating_1', 'home_team_history_opponent_rating_1', 'home_team_history_coach_1', 'home_team_history_league_id_1', 'away_team_history_match_date_1', 'away_team_history_is_play_home_1', 'away_team_history_is_cup_1', 'away_team_history_goal_1', 'away_team_history_opponent_goal_1', 'away_team_history_rating_1', 'away_team_history_opponent_rating_1', 'away_team_history_coach_1', 'away_team_history_league_id_1']\n"
     ]
    }
   ],
   "source": [
    "import re\n",
    "\n",
    "print('not historical value: ')\n",
    "current_match_columns = [column for column in train.columns.values if 'history' not in column]\n",
    "print(current_match_columns)\n",
    "print('first historical value: ')\n",
    "used = set()\n",
    "columns_only_first_hist = [column for column in train.columns.values if\n",
    "                           re.sub('\\d', '', column) not in used and (used.add(re.sub('\\d', '', column)) or True)]\n",
    "print(columns_only_first_hist[len(current_match_columns):])\n"
   ],
   "metadata": {
    "collapsed": false,
    "pycharm": {
     "name": "#%%\n"
    }
   }
  },
  {
   "cell_type": "markdown",
   "source": [
    "Data type"
   ],
   "metadata": {
    "collapsed": false,
    "pycharm": {
     "name": "#%% md\n"
    }
   }
  },
  {
   "cell_type": "code",
   "execution_count": 6,
   "outputs": [
    {
     "name": "stdout",
     "output_type": "stream",
     "text": [
      "<class 'pandas.core.frame.DataFrame'>\n",
      "RangeIndex: 110938 entries, 0 to 110937\n",
      "Columns: 190 entries, id to away_team_history_league_id_10\n",
      "dtypes: float64(162), int64(2), object(26)\n",
      "memory usage: 160.8+ MB\n"
     ]
    }
   ],
   "source": [
    "train.info()"
   ],
   "metadata": {
    "collapsed": false,
    "pycharm": {
     "name": "#%%\n"
    }
   }
  },
  {
   "cell_type": "code",
   "execution_count": 7,
   "outputs": [
    {
     "data": {
      "text/plain": "              id target      home_team_name         away_team_name  \\\n0       11906497   away   Newell's Old Boys            River Plate   \n1       11984383   home         Real Estelí  Deportivo Las Sabanas   \n2       11983301   draw               UPNFM               Marathón   \n3       11983471   away                León                Morelia   \n4       11883005   home      Cobán Imperial                 Iztapa   \n...          ...    ...                 ...                    ...   \n110933  18030016   draw  Zamora Fútbol Club    Hermanos Colmenares   \n110934  18030096   away          Royal Pari      Oriente Petrolero   \n110935  17715497   draw        São Bernardo             Água Santa   \n110936  17944153   away             Everton              La Serena   \n110937  17786297   home               Colón     Arsenal de Sarandi   \n\n                match_date          league_name  league_id is_cup  \\\n0      2019-12-01 00:45:00            Superliga        636  False   \n1      2019-12-01 01:00:00     Primera Division        752  False   \n2      2019-12-01 01:00:00        Liga Nacional        734  False   \n3      2019-12-01 01:00:00              Liga MX        743  False   \n4      2019-12-01 01:00:00        Liga Nacional        705  False   \n...                    ...                  ...        ...    ...   \n110933 2021-04-30 23:00:00     Primera Division        800  False   \n110934 2021-04-30 23:00:00  Liga De Futbol Prof       1098  False   \n110935 2021-04-30 23:00:00          Paulista A2       1314  False   \n110936 2021-05-01 00:00:00     Primera Division        663  False   \n110937 2021-05-01 00:00:00            Superliga        636  False   \n\n        home_team_coach_id  away_team_coach_id  ...  \\\n0                 468196.0            468200.0  ...   \n1                 516788.0          22169161.0  ...   \n2                2510608.0            456313.0  ...   \n3                1552508.0            465797.0  ...   \n4                 429958.0            426870.0  ...   \n...                    ...                 ...  ...   \n110933           7708122.0          37564088.0  ...   \n110934            465833.0          16488543.0  ...   \n110935           8416491.0            528562.0  ...   \n110936           6973085.0            471757.0  ...   \n110937            213970.0            470859.0  ...   \n\n       away_team_history_league_id_1 away_team_history_league_id_2  \\\n0                             1122.0                         642.0   \n1                              752.0                         752.0   \n2                              734.0                         734.0   \n3                              743.0                         743.0   \n4                              705.0                         705.0   \n...                              ...                           ...   \n110933                         800.0                         800.0   \n110934                        1098.0                        1098.0   \n110935                        1314.0                        1314.0   \n110936                         663.0                         663.0   \n110937                        1116.0                         636.0   \n\n       away_team_history_league_id_3 away_team_history_league_id_4  \\\n0                              636.0                         636.0   \n1                              752.0                         752.0   \n2                              734.0                         734.0   \n3                              743.0                         743.0   \n4                              705.0                         705.0   \n...                              ...                           ...   \n110933                        1101.0                        1101.0   \n110934                        1098.0                        1098.0   \n110935                        1314.0                        1314.0   \n110936                         663.0                         663.0   \n110937                        1116.0                         636.0   \n\n       away_team_history_league_id_5 away_team_history_league_id_6  \\\n0                              636.0                        1122.0   \n1                              752.0                         752.0   \n2                              734.0                         734.0   \n3                              743.0                         743.0   \n4                              705.0                         705.0   \n...                              ...                           ...   \n110933                         803.0                         803.0   \n110934                        1098.0                        1098.0   \n110935                        1314.0                        1314.0   \n110936                         663.0                         663.0   \n110937                         636.0                         636.0   \n\n       away_team_history_league_id_7 away_team_history_league_id_8  \\\n0                              636.0                         642.0   \n1                              752.0                         752.0   \n2                              734.0                         734.0   \n3                              743.0                         743.0   \n4                              705.0                         705.0   \n...                              ...                           ...   \n110933                         803.0                         803.0   \n110934                        1098.0                        1098.0   \n110935                        1314.0                        1314.0   \n110936                         663.0                         663.0   \n110937                         636.0                         636.0   \n\n       away_team_history_league_id_9 away_team_history_league_id_10  \n0                              636.0                         1122.0  \n1                              752.0                          752.0  \n2                              734.0                          734.0  \n3                              746.0                          743.0  \n4                              705.0                          705.0  \n...                              ...                            ...  \n110933                         803.0                          803.0  \n110934                        1098.0                         1098.0  \n110935                        1746.0                         1746.0  \n110936                         663.0                          663.0  \n110937                         636.0                          636.0  \n\n[110938 rows x 190 columns]",
      "text/html": "<div>\n<style scoped>\n    .dataframe tbody tr th:only-of-type {\n        vertical-align: middle;\n    }\n\n    .dataframe tbody tr th {\n        vertical-align: top;\n    }\n\n    .dataframe thead th {\n        text-align: right;\n    }\n</style>\n<table border=\"1\" class=\"dataframe\">\n  <thead>\n    <tr style=\"text-align: right;\">\n      <th></th>\n      <th>id</th>\n      <th>target</th>\n      <th>home_team_name</th>\n      <th>away_team_name</th>\n      <th>match_date</th>\n      <th>league_name</th>\n      <th>league_id</th>\n      <th>is_cup</th>\n      <th>home_team_coach_id</th>\n      <th>away_team_coach_id</th>\n      <th>...</th>\n      <th>away_team_history_league_id_1</th>\n      <th>away_team_history_league_id_2</th>\n      <th>away_team_history_league_id_3</th>\n      <th>away_team_history_league_id_4</th>\n      <th>away_team_history_league_id_5</th>\n      <th>away_team_history_league_id_6</th>\n      <th>away_team_history_league_id_7</th>\n      <th>away_team_history_league_id_8</th>\n      <th>away_team_history_league_id_9</th>\n      <th>away_team_history_league_id_10</th>\n    </tr>\n  </thead>\n  <tbody>\n    <tr>\n      <th>0</th>\n      <td>11906497</td>\n      <td>away</td>\n      <td>Newell's Old Boys</td>\n      <td>River Plate</td>\n      <td>2019-12-01 00:45:00</td>\n      <td>Superliga</td>\n      <td>636</td>\n      <td>False</td>\n      <td>468196.0</td>\n      <td>468200.0</td>\n      <td>...</td>\n      <td>1122.0</td>\n      <td>642.0</td>\n      <td>636.0</td>\n      <td>636.0</td>\n      <td>636.0</td>\n      <td>1122.0</td>\n      <td>636.0</td>\n      <td>642.0</td>\n      <td>636.0</td>\n      <td>1122.0</td>\n    </tr>\n    <tr>\n      <th>1</th>\n      <td>11984383</td>\n      <td>home</td>\n      <td>Real Estelí</td>\n      <td>Deportivo Las Sabanas</td>\n      <td>2019-12-01 01:00:00</td>\n      <td>Primera Division</td>\n      <td>752</td>\n      <td>False</td>\n      <td>516788.0</td>\n      <td>22169161.0</td>\n      <td>...</td>\n      <td>752.0</td>\n      <td>752.0</td>\n      <td>752.0</td>\n      <td>752.0</td>\n      <td>752.0</td>\n      <td>752.0</td>\n      <td>752.0</td>\n      <td>752.0</td>\n      <td>752.0</td>\n      <td>752.0</td>\n    </tr>\n    <tr>\n      <th>2</th>\n      <td>11983301</td>\n      <td>draw</td>\n      <td>UPNFM</td>\n      <td>Marathón</td>\n      <td>2019-12-01 01:00:00</td>\n      <td>Liga Nacional</td>\n      <td>734</td>\n      <td>False</td>\n      <td>2510608.0</td>\n      <td>456313.0</td>\n      <td>...</td>\n      <td>734.0</td>\n      <td>734.0</td>\n      <td>734.0</td>\n      <td>734.0</td>\n      <td>734.0</td>\n      <td>734.0</td>\n      <td>734.0</td>\n      <td>734.0</td>\n      <td>734.0</td>\n      <td>734.0</td>\n    </tr>\n    <tr>\n      <th>3</th>\n      <td>11983471</td>\n      <td>away</td>\n      <td>León</td>\n      <td>Morelia</td>\n      <td>2019-12-01 01:00:00</td>\n      <td>Liga MX</td>\n      <td>743</td>\n      <td>False</td>\n      <td>1552508.0</td>\n      <td>465797.0</td>\n      <td>...</td>\n      <td>743.0</td>\n      <td>743.0</td>\n      <td>743.0</td>\n      <td>743.0</td>\n      <td>743.0</td>\n      <td>743.0</td>\n      <td>743.0</td>\n      <td>743.0</td>\n      <td>746.0</td>\n      <td>743.0</td>\n    </tr>\n    <tr>\n      <th>4</th>\n      <td>11883005</td>\n      <td>home</td>\n      <td>Cobán Imperial</td>\n      <td>Iztapa</td>\n      <td>2019-12-01 01:00:00</td>\n      <td>Liga Nacional</td>\n      <td>705</td>\n      <td>False</td>\n      <td>429958.0</td>\n      <td>426870.0</td>\n      <td>...</td>\n      <td>705.0</td>\n      <td>705.0</td>\n      <td>705.0</td>\n      <td>705.0</td>\n      <td>705.0</td>\n      <td>705.0</td>\n      <td>705.0</td>\n      <td>705.0</td>\n      <td>705.0</td>\n      <td>705.0</td>\n    </tr>\n    <tr>\n      <th>...</th>\n      <td>...</td>\n      <td>...</td>\n      <td>...</td>\n      <td>...</td>\n      <td>...</td>\n      <td>...</td>\n      <td>...</td>\n      <td>...</td>\n      <td>...</td>\n      <td>...</td>\n      <td>...</td>\n      <td>...</td>\n      <td>...</td>\n      <td>...</td>\n      <td>...</td>\n      <td>...</td>\n      <td>...</td>\n      <td>...</td>\n      <td>...</td>\n      <td>...</td>\n      <td>...</td>\n    </tr>\n    <tr>\n      <th>110933</th>\n      <td>18030016</td>\n      <td>draw</td>\n      <td>Zamora Fútbol Club</td>\n      <td>Hermanos Colmenares</td>\n      <td>2021-04-30 23:00:00</td>\n      <td>Primera Division</td>\n      <td>800</td>\n      <td>False</td>\n      <td>7708122.0</td>\n      <td>37564088.0</td>\n      <td>...</td>\n      <td>800.0</td>\n      <td>800.0</td>\n      <td>1101.0</td>\n      <td>1101.0</td>\n      <td>803.0</td>\n      <td>803.0</td>\n      <td>803.0</td>\n      <td>803.0</td>\n      <td>803.0</td>\n      <td>803.0</td>\n    </tr>\n    <tr>\n      <th>110934</th>\n      <td>18030096</td>\n      <td>away</td>\n      <td>Royal Pari</td>\n      <td>Oriente Petrolero</td>\n      <td>2021-04-30 23:00:00</td>\n      <td>Liga De Futbol Prof</td>\n      <td>1098</td>\n      <td>False</td>\n      <td>465833.0</td>\n      <td>16488543.0</td>\n      <td>...</td>\n      <td>1098.0</td>\n      <td>1098.0</td>\n      <td>1098.0</td>\n      <td>1098.0</td>\n      <td>1098.0</td>\n      <td>1098.0</td>\n      <td>1098.0</td>\n      <td>1098.0</td>\n      <td>1098.0</td>\n      <td>1098.0</td>\n    </tr>\n    <tr>\n      <th>110935</th>\n      <td>17715497</td>\n      <td>draw</td>\n      <td>São Bernardo</td>\n      <td>Água Santa</td>\n      <td>2021-04-30 23:00:00</td>\n      <td>Paulista A2</td>\n      <td>1314</td>\n      <td>False</td>\n      <td>8416491.0</td>\n      <td>528562.0</td>\n      <td>...</td>\n      <td>1314.0</td>\n      <td>1314.0</td>\n      <td>1314.0</td>\n      <td>1314.0</td>\n      <td>1314.0</td>\n      <td>1314.0</td>\n      <td>1314.0</td>\n      <td>1314.0</td>\n      <td>1746.0</td>\n      <td>1746.0</td>\n    </tr>\n    <tr>\n      <th>110936</th>\n      <td>17944153</td>\n      <td>away</td>\n      <td>Everton</td>\n      <td>La Serena</td>\n      <td>2021-05-01 00:00:00</td>\n      <td>Primera Division</td>\n      <td>663</td>\n      <td>False</td>\n      <td>6973085.0</td>\n      <td>471757.0</td>\n      <td>...</td>\n      <td>663.0</td>\n      <td>663.0</td>\n      <td>663.0</td>\n      <td>663.0</td>\n      <td>663.0</td>\n      <td>663.0</td>\n      <td>663.0</td>\n      <td>663.0</td>\n      <td>663.0</td>\n      <td>663.0</td>\n    </tr>\n    <tr>\n      <th>110937</th>\n      <td>17786297</td>\n      <td>home</td>\n      <td>Colón</td>\n      <td>Arsenal de Sarandi</td>\n      <td>2021-05-01 00:00:00</td>\n      <td>Superliga</td>\n      <td>636</td>\n      <td>False</td>\n      <td>213970.0</td>\n      <td>470859.0</td>\n      <td>...</td>\n      <td>1116.0</td>\n      <td>636.0</td>\n      <td>1116.0</td>\n      <td>636.0</td>\n      <td>636.0</td>\n      <td>636.0</td>\n      <td>636.0</td>\n      <td>636.0</td>\n      <td>636.0</td>\n      <td>636.0</td>\n    </tr>\n  </tbody>\n</table>\n<p>110938 rows × 190 columns</p>\n</div>"
     },
     "execution_count": 7,
     "metadata": {},
     "output_type": "execute_result"
    }
   ],
   "source": [
    "date_columns = [column for column in train.columns.values if 'date' in column]\n",
    "train[date_columns] = train[date_columns].astype('datetime64')\n",
    "train.select_dtypes(include=[object]).columns\n",
    "train"
   ],
   "metadata": {
    "collapsed": false,
    "pycharm": {
     "name": "#%%\n"
    }
   }
  },
  {
   "cell_type": "code",
   "execution_count": 8,
   "outputs": [
    {
     "name": "stdout",
     "output_type": "stream",
     "text": [
      "<class 'pandas.core.frame.DataFrame'>\n",
      "RangeIndex: 110938 entries, 0 to 110937\n",
      "Columns: 190 entries, id to away_team_history_league_id_10\n",
      "dtypes: datetime64[ns](21), float64(162), int64(2), object(5)\n",
      "memory usage: 160.8+ MB\n"
     ]
    }
   ],
   "source": [
    "train['is_cup'] = train['is_cup'].astype('int', errors='ignore').fillna(0)\n",
    "train.info()"
   ],
   "metadata": {
    "collapsed": false,
    "pycharm": {
     "name": "#%%\n"
    }
   }
  },
  {
   "cell_type": "markdown",
   "source": [
    "# Completely missing data"
   ],
   "metadata": {
    "collapsed": false,
    "pycharm": {
     "name": "#%% md\n"
    }
   }
  },
  {
   "cell_type": "code",
   "execution_count": 9,
   "outputs": [
    {
     "name": "stdout",
     "output_type": "stream",
     "text": [
      "percent of object with nan value:  42.20\n"
     ]
    }
   ],
   "source": [
    "def check_prosense_nan_values(data, data_org):\n",
    "    print('percent of object with nan value: ',\n",
    "          f'{(data_org.shape[0] - data.dropna().shape[0]) / data_org.shape[0] * 100.:0.2f}')\n",
    "\n",
    "\n",
    "check_prosense_nan_values(train, train_org)"
   ],
   "metadata": {
    "collapsed": false,
    "pycharm": {
     "name": "#%%\n"
    }
   }
  },
  {
   "cell_type": "markdown",
   "source": [
    "Descriptive columns"
   ],
   "metadata": {
    "collapsed": false,
    "pycharm": {
     "name": "#%% md\n"
    }
   }
  },
  {
   "cell_type": "code",
   "execution_count": 10,
   "outputs": [
    {
     "data": {
      "text/plain": "                    Presence of nan value\nid                               0.000000\ntarget                           0.000000\nhome_team_name                   0.000009\naway_team_name                   0.000009\nmatch_date                       0.000000\nleague_name                      0.000009\nleague_id                        0.000000\nis_cup                           0.000000\nhome_team_coach_id               0.195794\naway_team_coach_id               0.196641",
      "text/html": "<div>\n<style scoped>\n    .dataframe tbody tr th:only-of-type {\n        vertical-align: middle;\n    }\n\n    .dataframe tbody tr th {\n        vertical-align: top;\n    }\n\n    .dataframe thead th {\n        text-align: right;\n    }\n</style>\n<table border=\"1\" class=\"dataframe\">\n  <thead>\n    <tr style=\"text-align: right;\">\n      <th></th>\n      <th>Presence of nan value</th>\n    </tr>\n  </thead>\n  <tbody>\n    <tr>\n      <th>id</th>\n      <td>0.000000</td>\n    </tr>\n    <tr>\n      <th>target</th>\n      <td>0.000000</td>\n    </tr>\n    <tr>\n      <th>home_team_name</th>\n      <td>0.000009</td>\n    </tr>\n    <tr>\n      <th>away_team_name</th>\n      <td>0.000009</td>\n    </tr>\n    <tr>\n      <th>match_date</th>\n      <td>0.000000</td>\n    </tr>\n    <tr>\n      <th>league_name</th>\n      <td>0.000009</td>\n    </tr>\n    <tr>\n      <th>league_id</th>\n      <td>0.000000</td>\n    </tr>\n    <tr>\n      <th>is_cup</th>\n      <td>0.000000</td>\n    </tr>\n    <tr>\n      <th>home_team_coach_id</th>\n      <td>0.195794</td>\n    </tr>\n    <tr>\n      <th>away_team_coach_id</th>\n      <td>0.196641</td>\n    </tr>\n  </tbody>\n</table>\n</div>"
     },
     "execution_count": 10,
     "metadata": {},
     "output_type": "execute_result"
    }
   ],
   "source": [
    "pd.DataFrame(train[current_match_columns].isna().sum() / train.shape[0], columns=['Presence of nan value'])"
   ],
   "metadata": {
    "collapsed": false,
    "pycharm": {
     "name": "#%%\n"
    }
   }
  },
  {
   "cell_type": "markdown",
   "source": [
    "Remove all coach id columns because a lot of nan value"
   ],
   "metadata": {
    "collapsed": false,
    "pycharm": {
     "name": "#%% md\n"
    }
   }
  },
  {
   "cell_type": "code",
   "execution_count": 11,
   "outputs": [
    {
     "name": "stdout",
     "output_type": "stream",
     "text": [
      "percent of object with nan value:  18.64\n"
     ]
    }
   ],
   "source": [
    "columns_without_coach_col = [column for column in train.columns if 'coach' not in column]\n",
    "train = train[columns_without_coach_col]\n",
    "check_prosense_nan_values(train, train_org)\n"
   ],
   "metadata": {
    "collapsed": false,
    "pycharm": {
     "name": "#%%\n"
    }
   }
  },
  {
   "cell_type": "markdown",
   "source": [],
   "metadata": {
    "collapsed": false,
    "pycharm": {
     "name": "#%% md\n"
    }
   }
  },
  {
   "cell_type": "code",
   "execution_count": 12,
   "outputs": [
    {
     "data": {
      "text/plain": "                                      Presence of nan value\naway_team_history_is_cup_10                        0.133579\naway_team_history_opponent_rating_10               0.128207\naway_team_history_rating_10                        0.128207\naway_team_history_league_id_10                     0.128144\naway_team_history_opponent_goal_10                 0.128144\n...                                                     ...\nhome_team_history_is_play_home_1                   0.010447\nhome_team_history_goal_1                           0.010447\naway_team_name                                     0.000009\nleague_name                                        0.000009\nhome_team_name                                     0.000009\n\n[163 rows x 1 columns]",
      "text/html": "<div>\n<style scoped>\n    .dataframe tbody tr th:only-of-type {\n        vertical-align: middle;\n    }\n\n    .dataframe tbody tr th {\n        vertical-align: top;\n    }\n\n    .dataframe thead th {\n        text-align: right;\n    }\n</style>\n<table border=\"1\" class=\"dataframe\">\n  <thead>\n    <tr style=\"text-align: right;\">\n      <th></th>\n      <th>Presence of nan value</th>\n    </tr>\n  </thead>\n  <tbody>\n    <tr>\n      <th>away_team_history_is_cup_10</th>\n      <td>0.133579</td>\n    </tr>\n    <tr>\n      <th>away_team_history_opponent_rating_10</th>\n      <td>0.128207</td>\n    </tr>\n    <tr>\n      <th>away_team_history_rating_10</th>\n      <td>0.128207</td>\n    </tr>\n    <tr>\n      <th>away_team_history_league_id_10</th>\n      <td>0.128144</td>\n    </tr>\n    <tr>\n      <th>away_team_history_opponent_goal_10</th>\n      <td>0.128144</td>\n    </tr>\n    <tr>\n      <th>...</th>\n      <td>...</td>\n    </tr>\n    <tr>\n      <th>home_team_history_is_play_home_1</th>\n      <td>0.010447</td>\n    </tr>\n    <tr>\n      <th>home_team_history_goal_1</th>\n      <td>0.010447</td>\n    </tr>\n    <tr>\n      <th>away_team_name</th>\n      <td>0.000009</td>\n    </tr>\n    <tr>\n      <th>league_name</th>\n      <td>0.000009</td>\n    </tr>\n    <tr>\n      <th>home_team_name</th>\n      <td>0.000009</td>\n    </tr>\n  </tbody>\n</table>\n<p>163 rows × 1 columns</p>\n</div>"
     },
     "execution_count": 12,
     "metadata": {},
     "output_type": "execute_result"
    }
   ],
   "source": [
    "prosense_nan_value = pd.DataFrame(train.isna().sum() / train.shape[0], columns=['Presence of nan value'])\n",
    "prosense_nan_value[prosense_nan_value['Presence of nan value'] > 0].sort_values(by='Presence of nan value',\n",
    "                                                                                ascending=False)"
   ],
   "metadata": {
    "collapsed": false,
    "pycharm": {
     "name": "#%%\n"
    }
   }
  },
  {
   "cell_type": "code",
   "execution_count": 13,
   "outputs": [
    {
     "data": {
      "text/plain": "Text(0.5, 1.0, 'Nan values in rows')"
     },
     "execution_count": 13,
     "metadata": {},
     "output_type": "execute_result"
    },
    {
     "data": {
      "text/plain": "<Figure size 432x288 with 1 Axes>",
      "image/png": "[encoded data removed]"
     },
     "metadata": {
      "needs_background": "light"
     },
     "output_type": "display_data"
    }
   ],
   "source": [
    "import numpy as np\n",
    "# import matplotlib.pyplot as plt\n",
    "import seaborn as sns\n",
    "\n",
    "ax = sns.histplot(x=train.isnull().sum(axis=1)[train.isnull().sum(axis=1) > 0])\n",
    "ax.set_xlabel('Number of columns')\n",
    "ax.set_title('Nan values in rows')\n",
    "\n",
    "# procentowa\n"
   ],
   "metadata": {
    "collapsed": false,
    "pycharm": {
     "name": "#%%\n"
    }
   }
  },
  {
   "cell_type": "markdown",
   "source": [
    "Remove object with more than 80 nan value"
   ],
   "metadata": {
    "collapsed": false,
    "pycharm": {
     "name": "#%% md\n"
    }
   }
  },
  {
   "cell_type": "code",
   "execution_count": 14,
   "outputs": [
    {
     "name": "stdout",
     "output_type": "stream",
     "text": [
      "percent of object with nan value:  18.64\n"
     ]
    }
   ],
   "source": [
    "train = train[train.isnull().sum(axis=1) < 80]\n",
    "check_prosense_nan_values(train, train_org)"
   ],
   "metadata": {
    "collapsed": false,
    "pycharm": {
     "name": "#%%\n"
    }
   }
  },
  {
   "cell_type": "markdown",
   "source": [
    "Change nan values to 0 if column name  contain \"is\""
   ],
   "metadata": {
    "collapsed": false,
    "pycharm": {
     "name": "#%% md\n"
    }
   }
  },
  {
   "cell_type": "code",
   "execution_count": 15,
   "outputs": [
    {
     "name": "stdout",
     "output_type": "stream",
     "text": [
      "percent of object with nan value:  17.54\n"
     ]
    }
   ],
   "source": [
    "is_columns = [column for column in train.columns.values if \"is_\" in column]\n",
    "train[is_columns] = train[is_columns].fillna(0)\n",
    "check_prosense_nan_values(train, train_org)"
   ],
   "metadata": {
    "collapsed": false,
    "pycharm": {
     "name": "#%%\n"
    }
   }
  },
  {
   "cell_type": "code",
   "execution_count": 16,
   "outputs": [
    {
     "name": "stdout",
     "output_type": "stream",
     "text": [
      "remove 9 and 10 day historii\n",
      "percent of object with nan value:  14.23\n",
      "remove all nan data\n"
     ]
    },
    {
     "data": {
      "text/plain": "0.85774035948007"
     },
     "execution_count": 16,
     "metadata": {},
     "output_type": "execute_result"
    }
   ],
   "source": [
    "home_columns = [column for column in train.columns.values if 'is_cup' in column]\n",
    "columns_without_9_10_day = [x for x in train.columns.values if '9' not in x and '10' not in x]\n",
    "print('remove 9 and 10 day historii')\n",
    "check_prosense_nan_values(train[columns_without_9_10_day], train_org)\n",
    "train = train[columns_without_9_10_day]\n",
    "train = train.dropna()\n",
    "print('remove all nan data')\n",
    "train.shape[0] / train_org.shape[0]"
   ],
   "metadata": {
    "collapsed": false,
    "pycharm": {
     "name": "#%%\n"
    }
   }
  },
  {
   "cell_type": "markdown",
   "source": [
    "# Convert historical date to date difference"
   ],
   "metadata": {
    "collapsed": false,
    "pycharm": {
     "name": "#%% md\n"
    }
   }
  },
  {
   "cell_type": "code",
   "execution_count": 17,
   "outputs": [
    {
     "data": {
      "text/plain": "              id target      home_team_name         away_team_name  \\\n0       11906497   away   Newell's Old Boys            River Plate   \n1       11984383   home         Real Estelí  Deportivo Las Sabanas   \n2       11983301   draw               UPNFM               Marathón   \n3       11983471   away                León                Morelia   \n4       11883005   home      Cobán Imperial                 Iztapa   \n...          ...    ...                 ...                    ...   \n110933  18030016   draw  Zamora Fútbol Club    Hermanos Colmenares   \n110934  18030096   away          Royal Pari      Oriente Petrolero   \n110935  17715497   draw        São Bernardo             Água Santa   \n110936  17944153   away             Everton              La Serena   \n110937  17786297   home               Colón     Arsenal de Sarandi   \n\n                match_date          league_name  league_id is_cup  \\\n0      2019-12-01 00:45:00            Superliga        636  False   \n1      2019-12-01 01:00:00     Primera Division        752  False   \n2      2019-12-01 01:00:00        Liga Nacional        734  False   \n3      2019-12-01 01:00:00              Liga MX        743  False   \n4      2019-12-01 01:00:00        Liga Nacional        705  False   \n...                    ...                  ...        ...    ...   \n110933 2021-04-30 23:00:00     Primera Division        800  False   \n110934 2021-04-30 23:00:00  Liga De Futbol Prof       1098  False   \n110935 2021-04-30 23:00:00          Paulista A2       1314  False   \n110936 2021-05-01 00:00:00     Primera Division        663  False   \n110937 2021-05-01 00:00:00            Superliga        636  False   \n\n        home_team_history_match_date_1  home_team_history_match_date_2  ...  \\\n0                                  120                             365  ...   \n1                                   76                              92  ...   \n2                                   71                             167  ...   \n3                                   72                             117  ...   \n4                                   79                              89  ...   \n...                                ...                             ...  ...   \n110933                             168                             120  ...   \n110934                             167                             340  ...   \n110935                              48                              94  ...   \n110936                             168                             125  ...   \n110937                             125                             162  ...   \n\n        away_team_history_opponent_rating_7  \\\n0                                  4.570225   \n1                                  6.871904   \n2                                  4.650054   \n3                                  7.483589   \n4                                  8.935007   \n...                                     ...   \n110933                             5.875017   \n110934                             4.510164   \n110935                             3.257969   \n110936                             6.378186   \n110937                             6.216542   \n\n        away_team_history_opponent_rating_8  away_team_history_league_id_1  \\\n0                                  2.843268                         1122.0   \n1                                  5.716200                          752.0   \n2                                  5.284983                          734.0   \n3                                  5.587387                          743.0   \n4                                  5.888077                          705.0   \n...                                     ...                            ...   \n110933                             6.233200                          800.0   \n110934                             3.885800                         1098.0   \n110935                             4.472350                         1314.0   \n110936                             6.726760                          663.0   \n110937                             5.783800                         1116.0   \n\n        away_team_history_league_id_2  away_team_history_league_id_3  \\\n0                               642.0                          636.0   \n1                               752.0                          752.0   \n2                               734.0                          734.0   \n3                               743.0                          743.0   \n4                               705.0                          705.0   \n...                               ...                            ...   \n110933                          800.0                         1101.0   \n110934                         1098.0                         1098.0   \n110935                         1314.0                         1314.0   \n110936                          663.0                          663.0   \n110937                          636.0                         1116.0   \n\n        away_team_history_league_id_4  away_team_history_league_id_5  \\\n0                               636.0                          636.0   \n1                               752.0                          752.0   \n2                               734.0                          734.0   \n3                               743.0                          743.0   \n4                               705.0                          705.0   \n...                               ...                            ...   \n110933                         1101.0                          803.0   \n110934                         1098.0                         1098.0   \n110935                         1314.0                         1314.0   \n110936                          663.0                          663.0   \n110937                          636.0                          636.0   \n\n        away_team_history_league_id_6  away_team_history_league_id_7  \\\n0                              1122.0                          636.0   \n1                               752.0                          752.0   \n2                               734.0                          734.0   \n3                               743.0                          743.0   \n4                               705.0                          705.0   \n...                               ...                            ...   \n110933                          803.0                          803.0   \n110934                         1098.0                         1098.0   \n110935                         1314.0                         1314.0   \n110936                          663.0                          663.0   \n110937                          636.0                          636.0   \n\n        away_team_history_league_id_8  \n0                               642.0  \n1                               752.0  \n2                               734.0  \n3                               743.0  \n4                               705.0  \n...                               ...  \n110933                          803.0  \n110934                         1098.0  \n110935                         1314.0  \n110936                          663.0  \n110937                          636.0  \n\n[95156 rows x 136 columns]",
      "text/html": "<div>\n<style scoped>\n    .dataframe tbody tr th:only-of-type {\n        vertical-align: middle;\n    }\n\n    .dataframe tbody tr th {\n        vertical-align: top;\n    }\n\n    .dataframe thead th {\n        text-align: right;\n    }\n</style>\n<table border=\"1\" class=\"dataframe\">\n  <thead>\n    <tr style=\"text-align: right;\">\n      <th></th>\n      <th>id</th>\n      <th>target</th>\n      <th>home_team_name</th>\n      <th>away_team_name</th>\n      <th>match_date</th>\n      <th>league_name</th>\n      <th>league_id</th>\n      <th>is_cup</th>\n      <th>home_team_history_match_date_1</th>\n      <th>home_team_history_match_date_2</th>\n      <th>...</th>\n      <th>away_team_history_opponent_rating_7</th>\n      <th>away_team_history_opponent_rating_8</th>\n      <th>away_team_history_league_id_1</th>\n      <th>away_team_history_league_id_2</th>\n      <th>away_team_history_league_id_3</th>\n      <th>away_team_history_league_id_4</th>\n      <th>away_team_history_league_id_5</th>\n      <th>away_team_history_league_id_6</th>\n      <th>away_team_history_league_id_7</th>\n      <th>away_team_history_league_id_8</th>\n    </tr>\n  </thead>\n  <tbody>\n    <tr>\n      <th>0</th>\n      <td>11906497</td>\n      <td>away</td>\n      <td>Newell's Old Boys</td>\n      <td>River Plate</td>\n      <td>2019-12-01 00:45:00</td>\n      <td>Superliga</td>\n      <td>636</td>\n      <td>False</td>\n      <td>120</td>\n      <td>365</td>\n      <td>...</td>\n      <td>4.570225</td>\n      <td>2.843268</td>\n      <td>1122.0</td>\n      <td>642.0</td>\n      <td>636.0</td>\n      <td>636.0</td>\n      <td>636.0</td>\n      <td>1122.0</td>\n      <td>636.0</td>\n      <td>642.0</td>\n    </tr>\n    <tr>\n      <th>1</th>\n      <td>11984383</td>\n      <td>home</td>\n      <td>Real Estelí</td>\n      <td>Deportivo Las Sabanas</td>\n      <td>2019-12-01 01:00:00</td>\n      <td>Primera Division</td>\n      <td>752</td>\n      <td>False</td>\n      <td>76</td>\n      <td>92</td>\n      <td>...</td>\n      <td>6.871904</td>\n      <td>5.716200</td>\n      <td>752.0</td>\n      <td>752.0</td>\n      <td>752.0</td>\n      <td>752.0</td>\n      <td>752.0</td>\n      <td>752.0</td>\n      <td>752.0</td>\n      <td>752.0</td>\n    </tr>\n    <tr>\n      <th>2</th>\n      <td>11983301</td>\n      <td>draw</td>\n      <td>UPNFM</td>\n      <td>Marathón</td>\n      <td>2019-12-01 01:00:00</td>\n      <td>Liga Nacional</td>\n      <td>734</td>\n      <td>False</td>\n      <td>71</td>\n      <td>167</td>\n      <td>...</td>\n      <td>4.650054</td>\n      <td>5.284983</td>\n      <td>734.0</td>\n      <td>734.0</td>\n      <td>734.0</td>\n      <td>734.0</td>\n      <td>734.0</td>\n      <td>734.0</td>\n      <td>734.0</td>\n      <td>734.0</td>\n    </tr>\n    <tr>\n      <th>3</th>\n      <td>11983471</td>\n      <td>away</td>\n      <td>León</td>\n      <td>Morelia</td>\n      <td>2019-12-01 01:00:00</td>\n      <td>Liga MX</td>\n      <td>743</td>\n      <td>False</td>\n      <td>72</td>\n      <td>117</td>\n      <td>...</td>\n      <td>7.483589</td>\n      <td>5.587387</td>\n      <td>743.0</td>\n      <td>743.0</td>\n      <td>743.0</td>\n      <td>743.0</td>\n      <td>743.0</td>\n      <td>743.0</td>\n      <td>743.0</td>\n      <td>743.0</td>\n    </tr>\n    <tr>\n      <th>4</th>\n      <td>11883005</td>\n      <td>home</td>\n      <td>Cobán Imperial</td>\n      <td>Iztapa</td>\n      <td>2019-12-01 01:00:00</td>\n      <td>Liga Nacional</td>\n      <td>705</td>\n      <td>False</td>\n      <td>79</td>\n      <td>89</td>\n      <td>...</td>\n      <td>8.935007</td>\n      <td>5.888077</td>\n      <td>705.0</td>\n      <td>705.0</td>\n      <td>705.0</td>\n      <td>705.0</td>\n      <td>705.0</td>\n      <td>705.0</td>\n      <td>705.0</td>\n      <td>705.0</td>\n    </tr>\n    <tr>\n      <th>...</th>\n      <td>...</td>\n      <td>...</td>\n      <td>...</td>\n      <td>...</td>\n      <td>...</td>\n      <td>...</td>\n      <td>...</td>\n      <td>...</td>\n      <td>...</td>\n      <td>...</td>\n      <td>...</td>\n      <td>...</td>\n      <td>...</td>\n      <td>...</td>\n      <td>...</td>\n      <td>...</td>\n      <td>...</td>\n      <td>...</td>\n      <td>...</td>\n      <td>...</td>\n      <td>...</td>\n    </tr>\n    <tr>\n      <th>110933</th>\n      <td>18030016</td>\n      <td>draw</td>\n      <td>Zamora Fútbol Club</td>\n      <td>Hermanos Colmenares</td>\n      <td>2021-04-30 23:00:00</td>\n      <td>Primera Division</td>\n      <td>800</td>\n      <td>False</td>\n      <td>168</td>\n      <td>120</td>\n      <td>...</td>\n      <td>5.875017</td>\n      <td>6.233200</td>\n      <td>800.0</td>\n      <td>800.0</td>\n      <td>1101.0</td>\n      <td>1101.0</td>\n      <td>803.0</td>\n      <td>803.0</td>\n      <td>803.0</td>\n      <td>803.0</td>\n    </tr>\n    <tr>\n      <th>110934</th>\n      <td>18030096</td>\n      <td>away</td>\n      <td>Royal Pari</td>\n      <td>Oriente Petrolero</td>\n      <td>2021-04-30 23:00:00</td>\n      <td>Liga De Futbol Prof</td>\n      <td>1098</td>\n      <td>False</td>\n      <td>167</td>\n      <td>340</td>\n      <td>...</td>\n      <td>4.510164</td>\n      <td>3.885800</td>\n      <td>1098.0</td>\n      <td>1098.0</td>\n      <td>1098.0</td>\n      <td>1098.0</td>\n      <td>1098.0</td>\n      <td>1098.0</td>\n      <td>1098.0</td>\n      <td>1098.0</td>\n    </tr>\n    <tr>\n      <th>110935</th>\n      <td>17715497</td>\n      <td>draw</td>\n      <td>São Bernardo</td>\n      <td>Água Santa</td>\n      <td>2021-04-30 23:00:00</td>\n      <td>Paulista A2</td>\n      <td>1314</td>\n      <td>False</td>\n      <td>48</td>\n      <td>94</td>\n      <td>...</td>\n      <td>3.257969</td>\n      <td>4.472350</td>\n      <td>1314.0</td>\n      <td>1314.0</td>\n      <td>1314.0</td>\n      <td>1314.0</td>\n      <td>1314.0</td>\n      <td>1314.0</td>\n      <td>1314.0</td>\n      <td>1314.0</td>\n    </tr>\n    <tr>\n      <th>110936</th>\n      <td>17944153</td>\n      <td>away</td>\n      <td>Everton</td>\n      <td>La Serena</td>\n      <td>2021-05-01 00:00:00</td>\n      <td>Primera Division</td>\n      <td>663</td>\n      <td>False</td>\n      <td>168</td>\n      <td>125</td>\n      <td>...</td>\n      <td>6.378186</td>\n      <td>6.726760</td>\n      <td>663.0</td>\n      <td>663.0</td>\n      <td>663.0</td>\n      <td>663.0</td>\n      <td>663.0</td>\n      <td>663.0</td>\n      <td>663.0</td>\n      <td>663.0</td>\n    </tr>\n    <tr>\n      <th>110937</th>\n      <td>17786297</td>\n      <td>home</td>\n      <td>Colón</td>\n      <td>Arsenal de Sarandi</td>\n      <td>2021-05-01 00:00:00</td>\n      <td>Superliga</td>\n      <td>636</td>\n      <td>False</td>\n      <td>125</td>\n      <td>162</td>\n      <td>...</td>\n      <td>6.216542</td>\n      <td>5.783800</td>\n      <td>1116.0</td>\n      <td>636.0</td>\n      <td>1116.0</td>\n      <td>636.0</td>\n      <td>636.0</td>\n      <td>636.0</td>\n      <td>636.0</td>\n      <td>636.0</td>\n    </tr>\n  </tbody>\n</table>\n<p>95156 rows × 136 columns</p>\n</div>"
     },
     "execution_count": 17,
     "metadata": {},
     "output_type": "execute_result"
    }
   ],
   "source": [
    "home_date_columns = [column for column in train.columns.values if\n",
    "                     ('date' in column and 'home' in column) or column == 'match_date']\n",
    "away_date_columns = [column for column in train.columns.values if\n",
    "                     ('date' in column and 'away' in column) or column == 'match_date']\n",
    "# train[date_columns]\n",
    "train[home_date_columns[1:]] = train[home_date_columns].diff(periods=1, axis=1).apply(\n",
    "    lambda x: x / np.timedelta64(-1, 'h')).iloc[:, 1:].astype('int64')\n",
    "train[away_date_columns[1:]] = train[away_date_columns].diff(periods=1, axis=1).apply(\n",
    "    lambda x: x / np.timedelta64(-1, 'h')).iloc[:, 1:].astype('int64')\n",
    "train"
   ],
   "metadata": {
    "collapsed": false,
    "pycharm": {
     "name": "#%%\n"
    }
   }
  },
  {
   "cell_type": "markdown",
   "source": [
    "Delete match day because"
   ],
   "metadata": {
    "collapsed": false,
    "pycharm": {
     "name": "#%% md\n"
    }
   }
  },
  {
   "cell_type": "code",
   "execution_count": 18,
   "outputs": [
    {
     "data": {
      "text/plain": "                 id     league_id  home_team_history_match_date_1  \\\ncount  9.515600e+04  95156.000000                    95156.000000   \nmean   1.515496e+07    838.170268                      351.441013   \nstd    2.547274e+06    521.870267                      860.531420   \nmin    1.142829e+07      2.000000                        0.000000   \n25%    1.199832e+07    387.000000                       96.000000   \n50%    1.674685e+07    818.000000                      162.000000   \n75%    1.724099e+07   1258.000000                      192.000000   \nmax    1.805384e+07   2037.000000                    17058.000000   \n\n       home_team_history_match_date_2  home_team_history_match_date_3  \\\ncount                    95156.000000                    95156.000000   \nmean                       355.957039                      351.835607   \nstd                        871.616890                      860.368919   \nmin                          0.000000                        0.000000   \n25%                         96.000000                       96.000000   \n50%                        163.000000                      164.000000   \n75%                        192.000000                      193.000000   \nmax                      13585.000000                    17058.000000   \n\n       home_team_history_match_date_4  home_team_history_match_date_5  \\\ncount                    95156.000000                    95156.000000   \nmean                       357.048867                      356.571567   \nstd                        881.024596                      878.996264   \nmin                          0.000000                        0.000000   \n25%                         96.000000                       96.000000   \n50%                        165.000000                      165.000000   \n75%                        193.000000                      193.000000   \nmax                      15622.000000                    17058.000000   \n\n       home_team_history_match_date_6  home_team_history_match_date_7  \\\ncount                    95156.000000                    95156.000000   \nmean                       360.081330                      359.634642   \nstd                        900.168462                      890.323121   \nmin                          0.000000                        0.000000   \n25%                         96.000000                       96.000000   \n50%                        165.000000                      166.000000   \n75%                        194.000000                      194.000000   \nmax                      16891.000000                    15622.000000   \n\n       home_team_history_match_date_8  ...  \\\ncount                    95156.000000  ...   \nmean                       363.517865  ...   \nstd                        910.991340  ...   \nmin                          0.000000  ...   \n25%                         96.000000  ...   \n50%                        166.000000  ...   \n75%                        195.000000  ...   \nmax                      16891.000000  ...   \n\n       away_team_history_opponent_rating_7  \\\ncount                         95156.000000   \nmean                              6.379412   \nstd                               2.479966   \nmin                               0.255600   \n25%                               4.773160   \n50%                               5.848721   \n75%                               7.345342   \nmax                              47.317600   \n\n       away_team_history_opponent_rating_8  away_team_history_league_id_1  \\\ncount                         95156.000000                   95156.000000   \nmean                              6.386880                     837.988587   \nstd                               2.458589                     522.097538   \nmin                               0.471950                       2.000000   \n25%                               4.789793                     387.000000   \n50%                               5.863131                     818.000000   \n75%                               7.354501                    1258.000000   \nmax                              47.317600                    2039.000000   \n\n       away_team_history_league_id_2  away_team_history_league_id_3  \\\ncount                   95156.000000                   95156.000000   \nmean                      837.834871                     837.310154   \nstd                       521.693938                     521.192476   \nmin                         2.000000                       2.000000   \n25%                       387.000000                     387.000000   \n50%                       818.000000                     818.000000   \n75%                      1258.000000                    1260.000000   \nmax                      2039.000000                    2039.000000   \n\n       away_team_history_league_id_4  away_team_history_league_id_5  \\\ncount                   95156.000000                   95156.000000   \nmean                      837.026704                     835.045357   \nstd                       520.863854                     520.256826   \nmin                         2.000000                       2.000000   \n25%                       387.000000                     387.000000   \n50%                       818.000000                     812.000000   \n75%                      1260.000000                    1258.000000   \nmax                      2039.000000                    2039.000000   \n\n       away_team_history_league_id_6  away_team_history_league_id_7  \\\ncount                   95156.000000                   95156.000000   \nmean                      834.741855                     833.342490   \nstd                       519.480234                     519.428228   \nmin                         2.000000                       2.000000   \n25%                       387.000000                     387.000000   \n50%                       812.000000                     809.000000   \n75%                      1258.000000                    1258.000000   \nmax                      2039.000000                    2039.000000   \n\n       away_team_history_league_id_8  \ncount                   95156.000000  \nmean                      831.342679  \nstd                       518.543528  \nmin                         2.000000  \n25%                       387.000000  \n50%                       806.000000  \n75%                      1257.000000  \nmax                      2039.000000  \n\n[8 rows x 130 columns]",
      "text/html": "<div>\n<style scoped>\n    .dataframe tbody tr th:only-of-type {\n        vertical-align: middle;\n    }\n\n    .dataframe tbody tr th {\n        vertical-align: top;\n    }\n\n    .dataframe thead th {\n        text-align: right;\n    }\n</style>\n<table border=\"1\" class=\"dataframe\">\n  <thead>\n    <tr style=\"text-align: right;\">\n      <th></th>\n      <th>id</th>\n      <th>league_id</th>\n      <th>home_team_history_match_date_1</th>\n      <th>home_team_history_match_date_2</th>\n      <th>home_team_history_match_date_3</th>\n      <th>home_team_history_match_date_4</th>\n      <th>home_team_history_match_date_5</th>\n      <th>home_team_history_match_date_6</th>\n      <th>home_team_history_match_date_7</th>\n      <th>home_team_history_match_date_8</th>\n      <th>...</th>\n      <th>away_team_history_opponent_rating_7</th>\n      <th>away_team_history_opponent_rating_8</th>\n      <th>away_team_history_league_id_1</th>\n      <th>away_team_history_league_id_2</th>\n      <th>away_team_history_league_id_3</th>\n      <th>away_team_history_league_id_4</th>\n      <th>away_team_history_league_id_5</th>\n      <th>away_team_history_league_id_6</th>\n      <th>away_team_history_league_id_7</th>\n      <th>away_team_history_league_id_8</th>\n    </tr>\n  </thead>\n  <tbody>\n    <tr>\n      <th>count</th>\n      <td>9.515600e+04</td>\n      <td>95156.000000</td>\n      <td>95156.000000</td>\n      <td>95156.000000</td>\n      <td>95156.000000</td>\n      <td>95156.000000</td>\n      <td>95156.000000</td>\n      <td>95156.000000</td>\n      <td>95156.000000</td>\n      <td>95156.000000</td>\n      <td>...</td>\n      <td>95156.000000</td>\n      <td>95156.000000</td>\n      <td>95156.000000</td>\n      <td>95156.000000</td>\n      <td>95156.000000</td>\n      <td>95156.000000</td>\n      <td>95156.000000</td>\n      <td>95156.000000</td>\n      <td>95156.000000</td>\n      <td>95156.000000</td>\n    </tr>\n    <tr>\n      <th>mean</th>\n      <td>1.515496e+07</td>\n      <td>838.170268</td>\n      <td>351.441013</td>\n      <td>355.957039</td>\n      <td>351.835607</td>\n      <td>357.048867</td>\n      <td>356.571567</td>\n      <td>360.081330</td>\n      <td>359.634642</td>\n      <td>363.517865</td>\n      <td>...</td>\n      <td>6.379412</td>\n      <td>6.386880</td>\n      <td>837.988587</td>\n      <td>837.834871</td>\n      <td>837.310154</td>\n      <td>837.026704</td>\n      <td>835.045357</td>\n      <td>834.741855</td>\n      <td>833.342490</td>\n      <td>831.342679</td>\n    </tr>\n    <tr>\n      <th>std</th>\n      <td>2.547274e+06</td>\n      <td>521.870267</td>\n      <td>860.531420</td>\n      <td>871.616890</td>\n      <td>860.368919</td>\n      <td>881.024596</td>\n      <td>878.996264</td>\n      <td>900.168462</td>\n      <td>890.323121</td>\n      <td>910.991340</td>\n      <td>...</td>\n      <td>2.479966</td>\n      <td>2.458589</td>\n      <td>522.097538</td>\n      <td>521.693938</td>\n      <td>521.192476</td>\n      <td>520.863854</td>\n      <td>520.256826</td>\n      <td>519.480234</td>\n      <td>519.428228</td>\n      <td>518.543528</td>\n    </tr>\n    <tr>\n      <th>min</th>\n      <td>1.142829e+07</td>\n      <td>2.000000</td>\n      <td>0.000000</td>\n      <td>0.000000</td>\n      <td>0.000000</td>\n      <td>0.000000</td>\n      <td>0.000000</td>\n      <td>0.000000</td>\n      <td>0.000000</td>\n      <td>0.000000</td>\n      <td>...</td>\n      <td>0.255600</td>\n      <td>0.471950</td>\n      <td>2.000000</td>\n      <td>2.000000</td>\n      <td>2.000000</td>\n      <td>2.000000</td>\n      <td>2.000000</td>\n      <td>2.000000</td>\n      <td>2.000000</td>\n      <td>2.000000</td>\n    </tr>\n    <tr>\n      <th>25%</th>\n      <td>1.199832e+07</td>\n      <td>387.000000</td>\n      <td>96.000000</td>\n      <td>96.000000</td>\n      <td>96.000000</td>\n      <td>96.000000</td>\n      <td>96.000000</td>\n      <td>96.000000</td>\n      <td>96.000000</td>\n      <td>96.000000</td>\n      <td>...</td>\n      <td>4.773160</td>\n      <td>4.789793</td>\n      <td>387.000000</td>\n      <td>387.000000</td>\n      <td>387.000000</td>\n      <td>387.000000</td>\n      <td>387.000000</td>\n      <td>387.000000</td>\n      <td>387.000000</td>\n      <td>387.000000</td>\n    </tr>\n    <tr>\n      <th>50%</th>\n      <td>1.674685e+07</td>\n      <td>818.000000</td>\n      <td>162.000000</td>\n      <td>163.000000</td>\n      <td>164.000000</td>\n      <td>165.000000</td>\n      <td>165.000000</td>\n      <td>165.000000</td>\n      <td>166.000000</td>\n      <td>166.000000</td>\n      <td>...</td>\n      <td>5.848721</td>\n      <td>5.863131</td>\n      <td>818.000000</td>\n      <td>818.000000</td>\n      <td>818.000000</td>\n      <td>818.000000</td>\n      <td>812.000000</td>\n      <td>812.000000</td>\n      <td>809.000000</td>\n      <td>806.000000</td>\n    </tr>\n    <tr>\n      <th>75%</th>\n      <td>1.724099e+07</td>\n      <td>1258.000000</td>\n      <td>192.000000</td>\n      <td>192.000000</td>\n      <td>193.000000</td>\n      <td>193.000000</td>\n      <td>193.000000</td>\n      <td>194.000000</td>\n      <td>194.000000</td>\n      <td>195.000000</td>\n      <td>...</td>\n      <td>7.345342</td>\n      <td>7.354501</td>\n      <td>1258.000000</td>\n      <td>1258.000000</td>\n      <td>1260.000000</td>\n      <td>1260.000000</td>\n      <td>1258.000000</td>\n      <td>1258.000000</td>\n      <td>1258.000000</td>\n      <td>1257.000000</td>\n    </tr>\n    <tr>\n      <th>max</th>\n      <td>1.805384e+07</td>\n      <td>2037.000000</td>\n      <td>17058.000000</td>\n      <td>13585.000000</td>\n      <td>17058.000000</td>\n      <td>15622.000000</td>\n      <td>17058.000000</td>\n      <td>16891.000000</td>\n      <td>15622.000000</td>\n      <td>16891.000000</td>\n      <td>...</td>\n      <td>47.317600</td>\n      <td>47.317600</td>\n      <td>2039.000000</td>\n      <td>2039.000000</td>\n      <td>2039.000000</td>\n      <td>2039.000000</td>\n      <td>2039.000000</td>\n      <td>2039.000000</td>\n      <td>2039.000000</td>\n      <td>2039.000000</td>\n    </tr>\n  </tbody>\n</table>\n<p>8 rows × 130 columns</p>\n</div>"
     },
     "execution_count": 18,
     "metadata": {},
     "output_type": "execute_result"
    }
   ],
   "source": [
    "train.describe()"
   ],
   "metadata": {
    "collapsed": false,
    "pycharm": {
     "name": "#%%\n"
    }
   }
  },
  {
   "cell_type": "markdown",
   "source": [
    "# Visualization"
   ],
   "metadata": {
    "collapsed": false,
    "pycharm": {
     "name": "#%% md\n"
    }
   }
  },
  {
   "cell_type": "code",
   "execution_count": 24,
   "outputs": [
    {
     "data": {
      "text/plain": "<seaborn.axisgrid.FacetGrid at 0x7fe598515f10>"
     },
     "execution_count": 24,
     "metadata": {},
     "output_type": "execute_result"
    },
    {
     "data": {
      "text/plain": "<Figure size 360x360 with 1 Axes>",
      "image/png": "[encoded data removed]"
     },
     "metadata": {
      "needs_background": "light"
     },
     "output_type": "display_data"
    }
   ],
   "source": [
    "# ax =sns.histplot(train[['is_cup','target']],stat='percent',hue=\"is_cup\")\n",
    "# ax =sns.displot(train[['is_cup','target']],hue=\"is_cup\")\n",
    "\n",
    "ax.set_title(\"Win matches\")\n",
    "# sns.displot(train, x=\"target\", col=\"is_cup\", multiple=\"stack\", stat='percent')\n",
    "sns.displot(train, x=\"target\", multiple=\"stack\", stat='percent')\n",
    "\n",
    "# ax1 =sns.histplot(train[train['is_cup'] == 0]['target'],stat='percent')\n"
   ],
   "metadata": {
    "collapsed": false,
    "pycharm": {
     "name": "#%%\n"
    }
   }
  },
  {
   "cell_type": "code",
   "execution_count": 20,
   "outputs": [
    {
     "name": "stdout",
     "output_type": "stream",
     "text": [
      "home teams 7830\n",
      "away teams 7913\n",
      "all teams 8187\n"
     ]
    }
   ],
   "source": [
    "home_teams = train['home_team_name'].unique()\n",
    "away_teams = train['away_team_name'].unique()\n",
    "print('home teams', len(home_teams))\n",
    "print('away teams', len(away_teams))\n",
    "teams = np.unique(np.append(home_teams, away_teams))\n",
    "print('all teams', len(teams))\n",
    "# sns.histplot( np.append(train['home_team_name'].values,train['away_team_name'].values))\n",
    "\n"
   ],
   "metadata": {
    "collapsed": false,
    "pycharm": {
     "name": "#%%\n"
    }
   }
  },
  {
   "cell_type": "code",
   "execution_count": 21,
   "outputs": [
    {
     "name": "stdout",
     "output_type": "stream",
     "text": [
      "the mo\n",
      "             team  amount_match\n",
      "249    Al Ittihad           160\n",
      "5966  River Plate           148\n",
      "4216    Liverpool           128\n",
      "5808      Rangers           126\n",
      "5150      Olimpia           121\n"
     ]
    },
    {
     "name": "stderr",
     "output_type": "stream",
     "text": [
      "/home/andrzej/PycharmProjects/Physionet_Challenge_2021/venv/lib/python3.9/site-packages/seaborn/_decorators.py:36: FutureWarning: Pass the following variable as a keyword arg: x. From version 0.12, the only valid positional argument will be `data`, and passing other arguments without an explicit keyword will result in an error or misinterpretation.\n",
      "  warnings.warn(\n"
     ]
    },
    {
     "data": {
      "text/plain": "Text(0, 0.5, 'count')"
     },
     "execution_count": 21,
     "metadata": {},
     "output_type": "execute_result"
    },
    {
     "data": {
      "text/plain": "<Figure size 432x288 with 1 Axes>",
      "image/png": "[encoded data removed]"
     },
     "metadata": {
      "needs_background": "light"
     },
     "output_type": "display_data"
    }
   ],
   "source": [
    "unique, counts = np.unique(np.append(train['home_team_name'].values, train['away_team_name'].values),\n",
    "                           return_counts=True)\n",
    "teams_amount_matches = pd.DataFrame({'team': unique, 'amount_match': counts}).sort_values(by=['amount_match'],\n",
    "                                                                                          ascending=False)\n",
    "print('the mo')\n",
    "print(teams_amount_matches.head())\n",
    "ax = sns.violinplot(counts)\n",
    "ax.set_title('Teams matches')\n",
    "ax.set_xlabel('number of matches')\n",
    "ax.set_ylabel('count')"
   ],
   "metadata": {
    "collapsed": false,
    "pycharm": {
     "name": "#%%\n"
    }
   }
  },
  {
   "cell_type": "code",
   "execution_count": 22,
   "outputs": [
    {
     "name": "stdout",
     "output_type": "stream",
     "text": [
      "number of league_id 770\n"
     ]
    },
    {
     "data": {
      "text/plain": "                 home_team_name        away_team_name\n416                Norwich City               Arsenal\n418     Wolverhampton Wanderers      Sheffield United\n574              Leicester City               Everton\n576           Manchester United           Aston Villa\n865              Crystal Palace       AFC Bournemouth\n...                         ...                   ...\n109393  Wolverhampton Wanderers               Burnley\n109536             Leeds United     Manchester United\n109780              Aston Villa  West Bromwich Albion\n109989           Leicester City        Crystal Palace\n110880              Southampton        Leicester City\n\n[573 rows x 2 columns]",
      "text/html": "<div>\n<style scoped>\n    .dataframe tbody tr th:only-of-type {\n        vertical-align: middle;\n    }\n\n    .dataframe tbody tr th {\n        vertical-align: top;\n    }\n\n    .dataframe thead th {\n        text-align: right;\n    }\n</style>\n<table border=\"1\" class=\"dataframe\">\n  <thead>\n    <tr style=\"text-align: right;\">\n      <th></th>\n      <th>home_team_name</th>\n      <th>away_team_name</th>\n    </tr>\n  </thead>\n  <tbody>\n    <tr>\n      <th>416</th>\n      <td>Norwich City</td>\n      <td>Arsenal</td>\n    </tr>\n    <tr>\n      <th>418</th>\n      <td>Wolverhampton Wanderers</td>\n      <td>Sheffield United</td>\n    </tr>\n    <tr>\n      <th>574</th>\n      <td>Leicester City</td>\n      <td>Everton</td>\n    </tr>\n    <tr>\n      <th>576</th>\n      <td>Manchester United</td>\n      <td>Aston Villa</td>\n    </tr>\n    <tr>\n      <th>865</th>\n      <td>Crystal Palace</td>\n      <td>AFC Bournemouth</td>\n    </tr>\n    <tr>\n      <th>...</th>\n      <td>...</td>\n      <td>...</td>\n    </tr>\n    <tr>\n      <th>109393</th>\n      <td>Wolverhampton Wanderers</td>\n      <td>Burnley</td>\n    </tr>\n    <tr>\n      <th>109536</th>\n      <td>Leeds United</td>\n      <td>Manchester United</td>\n    </tr>\n    <tr>\n      <th>109780</th>\n      <td>Aston Villa</td>\n      <td>West Bromwich Albion</td>\n    </tr>\n    <tr>\n      <th>109989</th>\n      <td>Leicester City</td>\n      <td>Crystal Palace</td>\n    </tr>\n    <tr>\n      <th>110880</th>\n      <td>Southampton</td>\n      <td>Leicester City</td>\n    </tr>\n  </tbody>\n</table>\n<p>573 rows × 2 columns</p>\n</div>"
     },
     "execution_count": 22,
     "metadata": {},
     "output_type": "execute_result"
    }
   ],
   "source": [
    "league_name_id = train.groupby(by=['league_name', 'league_id']).count().reset_index().iloc[:, :3].rename(\n",
    "    columns={'id': 'count'}).sort_values('count', ascending=False)\n",
    "\n",
    "# league_name_id = train.groupby(by=['league_name', 'league_id']).count()##\n",
    "print('number of league_id', train['league_id'].unique().shape[0])\n",
    "train[train['league_id'] == 8][['home_team_name', 'away_team_name']]"
   ],
   "metadata": {
    "collapsed": false,
    "pycharm": {
     "name": "#%%\n"
    }
   }
  },
  {
   "cell_type": "code",
   "execution_count": 23,
   "outputs": [
    {
     "data": {
      "text/plain": "                 id     league_id  home_team_history_match_date_1  \\\ncount  9.515600e+04  95156.000000                    95156.000000   \nmean   1.515496e+07    838.170268                      351.441013   \nstd    2.547274e+06    521.870267                      860.531420   \nmin    1.142829e+07      2.000000                        0.000000   \n25%    1.199832e+07    387.000000                       96.000000   \n50%    1.674685e+07    818.000000                      162.000000   \n75%    1.724099e+07   1258.000000                      192.000000   \nmax    1.805384e+07   2037.000000                    17058.000000   \n\n       home_team_history_is_play_home_1  home_team_history_is_cup_1  \\\ncount                      95156.000000                95156.000000   \nmean                           0.297732                    0.080468   \nstd                            0.457264                    0.272018   \nmin                            0.000000                    0.000000   \n25%                            0.000000                    0.000000   \n50%                            0.000000                    0.000000   \n75%                            1.000000                    0.000000   \nmax                            1.000000                    1.000000   \n\n       home_team_history_goal_1  home_team_history_opponent_goal_1  \\\ncount              95156.000000                       95156.000000   \nmean                   1.333379                           1.399775   \nstd                    1.305523                           1.316616   \nmin                    0.000000                           0.000000   \n25%                    0.000000                           0.000000   \n50%                    1.000000                           1.000000   \n75%                    2.000000                           2.000000   \nmax                   18.000000                          18.000000   \n\n       home_team_history_rating_1  home_team_history_opponent_rating_1  \\\ncount                95156.000000                         95156.000000   \nmean                     6.253468                             6.610639   \nstd                      2.573044                             2.475036   \nmin                      0.217600                             0.407900   \n25%                      4.598900                             4.994546   \n50%                      5.648300                             6.092490   \n75%                      7.200019                             7.611882   \nmax                     57.861050                            45.849650   \n\n       home_team_history_league_id_1  away_team_history_match_date_1  \\\ncount                   95156.000000                    95156.000000   \nmean                      839.276598                      364.485687   \nstd                       522.084376                      892.198079   \nmin                         2.000000                        0.000000   \n25%                       387.000000                       96.000000   \n50%                       821.000000                      162.000000   \n75%                      1258.000000                      193.000000   \nmax                      2037.000000                    15478.000000   \n\n       away_team_history_is_play_home_1  away_team_history_is_cup_1  \\\ncount                      95156.000000                95156.000000   \nmean                           0.705337                    0.079858   \nstd                            0.455894                    0.271075   \nmin                            0.000000                    0.000000   \n25%                            0.000000                    0.000000   \n50%                            1.000000                    0.000000   \n75%                            1.000000                    0.000000   \nmax                            1.000000                    1.000000   \n\n       away_team_history_goal_1  away_team_history_opponent_goal_1  \\\ncount              95156.000000                       95156.000000   \nmean                   1.429358                           1.291185   \nstd                    1.336497                           1.259824   \nmin                    0.000000                           0.000000   \n25%                    0.000000                           0.000000   \n50%                    1.000000                           1.000000   \n75%                    2.000000                           2.000000   \nmax                   17.000000                          13.000000   \n\n       away_team_history_rating_1  away_team_history_opponent_rating_1  \\\ncount                95156.000000                         95156.000000   \nmean                     6.738562                             6.121288   \nstd                      2.609597                             2.436658   \nmin                      0.255600                             0.217600   \n25%                      5.044703                             4.552503   \n50%                      6.164850                             5.565040   \n75%                      7.740186                             7.036304   \nmax                     41.833644                            41.833644   \n\n       away_team_history_league_id_1  \ncount                   95156.000000  \nmean                      837.988587  \nstd                       522.097538  \nmin                         2.000000  \n25%                       387.000000  \n50%                       818.000000  \n75%                      1258.000000  \nmax                      2039.000000  ",
      "text/html": "<div>\n<style scoped>\n    .dataframe tbody tr th:only-of-type {\n        vertical-align: middle;\n    }\n\n    .dataframe tbody tr th {\n        vertical-align: top;\n    }\n\n    .dataframe thead th {\n        text-align: right;\n    }\n</style>\n<table border=\"1\" class=\"dataframe\">\n  <thead>\n    <tr style=\"text-align: right;\">\n      <th></th>\n      <th>id</th>\n      <th>league_id</th>\n      <th>home_team_history_match_date_1</th>\n      <th>home_team_history_is_play_home_1</th>\n      <th>home_team_history_is_cup_1</th>\n      <th>home_team_history_goal_1</th>\n      <th>home_team_history_opponent_goal_1</th>\n      <th>home_team_history_rating_1</th>\n      <th>home_team_history_opponent_rating_1</th>\n      <th>home_team_history_league_id_1</th>\n      <th>away_team_history_match_date_1</th>\n      <th>away_team_history_is_play_home_1</th>\n      <th>away_team_history_is_cup_1</th>\n      <th>away_team_history_goal_1</th>\n      <th>away_team_history_opponent_goal_1</th>\n      <th>away_team_history_rating_1</th>\n      <th>away_team_history_opponent_rating_1</th>\n      <th>away_team_history_league_id_1</th>\n    </tr>\n  </thead>\n  <tbody>\n    <tr>\n      <th>count</th>\n      <td>9.515600e+04</td>\n      <td>95156.000000</td>\n      <td>95156.000000</td>\n      <td>95156.000000</td>\n      <td>95156.000000</td>\n      <td>95156.000000</td>\n      <td>95156.000000</td>\n      <td>95156.000000</td>\n      <td>95156.000000</td>\n      <td>95156.000000</td>\n      <td>95156.000000</td>\n      <td>95156.000000</td>\n      <td>95156.000000</td>\n      <td>95156.000000</td>\n      <td>95156.000000</td>\n      <td>95156.000000</td>\n      <td>95156.000000</td>\n      <td>95156.000000</td>\n    </tr>\n    <tr>\n      <th>mean</th>\n      <td>1.515496e+07</td>\n      <td>838.170268</td>\n      <td>351.441013</td>\n      <td>0.297732</td>\n      <td>0.080468</td>\n      <td>1.333379</td>\n      <td>1.399775</td>\n      <td>6.253468</td>\n      <td>6.610639</td>\n      <td>839.276598</td>\n      <td>364.485687</td>\n      <td>0.705337</td>\n      <td>0.079858</td>\n      <td>1.429358</td>\n      <td>1.291185</td>\n      <td>6.738562</td>\n      <td>6.121288</td>\n      <td>837.988587</td>\n    </tr>\n    <tr>\n      <th>std</th>\n      <td>2.547274e+06</td>\n      <td>521.870267</td>\n      <td>860.531420</td>\n      <td>0.457264</td>\n      <td>0.272018</td>\n      <td>1.305523</td>\n      <td>1.316616</td>\n      <td>2.573044</td>\n      <td>2.475036</td>\n      <td>522.084376</td>\n      <td>892.198079</td>\n      <td>0.455894</td>\n      <td>0.271075</td>\n      <td>1.336497</td>\n      <td>1.259824</td>\n      <td>2.609597</td>\n      <td>2.436658</td>\n      <td>522.097538</td>\n    </tr>\n    <tr>\n      <th>min</th>\n      <td>1.142829e+07</td>\n      <td>2.000000</td>\n      <td>0.000000</td>\n      <td>0.000000</td>\n      <td>0.000000</td>\n      <td>0.000000</td>\n      <td>0.000000</td>\n      <td>0.217600</td>\n      <td>0.407900</td>\n      <td>2.000000</td>\n      <td>0.000000</td>\n      <td>0.000000</td>\n      <td>0.000000</td>\n      <td>0.000000</td>\n      <td>0.000000</td>\n      <td>0.255600</td>\n      <td>0.217600</td>\n      <td>2.000000</td>\n    </tr>\n    <tr>\n      <th>25%</th>\n      <td>1.199832e+07</td>\n      <td>387.000000</td>\n      <td>96.000000</td>\n      <td>0.000000</td>\n      <td>0.000000</td>\n      <td>0.000000</td>\n      <td>0.000000</td>\n      <td>4.598900</td>\n      <td>4.994546</td>\n      <td>387.000000</td>\n      <td>96.000000</td>\n      <td>0.000000</td>\n      <td>0.000000</td>\n      <td>0.000000</td>\n      <td>0.000000</td>\n      <td>5.044703</td>\n      <td>4.552503</td>\n      <td>387.000000</td>\n    </tr>\n    <tr>\n      <th>50%</th>\n      <td>1.674685e+07</td>\n      <td>818.000000</td>\n      <td>162.000000</td>\n      <td>0.000000</td>\n      <td>0.000000</td>\n      <td>1.000000</td>\n      <td>1.000000</td>\n      <td>5.648300</td>\n      <td>6.092490</td>\n      <td>821.000000</td>\n      <td>162.000000</td>\n      <td>1.000000</td>\n      <td>0.000000</td>\n      <td>1.000000</td>\n      <td>1.000000</td>\n      <td>6.164850</td>\n      <td>5.565040</td>\n      <td>818.000000</td>\n    </tr>\n    <tr>\n      <th>75%</th>\n      <td>1.724099e+07</td>\n      <td>1258.000000</td>\n      <td>192.000000</td>\n      <td>1.000000</td>\n      <td>0.000000</td>\n      <td>2.000000</td>\n      <td>2.000000</td>\n      <td>7.200019</td>\n      <td>7.611882</td>\n      <td>1258.000000</td>\n      <td>193.000000</td>\n      <td>1.000000</td>\n      <td>0.000000</td>\n      <td>2.000000</td>\n      <td>2.000000</td>\n      <td>7.740186</td>\n      <td>7.036304</td>\n      <td>1258.000000</td>\n    </tr>\n    <tr>\n      <th>max</th>\n      <td>1.805384e+07</td>\n      <td>2037.000000</td>\n      <td>17058.000000</td>\n      <td>1.000000</td>\n      <td>1.000000</td>\n      <td>18.000000</td>\n      <td>18.000000</td>\n      <td>57.861050</td>\n      <td>45.849650</td>\n      <td>2037.000000</td>\n      <td>15478.000000</td>\n      <td>1.000000</td>\n      <td>1.000000</td>\n      <td>17.000000</td>\n      <td>13.000000</td>\n      <td>41.833644</td>\n      <td>41.833644</td>\n      <td>2039.000000</td>\n    </tr>\n  </tbody>\n</table>\n</div>"
     },
     "execution_count": 23,
     "metadata": {},
     "output_type": "execute_result"
    }
   ],
   "source": [
    "columns_only_first_hist = [x for x in columns_only_first_hist if x in train.columns]\n",
    "train[columns_only_first_hist].describe()\n"
   ],
   "metadata": {
    "collapsed": false,
    "pycharm": {
     "name": "#%%\n"
    }
   }
  }
 ],
 "metadata": {
  "kernelspec": {
   "display_name": "Python 3",
   "language": "python",
   "name": "python3"
  },
  "language_info": {
   "codemirror_mode": {
    "name": "ipython",
    "version": 2
   },
   "file_extension": ".py",
   "mimetype": "text/x-python",
   "name": "python",
   "nbconvert_exporter": "python",
   "pygments_lexer": "ipython2",
   "version": "2.7.6"
  }
 },
 "nbformat": 4,
 "nbformat_minor": 0
}