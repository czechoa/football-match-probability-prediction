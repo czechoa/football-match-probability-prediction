{
 "cells": [
  {
   "cell_type": "code",
   "execution_count": 1,
   "metadata": {
    "collapsed": false,
    "pycharm": {
     "name": "#%%\n"
    }
   },
   "outputs": [],
   "source": [
    "from prepared_data.get_prepared_data import  get_prepared_data\n",
    "import pandas as pd\n",
    "import numpy as np\n"
   ]
  },
  {
   "cell_type": "code",
   "execution_count": 2,
   "metadata": {
    "collapsed": true
   },
   "outputs": [
    {
     "name": "stderr",
     "output_type": "stream",
     "text": [
      "/home/andrzej/PycharmProjects/Physionet_Challenge_2021/venv/lib/python3.9/site-packages/IPython/core/interactiveshell.py:3251: DtypeWarning: Columns (7) have mixed types.Specify dtype option on import or set low_memory=False.\n",
      "  exec(code_obj, self.user_global_ns, self.user_ns)\n"
     ]
    },
    {
     "name": "stdout",
     "output_type": "stream",
     "text": [
      "correction col type..\n",
      "percent of object with nan value:  42.20\n",
      "remove coach columns..\n",
      "percent of object with nan value:  18.64\n",
      "remove object with more that  col 80 empty...\n",
      "percent of object with nan value:  18.64\n",
      "remove history columns\n",
      "percent of object with nan value:  15.11\n",
      "remove all nan data\n",
      "percent of object with nan value:  15.11\n",
      "league_mean_ratting_all\n",
      " None\n"
     ]
    },
    {
     "data": {
      "text/plain": "          target  is_cup  home_team_history_match_date_1  \\\nid                                                         \n11989265      -1       1                              78   \n16865249       1       1                             219   \n16916583       1       1                              94   \n16940078      -1       1                             167   \n17213503       1       1                             100   \n...          ...     ...                             ...   \n17882059       1       1                             504   \n17887522      -1       1                             127   \n17882061      -1       1                             545   \n17882060       1       1                             504   \n17887523       1       1                             127   \n\n          home_team_history_match_date_2  home_team_history_match_date_3  \\\nid                                                                         \n11989265                             258                              75   \n16865249                             168                             286   \n16916583                             627                              93   \n16940078                             168                             119   \n17213503                              92                              76   \n...                                  ...                             ...   \n17882059                            1135                             712   \n17887522                             167                             208   \n17882061                            1133                             715   \n17882060                            1344                             504   \n17887523                             167                             208   \n\n          home_team_history_match_date_4  home_team_history_match_date_5  \\\nid                                                                         \n11989265                             193                              67   \n16865249                              71                              49   \n16916583                              99                              93   \n16940078                             123                             117   \n17213503                             144                              92   \n...                                  ...                             ...   \n17882059                             168                             168   \n17887522                              72                              96   \n17882061                             168                             168   \n17882060                             168                             168   \n17887523                              72                              96   \n\n          home_team_history_match_date_6  home_team_history_match_date_7  \\\nid                                                                         \n11989265                             103                              88   \n16865249                            3145                              67   \n16916583                              74                             168   \n16940078                             121                              96   \n17213503                             126                             238   \n...                                  ...                             ...   \n17882059                             168                             505   \n17887522                             127                             545   \n17882061                             168                             505   \n17882060                             168                             505   \n17887523                             168                             504   \n\n          home_team_history_match_date_8  ...  home_team_history_target_7_1.0  \\\nid                                        ...                                   \n11989265                              74  ...                               1   \n16865249                              76  ...                               0   \n16916583                              69  ...                               0   \n16940078                              96  ...                               1   \n17213503                              72  ...                               0   \n...                                  ...  ...                             ...   \n17882059                             168  ...                               0   \n17887522                            1133  ...                               0   \n17882061                             168  ...                               0   \n17882060                             168  ...                               0   \n17887523                            1344  ...                               1   \n\n          away_team_history_target_7_-1.0  away_team_history_target_7_0.0  \\\nid                                                                          \n11989265                                0                               0   \n16865249                                0                               0   \n16916583                                1                               0   \n16940078                                0                               0   \n17213503                                0                               0   \n...                                   ...                             ...   \n17882059                                0                               1   \n17887522                                1                               0   \n17882061                                0                               0   \n17882060                                0                               0   \n17887523                                1                               0   \n\n          away_team_history_target_7_1.0  home_team_history_target_8_-1.0  \\\nid                                                                          \n11989265                               1                                1   \n16865249                               1                                0   \n16916583                               0                                0   \n16940078                               1                                0   \n17213503                               1                                1   \n...                                  ...                              ...   \n17882059                               0                                0   \n17887522                               0                                1   \n17882061                               1                                1   \n17882060                               1                                0   \n17887523                               0                                0   \n\n          home_team_history_target_8_0.0  home_team_history_target_8_1.0  \\\nid                                                                         \n11989265                               0                               0   \n16865249                               0                               1   \n16916583                               1                               0   \n16940078                               0                               1   \n17213503                               0                               0   \n...                                  ...                             ...   \n17882059                               1                               0   \n17887522                               0                               0   \n17882061                               0                               0   \n17882060                               1                               0   \n17887523                               1                               0   \n\n          away_team_history_target_8_-1.0  away_team_history_target_8_0.0  \\\nid                                                                          \n11989265                                0                               1   \n16865249                                0                               0   \n16916583                                0                               0   \n16940078                                0                               0   \n17213503                                1                               0   \n...                                   ...                             ...   \n17882059                                1                               0   \n17887522                                1                               0   \n17882061                                0                               0   \n17882060                                0                               0   \n17887523                                0                               1   \n\n          away_team_history_target_8_1.0  \nid                                        \n11989265                               0  \n16865249                               1  \n16916583                               1  \n16940078                               1  \n17213503                               0  \n...                                  ...  \n17882059                               0  \n17887522                               0  \n17882061                               1  \n17882060                               1  \n17887523                               0  \n\n[94169 rows x 184 columns]",
      "text/html": "<div>\n<style scoped>\n    .dataframe tbody tr th:only-of-type {\n        vertical-align: middle;\n    }\n\n    .dataframe tbody tr th {\n        vertical-align: top;\n    }\n\n    .dataframe thead th {\n        text-align: right;\n    }\n</style>\n<table border=\"1\" class=\"dataframe\">\n  <thead>\n    <tr style=\"text-align: right;\">\n      <th></th>\n      <th>target</th>\n      <th>is_cup</th>\n      <th>home_team_history_match_date_1</th>\n      <th>home_team_history_match_date_2</th>\n      <th>home_team_history_match_date_3</th>\n      <th>home_team_history_match_date_4</th>\n      <th>home_team_history_match_date_5</th>\n      <th>home_team_history_match_date_6</th>\n      <th>home_team_history_match_date_7</th>\n      <th>home_team_history_match_date_8</th>\n      <th>...</th>\n      <th>home_team_history_target_7_1.0</th>\n      <th>away_team_history_target_7_-1.0</th>\n      <th>away_team_history_target_7_0.0</th>\n      <th>away_team_history_target_7_1.0</th>\n      <th>home_team_history_target_8_-1.0</th>\n      <th>home_team_history_target_8_0.0</th>\n      <th>home_team_history_target_8_1.0</th>\n      <th>away_team_history_target_8_-1.0</th>\n      <th>away_team_history_target_8_0.0</th>\n      <th>away_team_history_target_8_1.0</th>\n    </tr>\n    <tr>\n      <th>id</th>\n      <th></th>\n      <th></th>\n      <th></th>\n      <th></th>\n      <th></th>\n      <th></th>\n      <th></th>\n      <th></th>\n      <th></th>\n      <th></th>\n      <th></th>\n      <th></th>\n      <th></th>\n      <th></th>\n      <th></th>\n      <th></th>\n      <th></th>\n      <th></th>\n      <th></th>\n      <th></th>\n      <th></th>\n    </tr>\n  </thead>\n  <tbody>\n    <tr>\n      <th>11989265</th>\n      <td>-1</td>\n      <td>1</td>\n      <td>78</td>\n      <td>258</td>\n      <td>75</td>\n      <td>193</td>\n      <td>67</td>\n      <td>103</td>\n      <td>88</td>\n      <td>74</td>\n      <td>...</td>\n      <td>1</td>\n      <td>0</td>\n      <td>0</td>\n      <td>1</td>\n      <td>1</td>\n      <td>0</td>\n      <td>0</td>\n      <td>0</td>\n      <td>1</td>\n      <td>0</td>\n    </tr>\n    <tr>\n      <th>16865249</th>\n      <td>1</td>\n      <td>1</td>\n      <td>219</td>\n      <td>168</td>\n      <td>286</td>\n      <td>71</td>\n      <td>49</td>\n      <td>3145</td>\n      <td>67</td>\n      <td>76</td>\n      <td>...</td>\n      <td>0</td>\n      <td>0</td>\n      <td>0</td>\n      <td>1</td>\n      <td>0</td>\n      <td>0</td>\n      <td>1</td>\n      <td>0</td>\n      <td>0</td>\n      <td>1</td>\n    </tr>\n    <tr>\n      <th>16916583</th>\n      <td>1</td>\n      <td>1</td>\n      <td>94</td>\n      <td>627</td>\n      <td>93</td>\n      <td>99</td>\n      <td>93</td>\n      <td>74</td>\n      <td>168</td>\n      <td>69</td>\n      <td>...</td>\n      <td>0</td>\n      <td>1</td>\n      <td>0</td>\n      <td>0</td>\n      <td>0</td>\n      <td>1</td>\n      <td>0</td>\n      <td>0</td>\n      <td>0</td>\n      <td>1</td>\n    </tr>\n    <tr>\n      <th>16940078</th>\n      <td>-1</td>\n      <td>1</td>\n      <td>167</td>\n      <td>168</td>\n      <td>119</td>\n      <td>123</td>\n      <td>117</td>\n      <td>121</td>\n      <td>96</td>\n      <td>96</td>\n      <td>...</td>\n      <td>1</td>\n      <td>0</td>\n      <td>0</td>\n      <td>1</td>\n      <td>0</td>\n      <td>0</td>\n      <td>1</td>\n      <td>0</td>\n      <td>0</td>\n      <td>1</td>\n    </tr>\n    <tr>\n      <th>17213503</th>\n      <td>1</td>\n      <td>1</td>\n      <td>100</td>\n      <td>92</td>\n      <td>76</td>\n      <td>144</td>\n      <td>92</td>\n      <td>126</td>\n      <td>238</td>\n      <td>72</td>\n      <td>...</td>\n      <td>0</td>\n      <td>0</td>\n      <td>0</td>\n      <td>1</td>\n      <td>1</td>\n      <td>0</td>\n      <td>0</td>\n      <td>1</td>\n      <td>0</td>\n      <td>0</td>\n    </tr>\n    <tr>\n      <th>...</th>\n      <td>...</td>\n      <td>...</td>\n      <td>...</td>\n      <td>...</td>\n      <td>...</td>\n      <td>...</td>\n      <td>...</td>\n      <td>...</td>\n      <td>...</td>\n      <td>...</td>\n      <td>...</td>\n      <td>...</td>\n      <td>...</td>\n      <td>...</td>\n      <td>...</td>\n      <td>...</td>\n      <td>...</td>\n      <td>...</td>\n      <td>...</td>\n      <td>...</td>\n      <td>...</td>\n    </tr>\n    <tr>\n      <th>17882059</th>\n      <td>1</td>\n      <td>1</td>\n      <td>504</td>\n      <td>1135</td>\n      <td>712</td>\n      <td>168</td>\n      <td>168</td>\n      <td>168</td>\n      <td>505</td>\n      <td>168</td>\n      <td>...</td>\n      <td>0</td>\n      <td>0</td>\n      <td>1</td>\n      <td>0</td>\n      <td>0</td>\n      <td>1</td>\n      <td>0</td>\n      <td>1</td>\n      <td>0</td>\n      <td>0</td>\n    </tr>\n    <tr>\n      <th>17887522</th>\n      <td>-1</td>\n      <td>1</td>\n      <td>127</td>\n      <td>167</td>\n      <td>208</td>\n      <td>72</td>\n      <td>96</td>\n      <td>127</td>\n      <td>545</td>\n      <td>1133</td>\n      <td>...</td>\n      <td>0</td>\n      <td>1</td>\n      <td>0</td>\n      <td>0</td>\n      <td>1</td>\n      <td>0</td>\n      <td>0</td>\n      <td>1</td>\n      <td>0</td>\n      <td>0</td>\n    </tr>\n    <tr>\n      <th>17882061</th>\n      <td>-1</td>\n      <td>1</td>\n      <td>545</td>\n      <td>1133</td>\n      <td>715</td>\n      <td>168</td>\n      <td>168</td>\n      <td>168</td>\n      <td>505</td>\n      <td>168</td>\n      <td>...</td>\n      <td>0</td>\n      <td>0</td>\n      <td>0</td>\n      <td>1</td>\n      <td>1</td>\n      <td>0</td>\n      <td>0</td>\n      <td>0</td>\n      <td>0</td>\n      <td>1</td>\n    </tr>\n    <tr>\n      <th>17882060</th>\n      <td>1</td>\n      <td>1</td>\n      <td>504</td>\n      <td>1344</td>\n      <td>504</td>\n      <td>168</td>\n      <td>168</td>\n      <td>168</td>\n      <td>505</td>\n      <td>168</td>\n      <td>...</td>\n      <td>0</td>\n      <td>0</td>\n      <td>0</td>\n      <td>1</td>\n      <td>0</td>\n      <td>1</td>\n      <td>0</td>\n      <td>0</td>\n      <td>0</td>\n      <td>1</td>\n    </tr>\n    <tr>\n      <th>17887523</th>\n      <td>1</td>\n      <td>1</td>\n      <td>127</td>\n      <td>167</td>\n      <td>208</td>\n      <td>72</td>\n      <td>96</td>\n      <td>168</td>\n      <td>504</td>\n      <td>1344</td>\n      <td>...</td>\n      <td>1</td>\n      <td>1</td>\n      <td>0</td>\n      <td>0</td>\n      <td>0</td>\n      <td>1</td>\n      <td>0</td>\n      <td>0</td>\n      <td>1</td>\n      <td>0</td>\n    </tr>\n  </tbody>\n</table>\n<p>94169 rows × 184 columns</p>\n</div>"
     },
     "execution_count": 2,
     "metadata": {},
     "output_type": "execute_result"
    }
   ],
   "source": [
    "train_org = pd.read_csv('../data/train.csv')\n",
    "train, league_mean_ratting_all, teams_ratting_all  = get_prepared_data(train_org)\n",
    "train"
   ]
  },
  {
   "cell_type": "code",
   "execution_count": 4,
   "outputs": [
    {
     "name": "stdout",
     "output_type": "stream",
     "text": [
      "['target', 'is_cup', 'home_team_history_match_date_1', 'home_team_history_is_play_home_1', 'home_team_history_is_cup_1', 'home_team_history_goal_1', 'home_team_history_opponent_goal_1', 'home_team_history_rating_1', 'home_team_history_opponent_rating_1', 'away_team_history_match_date_1', 'away_team_history_is_play_home_1', 'away_team_history_is_cup_1', 'away_team_history_goal_1', 'away_team_history_opponent_goal_1', 'away_team_history_rating_1', 'away_team_history_opponent_rating_1', 'home_team_history_gol_difference_1', 'home_team_mean_regeneration_time', 'away_team_history_gol_difference_1', 'away_team_mean_regeneration_time', 'home_team_mean_ratting', 'away_team_mean_ratting', 'league_id_ratting', 'sum_history_targets', 'home_team_history_target_1_-1.0', 'home_team_history_target_1_0.0', 'away_team_history_target_1_-1.0', 'away_team_history_target_1_0.0']\n"
     ]
    }
   ],
   "source": [
    "import  re\n",
    "used = set()\n",
    "columns_only_first_hist = [column for column in train.columns.values if\n",
    "                           re.sub('\\d', '', column) not in used and (used.add(re.sub('\\d', '', column)) or True)]\n",
    "print(columns_only_first_hist)"
   ],
   "metadata": {
    "collapsed": false,
    "pycharm": {
     "name": "#%%\n"
    }
   }
  },
  {
   "cell_type": "code",
   "execution_count": 5,
   "metadata": {
    "collapsed": false,
    "pycharm": {
     "name": "#%%\n"
    }
   },
   "outputs": [
    {
     "name": "stdout",
     "output_type": "stream",
     "text": [
      "correction col type..\n",
      "percent of object with nan value:  39.35\n",
      "remove coach columns..\n",
      "percent of object with nan value:  13.93\n",
      "remove object with more that  col 80 empty...\n",
      "percent of object with nan value:  13.93\n",
      "remove history columns\n"
     ]
    },
    {
     "ename": "TypeError",
     "evalue": "'DataFrame' object cannot be interpreted as an integer",
     "output_type": "error",
     "traceback": [
      "\u001B[0;31m---------------------------------------------------------------------------\u001B[0m",
      "\u001B[0;31mTypeError\u001B[0m                                 Traceback (most recent call last)",
      "Input \u001B[0;32mIn [5]\u001B[0m, in \u001B[0;36m<module>\u001B[0;34m\u001B[0m\n\u001B[1;32m      1\u001B[0m test_org \u001B[38;5;241m=\u001B[39m pd\u001B[38;5;241m.\u001B[39mread_csv(\u001B[38;5;124m'\u001B[39m\u001B[38;5;124m../data/test.csv\u001B[39m\u001B[38;5;124m'\u001B[39m)\n\u001B[0;32m----> 2\u001B[0m test  \u001B[38;5;241m=\u001B[39m \u001B[43mget_prepared_data\u001B[49m\u001B[43m(\u001B[49m\u001B[43mtest_org\u001B[49m\u001B[43m,\u001B[49m\u001B[43m \u001B[49m\u001B[43mleague_mean_ratting_all\u001B[49m\u001B[43m,\u001B[49m\u001B[43m \u001B[49m\u001B[43mteams_ratting_all\u001B[49m\u001B[43m \u001B[49m\u001B[43m)\u001B[49m\n\u001B[1;32m      3\u001B[0m test\n",
      "File \u001B[0;32m~/PycharmProjects/Football-match-probability-prediction/prepared_data/get_prepared_data.py:7\u001B[0m, in \u001B[0;36mget_prepared_data\u001B[0;34m(data_org, number_of_history_matches, league_mean_ratting_all, teams_mean_ratting_all)\u001B[0m\n\u001B[1;32m      6\u001B[0m \u001B[38;5;28;01mdef\u001B[39;00m \u001B[38;5;21mget_prepared_data\u001B[39m(data_org, number_of_history_matches\u001B[38;5;241m=\u001B[39m\u001B[38;5;241m8\u001B[39m, league_mean_ratting_all\u001B[38;5;241m=\u001B[39m\u001B[38;5;28;01mNone\u001B[39;00m, teams_mean_ratting_all\u001B[38;5;241m=\u001B[39m\u001B[38;5;28;01mNone\u001B[39;00m):\n\u001B[0;32m----> 7\u001B[0m     data \u001B[38;5;241m=\u001B[39m \u001B[43mcompleted_data_convert_type\u001B[49m\u001B[43m(\u001B[49m\u001B[43mdata_org\u001B[49m\u001B[43m,\u001B[49m\u001B[43m \u001B[49m\u001B[43mnumber_of_history_matches\u001B[49m\u001B[43m)\u001B[49m\n\u001B[1;32m      9\u001B[0m     data, league_mean_ratting_all, teams_mean_ratting_all \u001B[38;5;241m=\u001B[39m adding_new_features(data, number_of_history_matches,\n\u001B[1;32m     10\u001B[0m                                                                                 league_mean_ratting_all,\n\u001B[1;32m     11\u001B[0m                                                                                 teams_mean_ratting_all)\n\u001B[1;32m     12\u001B[0m     data \u001B[38;5;241m=\u001B[39m remove_described_col_and_set_index_id(data)\n",
      "File \u001B[0;32m~/PycharmProjects/Football-match-probability-prediction/prepared_data/get_prepared_data.py:17\u001B[0m, in \u001B[0;36mcompleted_data_convert_type\u001B[0;34m(data_org, number_of_history_matches)\u001B[0m\n\u001B[1;32m     16\u001B[0m \u001B[38;5;28;01mdef\u001B[39;00m \u001B[38;5;21mcompleted_data_convert_type\u001B[39m(data_org, number_of_history_matches):\n\u001B[0;32m---> 17\u001B[0m     data \u001B[38;5;241m=\u001B[39m \u001B[43mcompleted_missing_data\u001B[49m\u001B[43m(\u001B[49m\u001B[43mdata_org\u001B[49m\u001B[43m,\u001B[49m\u001B[43m \u001B[49m\u001B[43mnumber_of_history_matches\u001B[49m\u001B[43m)\u001B[49m\n\u001B[1;32m     18\u001B[0m     data \u001B[38;5;241m=\u001B[39m convert_historical_date_to_date_difference(data)\n\u001B[1;32m     19\u001B[0m     data \u001B[38;5;241m=\u001B[39m map_target(data)\n",
      "File \u001B[0;32m~/PycharmProjects/Football-match-probability-prediction/prepared_data/completed_missing_data.py:23\u001B[0m, in \u001B[0;36mcompleted_missing_data\u001B[0;34m(data, number_of_history_matches)\u001B[0m\n\u001B[1;32m     20\u001B[0m check_prosense_nan_values(data, data_org)\n\u001B[1;32m     22\u001B[0m \u001B[38;5;28mprint\u001B[39m(\u001B[38;5;124m'\u001B[39m\u001B[38;5;124mremove history columns\u001B[39m\u001B[38;5;124m'\u001B[39m)\n\u001B[0;32m---> 23\u001B[0m data \u001B[38;5;241m=\u001B[39m \u001B[43mremove_history_col\u001B[49m\u001B[43m(\u001B[49m\u001B[43mdata\u001B[49m\u001B[43m,\u001B[49m\u001B[43m \u001B[49m\u001B[43mnumber_of_history_matches\u001B[49m\u001B[43m)\u001B[49m\n\u001B[1;32m     24\u001B[0m check_prosense_nan_values(data, data_org)\n\u001B[1;32m     26\u001B[0m \u001B[38;5;28mprint\u001B[39m(\u001B[38;5;124m'\u001B[39m\u001B[38;5;124mremove all nan data\u001B[39m\u001B[38;5;124m'\u001B[39m)\n",
      "File \u001B[0;32m~/PycharmProjects/Football-match-probability-prediction/prepared_data/completed_missing_data.py:53\u001B[0m, in \u001B[0;36mremove_history_col\u001B[0;34m(train, number_of_history_matches)\u001B[0m\n\u001B[1;32m     52\u001B[0m \u001B[38;5;28;01mdef\u001B[39;00m \u001B[38;5;21mremove_history_col\u001B[39m(train, number_of_history_matches):\n\u001B[0;32m---> 53\u001B[0m     number_history_col \u001B[38;5;241m=\u001B[39m \u001B[38;5;28mlist\u001B[39m(\u001B[38;5;28mmap\u001B[39m(\u001B[38;5;28mstr\u001B[39m, \u001B[38;5;28;43mrange\u001B[39;49m\u001B[43m(\u001B[49m\u001B[38;5;241;43m1\u001B[39;49m\u001B[43m,\u001B[49m\u001B[43m \u001B[49m\u001B[43mnumber_of_history_matches\u001B[49m\u001B[43m \u001B[49m\u001B[38;5;241;43m+\u001B[39;49m\u001B[43m \u001B[49m\u001B[38;5;241;43m1\u001B[39;49m\u001B[43m)\u001B[49m))\n\u001B[1;32m     55\u001B[0m     current_match_columns \u001B[38;5;241m=\u001B[39m [column \u001B[38;5;28;01mfor\u001B[39;00m column \u001B[38;5;129;01min\u001B[39;00m train\u001B[38;5;241m.\u001B[39mcolumns\u001B[38;5;241m.\u001B[39mvalues \u001B[38;5;28;01mif\u001B[39;00m \u001B[38;5;124m'\u001B[39m\u001B[38;5;124mhistory\u001B[39m\u001B[38;5;124m'\u001B[39m \u001B[38;5;129;01mnot\u001B[39;00m \u001B[38;5;129;01min\u001B[39;00m column]\n\u001B[1;32m     56\u001B[0m     columns_history \u001B[38;5;241m=\u001B[39m [x \u001B[38;5;28;01mfor\u001B[39;00m x \u001B[38;5;129;01min\u001B[39;00m train\u001B[38;5;241m.\u001B[39mcolumns \u001B[38;5;28;01mfor\u001B[39;00m number \u001B[38;5;129;01min\u001B[39;00m number_history_col \u001B[38;5;28;01mif\u001B[39;00m number \u001B[38;5;129;01min\u001B[39;00m x \u001B[38;5;129;01mand\u001B[39;00m \u001B[38;5;124m'\u001B[39m\u001B[38;5;124m0\u001B[39m\u001B[38;5;124m'\u001B[39m \u001B[38;5;129;01mnot\u001B[39;00m \u001B[38;5;129;01min\u001B[39;00m x]\n",
      "\u001B[0;31mTypeError\u001B[0m: 'DataFrame' object cannot be interpreted as an integer"
     ]
    }
   ],
   "source": [
    "test_org = pd.read_csv('../data/test.csv')\n",
    "test  = get_prepared_data(test_org, league_mean_ratting_all, teams_ratting_all )\n",
    "test"
   ]
  },
  {
   "cell_type": "markdown",
   "metadata": {},
   "source": [
    "# Dodanie cech\n",
    "- Sredni ranking drużyn w lidzie\n",
    "- Sredni ranking ligi w lidze\n",
    "- Intensywnosc druzyny, na podstawie dat rozegranych meczów\n",
    "- Historyczny mecz target, na postawie bramek\n",
    "\n",
    "\n"
   ]
  },
  {
   "cell_type": "code",
   "execution_count": null,
   "metadata": {},
   "outputs": [],
   "source": [
    "def team_regeneration(data_f, team_h_or_a, index, history_matches_amount):\n",
    "    i_str =str(index)\n",
    "    if index == 1:\n",
    "        data_f[team_h_or_a + '_team_mean_regeneration_time'] = data_f[team_h_or_a + '_team_history_match_date_' + i_str] / history_matches_amount\n",
    "    else:\n",
    "        data_f[team_h_or_a + '_team_mean_regeneration_time'] += data_f[team_h_or_a + '_team_history_match_date_' + i_str] / history_matches_amount\n",
    "    return data_f\n",
    "\n",
    "\n",
    "def history_target(data_f, team_h_or_a, index):\n",
    "    i_str = str(index)\n",
    "    team_history_goal = team_h_or_a + '_team_history_goal_' + i_str\n",
    "\n",
    "    team_history_opponent_goal = team_h_or_a + '_team_history_opponent_goal_' + i_str\n",
    "\n",
    "\n",
    "    data_f[team_h_or_a + '_team_history_gol_difference_' + i_str] = data_f[team_history_goal] - data_f[team_history_opponent_goal]\n",
    "\n",
    "    data_f[team_h_or_a + '_team_history_target_' + i_str] = np.sign(\n",
    "        data_f[team_history_goal] - data_f[team_history_opponent_goal])\n",
    "    return  data_f\n",
    "\n",
    "\n",
    "\n",
    "\n",
    "def league_team_mean_ratting(data_f, team_h_or_a, index):\n",
    "    i_str = str(index)\n",
    "    last_match_columns = [x for x in data_f.columns if i_str in x]\n",
    "    rating_col_name = team_h_or_a + '_team_history_league_id_' + i_str\n",
    "\n",
    "    league_mean_ratting = data_f[last_match_columns].groupby(by=rating_col_name).mean()\n",
    "    league_mean_ratting['mean_ratting_' + team_h_or_a + '_' + i_str] = (league_mean_ratting[team_h_or_a + '_team_history_rating_' + i_str]\n",
    "                                                                      + league_mean_ratting[team_h_or_a + '_team_history_opponent_rating_' + i_str]) / 2\n",
    "\n",
    "    return league_mean_ratting['mean_ratting_' + team_h_or_a + '_' + i_str]\n",
    "\n",
    "def teams_mean_ratting(data_f, team_h_or_a, index):\n",
    "    i_str = str(index)\n",
    "    team_col_name = team_h_or_a+'_team_name'\n",
    "\n",
    "    team_mean_ratting = data_f.groupby(by=team_col_name).mean()\n",
    "\n",
    "    return team_mean_ratting[team_h_or_a + '_team_history_rating_' + i_str]\n",
    "\n",
    "league_mean_ratting_all = pd.DataFrame()\n",
    "teams_mean_ratting_all = pd.DataFrame()\n",
    "\n",
    "number_of_history_matches = 8\n",
    "\n",
    "for i in range(1, number_of_history_matches + 1):\n",
    "    for home_or_away in ['home', 'away']:\n",
    "\n",
    "        league_mean_ratting_all = league_mean_ratting_all.append(league_team_mean_ratting(train, home_or_away, i))\n",
    "        teams_mean_ratting_all = teams_mean_ratting_all.append(teams_mean_ratting(train,home_or_away,i))\n",
    "\n",
    "\n",
    "\n",
    "        train = history_target(train, home_or_away, i)\n",
    "        train = team_regeneration(train, home_or_away, i,number_of_history_matches)\n",
    "\n",
    "        if i == number_of_history_matches-1:\n",
    "            team_name_col = home_or_away + '_team_name'\n",
    "            teams_ratting = teams_mean_ratting_all.mean().reset_index().rename(columns = {'index': team_name_col, 0: home_or_away+'_team_mean_ratting'})\n",
    "            train = train.merge(teams_ratting, on=team_name_col)\n",
    "\n",
    "league_mean_ratting_all = league_mean_ratting_all.mean().reset_index().rename(\n",
    "    columns={'index': 'league_id', 0: 'league_id_ratting'})\n",
    "\n",
    "train = train.merge(league_mean_ratting_all, on='league_id').sort_values(by='league_id')\n",
    "\n",
    "train"
   ]
  },
  {
   "cell_type": "code",
   "execution_count": 22,
   "outputs": [],
   "source": [
    "target_columns = [x for x in train.columns if 'history_target' in x]\n",
    "train = pd.get_dummies(train, columns=target_columns)"
   ],
   "metadata": {
    "collapsed": false,
    "pycharm": {
     "name": "#%%\n"
    }
   }
  },
  {
   "cell_type": "code",
   "execution_count": 23,
   "outputs": [
    {
     "data": {
      "text/plain": "          target  is_cup  home_team_history_match_date_1  \\\nid                                                         \n11989265      -1       1                              78   \n16865249       1       1                             219   \n16916583       1       1                              94   \n16940078      -1       1                             167   \n17213503       1       1                             100   \n...          ...     ...                             ...   \n17882059       1       1                             504   \n17887522      -1       1                             127   \n17882061      -1       1                             545   \n17882060       1       1                             504   \n17887523       1       1                             127   \n\n          home_team_history_match_date_2  home_team_history_match_date_3  \\\nid                                                                         \n11989265                             258                              75   \n16865249                             168                             286   \n16916583                             627                              93   \n16940078                             168                             119   \n17213503                              92                              76   \n...                                  ...                             ...   \n17882059                            1135                             712   \n17887522                             167                             208   \n17882061                            1133                             715   \n17882060                            1344                             504   \n17887523                             167                             208   \n\n          home_team_history_match_date_4  home_team_history_match_date_5  \\\nid                                                                         \n11989265                             193                              67   \n16865249                              71                              49   \n16916583                              99                              93   \n16940078                             123                             117   \n17213503                             144                              92   \n...                                  ...                             ...   \n17882059                             168                             168   \n17887522                              72                              96   \n17882061                             168                             168   \n17882060                             168                             168   \n17887523                              72                              96   \n\n          home_team_history_match_date_6  home_team_history_match_date_7  \\\nid                                                                         \n11989265                             103                              88   \n16865249                            3145                              67   \n16916583                              74                             168   \n16940078                             121                              96   \n17213503                             126                             238   \n...                                  ...                             ...   \n17882059                             168                             505   \n17887522                             127                             545   \n17882061                             168                             505   \n17882060                             168                             505   \n17887523                             168                             504   \n\n          home_team_history_match_date_8  ...  home_team_history_target_7_1.0  \\\nid                                        ...                                   \n11989265                              74  ...                               1   \n16865249                              76  ...                               0   \n16916583                              69  ...                               0   \n16940078                              96  ...                               1   \n17213503                              72  ...                               0   \n...                                  ...  ...                             ...   \n17882059                             168  ...                               0   \n17887522                            1133  ...                               0   \n17882061                             168  ...                               0   \n17882060                             168  ...                               0   \n17887523                            1344  ...                               1   \n\n          away_team_history_target_7_-1.0  away_team_history_target_7_0.0  \\\nid                                                                          \n11989265                                0                               0   \n16865249                                0                               0   \n16916583                                1                               0   \n16940078                                0                               0   \n17213503                                0                               0   \n...                                   ...                             ...   \n17882059                                0                               1   \n17887522                                1                               0   \n17882061                                0                               0   \n17882060                                0                               0   \n17887523                                1                               0   \n\n          away_team_history_target_7_1.0  home_team_history_target_8_-1.0  \\\nid                                                                          \n11989265                               1                                1   \n16865249                               1                                0   \n16916583                               0                                0   \n16940078                               1                                0   \n17213503                               1                                1   \n...                                  ...                              ...   \n17882059                               0                                0   \n17887522                               0                                1   \n17882061                               1                                1   \n17882060                               1                                0   \n17887523                               0                                0   \n\n          home_team_history_target_8_0.0  home_team_history_target_8_1.0  \\\nid                                                                         \n11989265                               0                               0   \n16865249                               0                               1   \n16916583                               1                               0   \n16940078                               0                               1   \n17213503                               0                               0   \n...                                  ...                             ...   \n17882059                               1                               0   \n17887522                               0                               0   \n17882061                               0                               0   \n17882060                               1                               0   \n17887523                               1                               0   \n\n          away_team_history_target_8_-1.0  away_team_history_target_8_0.0  \\\nid                                                                          \n11989265                                0                               1   \n16865249                                0                               0   \n16916583                                0                               0   \n16940078                                0                               0   \n17213503                                1                               0   \n...                                   ...                             ...   \n17882059                                1                               0   \n17887522                                1                               0   \n17882061                                0                               0   \n17882060                                0                               0   \n17887523                                0                               1   \n\n          away_team_history_target_8_1.0  \nid                                        \n11989265                               0  \n16865249                               1  \n16916583                               1  \n16940078                               1  \n17213503                               0  \n...                                  ...  \n17882059                               0  \n17887522                               0  \n17882061                               1  \n17882060                               1  \n17887523                               0  \n\n[94169 rows x 183 columns]",
      "text/html": "<div>\n<style scoped>\n    .dataframe tbody tr th:only-of-type {\n        vertical-align: middle;\n    }\n\n    .dataframe tbody tr th {\n        vertical-align: top;\n    }\n\n    .dataframe thead th {\n        text-align: right;\n    }\n</style>\n<table border=\"1\" class=\"dataframe\">\n  <thead>\n    <tr style=\"text-align: right;\">\n      <th></th>\n      <th>target</th>\n      <th>is_cup</th>\n      <th>home_team_history_match_date_1</th>\n      <th>home_team_history_match_date_2</th>\n      <th>home_team_history_match_date_3</th>\n      <th>home_team_history_match_date_4</th>\n      <th>home_team_history_match_date_5</th>\n      <th>home_team_history_match_date_6</th>\n      <th>home_team_history_match_date_7</th>\n      <th>home_team_history_match_date_8</th>\n      <th>...</th>\n      <th>home_team_history_target_7_1.0</th>\n      <th>away_team_history_target_7_-1.0</th>\n      <th>away_team_history_target_7_0.0</th>\n      <th>away_team_history_target_7_1.0</th>\n      <th>home_team_history_target_8_-1.0</th>\n      <th>home_team_history_target_8_0.0</th>\n      <th>home_team_history_target_8_1.0</th>\n      <th>away_team_history_target_8_-1.0</th>\n      <th>away_team_history_target_8_0.0</th>\n      <th>away_team_history_target_8_1.0</th>\n    </tr>\n    <tr>\n      <th>id</th>\n      <th></th>\n      <th></th>\n      <th></th>\n      <th></th>\n      <th></th>\n      <th></th>\n      <th></th>\n      <th></th>\n      <th></th>\n      <th></th>\n      <th></th>\n      <th></th>\n      <th></th>\n      <th></th>\n      <th></th>\n      <th></th>\n      <th></th>\n      <th></th>\n      <th></th>\n      <th></th>\n      <th></th>\n    </tr>\n  </thead>\n  <tbody>\n    <tr>\n      <th>11989265</th>\n      <td>-1</td>\n      <td>1</td>\n      <td>78</td>\n      <td>258</td>\n      <td>75</td>\n      <td>193</td>\n      <td>67</td>\n      <td>103</td>\n      <td>88</td>\n      <td>74</td>\n      <td>...</td>\n      <td>1</td>\n      <td>0</td>\n      <td>0</td>\n      <td>1</td>\n      <td>1</td>\n      <td>0</td>\n      <td>0</td>\n      <td>0</td>\n      <td>1</td>\n      <td>0</td>\n    </tr>\n    <tr>\n      <th>16865249</th>\n      <td>1</td>\n      <td>1</td>\n      <td>219</td>\n      <td>168</td>\n      <td>286</td>\n      <td>71</td>\n      <td>49</td>\n      <td>3145</td>\n      <td>67</td>\n      <td>76</td>\n      <td>...</td>\n      <td>0</td>\n      <td>0</td>\n      <td>0</td>\n      <td>1</td>\n      <td>0</td>\n      <td>0</td>\n      <td>1</td>\n      <td>0</td>\n      <td>0</td>\n      <td>1</td>\n    </tr>\n    <tr>\n      <th>16916583</th>\n      <td>1</td>\n      <td>1</td>\n      <td>94</td>\n      <td>627</td>\n      <td>93</td>\n      <td>99</td>\n      <td>93</td>\n      <td>74</td>\n      <td>168</td>\n      <td>69</td>\n      <td>...</td>\n      <td>0</td>\n      <td>1</td>\n      <td>0</td>\n      <td>0</td>\n      <td>0</td>\n      <td>1</td>\n      <td>0</td>\n      <td>0</td>\n      <td>0</td>\n      <td>1</td>\n    </tr>\n    <tr>\n      <th>16940078</th>\n      <td>-1</td>\n      <td>1</td>\n      <td>167</td>\n      <td>168</td>\n      <td>119</td>\n      <td>123</td>\n      <td>117</td>\n      <td>121</td>\n      <td>96</td>\n      <td>96</td>\n      <td>...</td>\n      <td>1</td>\n      <td>0</td>\n      <td>0</td>\n      <td>1</td>\n      <td>0</td>\n      <td>0</td>\n      <td>1</td>\n      <td>0</td>\n      <td>0</td>\n      <td>1</td>\n    </tr>\n    <tr>\n      <th>17213503</th>\n      <td>1</td>\n      <td>1</td>\n      <td>100</td>\n      <td>92</td>\n      <td>76</td>\n      <td>144</td>\n      <td>92</td>\n      <td>126</td>\n      <td>238</td>\n      <td>72</td>\n      <td>...</td>\n      <td>0</td>\n      <td>0</td>\n      <td>0</td>\n      <td>1</td>\n      <td>1</td>\n      <td>0</td>\n      <td>0</td>\n      <td>1</td>\n      <td>0</td>\n      <td>0</td>\n    </tr>\n    <tr>\n      <th>...</th>\n      <td>...</td>\n      <td>...</td>\n      <td>...</td>\n      <td>...</td>\n      <td>...</td>\n      <td>...</td>\n      <td>...</td>\n      <td>...</td>\n      <td>...</td>\n      <td>...</td>\n      <td>...</td>\n      <td>...</td>\n      <td>...</td>\n      <td>...</td>\n      <td>...</td>\n      <td>...</td>\n      <td>...</td>\n      <td>...</td>\n      <td>...</td>\n      <td>...</td>\n      <td>...</td>\n    </tr>\n    <tr>\n      <th>17882059</th>\n      <td>1</td>\n      <td>1</td>\n      <td>504</td>\n      <td>1135</td>\n      <td>712</td>\n      <td>168</td>\n      <td>168</td>\n      <td>168</td>\n      <td>505</td>\n      <td>168</td>\n      <td>...</td>\n      <td>0</td>\n      <td>0</td>\n      <td>1</td>\n      <td>0</td>\n      <td>0</td>\n      <td>1</td>\n      <td>0</td>\n      <td>1</td>\n      <td>0</td>\n      <td>0</td>\n    </tr>\n    <tr>\n      <th>17887522</th>\n      <td>-1</td>\n      <td>1</td>\n      <td>127</td>\n      <td>167</td>\n      <td>208</td>\n      <td>72</td>\n      <td>96</td>\n      <td>127</td>\n      <td>545</td>\n      <td>1133</td>\n      <td>...</td>\n      <td>0</td>\n      <td>1</td>\n      <td>0</td>\n      <td>0</td>\n      <td>1</td>\n      <td>0</td>\n      <td>0</td>\n      <td>1</td>\n      <td>0</td>\n      <td>0</td>\n    </tr>\n    <tr>\n      <th>17882061</th>\n      <td>-1</td>\n      <td>1</td>\n      <td>545</td>\n      <td>1133</td>\n      <td>715</td>\n      <td>168</td>\n      <td>168</td>\n      <td>168</td>\n      <td>505</td>\n      <td>168</td>\n      <td>...</td>\n      <td>0</td>\n      <td>0</td>\n      <td>0</td>\n      <td>1</td>\n      <td>1</td>\n      <td>0</td>\n      <td>0</td>\n      <td>0</td>\n      <td>0</td>\n      <td>1</td>\n    </tr>\n    <tr>\n      <th>17882060</th>\n      <td>1</td>\n      <td>1</td>\n      <td>504</td>\n      <td>1344</td>\n      <td>504</td>\n      <td>168</td>\n      <td>168</td>\n      <td>168</td>\n      <td>505</td>\n      <td>168</td>\n      <td>...</td>\n      <td>0</td>\n      <td>0</td>\n      <td>0</td>\n      <td>1</td>\n      <td>0</td>\n      <td>1</td>\n      <td>0</td>\n      <td>0</td>\n      <td>0</td>\n      <td>1</td>\n    </tr>\n    <tr>\n      <th>17887523</th>\n      <td>1</td>\n      <td>1</td>\n      <td>127</td>\n      <td>167</td>\n      <td>208</td>\n      <td>72</td>\n      <td>96</td>\n      <td>168</td>\n      <td>504</td>\n      <td>1344</td>\n      <td>...</td>\n      <td>1</td>\n      <td>1</td>\n      <td>0</td>\n      <td>0</td>\n      <td>0</td>\n      <td>1</td>\n      <td>0</td>\n      <td>0</td>\n      <td>1</td>\n      <td>0</td>\n    </tr>\n  </tbody>\n</table>\n<p>94169 rows × 183 columns</p>\n</div>"
     },
     "execution_count": 23,
     "metadata": {},
     "output_type": "execute_result"
    }
   ],
   "source": [
    "train = remove_described_col_and_set_index_id(train)\n",
    "# %%\n",
    "train"
   ],
   "metadata": {
    "collapsed": false,
    "pycharm": {
     "name": "#%%\n"
    }
   }
  },
  {
   "cell_type": "code",
   "execution_count": 24,
   "outputs": [
    {
     "name": "stdout",
     "output_type": "stream",
     "text": [
      "['target', 'is_cup', 'home_team_history_match_date_1', 'home_team_history_is_play_home_1', 'home_team_history_is_cup_1', 'home_team_history_goal_1', 'home_team_history_opponent_goal_1', 'home_team_history_rating_1', 'home_team_history_opponent_rating_1', 'away_team_history_match_date_1', 'away_team_history_is_play_home_1', 'away_team_history_is_cup_1', 'away_team_history_goal_1', 'away_team_history_opponent_goal_1', 'away_team_history_rating_1', 'away_team_history_opponent_rating_1', 'home_team_history_gol_difference_1', 'home_team_mean_regeneration_time', 'away_team_history_gol_difference_1', 'away_team_mean_regeneration_time', 'home_team_mean_ratting', 'away_team_mean_ratting', 'league_id_ratting', 'home_team_history_target_1_-1.0', 'home_team_history_target_1_0.0', 'away_team_history_target_1_-1.0', 'away_team_history_target_1_0.0']\n"
     ]
    }
   ],
   "source": [
    "import re\n",
    "used = set()\n",
    "columns_only_first_hist = [column for column in train.columns.values if\n",
    "                           re.sub('\\d', '', column) not in used and (used.add(re.sub('\\d', '', column)) or True)]\n",
    "print(columns_only_first_hist)"
   ],
   "metadata": {
    "collapsed": false,
    "pycharm": {
     "name": "#%%\n"
    }
   }
  },
  {
   "cell_type": "code",
   "execution_count": 25,
   "metadata": {
    "collapsed": false,
    "pycharm": {
     "name": "#%%\n"
    }
   },
   "outputs": [
    {
     "name": "stdout",
     "output_type": "stream",
     "text": [
      "accuracy: 0.50\n",
      "train [ 1  1  1 ...  1 -1  1]\n"
     ]
    }
   ],
   "source": [
    "from sklearn.preprocessing import StandardScaler\n",
    "from sklearn.pipeline import make_pipeline\n",
    "from sklearn.model_selection import train_test_split\n",
    "from sklearn.linear_model import LogisticRegression\n",
    "\n",
    "for data, name in zip([train], ['train']):\n",
    "    X_train, X_test, y_train, y_test = train_test_split(data.iloc[:, 1:], data.iloc[:, 0], test_size=0.33,\n",
    "                                                        random_state=42)\n",
    "    pipe = make_pipeline(StandardScaler(), LogisticRegression(random_state=0, solver='lbfgs', multi_class='ovr'))\n",
    "\n",
    "    pipe.fit(X_train, y_train)\n",
    "    results = pipe.predict(X_train)\n",
    "    print(f'accuracy: {pipe.score(X_test, y_test):.02f}')\n",
    "    print(name, results)\n",
    "# drzewach, svm\n",
    "# kolumny\n",
    "# kaggle\n",
    "#"
   ]
  },
  {
   "cell_type": "markdown",
   "metadata": {
    "collapsed": false
   },
   "source": [
    "# Dobór cech"
   ]
  },
  {
   "cell_type": "code",
   "execution_count": 27,
   "metadata": {
    "collapsed": false,
    "pycharm": {
     "name": "#%%\n"
    }
   },
   "outputs": [
    {
     "data": {
      "text/plain": "Index(['away_team_history_is_play_home_4', 'away_team_history_is_cup_6',\n       'home_team_history_gol_difference_3', 'home_team_mean_ratting',\n       'away_team_mean_ratting'],\n      dtype='object')"
     },
     "execution_count": 27,
     "metadata": {},
     "output_type": "execute_result"
    }
   ],
   "source": [
    "from sklearn.feature_selection import SequentialFeatureSelector\n",
    "\n",
    "svc = make_pipeline(StandardScaler(), LogisticRegression(random_state=0, solver='lbfgs', multi_class='ovr'))\n",
    "\n",
    "sfs = SequentialFeatureSelector(svc, n_features_to_select=5,cv= 5)\n",
    "sfs.fit(X_train, y_train)\n",
    "\n",
    "X_train.columns[ sfs.get_support()]"
   ]
  },
  {
   "cell_type": "markdown",
   "source": [],
   "metadata": {
    "collapsed": false
   }
  }
 ],
 "metadata": {
  "kernelspec": {
   "display_name": "Python 3",
   "language": "python",
   "name": "python3"
  },
  "language_info": {
   "codemirror_mode": {
    "name": "ipython",
    "version": 3
   },
   "file_extension": ".py",
   "mimetype": "text/x-python",
   "name": "python",
   "nbconvert_exporter": "python",
   "pygments_lexer": "ipython3",
   "version": "3.8.5"
  }
 },
 "nbformat": 4,
 "nbformat_minor": 0
}