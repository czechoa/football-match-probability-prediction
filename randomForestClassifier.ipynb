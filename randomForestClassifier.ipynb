{
 "cells": [
  {
   "cell_type": "code",
   "execution_count": 1,
   "metadata": {
    "collapsed": true
   },
   "outputs": [
    {
     "name": "stderr",
     "output_type": "stream",
     "text": [
      "/home/andrzej/PycharmProjects/Physionet_Challenge_2021/venv/lib/python3.9/site-packages/IPython/core/interactiveshell.py:3251: DtypeWarning: Columns (7) have mixed types.Specify dtype option on import or set low_memory=False.\n",
      "  exec(code_obj, self.user_global_ns, self.user_ns)\n"
     ]
    },
    {
     "name": "stdout",
     "output_type": "stream",
     "text": [
      "correction col type..\n",
      "percent of object with nan value:  42.20\n",
      "remove coach columns..\n",
      "percent of object with nan value:  18.64\n",
      "remove object with more that  col 80 empty...\n",
      "percent of object with nan value:  18.64\n",
      "remove 9 and 10 day historii\n",
      "percent of object with nan value:  15.11\n",
      "remove all nan data\n",
      "percent of object with nan value:  15.11\n"
     ]
    },
    {
     "data": {
      "text/plain": "          target  is_cup  home_team_history_match_date_1  \\\nid                                                         \n17213498       0       1                              99   \n17225102       0       1                             144   \n17213499       0       1                             144   \n17201577       1       1                              80   \n17201576      -1       1                              98   \n...          ...     ...                             ...   \n17882062       0       1                             547   \n17882061      -1       1                             545   \n17882060       1       1                             504   \n17882059       1       1                             504   \n17887521       1       1                              72   \n\n          home_team_history_match_date_2  home_team_history_match_date_3  \\\nid                                                                         \n17213498                              71                             406   \n17225102                              75                              96   \n17213499                             104                              66   \n17201577                              64                              98   \n17201576                              94                              95   \n...                                  ...                             ...   \n17882062                            1344                             463   \n17882061                            1133                             715   \n17882060                            1344                             504   \n17882059                            1135                             712   \n17887521                             222                              88   \n\n          home_team_history_match_date_4  home_team_history_match_date_5  \\\nid                                                                         \n17213498                              98                              99   \n17225102                              93                             314   \n17213499                             119                             290   \n17201577                              95                              97   \n17201576                             196                              91   \n...                                  ...                             ...   \n17882062                             165                             211   \n17882061                             168                             168   \n17882060                             168                             168   \n17882059                             168                             168   \n17887521                             120                             127   \n\n          home_team_history_match_date_6  home_team_history_match_date_7  \\\nid                                                                         \n17213498                              69                              98   \n17225102                              93                              98   \n17213499                              93                             169   \n17201577                             406                             100   \n17201576                             192                             169   \n...                                  ...                             ...   \n17882062                             168                             464   \n17882061                             168                             505   \n17882060                             168                             505   \n17882059                             168                             505   \n17887521                             165                             547   \n\n          home_team_history_match_date_8  ...  \\\nid                                        ...   \n17213498                             115  ...   \n17225102                              72  ...   \n17213499                             120  ...   \n17201577                             789  ...   \n17201576                             149  ...   \n...                                  ...  ...   \n17882062                             208  ...   \n17882061                             168  ...   \n17882060                             168  ...   \n17882059                             168  ...   \n17887521                            1133  ...   \n\n          home_team_mean_regeneration_time  \\\nid                                           \n17213498                              99.0   \n17225102                             144.0   \n17213499                             144.0   \n17201577                              80.0   \n17201576                              98.0   \n...                                    ...   \n17882062                             547.0   \n17882061                             545.0   \n17882060                             504.0   \n17882059                             504.0   \n17887521                              72.0   \n\n          away_team_history_gol_difference_1  \\\nid                                             \n17213498                                 5.0   \n17225102                                 2.0   \n17213499                                -1.0   \n17201577                                -1.0   \n17201576                                 2.0   \n...                                      ...   \n17882062                                 3.0   \n17882061                                 1.0   \n17882060                                 4.0   \n17882059                                -4.0   \n17887521                                 0.0   \n\n          away_team_mean_regeneration_time  league_id_ratting  \\\nid                                                              \n17213498                             104.0           6.795807   \n17225102                              73.0           6.795807   \n17213499                              75.0           6.795807   \n17201577                              72.0           6.795807   \n17201576                              98.0           6.795807   \n...                                    ...                ...   \n17882062                             547.0           8.302320   \n17882061                             545.0           8.302320   \n17882060                             504.0           8.302320   \n17882059                             504.0           8.302320   \n17887521                             127.0           8.302320   \n\n          home_team_history_target_1_-1.0  home_team_history_target_1_0.0  \\\nid                                                                          \n17213498                                1                               0   \n17225102                                1                               0   \n17213499                                0                               1   \n17201577                                0                               0   \n17201576                                0                               0   \n...                                   ...                             ...   \n17882062                                0                               0   \n17882061                                1                               0   \n17882060                                1                               0   \n17882059                                1                               0   \n17887521                                1                               0   \n\n          home_team_history_target_1_1.0  away_team_history_target_1_-1.0  \\\nid                                                                          \n17213498                               0                                0   \n17225102                               0                                0   \n17213499                               0                                1   \n17201577                               1                                1   \n17201576                               1                                0   \n...                                  ...                              ...   \n17882062                               1                                0   \n17882061                               0                                0   \n17882060                               0                                0   \n17882059                               0                                1   \n17887521                               0                                0   \n\n          away_team_history_target_1_0.0  away_team_history_target_1_1.0  \nid                                                                        \n17213498                               0                               1  \n17225102                               0                               1  \n17213499                               0                               0  \n17201577                               0                               0  \n17201576                               0                               1  \n...                                  ...                             ...  \n17882062                               0                               1  \n17882061                               0                               1  \n17882060                               0                               1  \n17882059                               0                               0  \n17887521                               1                               0  \n\n[94169 rows x 125 columns]",
      "text/html": "<div>\n<style scoped>\n    .dataframe tbody tr th:only-of-type {\n        vertical-align: middle;\n    }\n\n    .dataframe tbody tr th {\n        vertical-align: top;\n    }\n\n    .dataframe thead th {\n        text-align: right;\n    }\n</style>\n<table border=\"1\" class=\"dataframe\">\n  <thead>\n    <tr style=\"text-align: right;\">\n      <th></th>\n      <th>target</th>\n      <th>is_cup</th>\n      <th>home_team_history_match_date_1</th>\n      <th>home_team_history_match_date_2</th>\n      <th>home_team_history_match_date_3</th>\n      <th>home_team_history_match_date_4</th>\n      <th>home_team_history_match_date_5</th>\n      <th>home_team_history_match_date_6</th>\n      <th>home_team_history_match_date_7</th>\n      <th>home_team_history_match_date_8</th>\n      <th>...</th>\n      <th>home_team_mean_regeneration_time</th>\n      <th>away_team_history_gol_difference_1</th>\n      <th>away_team_mean_regeneration_time</th>\n      <th>league_id_ratting</th>\n      <th>home_team_history_target_1_-1.0</th>\n      <th>home_team_history_target_1_0.0</th>\n      <th>home_team_history_target_1_1.0</th>\n      <th>away_team_history_target_1_-1.0</th>\n      <th>away_team_history_target_1_0.0</th>\n      <th>away_team_history_target_1_1.0</th>\n    </tr>\n    <tr>\n      <th>id</th>\n      <th></th>\n      <th></th>\n      <th></th>\n      <th></th>\n      <th></th>\n      <th></th>\n      <th></th>\n      <th></th>\n      <th></th>\n      <th></th>\n      <th></th>\n      <th></th>\n      <th></th>\n      <th></th>\n      <th></th>\n      <th></th>\n      <th></th>\n      <th></th>\n      <th></th>\n      <th></th>\n      <th></th>\n    </tr>\n  </thead>\n  <tbody>\n    <tr>\n      <th>17213498</th>\n      <td>0</td>\n      <td>1</td>\n      <td>99</td>\n      <td>71</td>\n      <td>406</td>\n      <td>98</td>\n      <td>99</td>\n      <td>69</td>\n      <td>98</td>\n      <td>115</td>\n      <td>...</td>\n      <td>99.0</td>\n      <td>5.0</td>\n      <td>104.0</td>\n      <td>6.795807</td>\n      <td>1</td>\n      <td>0</td>\n      <td>0</td>\n      <td>0</td>\n      <td>0</td>\n      <td>1</td>\n    </tr>\n    <tr>\n      <th>17225102</th>\n      <td>0</td>\n      <td>1</td>\n      <td>144</td>\n      <td>75</td>\n      <td>96</td>\n      <td>93</td>\n      <td>314</td>\n      <td>93</td>\n      <td>98</td>\n      <td>72</td>\n      <td>...</td>\n      <td>144.0</td>\n      <td>2.0</td>\n      <td>73.0</td>\n      <td>6.795807</td>\n      <td>1</td>\n      <td>0</td>\n      <td>0</td>\n      <td>0</td>\n      <td>0</td>\n      <td>1</td>\n    </tr>\n    <tr>\n      <th>17213499</th>\n      <td>0</td>\n      <td>1</td>\n      <td>144</td>\n      <td>104</td>\n      <td>66</td>\n      <td>119</td>\n      <td>290</td>\n      <td>93</td>\n      <td>169</td>\n      <td>120</td>\n      <td>...</td>\n      <td>144.0</td>\n      <td>-1.0</td>\n      <td>75.0</td>\n      <td>6.795807</td>\n      <td>0</td>\n      <td>1</td>\n      <td>0</td>\n      <td>1</td>\n      <td>0</td>\n      <td>0</td>\n    </tr>\n    <tr>\n      <th>17201577</th>\n      <td>1</td>\n      <td>1</td>\n      <td>80</td>\n      <td>64</td>\n      <td>98</td>\n      <td>95</td>\n      <td>97</td>\n      <td>406</td>\n      <td>100</td>\n      <td>789</td>\n      <td>...</td>\n      <td>80.0</td>\n      <td>-1.0</td>\n      <td>72.0</td>\n      <td>6.795807</td>\n      <td>0</td>\n      <td>0</td>\n      <td>1</td>\n      <td>1</td>\n      <td>0</td>\n      <td>0</td>\n    </tr>\n    <tr>\n      <th>17201576</th>\n      <td>-1</td>\n      <td>1</td>\n      <td>98</td>\n      <td>94</td>\n      <td>95</td>\n      <td>196</td>\n      <td>91</td>\n      <td>192</td>\n      <td>169</td>\n      <td>149</td>\n      <td>...</td>\n      <td>98.0</td>\n      <td>2.0</td>\n      <td>98.0</td>\n      <td>6.795807</td>\n      <td>0</td>\n      <td>0</td>\n      <td>1</td>\n      <td>0</td>\n      <td>0</td>\n      <td>1</td>\n    </tr>\n    <tr>\n      <th>...</th>\n      <td>...</td>\n      <td>...</td>\n      <td>...</td>\n      <td>...</td>\n      <td>...</td>\n      <td>...</td>\n      <td>...</td>\n      <td>...</td>\n      <td>...</td>\n      <td>...</td>\n      <td>...</td>\n      <td>...</td>\n      <td>...</td>\n      <td>...</td>\n      <td>...</td>\n      <td>...</td>\n      <td>...</td>\n      <td>...</td>\n      <td>...</td>\n      <td>...</td>\n      <td>...</td>\n    </tr>\n    <tr>\n      <th>17882062</th>\n      <td>0</td>\n      <td>1</td>\n      <td>547</td>\n      <td>1344</td>\n      <td>463</td>\n      <td>165</td>\n      <td>211</td>\n      <td>168</td>\n      <td>464</td>\n      <td>208</td>\n      <td>...</td>\n      <td>547.0</td>\n      <td>3.0</td>\n      <td>547.0</td>\n      <td>8.302320</td>\n      <td>0</td>\n      <td>0</td>\n      <td>1</td>\n      <td>0</td>\n      <td>0</td>\n      <td>1</td>\n    </tr>\n    <tr>\n      <th>17882061</th>\n      <td>-1</td>\n      <td>1</td>\n      <td>545</td>\n      <td>1133</td>\n      <td>715</td>\n      <td>168</td>\n      <td>168</td>\n      <td>168</td>\n      <td>505</td>\n      <td>168</td>\n      <td>...</td>\n      <td>545.0</td>\n      <td>1.0</td>\n      <td>545.0</td>\n      <td>8.302320</td>\n      <td>1</td>\n      <td>0</td>\n      <td>0</td>\n      <td>0</td>\n      <td>0</td>\n      <td>1</td>\n    </tr>\n    <tr>\n      <th>17882060</th>\n      <td>1</td>\n      <td>1</td>\n      <td>504</td>\n      <td>1344</td>\n      <td>504</td>\n      <td>168</td>\n      <td>168</td>\n      <td>168</td>\n      <td>505</td>\n      <td>168</td>\n      <td>...</td>\n      <td>504.0</td>\n      <td>4.0</td>\n      <td>504.0</td>\n      <td>8.302320</td>\n      <td>1</td>\n      <td>0</td>\n      <td>0</td>\n      <td>0</td>\n      <td>0</td>\n      <td>1</td>\n    </tr>\n    <tr>\n      <th>17882059</th>\n      <td>1</td>\n      <td>1</td>\n      <td>504</td>\n      <td>1135</td>\n      <td>712</td>\n      <td>168</td>\n      <td>168</td>\n      <td>168</td>\n      <td>505</td>\n      <td>168</td>\n      <td>...</td>\n      <td>504.0</td>\n      <td>-4.0</td>\n      <td>504.0</td>\n      <td>8.302320</td>\n      <td>1</td>\n      <td>0</td>\n      <td>0</td>\n      <td>1</td>\n      <td>0</td>\n      <td>0</td>\n    </tr>\n    <tr>\n      <th>17887521</th>\n      <td>1</td>\n      <td>1</td>\n      <td>72</td>\n      <td>222</td>\n      <td>88</td>\n      <td>120</td>\n      <td>127</td>\n      <td>165</td>\n      <td>547</td>\n      <td>1133</td>\n      <td>...</td>\n      <td>72.0</td>\n      <td>0.0</td>\n      <td>127.0</td>\n      <td>8.302320</td>\n      <td>1</td>\n      <td>0</td>\n      <td>0</td>\n      <td>0</td>\n      <td>1</td>\n      <td>0</td>\n    </tr>\n  </tbody>\n</table>\n<p>94169 rows × 125 columns</p>\n</div>"
     },
     "execution_count": 1,
     "metadata": {},
     "output_type": "execute_result"
    }
   ],
   "source": [
    "from prepared_data.completed_missing_data import completed_missing_data,convert_historical_date_to_date_difference, remove_described_col_and_set_index_id, map_target\n",
    "import pandas as pd\n",
    "import numpy as np\n",
    "from prepared_data.adding_new_features import adding_new_features\n",
    "\n",
    "train_org = pd.read_csv('data/train.csv')\n",
    "train = completed_missing_data(train_org)\n",
    "train = convert_historical_date_to_date_difference(train)\n",
    "train = map_target(train)\n",
    "train = adding_new_features(train, number_of_history_matches=1)\n",
    "train = remove_described_col_and_set_index_id(train)\n",
    "train"
   ]
  },
  {
   "cell_type": "code",
   "execution_count": 2,
   "outputs": [
    {
     "name": "stdout",
     "output_type": "stream",
     "text": [
      "['target', 'is_cup', 'home_team_history_match_date_1', 'home_team_history_is_play_home_1', 'home_team_history_is_cup_1', 'home_team_history_goal_1', 'home_team_history_opponent_goal_1', 'home_team_history_rating_1', 'home_team_history_opponent_rating_1', 'away_team_history_match_date_1', 'away_team_history_is_play_home_1', 'away_team_history_is_cup_1', 'away_team_history_goal_1', 'away_team_history_opponent_goal_1', 'away_team_history_rating_1', 'away_team_history_opponent_rating_1', 'home_team_history_gol_difference_1', 'home_team_mean_regeneration_time', 'away_team_history_gol_difference_1', 'away_team_mean_regeneration_time', 'league_id_ratting', 'home_team_history_target_1_-1.0', 'home_team_history_target_1_0.0', 'away_team_history_target_1_-1.0', 'away_team_history_target_1_0.0']\n"
     ]
    }
   ],
   "source": [
    "import re\n",
    "used = set()\n",
    "columns_only_first_hist = [column for column in train.columns.values if\n",
    "                           re.sub('\\d', '', column) not in used and (used.add(re.sub('\\d', '', column)) or True)]\n",
    "print(columns_only_first_hist)"
   ],
   "metadata": {
    "collapsed": false,
    "pycharm": {
     "name": "#%%\n"
    }
   }
  },
  {
   "cell_type": "code",
   "execution_count": 3,
   "outputs": [
    {
     "name": "stdout",
     "output_type": "stream",
     "text": [
      "accuracy: 0.48\n",
      "train [-1  1 -1 ...  1  0 -1]\n"
     ]
    }
   ],
   "source": [
    "from sklearn.pipeline import make_pipeline\n",
    "from sklearn.preprocessing import StandardScaler\n",
    "from sklearn.linear_model import LogisticRegression\n",
    "from sklearn.model_selection import train_test_split\n",
    "from sklearn.ensemble import RandomForestClassifier\n",
    "\n",
    "\n",
    "for data, name in zip([train], ['train']):\n",
    "    X_train, X_test, y_train, y_test = train_test_split(data.iloc[:, 1:], data.iloc[:, 0], test_size=0.33,\n",
    "                                                        random_state=42)\n",
    "    pipe = make_pipeline(StandardScaler(),  RandomForestClassifier(random_state=0))\n",
    "\n",
    "    pipe.fit(X_train, y_train)\n",
    "    results = pipe.predict(X_train)\n",
    "    print(f'accuracy: {pipe.score(X_test, y_test):.02f}')\n",
    "    print(name, results)"
   ],
   "metadata": {
    "collapsed": false,
    "pycharm": {
     "name": "#%%\n"
    }
   }
  },
  {
   "cell_type": "code",
   "execution_count": null,
   "outputs": [],
   "source": [
    "  X_train, X_test, y_train, y_test = train_test_split(train.iloc[:, 1:], train.iloc[:, 0], test_size=0.33,\n",
    "                                                        random_state=42)\n",
    "\n",
    "for data, name in zip([train], ['train']):\n",
    "\n",
    "    pipe = make_pipeline(StandardScaler(),  RandomForestClassifier(random_state=0))\n",
    "\n",
    "    pipe.fit(X_train, y_train)\n",
    "    results = pipe.predict(X_train)\n",
    "    print(f'accuracy: {pipe.score(X_test, y_test):.02f}')\n",
    "    print(name, results)\n"
   ],
   "metadata": {
    "collapsed": false,
    "pycharm": {
     "name": "#%%\n"
    }
   }
  },
  {
   "cell_type": "code",
   "execution_count": 9,
   "outputs": [
    {
     "name": "stdout",
     "output_type": "stream",
     "text": [
      "{'max_depth': [2, 29, 56, 83, 110, None]}\n",
      "Fitting 3 folds for each of 6 candidates, totalling 18 fits\n"
     ]
    },
    {
     "data": {
      "text/plain": "GridSearchCV(cv=3, estimator=RandomForestClassifier(), n_jobs=-1,\n             param_grid={'max_depth': [2, 29, 56, 83, 110, None]}, verbose=3)"
     },
     "execution_count": 9,
     "metadata": {},
     "output_type": "execute_result"
    }
   ],
   "source": [
    "from sklearn.model_selection import RandomizedSearchCV, GridSearchCV  # Number of trees in random forest\n",
    "n_estimators = [int(x) for x in np.linspace(start = 10, stop = 1000, num = 5)]\n",
    "# Number of features to consider at every split\n",
    "# max_features = ['auto', 'sqrt']\n",
    "# Maximum number of levels in tree\n",
    "max_depth = [int(x) for x in np.linspace(2, 110, num = 5)]\n",
    "max_depth.append(None)\n",
    "# Minimum number of samples required to split a node\n",
    "# min_samples_split = [2, 10]\n",
    "# Minimum number of samples required at each leaf node\n",
    "# min_samples_leaf = [1, 4]\n",
    "# Method of selecting samples for training each tree\n",
    "# bootstrap = [True, False]# Create the random grid\n",
    "random_grid = {\n",
    "               # 'n_estimators': n_estimators,\n",
    "               # 'max_features': max_features,\n",
    "               'max_depth': max_depth,\n",
    "               # 'min_samples_split': min_samples_split,\n",
    "               # 'min_samples_leaf': min_samples_leaf,\n",
    "               # 'bootstrap': bootstrap\n",
    "               }\n",
    "\n",
    "print(random_grid)\n",
    "\n",
    "# Use the random grid to search for best hyperparameters\n",
    "# First create the base model to tune\n",
    "rf = RandomForestClassifier()\n",
    "# Random search of parameters, using 3 fold cross validation,\n",
    "# search across 100 different combinations, and use all available cores\n",
    "gr_search = GridSearchCV(estimator = rf, param_grid = random_grid, cv = 3, verbose=3,  n_jobs = -1)\n",
    "gr_search.fit(data.iloc[:, 1:], data.iloc[:, 0])"
   ],
   "metadata": {
    "collapsed": false,
    "pycharm": {
     "name": "#%%\n"
    }
   }
  },
  {
   "cell_type": "code",
   "execution_count": 10,
   "outputs": [
    {
     "data": {
      "text/plain": "{'max_depth': 83}"
     },
     "execution_count": 10,
     "metadata": {},
     "output_type": "execute_result"
    }
   ],
   "source": [
    "gr_search.best_params_"
   ],
   "metadata": {
    "collapsed": false,
    "pycharm": {
     "name": "#%%\n"
    }
   }
  },
  {
   "cell_type": "code",
   "execution_count": 11,
   "outputs": [
    {
     "name": "stdout",
     "output_type": "stream",
     "text": [
      "[CV 1/3] END .......................max_depth=2;, score=0.442 total time=  11.6s\n",
      "[CV 3/3] END ......................max_depth=56;, score=0.487 total time= 1.8min\n",
      "accuracy: 0.48\n",
      "train [-1  1 -1 ...  1  0 -1]\n"
     ]
    }
   ],
   "source": [
    "\n",
    "pipe = make_pipeline(StandardScaler(),  RandomForestClassifier(random_state=0,max_depth=80))\n",
    "pipe.fit(X_train, y_train)\n",
    "results = pipe.predict(X_train)\n",
    "print(f'accuracy: {pipe.score(X_test, y_test):.02f}')\n",
    "print(name, results)\n"
   ],
   "metadata": {
    "collapsed": false,
    "pycharm": {
     "name": "#%%\n"
    }
   }
  }
 ],
 "metadata": {
  "kernelspec": {
   "display_name": "Python 3",
   "language": "python",
   "name": "python3"
  },
  "language_info": {
   "codemirror_mode": {
    "name": "ipython",
    "version": 2
   },
   "file_extension": ".py",
   "mimetype": "text/x-python",
   "name": "python",
   "nbconvert_exporter": "python",
   "pygments_lexer": "ipython2",
   "version": "2.7.6"
  }
 },
 "nbformat": 4,
 "nbformat_minor": 0
}