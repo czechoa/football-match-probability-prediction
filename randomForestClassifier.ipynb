{
 "cells": [
  {
   "cell_type": "code",
   "execution_count": null,
   "metadata": {
    "collapsed": true
   },
   "outputs": [],
   "source": [
    "from prepared_data.completed_missing_data import completed_missing_data_for_test_drop,convert_historical_date_to_date_difference, remove_described_col_and_set_index_id, map_target\n",
    "import pandas as pd\n",
    "import numpy as np\n",
    "from prepared_data.adding_new_features import adding_new_features\n",
    "\n",
    "train_org = pd.read_csv('data/train.csv')\n",
    "train = completed_missing_data_for_test_drop(train_org)\n",
    "train = convert_historical_date_to_date_difference(train)\n",
    "train = map_target(train)\n",
    "train = adding_new_features(train, number_of_history_matches=1)\n",
    "train = remove_described_col_and_set_index_id(train)\n",
    "train\n"
   ]
  }
 ],
 "metadata": {
  "kernelspec": {
   "display_name": "Python 3",
   "language": "python",
   "name": "python3"
  },
  "language_info": {
   "codemirror_mode": {
    "name": "ipython",
    "version": 2
   },
   "file_extension": ".py",
   "mimetype": "text/x-python",
   "name": "python",
   "nbconvert_exporter": "python",
   "pygments_lexer": "ipython2",
   "version": "2.7.6"
  }
 },
 "nbformat": 4,
 "nbformat_minor": 0
}