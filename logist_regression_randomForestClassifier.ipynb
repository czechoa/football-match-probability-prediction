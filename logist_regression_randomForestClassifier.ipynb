{
 "cells": [
  {
   "cell_type": "code",
   "execution_count": 21,
   "metadata": {
    "collapsed": true
   },
   "outputs": [],
   "source": [
    "from prepared_data.get_prepared_data import  get_prepared_data\n",
    "import pandas as pd"
   ]
  },
  {
   "cell_type": "code",
   "execution_count": 22,
   "outputs": [
    {
     "name": "stderr",
     "output_type": "stream",
     "text": [
      "/home/andrzej/PycharmProjects/Physionet_Challenge_2021/venv/lib/python3.9/site-packages/IPython/core/interactiveshell.py:3251: DtypeWarning: Columns (7) have mixed types.Specify dtype option on import or set low_memory=False.\n",
      "  exec(code_obj, self.user_global_ns, self.user_ns)\n"
     ]
    },
    {
     "name": "stdout",
     "output_type": "stream",
     "text": [
      "correction col type..\n",
      "percent of object with nan value:  42.20\n",
      "remove coach columns..\n",
      "percent of object with nan value:  18.64\n",
      "remove object with more that  col 80 empty...\n",
      "percent of object with nan value:  18.64\n",
      "remove 9 and 10 day historii\n",
      "percent of object with nan value:  15.11\n",
      "remove all nan data\n",
      "percent of object with nan value:  15.11\n"
     ]
    },
    {
     "data": {
      "text/plain": "          target  is_cup  home_team_history_match_date_1  \\\nid                                                         \n11989265      -1       1                              78   \n16865249       1       1                             219   \n16916583       1       1                              94   \n16940078      -1       1                             167   \n17213503       1       1                             100   \n...          ...     ...                             ...   \n17882059       1       1                             504   \n17887522      -1       1                             127   \n17882061      -1       1                             545   \n17882060       1       1                             504   \n17887523       1       1                             127   \n\n          home_team_history_match_date_2  home_team_history_match_date_3  \\\nid                                                                         \n11989265                             258                              75   \n16865249                             168                             286   \n16916583                             627                              93   \n16940078                             168                             119   \n17213503                              92                              76   \n...                                  ...                             ...   \n17882059                            1135                             712   \n17887522                             167                             208   \n17882061                            1133                             715   \n17882060                            1344                             504   \n17887523                             167                             208   \n\n          home_team_history_match_date_4  home_team_history_match_date_5  \\\nid                                                                         \n11989265                             193                              67   \n16865249                              71                              49   \n16916583                              99                              93   \n16940078                             123                             117   \n17213503                             144                              92   \n...                                  ...                             ...   \n17882059                             168                             168   \n17887522                              72                              96   \n17882061                             168                             168   \n17882060                             168                             168   \n17887523                              72                              96   \n\n          home_team_history_match_date_6  home_team_history_match_date_7  \\\nid                                                                         \n11989265                             103                              88   \n16865249                            3145                              67   \n16916583                              74                             168   \n16940078                             121                              96   \n17213503                             126                             238   \n...                                  ...                             ...   \n17882059                             168                             505   \n17887522                             127                             545   \n17882061                             168                             505   \n17882060                             168                             505   \n17887523                             168                             504   \n\n          home_team_history_match_date_8  ...  home_team_history_target_7_1.0  \\\nid                                        ...                                   \n11989265                              74  ...                               1   \n16865249                              76  ...                               0   \n16916583                              69  ...                               0   \n16940078                              96  ...                               1   \n17213503                              72  ...                               0   \n...                                  ...  ...                             ...   \n17882059                             168  ...                               0   \n17887522                            1133  ...                               0   \n17882061                             168  ...                               0   \n17882060                             168  ...                               0   \n17887523                            1344  ...                               1   \n\n          away_team_history_target_7_-1.0  away_team_history_target_7_0.0  \\\nid                                                                          \n11989265                                0                               0   \n16865249                                0                               0   \n16916583                                1                               0   \n16940078                                0                               0   \n17213503                                0                               0   \n...                                   ...                             ...   \n17882059                                0                               1   \n17887522                                1                               0   \n17882061                                0                               0   \n17882060                                0                               0   \n17887523                                1                               0   \n\n          away_team_history_target_7_1.0  home_team_history_target_8_-1.0  \\\nid                                                                          \n11989265                               1                                1   \n16865249                               1                                0   \n16916583                               0                                0   \n16940078                               1                                0   \n17213503                               1                                1   \n...                                  ...                              ...   \n17882059                               0                                0   \n17887522                               0                                1   \n17882061                               1                                1   \n17882060                               1                                0   \n17887523                               0                                0   \n\n          home_team_history_target_8_0.0  home_team_history_target_8_1.0  \\\nid                                                                         \n11989265                               0                               0   \n16865249                               0                               1   \n16916583                               1                               0   \n16940078                               0                               1   \n17213503                               0                               0   \n...                                  ...                             ...   \n17882059                               1                               0   \n17887522                               0                               0   \n17882061                               0                               0   \n17882060                               1                               0   \n17887523                               1                               0   \n\n          away_team_history_target_8_-1.0  away_team_history_target_8_0.0  \\\nid                                                                          \n11989265                                0                               1   \n16865249                                0                               0   \n16916583                                0                               0   \n16940078                                0                               0   \n17213503                                1                               0   \n...                                   ...                             ...   \n17882059                                1                               0   \n17887522                                1                               0   \n17882061                                0                               0   \n17882060                                0                               0   \n17887523                                0                               1   \n\n          away_team_history_target_8_1.0  \nid                                        \n11989265                               0  \n16865249                               1  \n16916583                               1  \n16940078                               1  \n17213503                               0  \n...                                  ...  \n17882059                               0  \n17887522                               0  \n17882061                               1  \n17882060                               1  \n17887523                               0  \n\n[94169 rows x 183 columns]",
      "text/html": "<div>\n<style scoped>\n    .dataframe tbody tr th:only-of-type {\n        vertical-align: middle;\n    }\n\n    .dataframe tbody tr th {\n        vertical-align: top;\n    }\n\n    .dataframe thead th {\n        text-align: right;\n    }\n</style>\n<table border=\"1\" class=\"dataframe\">\n  <thead>\n    <tr style=\"text-align: right;\">\n      <th></th>\n      <th>target</th>\n      <th>is_cup</th>\n      <th>home_team_history_match_date_1</th>\n      <th>home_team_history_match_date_2</th>\n      <th>home_team_history_match_date_3</th>\n      <th>home_team_history_match_date_4</th>\n      <th>home_team_history_match_date_5</th>\n      <th>home_team_history_match_date_6</th>\n      <th>home_team_history_match_date_7</th>\n      <th>home_team_history_match_date_8</th>\n      <th>...</th>\n      <th>home_team_history_target_7_1.0</th>\n      <th>away_team_history_target_7_-1.0</th>\n      <th>away_team_history_target_7_0.0</th>\n      <th>away_team_history_target_7_1.0</th>\n      <th>home_team_history_target_8_-1.0</th>\n      <th>home_team_history_target_8_0.0</th>\n      <th>home_team_history_target_8_1.0</th>\n      <th>away_team_history_target_8_-1.0</th>\n      <th>away_team_history_target_8_0.0</th>\n      <th>away_team_history_target_8_1.0</th>\n    </tr>\n    <tr>\n      <th>id</th>\n      <th></th>\n      <th></th>\n      <th></th>\n      <th></th>\n      <th></th>\n      <th></th>\n      <th></th>\n      <th></th>\n      <th></th>\n      <th></th>\n      <th></th>\n      <th></th>\n      <th></th>\n      <th></th>\n      <th></th>\n      <th></th>\n      <th></th>\n      <th></th>\n      <th></th>\n      <th></th>\n      <th></th>\n    </tr>\n  </thead>\n  <tbody>\n    <tr>\n      <th>11989265</th>\n      <td>-1</td>\n      <td>1</td>\n      <td>78</td>\n      <td>258</td>\n      <td>75</td>\n      <td>193</td>\n      <td>67</td>\n      <td>103</td>\n      <td>88</td>\n      <td>74</td>\n      <td>...</td>\n      <td>1</td>\n      <td>0</td>\n      <td>0</td>\n      <td>1</td>\n      <td>1</td>\n      <td>0</td>\n      <td>0</td>\n      <td>0</td>\n      <td>1</td>\n      <td>0</td>\n    </tr>\n    <tr>\n      <th>16865249</th>\n      <td>1</td>\n      <td>1</td>\n      <td>219</td>\n      <td>168</td>\n      <td>286</td>\n      <td>71</td>\n      <td>49</td>\n      <td>3145</td>\n      <td>67</td>\n      <td>76</td>\n      <td>...</td>\n      <td>0</td>\n      <td>0</td>\n      <td>0</td>\n      <td>1</td>\n      <td>0</td>\n      <td>0</td>\n      <td>1</td>\n      <td>0</td>\n      <td>0</td>\n      <td>1</td>\n    </tr>\n    <tr>\n      <th>16916583</th>\n      <td>1</td>\n      <td>1</td>\n      <td>94</td>\n      <td>627</td>\n      <td>93</td>\n      <td>99</td>\n      <td>93</td>\n      <td>74</td>\n      <td>168</td>\n      <td>69</td>\n      <td>...</td>\n      <td>0</td>\n      <td>1</td>\n      <td>0</td>\n      <td>0</td>\n      <td>0</td>\n      <td>1</td>\n      <td>0</td>\n      <td>0</td>\n      <td>0</td>\n      <td>1</td>\n    </tr>\n    <tr>\n      <th>16940078</th>\n      <td>-1</td>\n      <td>1</td>\n      <td>167</td>\n      <td>168</td>\n      <td>119</td>\n      <td>123</td>\n      <td>117</td>\n      <td>121</td>\n      <td>96</td>\n      <td>96</td>\n      <td>...</td>\n      <td>1</td>\n      <td>0</td>\n      <td>0</td>\n      <td>1</td>\n      <td>0</td>\n      <td>0</td>\n      <td>1</td>\n      <td>0</td>\n      <td>0</td>\n      <td>1</td>\n    </tr>\n    <tr>\n      <th>17213503</th>\n      <td>1</td>\n      <td>1</td>\n      <td>100</td>\n      <td>92</td>\n      <td>76</td>\n      <td>144</td>\n      <td>92</td>\n      <td>126</td>\n      <td>238</td>\n      <td>72</td>\n      <td>...</td>\n      <td>0</td>\n      <td>0</td>\n      <td>0</td>\n      <td>1</td>\n      <td>1</td>\n      <td>0</td>\n      <td>0</td>\n      <td>1</td>\n      <td>0</td>\n      <td>0</td>\n    </tr>\n    <tr>\n      <th>...</th>\n      <td>...</td>\n      <td>...</td>\n      <td>...</td>\n      <td>...</td>\n      <td>...</td>\n      <td>...</td>\n      <td>...</td>\n      <td>...</td>\n      <td>...</td>\n      <td>...</td>\n      <td>...</td>\n      <td>...</td>\n      <td>...</td>\n      <td>...</td>\n      <td>...</td>\n      <td>...</td>\n      <td>...</td>\n      <td>...</td>\n      <td>...</td>\n      <td>...</td>\n      <td>...</td>\n    </tr>\n    <tr>\n      <th>17882059</th>\n      <td>1</td>\n      <td>1</td>\n      <td>504</td>\n      <td>1135</td>\n      <td>712</td>\n      <td>168</td>\n      <td>168</td>\n      <td>168</td>\n      <td>505</td>\n      <td>168</td>\n      <td>...</td>\n      <td>0</td>\n      <td>0</td>\n      <td>1</td>\n      <td>0</td>\n      <td>0</td>\n      <td>1</td>\n      <td>0</td>\n      <td>1</td>\n      <td>0</td>\n      <td>0</td>\n    </tr>\n    <tr>\n      <th>17887522</th>\n      <td>-1</td>\n      <td>1</td>\n      <td>127</td>\n      <td>167</td>\n      <td>208</td>\n      <td>72</td>\n      <td>96</td>\n      <td>127</td>\n      <td>545</td>\n      <td>1133</td>\n      <td>...</td>\n      <td>0</td>\n      <td>1</td>\n      <td>0</td>\n      <td>0</td>\n      <td>1</td>\n      <td>0</td>\n      <td>0</td>\n      <td>1</td>\n      <td>0</td>\n      <td>0</td>\n    </tr>\n    <tr>\n      <th>17882061</th>\n      <td>-1</td>\n      <td>1</td>\n      <td>545</td>\n      <td>1133</td>\n      <td>715</td>\n      <td>168</td>\n      <td>168</td>\n      <td>168</td>\n      <td>505</td>\n      <td>168</td>\n      <td>...</td>\n      <td>0</td>\n      <td>0</td>\n      <td>0</td>\n      <td>1</td>\n      <td>1</td>\n      <td>0</td>\n      <td>0</td>\n      <td>0</td>\n      <td>0</td>\n      <td>1</td>\n    </tr>\n    <tr>\n      <th>17882060</th>\n      <td>1</td>\n      <td>1</td>\n      <td>504</td>\n      <td>1344</td>\n      <td>504</td>\n      <td>168</td>\n      <td>168</td>\n      <td>168</td>\n      <td>505</td>\n      <td>168</td>\n      <td>...</td>\n      <td>0</td>\n      <td>0</td>\n      <td>0</td>\n      <td>1</td>\n      <td>0</td>\n      <td>1</td>\n      <td>0</td>\n      <td>0</td>\n      <td>0</td>\n      <td>1</td>\n    </tr>\n    <tr>\n      <th>17887523</th>\n      <td>1</td>\n      <td>1</td>\n      <td>127</td>\n      <td>167</td>\n      <td>208</td>\n      <td>72</td>\n      <td>96</td>\n      <td>168</td>\n      <td>504</td>\n      <td>1344</td>\n      <td>...</td>\n      <td>1</td>\n      <td>1</td>\n      <td>0</td>\n      <td>0</td>\n      <td>0</td>\n      <td>1</td>\n      <td>0</td>\n      <td>0</td>\n      <td>1</td>\n      <td>0</td>\n    </tr>\n  </tbody>\n</table>\n<p>94169 rows × 183 columns</p>\n</div>"
     },
     "execution_count": 22,
     "metadata": {},
     "output_type": "execute_result"
    }
   ],
   "source": [
    "train_org = pd.read_csv('data/train.csv')\n",
    "train = get_prepared_data(train_org)"
   ],
   "metadata": {
    "collapsed": false,
    "pycharm": {
     "name": "#%%\n"
    }
   }
  },
  {
   "cell_type": "code",
   "execution_count": 25,
   "outputs": [
    {
     "name": "stdout",
     "output_type": "stream",
     "text": [
      "{'standardscaler': StandardScaler(), 'logisticregression': LogisticRegression(multi_class='ovr', random_state=0)}\n",
      "accuracy orginal:0.4999\n"
     ]
    },
    {
     "name": "stderr",
     "output_type": "stream",
     "text": [
      "/home/andrzej/PycharmProjects/Physionet_Challenge_2021/venv/lib/python3.9/site-packages/sklearn/linear_model/_logistic.py:814: ConvergenceWarning: lbfgs failed to converge (status=1):\n",
      "STOP: TOTAL NO. of ITERATIONS REACHED LIMIT.\n",
      "\n",
      "Increase the number of iterations (max_iter) or scale the data as shown in:\n",
      "    https://scikit-learn.org/stable/modules/preprocessing.html\n",
      "Please also refer to the documentation for alternative solver options:\n",
      "    https://scikit-learn.org/stable/modules/linear_model.html#logistic-regression\n",
      "  n_iter_i = _check_optimize_result(\n",
      "/home/andrzej/PycharmProjects/Physionet_Challenge_2021/venv/lib/python3.9/site-packages/sklearn/linear_model/_logistic.py:814: ConvergenceWarning: lbfgs failed to converge (status=1):\n",
      "STOP: TOTAL NO. of ITERATIONS REACHED LIMIT.\n",
      "\n",
      "Increase the number of iterations (max_iter) or scale the data as shown in:\n",
      "    https://scikit-learn.org/stable/modules/preprocessing.html\n",
      "Please also refer to the documentation for alternative solver options:\n",
      "    https://scikit-learn.org/stable/modules/linear_model.html#logistic-regression\n",
      "  n_iter_i = _check_optimize_result(\n"
     ]
    },
    {
     "name": "stdout",
     "output_type": "stream",
     "text": [
      "{'minmaxscaler': MinMaxScaler(), 'logisticregression': LogisticRegression(multi_class='ovr', random_state=0)}\n",
      "accuracy orginal:0.5004\n"
     ]
    },
    {
     "name": "stderr",
     "output_type": "stream",
     "text": [
      "/home/andrzej/PycharmProjects/Physionet_Challenge_2021/venv/lib/python3.9/site-packages/sklearn/linear_model/_logistic.py:814: ConvergenceWarning: lbfgs failed to converge (status=1):\n",
      "STOP: TOTAL NO. of ITERATIONS REACHED LIMIT.\n",
      "\n",
      "Increase the number of iterations (max_iter) or scale the data as shown in:\n",
      "    https://scikit-learn.org/stable/modules/preprocessing.html\n",
      "Please also refer to the documentation for alternative solver options:\n",
      "    https://scikit-learn.org/stable/modules/linear_model.html#logistic-regression\n",
      "  n_iter_i = _check_optimize_result(\n"
     ]
    }
   ],
   "source": [
    "from sklearn.pipeline import make_pipeline\n",
    "from sklearn.preprocessing import StandardScaler, MinMaxScaler\n",
    "from sklearn.linear_model import LogisticRegression\n",
    "from sklearn.model_selection import train_test_split\n",
    "\n",
    "target= train['target']\n",
    "X_train_org = train.drop('target',axis=1)\n",
    "\n",
    "\n",
    "X_train, X_val, y_train, y_val = train_test_split(X_train_org, target, test_size=0.33,\n",
    "                                                  random_state=42)\n",
    "for scaler in [StandardScaler,MinMaxScaler]:\n",
    "    model =  make_pipeline( scaler(),LogisticRegression(random_state=0, solver='lbfgs', multi_class='ovr'))\n",
    "    target = train['target']\n",
    "    X = train.drop('target',axis=1)\n",
    "    model.fit(X,target)\n",
    "    #\n",
    "    print(model.named_steps)\n",
    "    print(f'accuracy orginal:{ model.score(X_val,y_val):.04f}')\n"
   ],
   "metadata": {
    "collapsed": false,
    "pycharm": {
     "name": "#%%\n"
    }
   }
  },
  {
   "cell_type": "markdown",
   "source": [
    "minmaxscaler"
   ],
   "metadata": {
    "collapsed": false
   }
  },
  {
   "cell_type": "code",
   "execution_count": 28,
   "outputs": [
    {
     "name": "stderr",
     "output_type": "stream",
     "text": [
      "/home/andrzej/PycharmProjects/Physionet_Challenge_2021/venv/lib/python3.9/site-packages/sklearn/linear_model/_logistic.py:814: ConvergenceWarning: lbfgs failed to converge (status=1):\n",
      "STOP: TOTAL NO. of ITERATIONS REACHED LIMIT.\n",
      "\n",
      "Increase the number of iterations (max_iter) or scale the data as shown in:\n",
      "    https://scikit-learn.org/stable/modules/preprocessing.html\n",
      "Please also refer to the documentation for alternative solver options:\n",
      "    https://scikit-learn.org/stable/modules/linear_model.html#logistic-regression\n",
      "  n_iter_i = _check_optimize_result(\n",
      "/home/andrzej/PycharmProjects/Physionet_Challenge_2021/venv/lib/python3.9/site-packages/sklearn/linear_model/_logistic.py:814: ConvergenceWarning: lbfgs failed to converge (status=1):\n",
      "STOP: TOTAL NO. of ITERATIONS REACHED LIMIT.\n",
      "\n",
      "Increase the number of iterations (max_iter) or scale the data as shown in:\n",
      "    https://scikit-learn.org/stable/modules/preprocessing.html\n",
      "Please also refer to the documentation for alternative solver options:\n",
      "    https://scikit-learn.org/stable/modules/linear_model.html#logistic-regression\n",
      "  n_iter_i = _check_optimize_result(\n",
      "/home/andrzej/PycharmProjects/Physionet_Challenge_2021/venv/lib/python3.9/site-packages/sklearn/linear_model/_logistic.py:814: ConvergenceWarning: lbfgs failed to converge (status=1):\n",
      "STOP: TOTAL NO. of ITERATIONS REACHED LIMIT.\n",
      "\n",
      "Increase the number of iterations (max_iter) or scale the data as shown in:\n",
      "    https://scikit-learn.org/stable/modules/preprocessing.html\n",
      "Please also refer to the documentation for alternative solver options:\n",
      "    https://scikit-learn.org/stable/modules/linear_model.html#logistic-regression\n",
      "  n_iter_i = _check_optimize_result(\n"
     ]
    },
    {
     "data": {
      "text/plain": "Pipeline(steps=[('minmaxscaler', MinMaxScaler()),\n                ('logisticregression',\n                 LogisticRegression(multi_class='ovr', random_state=0))])"
     },
     "execution_count": 28,
     "metadata": {},
     "output_type": "execute_result"
    }
   ],
   "source": [
    "pipe =  make_pipeline( scaler(),LogisticRegression(random_state=0, solver='lbfgs', multi_class='ovr'))\n",
    "pipe.fit(X_train_org,target)"
   ],
   "metadata": {
    "collapsed": false,
    "pycharm": {
     "name": "#%%\n"
    }
   }
  },
  {
   "cell_type": "code",
   "execution_count": 27,
   "outputs": [
    {
     "name": "stdout",
     "output_type": "stream",
     "text": [
      "correction col type..\n",
      "percent of object with nan value:  39.35\n",
      "remove coach columns..\n",
      "percent of object with nan value:  13.93\n",
      "remove object with more that  col 80 empty...\n",
      "percent of object with nan value:  13.93\n",
      "remove 9 and 10 day historii\n",
      "percent of object with nan value:  11.15\n",
      "remove all nan data\n",
      "percent of object with nan value:  11.15\n"
     ]
    },
    {
     "data": {
      "text/plain": "          is_cup  home_team_history_match_date_1  \\\nid                                                 \n18395561       1                              94   \n18304452       1                              72   \n18137442       1                              98   \n18395544       1                              80   \n18395608       1                             105   \n...          ...                             ...   \n18447910       1                              72   \n18447909       1                              74   \n18448332       1                              95   \n18449955       1                              97   \n18449954       1                              97   \n\n          home_team_history_match_date_2  home_team_history_match_date_3  \\\nid                                                                         \n18395561                             295                             112   \n18304452                              94                              76   \n18137442                             123                             213   \n18395544                             375                             146   \n18395608                             332                              67   \n...                                  ...                             ...   \n18447910                             983                              75   \n18447909                             960                              96   \n18448332                              72                              71   \n18449955                             335                             145   \n18449954                             144                              95   \n\n          home_team_history_match_date_4  home_team_history_match_date_5  \\\nid                                                                         \n18395561                              96                             144   \n18304452                              70                             194   \n18137442                              71                              97   \n18395544                             168                             143   \n18395608                              77                             193   \n...                                  ...                             ...   \n18447910                              96                             189   \n18447909                              93                              96   \n18448332                             984                              72   \n18449955                             192                             143   \n18449954                              96                             144   \n\n          home_team_history_match_date_6  home_team_history_match_date_7  \\\nid                                                                         \n18395561                              71                             120   \n18304452                             166                             144   \n18137442                             336                              96   \n18395544                             526                            1325   \n18395608                              91                              76   \n...                                  ...                             ...   \n18447910                             170                             141   \n18447909                              96                             146   \n18448332                              96                              72   \n18449955                             334                             168   \n18449954                             168                             167   \n\n          home_team_history_match_date_8  home_team_history_is_play_home_1  \\\nid                                                                           \n18395561                             295                               1.0   \n18304452                             912                               1.0   \n18137442                              94                               0.0   \n18395544                             189                               0.0   \n18395608                             336                               0.0   \n...                                  ...                               ...   \n18447910                             840                               1.0   \n18447909                              96                               0.0   \n18448332                             120                               0.0   \n18449955                             218                               0.0   \n18449954                              96                               0.0   \n\n          ...  home_team_history_target_7_1.0  \\\nid        ...                                   \n18395561  ...                               1   \n18304452  ...                               1   \n18137442  ...                               1   \n18395544  ...                               1   \n18395608  ...                               1   \n...       ...                             ...   \n18447910  ...                               1   \n18447909  ...                               1   \n18448332  ...                               1   \n18449955  ...                               1   \n18449954  ...                               0   \n\n          away_team_history_target_7_-1.0  away_team_history_target_7_0.0  \\\nid                                                                          \n18395561                                0                               0   \n18304452                                0                               1   \n18137442                                0                               0   \n18395544                                0                               0   \n18395608                                0                               0   \n...                                   ...                             ...   \n18447910                                1                               0   \n18447909                                0                               1   \n18448332                                0                               0   \n18449955                                0                               0   \n18449954                                0                               1   \n\n          away_team_history_target_7_1.0  home_team_history_target_8_-1.0  \\\nid                                                                          \n18395561                               1                                1   \n18304452                               0                                0   \n18137442                               1                                0   \n18395544                               1                                1   \n18395608                               1                                0   \n...                                  ...                              ...   \n18447910                               0                                1   \n18447909                               0                                0   \n18448332                               1                                0   \n18449955                               1                                1   \n18449954                               0                                1   \n\n          home_team_history_target_8_0.0  home_team_history_target_8_1.0  \\\nid                                                                         \n18395561                               0                               0   \n18304452                               1                               0   \n18137442                               0                               1   \n18395544                               0                               0   \n18395608                               0                               1   \n...                                  ...                             ...   \n18447910                               0                               0   \n18447909                               0                               1   \n18448332                               0                               1   \n18449955                               0                               0   \n18449954                               0                               0   \n\n          away_team_history_target_8_-1.0  away_team_history_target_8_0.0  \\\nid                                                                          \n18395561                                0                               0   \n18304452                                0                               1   \n18137442                                0                               1   \n18395544                                0                               0   \n18395608                                1                               0   \n...                                   ...                             ...   \n18447910                                0                               1   \n18447909                                1                               0   \n18448332                                1                               0   \n18449955                                0                               0   \n18449954                                1                               0   \n\n          away_team_history_target_8_1.0  \nid                                        \n18395561                               1  \n18304452                               0  \n18137442                               0  \n18395544                               1  \n18395608                               0  \n...                                  ...  \n18447910                               0  \n18447909                               0  \n18448332                               0  \n18449955                               1  \n18449954                               0  \n\n[64595 rows x 182 columns]",
      "text/html": "<div>\n<style scoped>\n    .dataframe tbody tr th:only-of-type {\n        vertical-align: middle;\n    }\n\n    .dataframe tbody tr th {\n        vertical-align: top;\n    }\n\n    .dataframe thead th {\n        text-align: right;\n    }\n</style>\n<table border=\"1\" class=\"dataframe\">\n  <thead>\n    <tr style=\"text-align: right;\">\n      <th></th>\n      <th>is_cup</th>\n      <th>home_team_history_match_date_1</th>\n      <th>home_team_history_match_date_2</th>\n      <th>home_team_history_match_date_3</th>\n      <th>home_team_history_match_date_4</th>\n      <th>home_team_history_match_date_5</th>\n      <th>home_team_history_match_date_6</th>\n      <th>home_team_history_match_date_7</th>\n      <th>home_team_history_match_date_8</th>\n      <th>home_team_history_is_play_home_1</th>\n      <th>...</th>\n      <th>home_team_history_target_7_1.0</th>\n      <th>away_team_history_target_7_-1.0</th>\n      <th>away_team_history_target_7_0.0</th>\n      <th>away_team_history_target_7_1.0</th>\n      <th>home_team_history_target_8_-1.0</th>\n      <th>home_team_history_target_8_0.0</th>\n      <th>home_team_history_target_8_1.0</th>\n      <th>away_team_history_target_8_-1.0</th>\n      <th>away_team_history_target_8_0.0</th>\n      <th>away_team_history_target_8_1.0</th>\n    </tr>\n    <tr>\n      <th>id</th>\n      <th></th>\n      <th></th>\n      <th></th>\n      <th></th>\n      <th></th>\n      <th></th>\n      <th></th>\n      <th></th>\n      <th></th>\n      <th></th>\n      <th></th>\n      <th></th>\n      <th></th>\n      <th></th>\n      <th></th>\n      <th></th>\n      <th></th>\n      <th></th>\n      <th></th>\n      <th></th>\n      <th></th>\n    </tr>\n  </thead>\n  <tbody>\n    <tr>\n      <th>18395561</th>\n      <td>1</td>\n      <td>94</td>\n      <td>295</td>\n      <td>112</td>\n      <td>96</td>\n      <td>144</td>\n      <td>71</td>\n      <td>120</td>\n      <td>295</td>\n      <td>1.0</td>\n      <td>...</td>\n      <td>1</td>\n      <td>0</td>\n      <td>0</td>\n      <td>1</td>\n      <td>1</td>\n      <td>0</td>\n      <td>0</td>\n      <td>0</td>\n      <td>0</td>\n      <td>1</td>\n    </tr>\n    <tr>\n      <th>18304452</th>\n      <td>1</td>\n      <td>72</td>\n      <td>94</td>\n      <td>76</td>\n      <td>70</td>\n      <td>194</td>\n      <td>166</td>\n      <td>144</td>\n      <td>912</td>\n      <td>1.0</td>\n      <td>...</td>\n      <td>1</td>\n      <td>0</td>\n      <td>1</td>\n      <td>0</td>\n      <td>0</td>\n      <td>1</td>\n      <td>0</td>\n      <td>0</td>\n      <td>1</td>\n      <td>0</td>\n    </tr>\n    <tr>\n      <th>18137442</th>\n      <td>1</td>\n      <td>98</td>\n      <td>123</td>\n      <td>213</td>\n      <td>71</td>\n      <td>97</td>\n      <td>336</td>\n      <td>96</td>\n      <td>94</td>\n      <td>0.0</td>\n      <td>...</td>\n      <td>1</td>\n      <td>0</td>\n      <td>0</td>\n      <td>1</td>\n      <td>0</td>\n      <td>0</td>\n      <td>1</td>\n      <td>0</td>\n      <td>1</td>\n      <td>0</td>\n    </tr>\n    <tr>\n      <th>18395544</th>\n      <td>1</td>\n      <td>80</td>\n      <td>375</td>\n      <td>146</td>\n      <td>168</td>\n      <td>143</td>\n      <td>526</td>\n      <td>1325</td>\n      <td>189</td>\n      <td>0.0</td>\n      <td>...</td>\n      <td>1</td>\n      <td>0</td>\n      <td>0</td>\n      <td>1</td>\n      <td>1</td>\n      <td>0</td>\n      <td>0</td>\n      <td>0</td>\n      <td>0</td>\n      <td>1</td>\n    </tr>\n    <tr>\n      <th>18395608</th>\n      <td>1</td>\n      <td>105</td>\n      <td>332</td>\n      <td>67</td>\n      <td>77</td>\n      <td>193</td>\n      <td>91</td>\n      <td>76</td>\n      <td>336</td>\n      <td>0.0</td>\n      <td>...</td>\n      <td>1</td>\n      <td>0</td>\n      <td>0</td>\n      <td>1</td>\n      <td>0</td>\n      <td>0</td>\n      <td>1</td>\n      <td>1</td>\n      <td>0</td>\n      <td>0</td>\n    </tr>\n    <tr>\n      <th>...</th>\n      <td>...</td>\n      <td>...</td>\n      <td>...</td>\n      <td>...</td>\n      <td>...</td>\n      <td>...</td>\n      <td>...</td>\n      <td>...</td>\n      <td>...</td>\n      <td>...</td>\n      <td>...</td>\n      <td>...</td>\n      <td>...</td>\n      <td>...</td>\n      <td>...</td>\n      <td>...</td>\n      <td>...</td>\n      <td>...</td>\n      <td>...</td>\n      <td>...</td>\n      <td>...</td>\n    </tr>\n    <tr>\n      <th>18447910</th>\n      <td>1</td>\n      <td>72</td>\n      <td>983</td>\n      <td>75</td>\n      <td>96</td>\n      <td>189</td>\n      <td>170</td>\n      <td>141</td>\n      <td>840</td>\n      <td>1.0</td>\n      <td>...</td>\n      <td>1</td>\n      <td>1</td>\n      <td>0</td>\n      <td>0</td>\n      <td>1</td>\n      <td>0</td>\n      <td>0</td>\n      <td>0</td>\n      <td>1</td>\n      <td>0</td>\n    </tr>\n    <tr>\n      <th>18447909</th>\n      <td>1</td>\n      <td>74</td>\n      <td>960</td>\n      <td>96</td>\n      <td>93</td>\n      <td>96</td>\n      <td>96</td>\n      <td>146</td>\n      <td>96</td>\n      <td>0.0</td>\n      <td>...</td>\n      <td>1</td>\n      <td>0</td>\n      <td>1</td>\n      <td>0</td>\n      <td>0</td>\n      <td>0</td>\n      <td>1</td>\n      <td>1</td>\n      <td>0</td>\n      <td>0</td>\n    </tr>\n    <tr>\n      <th>18448332</th>\n      <td>1</td>\n      <td>95</td>\n      <td>72</td>\n      <td>71</td>\n      <td>984</td>\n      <td>72</td>\n      <td>96</td>\n      <td>72</td>\n      <td>120</td>\n      <td>0.0</td>\n      <td>...</td>\n      <td>1</td>\n      <td>0</td>\n      <td>0</td>\n      <td>1</td>\n      <td>0</td>\n      <td>0</td>\n      <td>1</td>\n      <td>1</td>\n      <td>0</td>\n      <td>0</td>\n    </tr>\n    <tr>\n      <th>18449955</th>\n      <td>1</td>\n      <td>97</td>\n      <td>335</td>\n      <td>145</td>\n      <td>192</td>\n      <td>143</td>\n      <td>334</td>\n      <td>168</td>\n      <td>218</td>\n      <td>0.0</td>\n      <td>...</td>\n      <td>1</td>\n      <td>0</td>\n      <td>0</td>\n      <td>1</td>\n      <td>1</td>\n      <td>0</td>\n      <td>0</td>\n      <td>0</td>\n      <td>0</td>\n      <td>1</td>\n    </tr>\n    <tr>\n      <th>18449954</th>\n      <td>1</td>\n      <td>97</td>\n      <td>144</td>\n      <td>95</td>\n      <td>96</td>\n      <td>144</td>\n      <td>168</td>\n      <td>167</td>\n      <td>96</td>\n      <td>0.0</td>\n      <td>...</td>\n      <td>0</td>\n      <td>0</td>\n      <td>1</td>\n      <td>0</td>\n      <td>1</td>\n      <td>0</td>\n      <td>0</td>\n      <td>1</td>\n      <td>0</td>\n      <td>0</td>\n    </tr>\n  </tbody>\n</table>\n<p>64595 rows × 182 columns</p>\n</div>"
     },
     "execution_count": 27,
     "metadata": {},
     "output_type": "execute_result"
    }
   ],
   "source": [
    "test_org = pd.read_csv('data/test.csv')\n",
    "test = get_prepared_data(test_org)"
   ],
   "metadata": {
    "collapsed": false,
    "pycharm": {
     "name": "#%%\n"
    }
   }
  },
  {
   "cell_type": "code",
   "execution_count": 29,
   "outputs": [
    {
     "data": {
      "text/plain": "array([[0.49458645, 0.18901816, 0.3163954 ],\n       [0.36085365, 0.18244734, 0.45669901],\n       [0.25637659, 0.18058852, 0.56303489],\n       ...,\n       [0.57771119, 0.15875193, 0.26353688],\n       [0.15606778, 0.20453998, 0.63939225],\n       [0.54018259, 0.26246978, 0.19734762]])"
     },
     "execution_count": 29,
     "metadata": {},
     "output_type": "execute_result"
    }
   ],
   "source": [
    "pipe.predict_proba(test)\n"
   ],
   "metadata": {
    "collapsed": false,
    "pycharm": {
     "name": "#%%\n"
    }
   }
  }
 ],
 "metadata": {
  "kernelspec": {
   "display_name": "Python 3",
   "language": "python",
   "name": "python3"
  },
  "language_info": {
   "codemirror_mode": {
    "name": "ipython",
    "version": 2
   },
   "file_extension": ".py",
   "mimetype": "text/x-python",
   "name": "python",
   "nbconvert_exporter": "python",
   "pygments_lexer": "ipython2",
   "version": "2.7.6"
  }
 },
 "nbformat": 4,
 "nbformat_minor": 0
}