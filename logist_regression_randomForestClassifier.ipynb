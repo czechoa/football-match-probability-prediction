{
 "cells": [
  {
   "cell_type": "code",
   "execution_count": 1,
   "metadata": {
    "collapsed": true
   },
   "outputs": [],
   "source": [
    "from prepared_data.get_prepared_data import  get_prepared_data\n",
    "import pandas as pd\n",
    "from sklearn.linear_model import LogisticRegression\n",
    "from sklearn.preprocessing import MinMaxScaler\n",
    "from sklearn.pipeline import make_pipeline\n",
    "from prepared_data.prepared_test_results import result_predict_prob_to_dataFrame, not_duplicate_elements_in_dataframes, append_test_results, completed_test_result_and_save"
   ]
  },
  {
   "cell_type": "code",
   "execution_count": 5,
   "outputs": [
    {
     "name": "stderr",
     "output_type": "stream",
     "text": [
      "/home/andrzej/PycharmProjects/Physionet_Challenge_2021/venv/lib/python3.9/site-packages/IPython/core/interactiveshell.py:3251: DtypeWarning: Columns (7) have mixed types.Specify dtype option on import or set low_memory=False.\n",
      "  exec(code_obj, self.user_global_ns, self.user_ns)\n"
     ]
    },
    {
     "name": "stdout",
     "output_type": "stream",
     "text": [
      "correction col type..\n",
      "percent of object with nan value:  42.20\n",
      "remove coach columns..\n",
      "percent of object with nan value:  18.64\n",
      "remove object with more that  col 80 empty...\n",
      "percent of object with nan value:  18.64\n",
      "remove history columns\n",
      "percent of object with nan value:  15.11\n",
      "remove all nan data\n",
      "percent of object with nan value:  15.11\n"
     ]
    },
    {
     "data": {
      "text/plain": "          target  is_cup  home_team_history_match_date_1  \\\nid                                                         \n11989265      -1       1                              78   \n16865249       1       1                             219   \n16916583       1       1                              94   \n16940078      -1       1                             167   \n17213503       1       1                             100   \n...          ...     ...                             ...   \n17882059       1       1                             504   \n17887522      -1       1                             127   \n17882061      -1       1                             545   \n17882060       1       1                             504   \n17887523       1       1                             127   \n\n          home_team_history_match_date_2  home_team_history_match_date_3  \\\nid                                                                         \n11989265                             258                              75   \n16865249                             168                             286   \n16916583                             627                              93   \n16940078                             168                             119   \n17213503                              92                              76   \n...                                  ...                             ...   \n17882059                            1135                             712   \n17887522                             167                             208   \n17882061                            1133                             715   \n17882060                            1344                             504   \n17887523                             167                             208   \n\n          home_team_history_match_date_4  home_team_history_match_date_5  \\\nid                                                                         \n11989265                             193                              67   \n16865249                              71                              49   \n16916583                              99                              93   \n16940078                             123                             117   \n17213503                             144                              92   \n...                                  ...                             ...   \n17882059                             168                             168   \n17887522                              72                              96   \n17882061                             168                             168   \n17882060                             168                             168   \n17887523                              72                              96   \n\n          home_team_history_match_date_6  home_team_history_match_date_7  \\\nid                                                                         \n11989265                             103                              88   \n16865249                            3145                              67   \n16916583                              74                             168   \n16940078                             121                              96   \n17213503                             126                             238   \n...                                  ...                             ...   \n17882059                             168                             505   \n17887522                             127                             545   \n17882061                             168                             505   \n17882060                             168                             505   \n17887523                             168                             504   \n\n          home_team_history_match_date_8  ...  home_team_history_target_7_1.0  \\\nid                                        ...                                   \n11989265                              74  ...                               1   \n16865249                              76  ...                               0   \n16916583                              69  ...                               0   \n16940078                              96  ...                               1   \n17213503                              72  ...                               0   \n...                                  ...  ...                             ...   \n17882059                             168  ...                               0   \n17887522                            1133  ...                               0   \n17882061                             168  ...                               0   \n17882060                             168  ...                               0   \n17887523                            1344  ...                               1   \n\n          away_team_history_target_7_-1.0  away_team_history_target_7_0.0  \\\nid                                                                          \n11989265                                0                               0   \n16865249                                0                               0   \n16916583                                1                               0   \n16940078                                0                               0   \n17213503                                0                               0   \n...                                   ...                             ...   \n17882059                                0                               1   \n17887522                                1                               0   \n17882061                                0                               0   \n17882060                                0                               0   \n17887523                                1                               0   \n\n          away_team_history_target_7_1.0  home_team_history_target_8_-1.0  \\\nid                                                                          \n11989265                               1                                1   \n16865249                               1                                0   \n16916583                               0                                0   \n16940078                               1                                0   \n17213503                               1                                1   \n...                                  ...                              ...   \n17882059                               0                                0   \n17887522                               0                                1   \n17882061                               1                                1   \n17882060                               1                                0   \n17887523                               0                                0   \n\n          home_team_history_target_8_0.0  home_team_history_target_8_1.0  \\\nid                                                                         \n11989265                               0                               0   \n16865249                               0                               1   \n16916583                               1                               0   \n16940078                               0                               1   \n17213503                               0                               0   \n...                                  ...                             ...   \n17882059                               1                               0   \n17887522                               0                               0   \n17882061                               0                               0   \n17882060                               1                               0   \n17887523                               1                               0   \n\n          away_team_history_target_8_-1.0  away_team_history_target_8_0.0  \\\nid                                                                          \n11989265                                0                               1   \n16865249                                0                               0   \n16916583                                0                               0   \n16940078                                0                               0   \n17213503                                1                               0   \n...                                   ...                             ...   \n17882059                                1                               0   \n17887522                                1                               0   \n17882061                                0                               0   \n17882060                                0                               0   \n17887523                                0                               1   \n\n          away_team_history_target_8_1.0  \nid                                        \n11989265                               0  \n16865249                               1  \n16916583                               1  \n16940078                               1  \n17213503                               0  \n...                                  ...  \n17882059                               0  \n17887522                               0  \n17882061                               1  \n17882060                               1  \n17887523                               0  \n\n[94169 rows x 183 columns]",
      "text/html": "<div>\n<style scoped>\n    .dataframe tbody tr th:only-of-type {\n        vertical-align: middle;\n    }\n\n    .dataframe tbody tr th {\n        vertical-align: top;\n    }\n\n    .dataframe thead th {\n        text-align: right;\n    }\n</style>\n<table border=\"1\" class=\"dataframe\">\n  <thead>\n    <tr style=\"text-align: right;\">\n      <th></th>\n      <th>target</th>\n      <th>is_cup</th>\n      <th>home_team_history_match_date_1</th>\n      <th>home_team_history_match_date_2</th>\n      <th>home_team_history_match_date_3</th>\n      <th>home_team_history_match_date_4</th>\n      <th>home_team_history_match_date_5</th>\n      <th>home_team_history_match_date_6</th>\n      <th>home_team_history_match_date_7</th>\n      <th>home_team_history_match_date_8</th>\n      <th>...</th>\n      <th>home_team_history_target_7_1.0</th>\n      <th>away_team_history_target_7_-1.0</th>\n      <th>away_team_history_target_7_0.0</th>\n      <th>away_team_history_target_7_1.0</th>\n      <th>home_team_history_target_8_-1.0</th>\n      <th>home_team_history_target_8_0.0</th>\n      <th>home_team_history_target_8_1.0</th>\n      <th>away_team_history_target_8_-1.0</th>\n      <th>away_team_history_target_8_0.0</th>\n      <th>away_team_history_target_8_1.0</th>\n    </tr>\n    <tr>\n      <th>id</th>\n      <th></th>\n      <th></th>\n      <th></th>\n      <th></th>\n      <th></th>\n      <th></th>\n      <th></th>\n      <th></th>\n      <th></th>\n      <th></th>\n      <th></th>\n      <th></th>\n      <th></th>\n      <th></th>\n      <th></th>\n      <th></th>\n      <th></th>\n      <th></th>\n      <th></th>\n      <th></th>\n      <th></th>\n    </tr>\n  </thead>\n  <tbody>\n    <tr>\n      <th>11989265</th>\n      <td>-1</td>\n      <td>1</td>\n      <td>78</td>\n      <td>258</td>\n      <td>75</td>\n      <td>193</td>\n      <td>67</td>\n      <td>103</td>\n      <td>88</td>\n      <td>74</td>\n      <td>...</td>\n      <td>1</td>\n      <td>0</td>\n      <td>0</td>\n      <td>1</td>\n      <td>1</td>\n      <td>0</td>\n      <td>0</td>\n      <td>0</td>\n      <td>1</td>\n      <td>0</td>\n    </tr>\n    <tr>\n      <th>16865249</th>\n      <td>1</td>\n      <td>1</td>\n      <td>219</td>\n      <td>168</td>\n      <td>286</td>\n      <td>71</td>\n      <td>49</td>\n      <td>3145</td>\n      <td>67</td>\n      <td>76</td>\n      <td>...</td>\n      <td>0</td>\n      <td>0</td>\n      <td>0</td>\n      <td>1</td>\n      <td>0</td>\n      <td>0</td>\n      <td>1</td>\n      <td>0</td>\n      <td>0</td>\n      <td>1</td>\n    </tr>\n    <tr>\n      <th>16916583</th>\n      <td>1</td>\n      <td>1</td>\n      <td>94</td>\n      <td>627</td>\n      <td>93</td>\n      <td>99</td>\n      <td>93</td>\n      <td>74</td>\n      <td>168</td>\n      <td>69</td>\n      <td>...</td>\n      <td>0</td>\n      <td>1</td>\n      <td>0</td>\n      <td>0</td>\n      <td>0</td>\n      <td>1</td>\n      <td>0</td>\n      <td>0</td>\n      <td>0</td>\n      <td>1</td>\n    </tr>\n    <tr>\n      <th>16940078</th>\n      <td>-1</td>\n      <td>1</td>\n      <td>167</td>\n      <td>168</td>\n      <td>119</td>\n      <td>123</td>\n      <td>117</td>\n      <td>121</td>\n      <td>96</td>\n      <td>96</td>\n      <td>...</td>\n      <td>1</td>\n      <td>0</td>\n      <td>0</td>\n      <td>1</td>\n      <td>0</td>\n      <td>0</td>\n      <td>1</td>\n      <td>0</td>\n      <td>0</td>\n      <td>1</td>\n    </tr>\n    <tr>\n      <th>17213503</th>\n      <td>1</td>\n      <td>1</td>\n      <td>100</td>\n      <td>92</td>\n      <td>76</td>\n      <td>144</td>\n      <td>92</td>\n      <td>126</td>\n      <td>238</td>\n      <td>72</td>\n      <td>...</td>\n      <td>0</td>\n      <td>0</td>\n      <td>0</td>\n      <td>1</td>\n      <td>1</td>\n      <td>0</td>\n      <td>0</td>\n      <td>1</td>\n      <td>0</td>\n      <td>0</td>\n    </tr>\n    <tr>\n      <th>...</th>\n      <td>...</td>\n      <td>...</td>\n      <td>...</td>\n      <td>...</td>\n      <td>...</td>\n      <td>...</td>\n      <td>...</td>\n      <td>...</td>\n      <td>...</td>\n      <td>...</td>\n      <td>...</td>\n      <td>...</td>\n      <td>...</td>\n      <td>...</td>\n      <td>...</td>\n      <td>...</td>\n      <td>...</td>\n      <td>...</td>\n      <td>...</td>\n      <td>...</td>\n      <td>...</td>\n    </tr>\n    <tr>\n      <th>17882059</th>\n      <td>1</td>\n      <td>1</td>\n      <td>504</td>\n      <td>1135</td>\n      <td>712</td>\n      <td>168</td>\n      <td>168</td>\n      <td>168</td>\n      <td>505</td>\n      <td>168</td>\n      <td>...</td>\n      <td>0</td>\n      <td>0</td>\n      <td>1</td>\n      <td>0</td>\n      <td>0</td>\n      <td>1</td>\n      <td>0</td>\n      <td>1</td>\n      <td>0</td>\n      <td>0</td>\n    </tr>\n    <tr>\n      <th>17887522</th>\n      <td>-1</td>\n      <td>1</td>\n      <td>127</td>\n      <td>167</td>\n      <td>208</td>\n      <td>72</td>\n      <td>96</td>\n      <td>127</td>\n      <td>545</td>\n      <td>1133</td>\n      <td>...</td>\n      <td>0</td>\n      <td>1</td>\n      <td>0</td>\n      <td>0</td>\n      <td>1</td>\n      <td>0</td>\n      <td>0</td>\n      <td>1</td>\n      <td>0</td>\n      <td>0</td>\n    </tr>\n    <tr>\n      <th>17882061</th>\n      <td>-1</td>\n      <td>1</td>\n      <td>545</td>\n      <td>1133</td>\n      <td>715</td>\n      <td>168</td>\n      <td>168</td>\n      <td>168</td>\n      <td>505</td>\n      <td>168</td>\n      <td>...</td>\n      <td>0</td>\n      <td>0</td>\n      <td>0</td>\n      <td>1</td>\n      <td>1</td>\n      <td>0</td>\n      <td>0</td>\n      <td>0</td>\n      <td>0</td>\n      <td>1</td>\n    </tr>\n    <tr>\n      <th>17882060</th>\n      <td>1</td>\n      <td>1</td>\n      <td>504</td>\n      <td>1344</td>\n      <td>504</td>\n      <td>168</td>\n      <td>168</td>\n      <td>168</td>\n      <td>505</td>\n      <td>168</td>\n      <td>...</td>\n      <td>0</td>\n      <td>0</td>\n      <td>0</td>\n      <td>1</td>\n      <td>0</td>\n      <td>1</td>\n      <td>0</td>\n      <td>0</td>\n      <td>0</td>\n      <td>1</td>\n    </tr>\n    <tr>\n      <th>17887523</th>\n      <td>1</td>\n      <td>1</td>\n      <td>127</td>\n      <td>167</td>\n      <td>208</td>\n      <td>72</td>\n      <td>96</td>\n      <td>168</td>\n      <td>504</td>\n      <td>1344</td>\n      <td>...</td>\n      <td>1</td>\n      <td>1</td>\n      <td>0</td>\n      <td>0</td>\n      <td>0</td>\n      <td>1</td>\n      <td>0</td>\n      <td>0</td>\n      <td>1</td>\n      <td>0</td>\n    </tr>\n  </tbody>\n</table>\n<p>94169 rows × 183 columns</p>\n</div>"
     },
     "execution_count": 4,
     "metadata": {},
     "output_type": "execute_result"
    },
    {
     "name": "stderr",
     "output_type": "stream",
     "text": [
      "/home/andrzej/PycharmProjects/Physionet_Challenge_2021/venv/lib/python3.9/site-packages/IPython/core/interactiveshell.py:3251: DtypeWarning: Columns (7) have mixed types.Specify dtype option on import or set low_memory=False.\n",
      "  exec(code_obj, self.user_global_ns, self.user_ns)\n"
     ]
    },
    {
     "name": "stdout",
     "output_type": "stream",
     "text": [
      "correction col type..\n",
      "percent of object with nan value:  42.20\n",
      "remove coach columns..\n",
      "percent of object with nan value:  18.64\n",
      "remove object with more that  col 80 empty...\n",
      "percent of object with nan value:  18.64\n",
      "remove history columns\n",
      "percent of object with nan value:  15.11\n",
      "remove all nan data\n",
      "percent of object with nan value:  15.11\n"
     ]
    },
    {
     "data": {
      "text/plain": "          target  is_cup  home_team_history_match_date_1  \\\nid                                                         \n11989265      -1       1                              78   \n16865249       1       1                             219   \n16916583       1       1                              94   \n16940078      -1       1                             167   \n17213503       1       1                             100   \n...          ...     ...                             ...   \n17882059       1       1                             504   \n17887522      -1       1                             127   \n17882061      -1       1                             545   \n17882060       1       1                             504   \n17887523       1       1                             127   \n\n          home_team_history_match_date_2  home_team_history_match_date_3  \\\nid                                                                         \n11989265                             258                              75   \n16865249                             168                             286   \n16916583                             627                              93   \n16940078                             168                             119   \n17213503                              92                              76   \n...                                  ...                             ...   \n17882059                            1135                             712   \n17887522                             167                             208   \n17882061                            1133                             715   \n17882060                            1344                             504   \n17887523                             167                             208   \n\n          home_team_history_match_date_4  home_team_history_match_date_5  \\\nid                                                                         \n11989265                             193                              67   \n16865249                              71                              49   \n16916583                              99                              93   \n16940078                             123                             117   \n17213503                             144                              92   \n...                                  ...                             ...   \n17882059                             168                             168   \n17887522                              72                              96   \n17882061                             168                             168   \n17882060                             168                             168   \n17887523                              72                              96   \n\n          home_team_history_match_date_6  home_team_history_match_date_7  \\\nid                                                                         \n11989265                             103                              88   \n16865249                            3145                              67   \n16916583                              74                             168   \n16940078                             121                              96   \n17213503                             126                             238   \n...                                  ...                             ...   \n17882059                             168                             505   \n17887522                             127                             545   \n17882061                             168                             505   \n17882060                             168                             505   \n17887523                             168                             504   \n\n          home_team_history_match_date_8  ...  home_team_history_target_7_1.0  \\\nid                                        ...                                   \n11989265                              74  ...                               1   \n16865249                              76  ...                               0   \n16916583                              69  ...                               0   \n16940078                              96  ...                               1   \n17213503                              72  ...                               0   \n...                                  ...  ...                             ...   \n17882059                             168  ...                               0   \n17887522                            1133  ...                               0   \n17882061                             168  ...                               0   \n17882060                             168  ...                               0   \n17887523                            1344  ...                               1   \n\n          away_team_history_target_7_-1.0  away_team_history_target_7_0.0  \\\nid                                                                          \n11989265                                0                               0   \n16865249                                0                               0   \n16916583                                1                               0   \n16940078                                0                               0   \n17213503                                0                               0   \n...                                   ...                             ...   \n17882059                                0                               1   \n17887522                                1                               0   \n17882061                                0                               0   \n17882060                                0                               0   \n17887523                                1                               0   \n\n          away_team_history_target_7_1.0  home_team_history_target_8_-1.0  \\\nid                                                                          \n11989265                               1                                1   \n16865249                               1                                0   \n16916583                               0                                0   \n16940078                               1                                0   \n17213503                               1                                1   \n...                                  ...                              ...   \n17882059                               0                                0   \n17887522                               0                                1   \n17882061                               1                                1   \n17882060                               1                                0   \n17887523                               0                                0   \n\n          home_team_history_target_8_0.0  home_team_history_target_8_1.0  \\\nid                                                                         \n11989265                               0                               0   \n16865249                               0                               1   \n16916583                               1                               0   \n16940078                               0                               1   \n17213503                               0                               0   \n...                                  ...                             ...   \n17882059                               1                               0   \n17887522                               0                               0   \n17882061                               0                               0   \n17882060                               1                               0   \n17887523                               1                               0   \n\n          away_team_history_target_8_-1.0  away_team_history_target_8_0.0  \\\nid                                                                          \n11989265                                0                               1   \n16865249                                0                               0   \n16916583                                0                               0   \n16940078                                0                               0   \n17213503                                1                               0   \n...                                   ...                             ...   \n17882059                                1                               0   \n17887522                                1                               0   \n17882061                                0                               0   \n17882060                                0                               0   \n17887523                                0                               1   \n\n          away_team_history_target_8_1.0  \nid                                        \n11989265                               0  \n16865249                               1  \n16916583                               1  \n16940078                               1  \n17213503                               0  \n...                                  ...  \n17882059                               0  \n17887522                               0  \n17882061                               1  \n17882060                               1  \n17887523                               0  \n\n[94169 rows x 183 columns]",
      "text/html": "<div>\n<style scoped>\n    .dataframe tbody tr th:only-of-type {\n        vertical-align: middle;\n    }\n\n    .dataframe tbody tr th {\n        vertical-align: top;\n    }\n\n    .dataframe thead th {\n        text-align: right;\n    }\n</style>\n<table border=\"1\" class=\"dataframe\">\n  <thead>\n    <tr style=\"text-align: right;\">\n      <th></th>\n      <th>target</th>\n      <th>is_cup</th>\n      <th>home_team_history_match_date_1</th>\n      <th>home_team_history_match_date_2</th>\n      <th>home_team_history_match_date_3</th>\n      <th>home_team_history_match_date_4</th>\n      <th>home_team_history_match_date_5</th>\n      <th>home_team_history_match_date_6</th>\n      <th>home_team_history_match_date_7</th>\n      <th>home_team_history_match_date_8</th>\n      <th>...</th>\n      <th>home_team_history_target_7_1.0</th>\n      <th>away_team_history_target_7_-1.0</th>\n      <th>away_team_history_target_7_0.0</th>\n      <th>away_team_history_target_7_1.0</th>\n      <th>home_team_history_target_8_-1.0</th>\n      <th>home_team_history_target_8_0.0</th>\n      <th>home_team_history_target_8_1.0</th>\n      <th>away_team_history_target_8_-1.0</th>\n      <th>away_team_history_target_8_0.0</th>\n      <th>away_team_history_target_8_1.0</th>\n    </tr>\n    <tr>\n      <th>id</th>\n      <th></th>\n      <th></th>\n      <th></th>\n      <th></th>\n      <th></th>\n      <th></th>\n      <th></th>\n      <th></th>\n      <th></th>\n      <th></th>\n      <th></th>\n      <th></th>\n      <th></th>\n      <th></th>\n      <th></th>\n      <th></th>\n      <th></th>\n      <th></th>\n      <th></th>\n      <th></th>\n      <th></th>\n    </tr>\n  </thead>\n  <tbody>\n    <tr>\n      <th>11989265</th>\n      <td>-1</td>\n      <td>1</td>\n      <td>78</td>\n      <td>258</td>\n      <td>75</td>\n      <td>193</td>\n      <td>67</td>\n      <td>103</td>\n      <td>88</td>\n      <td>74</td>\n      <td>...</td>\n      <td>1</td>\n      <td>0</td>\n      <td>0</td>\n      <td>1</td>\n      <td>1</td>\n      <td>0</td>\n      <td>0</td>\n      <td>0</td>\n      <td>1</td>\n      <td>0</td>\n    </tr>\n    <tr>\n      <th>16865249</th>\n      <td>1</td>\n      <td>1</td>\n      <td>219</td>\n      <td>168</td>\n      <td>286</td>\n      <td>71</td>\n      <td>49</td>\n      <td>3145</td>\n      <td>67</td>\n      <td>76</td>\n      <td>...</td>\n      <td>0</td>\n      <td>0</td>\n      <td>0</td>\n      <td>1</td>\n      <td>0</td>\n      <td>0</td>\n      <td>1</td>\n      <td>0</td>\n      <td>0</td>\n      <td>1</td>\n    </tr>\n    <tr>\n      <th>16916583</th>\n      <td>1</td>\n      <td>1</td>\n      <td>94</td>\n      <td>627</td>\n      <td>93</td>\n      <td>99</td>\n      <td>93</td>\n      <td>74</td>\n      <td>168</td>\n      <td>69</td>\n      <td>...</td>\n      <td>0</td>\n      <td>1</td>\n      <td>0</td>\n      <td>0</td>\n      <td>0</td>\n      <td>1</td>\n      <td>0</td>\n      <td>0</td>\n      <td>0</td>\n      <td>1</td>\n    </tr>\n    <tr>\n      <th>16940078</th>\n      <td>-1</td>\n      <td>1</td>\n      <td>167</td>\n      <td>168</td>\n      <td>119</td>\n      <td>123</td>\n      <td>117</td>\n      <td>121</td>\n      <td>96</td>\n      <td>96</td>\n      <td>...</td>\n      <td>1</td>\n      <td>0</td>\n      <td>0</td>\n      <td>1</td>\n      <td>0</td>\n      <td>0</td>\n      <td>1</td>\n      <td>0</td>\n      <td>0</td>\n      <td>1</td>\n    </tr>\n    <tr>\n      <th>17213503</th>\n      <td>1</td>\n      <td>1</td>\n      <td>100</td>\n      <td>92</td>\n      <td>76</td>\n      <td>144</td>\n      <td>92</td>\n      <td>126</td>\n      <td>238</td>\n      <td>72</td>\n      <td>...</td>\n      <td>0</td>\n      <td>0</td>\n      <td>0</td>\n      <td>1</td>\n      <td>1</td>\n      <td>0</td>\n      <td>0</td>\n      <td>1</td>\n      <td>0</td>\n      <td>0</td>\n    </tr>\n    <tr>\n      <th>...</th>\n      <td>...</td>\n      <td>...</td>\n      <td>...</td>\n      <td>...</td>\n      <td>...</td>\n      <td>...</td>\n      <td>...</td>\n      <td>...</td>\n      <td>...</td>\n      <td>...</td>\n      <td>...</td>\n      <td>...</td>\n      <td>...</td>\n      <td>...</td>\n      <td>...</td>\n      <td>...</td>\n      <td>...</td>\n      <td>...</td>\n      <td>...</td>\n      <td>...</td>\n      <td>...</td>\n    </tr>\n    <tr>\n      <th>17882059</th>\n      <td>1</td>\n      <td>1</td>\n      <td>504</td>\n      <td>1135</td>\n      <td>712</td>\n      <td>168</td>\n      <td>168</td>\n      <td>168</td>\n      <td>505</td>\n      <td>168</td>\n      <td>...</td>\n      <td>0</td>\n      <td>0</td>\n      <td>1</td>\n      <td>0</td>\n      <td>0</td>\n      <td>1</td>\n      <td>0</td>\n      <td>1</td>\n      <td>0</td>\n      <td>0</td>\n    </tr>\n    <tr>\n      <th>17887522</th>\n      <td>-1</td>\n      <td>1</td>\n      <td>127</td>\n      <td>167</td>\n      <td>208</td>\n      <td>72</td>\n      <td>96</td>\n      <td>127</td>\n      <td>545</td>\n      <td>1133</td>\n      <td>...</td>\n      <td>0</td>\n      <td>1</td>\n      <td>0</td>\n      <td>0</td>\n      <td>1</td>\n      <td>0</td>\n      <td>0</td>\n      <td>1</td>\n      <td>0</td>\n      <td>0</td>\n    </tr>\n    <tr>\n      <th>17882061</th>\n      <td>-1</td>\n      <td>1</td>\n      <td>545</td>\n      <td>1133</td>\n      <td>715</td>\n      <td>168</td>\n      <td>168</td>\n      <td>168</td>\n      <td>505</td>\n      <td>168</td>\n      <td>...</td>\n      <td>0</td>\n      <td>0</td>\n      <td>0</td>\n      <td>1</td>\n      <td>1</td>\n      <td>0</td>\n      <td>0</td>\n      <td>0</td>\n      <td>0</td>\n      <td>1</td>\n    </tr>\n    <tr>\n      <th>17882060</th>\n      <td>1</td>\n      <td>1</td>\n      <td>504</td>\n      <td>1344</td>\n      <td>504</td>\n      <td>168</td>\n      <td>168</td>\n      <td>168</td>\n      <td>505</td>\n      <td>168</td>\n      <td>...</td>\n      <td>0</td>\n      <td>0</td>\n      <td>0</td>\n      <td>1</td>\n      <td>0</td>\n      <td>1</td>\n      <td>0</td>\n      <td>0</td>\n      <td>0</td>\n      <td>1</td>\n    </tr>\n    <tr>\n      <th>17887523</th>\n      <td>1</td>\n      <td>1</td>\n      <td>127</td>\n      <td>167</td>\n      <td>208</td>\n      <td>72</td>\n      <td>96</td>\n      <td>168</td>\n      <td>504</td>\n      <td>1344</td>\n      <td>...</td>\n      <td>1</td>\n      <td>1</td>\n      <td>0</td>\n      <td>0</td>\n      <td>0</td>\n      <td>1</td>\n      <td>0</td>\n      <td>0</td>\n      <td>1</td>\n      <td>0</td>\n    </tr>\n  </tbody>\n</table>\n<p>94169 rows × 183 columns</p>\n</div>"
     },
     "execution_count": 5,
     "metadata": {},
     "output_type": "execute_result"
    }
   ],
   "source": [
    "data = pd.read_csv('data/train.csv')\n",
    "data = get_prepared_data(data, number_of_history_matches=8)\n",
    "data"
   ],
   "metadata": {
    "collapsed": false,
    "pycharm": {
     "name": "#%%\n"
    }
   }
  },
  {
   "cell_type": "code",
   "execution_count": 2,
   "outputs": [
    {
     "name": "stderr",
     "output_type": "stream",
     "text": [
      "/home/andrzej/PycharmProjects/Physionet_Challenge_2021/venv/lib/python3.9/site-packages/IPython/core/interactiveshell.py:3251: DtypeWarning: Columns (7) have mixed types.Specify dtype option on import or set low_memory=False.\n",
      "  exec(code_obj, self.user_global_ns, self.user_ns)\n"
     ]
    },
    {
     "name": "stdout",
     "output_type": "stream",
     "text": [
      "correction col type..\n",
      "percent of object with nan value:  42.20\n",
      "remove coach columns..\n",
      "percent of object with nan value:  18.64\n",
      "remove object with more that  col 80 empty...\n",
      "percent of object with nan value:  18.64\n",
      "remove history columns\n",
      "percent of object with nan value:  18.64\n",
      "remove all nan data\n",
      "percent of object with nan value:  18.64\n"
     ]
    },
    {
     "ename": "ValueError",
     "evalue": "Columns must be same length as key",
     "output_type": "error",
     "traceback": [
      "\u001B[0;31m---------------------------------------------------------------------------\u001B[0m",
      "\u001B[0;31mValueError\u001B[0m                                Traceback (most recent call last)",
      "Input \u001B[0;32mIn [2]\u001B[0m, in \u001B[0;36m<module>\u001B[0;34m\u001B[0m\n\u001B[1;32m      1\u001B[0m train_org \u001B[38;5;241m=\u001B[39m pd\u001B[38;5;241m.\u001B[39mread_csv(\u001B[38;5;124m'\u001B[39m\u001B[38;5;124mdata/train.csv\u001B[39m\u001B[38;5;124m'\u001B[39m)\n\u001B[0;32m----> 2\u001B[0m train \u001B[38;5;241m=\u001B[39m \u001B[43mget_prepared_data\u001B[49m\u001B[43m(\u001B[49m\u001B[43mtrain_org\u001B[49m\u001B[43m)\u001B[49m\n\u001B[1;32m      3\u001B[0m test_org \u001B[38;5;241m=\u001B[39m pd\u001B[38;5;241m.\u001B[39mread_csv(\u001B[38;5;124m'\u001B[39m\u001B[38;5;124mdata/test.csv\u001B[39m\u001B[38;5;124m'\u001B[39m)\n\u001B[1;32m      4\u001B[0m test_history_8 \u001B[38;5;241m=\u001B[39m get_prepared_data(test_org)\n",
      "File \u001B[0;32m~/PycharmProjects/Football-match-probability-prediction/prepared_data/get_prepared_data.py:8\u001B[0m, in \u001B[0;36mget_prepared_data\u001B[0;34m(data_org, number_of_history_matches)\u001B[0m\n\u001B[1;32m      6\u001B[0m \u001B[38;5;28;01mdef\u001B[39;00m \u001B[38;5;21mget_prepared_data\u001B[39m(data_org, number_of_history_matches \u001B[38;5;241m=\u001B[39m\u001B[38;5;241m8\u001B[39m):\n\u001B[1;32m      7\u001B[0m     data \u001B[38;5;241m=\u001B[39m completed_missing_data(data_org, number_of_history_matches)\n\u001B[0;32m----> 8\u001B[0m     data \u001B[38;5;241m=\u001B[39m \u001B[43mconvert_historical_date_to_date_difference\u001B[49m\u001B[43m(\u001B[49m\u001B[43mdata\u001B[49m\u001B[43m)\u001B[49m\n\u001B[1;32m      9\u001B[0m     data \u001B[38;5;241m=\u001B[39m map_target(data)\n\u001B[1;32m     10\u001B[0m     data \u001B[38;5;241m=\u001B[39m adding_new_features(data, number_of_history_matches)\n",
      "File \u001B[0;32m~/PycharmProjects/Football-match-probability-prediction/prepared_data/completed_missing_data.py:65\u001B[0m, in \u001B[0;36mconvert_historical_date_to_date_difference\u001B[0;34m(train)\u001B[0m\n\u001B[1;32m     62\u001B[0m away_date_columns \u001B[38;5;241m=\u001B[39m [column \u001B[38;5;28;01mfor\u001B[39;00m column \u001B[38;5;129;01min\u001B[39;00m train\u001B[38;5;241m.\u001B[39mcolumns\u001B[38;5;241m.\u001B[39mvalues \u001B[38;5;28;01mif\u001B[39;00m\n\u001B[1;32m     63\u001B[0m                      (\u001B[38;5;124m'\u001B[39m\u001B[38;5;124mdate\u001B[39m\u001B[38;5;124m'\u001B[39m \u001B[38;5;129;01min\u001B[39;00m column \u001B[38;5;129;01mand\u001B[39;00m \u001B[38;5;124m'\u001B[39m\u001B[38;5;124maway\u001B[39m\u001B[38;5;124m'\u001B[39m \u001B[38;5;129;01min\u001B[39;00m column) \u001B[38;5;129;01mor\u001B[39;00m column \u001B[38;5;241m==\u001B[39m \u001B[38;5;124m'\u001B[39m\u001B[38;5;124mmatch_date\u001B[39m\u001B[38;5;124m'\u001B[39m]\n\u001B[1;32m     64\u001B[0m \u001B[38;5;66;03m# train[date_columns]\u001B[39;00m\n\u001B[0;32m---> 65\u001B[0m train[home_date_columns[\u001B[38;5;241m1\u001B[39m:]] \u001B[38;5;241m=\u001B[39m train[home_date_columns]\u001B[38;5;241m.\u001B[39mdiff(periods\u001B[38;5;241m=\u001B[39m\u001B[38;5;241m1\u001B[39m, axis\u001B[38;5;241m=\u001B[39m\u001B[38;5;241m1\u001B[39m)\u001B[38;5;241m.\u001B[39mapply(\n\u001B[1;32m     66\u001B[0m     \u001B[38;5;28;01mlambda\u001B[39;00m x: x \u001B[38;5;241m/\u001B[39m np\u001B[38;5;241m.\u001B[39mtimedelta64(\u001B[38;5;241m-\u001B[39m\u001B[38;5;241m1\u001B[39m, \u001B[38;5;124m'\u001B[39m\u001B[38;5;124mh\u001B[39m\u001B[38;5;124m'\u001B[39m))\u001B[38;5;241m.\u001B[39miloc[:, \u001B[38;5;241m1\u001B[39m:]\u001B[38;5;241m.\u001B[39mastype(\u001B[38;5;124m'\u001B[39m\u001B[38;5;124mint64\u001B[39m\u001B[38;5;124m'\u001B[39m)\n\u001B[1;32m     67\u001B[0m train[away_date_columns[\u001B[38;5;241m1\u001B[39m:]] \u001B[38;5;241m=\u001B[39m train[away_date_columns]\u001B[38;5;241m.\u001B[39mdiff(periods\u001B[38;5;241m=\u001B[39m\u001B[38;5;241m1\u001B[39m, axis\u001B[38;5;241m=\u001B[39m\u001B[38;5;241m1\u001B[39m)\u001B[38;5;241m.\u001B[39mapply(\n\u001B[1;32m     68\u001B[0m     \u001B[38;5;28;01mlambda\u001B[39;00m x: x \u001B[38;5;241m/\u001B[39m np\u001B[38;5;241m.\u001B[39mtimedelta64(\u001B[38;5;241m-\u001B[39m\u001B[38;5;241m1\u001B[39m, \u001B[38;5;124m'\u001B[39m\u001B[38;5;124mh\u001B[39m\u001B[38;5;124m'\u001B[39m))\u001B[38;5;241m.\u001B[39miloc[:, \u001B[38;5;241m1\u001B[39m:]\u001B[38;5;241m.\u001B[39mastype(\u001B[38;5;124m'\u001B[39m\u001B[38;5;124mint64\u001B[39m\u001B[38;5;124m'\u001B[39m)\n\u001B[1;32m     70\u001B[0m \u001B[38;5;28;01mreturn\u001B[39;00m train\n",
      "File \u001B[0;32m~/PycharmProjects/Physionet_Challenge_2021/venv/lib/python3.9/site-packages/pandas/core/frame.py:3600\u001B[0m, in \u001B[0;36mDataFrame.__setitem__\u001B[0;34m(self, key, value)\u001B[0m\n\u001B[1;32m   3598\u001B[0m     \u001B[38;5;28mself\u001B[39m\u001B[38;5;241m.\u001B[39m_setitem_frame(key, value)\n\u001B[1;32m   3599\u001B[0m \u001B[38;5;28;01melif\u001B[39;00m \u001B[38;5;28misinstance\u001B[39m(key, (Series, np\u001B[38;5;241m.\u001B[39mndarray, \u001B[38;5;28mlist\u001B[39m, Index)):\n\u001B[0;32m-> 3600\u001B[0m     \u001B[38;5;28;43mself\u001B[39;49m\u001B[38;5;241;43m.\u001B[39;49m\u001B[43m_setitem_array\u001B[49m\u001B[43m(\u001B[49m\u001B[43mkey\u001B[49m\u001B[43m,\u001B[49m\u001B[43m \u001B[49m\u001B[43mvalue\u001B[49m\u001B[43m)\u001B[49m\n\u001B[1;32m   3601\u001B[0m \u001B[38;5;28;01melif\u001B[39;00m \u001B[38;5;28misinstance\u001B[39m(value, DataFrame):\n\u001B[1;32m   3602\u001B[0m     \u001B[38;5;28mself\u001B[39m\u001B[38;5;241m.\u001B[39m_set_item_frame_value(key, value)\n",
      "File \u001B[0;32m~/PycharmProjects/Physionet_Challenge_2021/venv/lib/python3.9/site-packages/pandas/core/frame.py:3639\u001B[0m, in \u001B[0;36mDataFrame._setitem_array\u001B[0;34m(self, key, value)\u001B[0m\n\u001B[1;32m   3637\u001B[0m \u001B[38;5;28;01melse\u001B[39;00m:\n\u001B[1;32m   3638\u001B[0m     \u001B[38;5;28;01mif\u001B[39;00m \u001B[38;5;28misinstance\u001B[39m(value, DataFrame):\n\u001B[0;32m-> 3639\u001B[0m         \u001B[43mcheck_key_length\u001B[49m\u001B[43m(\u001B[49m\u001B[38;5;28;43mself\u001B[39;49m\u001B[38;5;241;43m.\u001B[39;49m\u001B[43mcolumns\u001B[49m\u001B[43m,\u001B[49m\u001B[43m \u001B[49m\u001B[43mkey\u001B[49m\u001B[43m,\u001B[49m\u001B[43m \u001B[49m\u001B[43mvalue\u001B[49m\u001B[43m)\u001B[49m\n\u001B[1;32m   3640\u001B[0m         \u001B[38;5;28;01mfor\u001B[39;00m k1, k2 \u001B[38;5;129;01min\u001B[39;00m \u001B[38;5;28mzip\u001B[39m(key, value\u001B[38;5;241m.\u001B[39mcolumns):\n\u001B[1;32m   3641\u001B[0m             \u001B[38;5;28mself\u001B[39m[k1] \u001B[38;5;241m=\u001B[39m value[k2]\n",
      "File \u001B[0;32m~/PycharmProjects/Physionet_Challenge_2021/venv/lib/python3.9/site-packages/pandas/core/indexers.py:432\u001B[0m, in \u001B[0;36mcheck_key_length\u001B[0;34m(columns, key, value)\u001B[0m\n\u001B[1;32m    429\u001B[0m \u001B[38;5;28;01melse\u001B[39;00m:\n\u001B[1;32m    430\u001B[0m     \u001B[38;5;66;03m# Missing keys in columns are represented as -1\u001B[39;00m\n\u001B[1;32m    431\u001B[0m     \u001B[38;5;28;01mif\u001B[39;00m \u001B[38;5;28mlen\u001B[39m(columns\u001B[38;5;241m.\u001B[39mget_indexer_non_unique(key)[\u001B[38;5;241m0\u001B[39m]) \u001B[38;5;241m!=\u001B[39m \u001B[38;5;28mlen\u001B[39m(value\u001B[38;5;241m.\u001B[39mcolumns):\n\u001B[0;32m--> 432\u001B[0m         \u001B[38;5;28;01mraise\u001B[39;00m \u001B[38;5;167;01mValueError\u001B[39;00m(\u001B[38;5;124m\"\u001B[39m\u001B[38;5;124mColumns must be same length as key\u001B[39m\u001B[38;5;124m\"\u001B[39m)\n",
      "\u001B[0;31mValueError\u001B[0m: Columns must be same length as key"
     ]
    }
   ],
   "source": [
    "train_org = pd.read_csv('data/train.csv')\n",
    "train = get_prepared_data(train_org)\n",
    "test_org = pd.read_csv('data/test.csv')\n",
    "test_history_8 = get_prepared_data(test_org)"
   ],
   "metadata": {
    "collapsed": false,
    "pycharm": {
     "name": "#%%\n"
    }
   }
  },
  {
   "cell_type": "code",
   "execution_count": 3,
   "outputs": [
    {
     "data": {
      "text/plain": "Pipeline(steps=[('minmaxscaler', MinMaxScaler()),\n                ('logisticregression',\n                 LogisticRegression(max_iter=1000, multi_class='ovr', n_jobs=-1,\n                                    random_state=0))])"
     },
     "execution_count": 3,
     "metadata": {},
     "output_type": "execute_result"
    }
   ],
   "source": [
    "\n",
    "target = train['target']\n",
    "X_train_org = train.drop('target',axis=1)\n",
    "pipe =  make_pipeline( MinMaxScaler(),LogisticRegression(random_state=0, solver='lbfgs', multi_class='ovr', max_iter=1000, n_jobs =-1))\n",
    "pipe.fit(X_train_org,target)"
   ],
   "metadata": {
    "collapsed": false,
    "pycharm": {
     "name": "#%%\n"
    }
   }
  },
  {
   "cell_type": "code",
   "execution_count": 4,
   "outputs": [
    {
     "data": {
      "text/plain": "             id      away      draw      home\n0      18395561  0.495436  0.186875  0.317689\n1      18304452  0.369690  0.180844  0.449466\n2      18137442  0.261484  0.180792  0.557724\n3      18395544  0.328268  0.169833  0.501899\n4      18395608  0.348780  0.177417  0.473803\n...         ...       ...       ...       ...\n64590  18447910  0.166693  0.134085  0.699221\n64591  18447909  0.047950  0.135297  0.816753\n64592  18448332  0.572286  0.158145  0.269569\n64593  18449955  0.153460  0.205105  0.641434\n64594  18449954  0.538874  0.264332  0.196794\n\n[64595 rows x 4 columns]",
      "text/html": "<div>\n<style scoped>\n    .dataframe tbody tr th:only-of-type {\n        vertical-align: middle;\n    }\n\n    .dataframe tbody tr th {\n        vertical-align: top;\n    }\n\n    .dataframe thead th {\n        text-align: right;\n    }\n</style>\n<table border=\"1\" class=\"dataframe\">\n  <thead>\n    <tr style=\"text-align: right;\">\n      <th></th>\n      <th>id</th>\n      <th>away</th>\n      <th>draw</th>\n      <th>home</th>\n    </tr>\n  </thead>\n  <tbody>\n    <tr>\n      <th>0</th>\n      <td>18395561</td>\n      <td>0.495436</td>\n      <td>0.186875</td>\n      <td>0.317689</td>\n    </tr>\n    <tr>\n      <th>1</th>\n      <td>18304452</td>\n      <td>0.369690</td>\n      <td>0.180844</td>\n      <td>0.449466</td>\n    </tr>\n    <tr>\n      <th>2</th>\n      <td>18137442</td>\n      <td>0.261484</td>\n      <td>0.180792</td>\n      <td>0.557724</td>\n    </tr>\n    <tr>\n      <th>3</th>\n      <td>18395544</td>\n      <td>0.328268</td>\n      <td>0.169833</td>\n      <td>0.501899</td>\n    </tr>\n    <tr>\n      <th>4</th>\n      <td>18395608</td>\n      <td>0.348780</td>\n      <td>0.177417</td>\n      <td>0.473803</td>\n    </tr>\n    <tr>\n      <th>...</th>\n      <td>...</td>\n      <td>...</td>\n      <td>...</td>\n      <td>...</td>\n    </tr>\n    <tr>\n      <th>64590</th>\n      <td>18447910</td>\n      <td>0.166693</td>\n      <td>0.134085</td>\n      <td>0.699221</td>\n    </tr>\n    <tr>\n      <th>64591</th>\n      <td>18447909</td>\n      <td>0.047950</td>\n      <td>0.135297</td>\n      <td>0.816753</td>\n    </tr>\n    <tr>\n      <th>64592</th>\n      <td>18448332</td>\n      <td>0.572286</td>\n      <td>0.158145</td>\n      <td>0.269569</td>\n    </tr>\n    <tr>\n      <th>64593</th>\n      <td>18449955</td>\n      <td>0.153460</td>\n      <td>0.205105</td>\n      <td>0.641434</td>\n    </tr>\n    <tr>\n      <th>64594</th>\n      <td>18449954</td>\n      <td>0.538874</td>\n      <td>0.264332</td>\n      <td>0.196794</td>\n    </tr>\n  </tbody>\n</table>\n<p>64595 rows × 4 columns</p>\n</div>"
     },
     "execution_count": 4,
     "metadata": {},
     "output_type": "execute_result"
    }
   ],
   "source": [
    "test_result = pipe.predict_proba(test_history_8)\n",
    "test_result = result_predict_prob_to_dataFrame(test_result, test_history_8)\n",
    "test_result"
   ],
   "metadata": {
    "collapsed": false,
    "pycharm": {
     "name": "#%%\n"
    }
   }
  },
  {
   "cell_type": "markdown",
   "source": [
    "Training for nan value"
   ],
   "metadata": {
    "collapsed": false
   }
  },
  {
   "cell_type": "code",
   "execution_count": 5,
   "outputs": [
    {
     "name": "stderr",
     "output_type": "stream",
     "text": [
      "/home/andrzej/PycharmProjects/Physionet_Challenge_2021/venv/lib/python3.9/site-packages/IPython/core/interactiveshell.py:3251: DtypeWarning: Columns (7) have mixed types.Specify dtype option on import or set low_memory=False.\n",
      "  exec(code_obj, self.user_global_ns, self.user_ns)\n"
     ]
    },
    {
     "name": "stdout",
     "output_type": "stream",
     "text": [
      "correction col type..\n",
      "percent of object with nan value:  42.20\n",
      "remove coach columns..\n",
      "percent of object with nan value:  18.64\n",
      "remove object with more that  col 80 empty...\n",
      "percent of object with nan value:  18.64\n",
      "remove all day historii without 1\n",
      "percent of object with nan value:  5.62\n",
      "remove all nan data\n",
      "percent of object with nan value:  5.62\n",
      "correction col type..\n",
      "percent of object with nan value:  39.35\n",
      "remove coach columns..\n",
      "percent of object with nan value:  13.93\n",
      "remove object with more that  col 80 empty...\n",
      "percent of object with nan value:  13.93\n",
      "remove all day historii without 1\n",
      "percent of object with nan value:  2.99\n",
      "remove all nan data\n",
      "percent of object with nan value:  2.99\n",
      "Number of not duplicate elements  5932\n"
     ]
    },
    {
     "data": {
      "text/plain": "          is_cup  home_team_history_match_date_1  \\\nid                                                 \n18413354       1                              91   \n18414545       1                             144   \n18412923       1                            1099   \n18412901       1                             336   \n18412907       1                             168   \n...          ...                             ...   \n18447253       1                              48   \n18447254       1                             120   \n18447213       1                              71   \n18447198       1                             288   \n18448437       1                              72   \n\n          home_team_history_is_play_home_1  home_team_history_is_cup_1  \\\nid                                                                       \n18413354                               1.0                         0.0   \n18414545                               1.0                         0.0   \n18412923                               0.0                         0.0   \n18412901                               1.0                         0.0   \n18412907                               0.0                         0.0   \n...                                    ...                         ...   \n18447253                               0.0                         1.0   \n18447254                               0.0                         1.0   \n18447213                               1.0                         0.0   \n18447198                               0.0                         1.0   \n18448437                               0.0                         1.0   \n\n          home_team_history_goal_1  home_team_history_opponent_goal_1  \\\nid                                                                      \n18413354                       3.0                                1.0   \n18414545                       3.0                                1.0   \n18412923                       2.0                                2.0   \n18412901                       4.0                                2.0   \n18412907                       2.0                                1.0   \n...                            ...                                ...   \n18447253                       3.0                                2.0   \n18447254                       1.0                                2.0   \n18447213                       2.0                                0.0   \n18447198                       1.0                                1.0   \n18448437                       2.0                                1.0   \n\n          home_team_history_rating_1  home_team_history_opponent_rating_1  \\\nid                                                                          \n18413354                    5.358906                             9.495169   \n18414545                    6.042328                             6.110778   \n18412923                    8.476650                            11.051250   \n18412901                    7.694850                             5.019463   \n18412907                    6.497580                             6.940565   \n...                              ...                                  ...   \n18447253                    7.451386                             4.802329   \n18447254                    7.434050                             6.043600   \n18447213                    5.545267                             6.207833   \n18447198                    8.184250                             5.556950   \n18448437                    8.003250                             4.529750   \n\n          away_team_history_match_date_1  away_team_history_is_play_home_1  \\\nid                                                                           \n18413354                             648                               1.0   \n18414545                             235                               1.0   \n18412923                             168                               0.0   \n18412901                             259                               1.0   \n18412907                              67                               1.0   \n...                                  ...                               ...   \n18447253                              72                               1.0   \n18447254                             120                               1.0   \n18447213                              96                               1.0   \n18447198                             120                               0.0   \n18448437                             120                               1.0   \n\n          ...  home_team_mean_regeneration_time  \\\nid        ...                                     \n18413354  ...                              91.0   \n18414545  ...                             144.0   \n18412923  ...                            1099.0   \n18412901  ...                             336.0   \n18412907  ...                             168.0   \n...       ...                               ...   \n18447253  ...                              48.0   \n18447254  ...                             120.0   \n18447213  ...                              71.0   \n18447198  ...                             288.0   \n18448437  ...                              72.0   \n\n          away_team_history_gol_difference_1  \\\nid                                             \n18413354                                 1.0   \n18414545                                 2.0   \n18412923                                 2.0   \n18412901                                 2.0   \n18412907                                 3.0   \n...                                      ...   \n18447253                                 1.0   \n18447254                                 0.0   \n18447213                                 4.0   \n18447198                                 1.0   \n18448437                                 1.0   \n\n          away_team_mean_regeneration_time  league_id_ratting  \\\nid                                                              \n18413354                             648.0           7.221377   \n18414545                             235.0           7.221377   \n18412923                             168.0           7.221377   \n18412901                             259.0           7.221377   \n18412907                              67.0           7.221377   \n...                                    ...                ...   \n18447253                              72.0           8.721232   \n18447254                             120.0           8.721232   \n18447213                              96.0           8.721232   \n18447198                             120.0           8.721232   \n18448437                             120.0          10.806159   \n\n          home_team_history_target_1_-1.0  home_team_history_target_1_0.0  \\\nid                                                                          \n18413354                                0                               0   \n18414545                                0                               0   \n18412923                                0                               1   \n18412901                                0                               0   \n18412907                                0                               0   \n...                                   ...                             ...   \n18447253                                0                               0   \n18447254                                1                               0   \n18447213                                0                               0   \n18447198                                0                               1   \n18448437                                0                               0   \n\n          home_team_history_target_1_1.0  away_team_history_target_1_-1.0  \\\nid                                                                          \n18413354                               1                                0   \n18414545                               1                                0   \n18412923                               0                                0   \n18412901                               1                                0   \n18412907                               1                                0   \n...                                  ...                              ...   \n18447253                               1                                0   \n18447254                               0                                0   \n18447213                               1                                0   \n18447198                               0                                0   \n18448437                               1                                0   \n\n          away_team_history_target_1_0.0  away_team_history_target_1_1.0  \nid                                                                        \n18413354                               0                               1  \n18414545                               0                               1  \n18412923                               0                               1  \n18412901                               0                               1  \n18412907                               0                               1  \n...                                  ...                             ...  \n18447253                               0                               1  \n18447254                               1                               0  \n18447213                               0                               1  \n18447198                               0                               1  \n18448437                               0                               1  \n\n[5932 rows x 26 columns]",
      "text/html": "<div>\n<style scoped>\n    .dataframe tbody tr th:only-of-type {\n        vertical-align: middle;\n    }\n\n    .dataframe tbody tr th {\n        vertical-align: top;\n    }\n\n    .dataframe thead th {\n        text-align: right;\n    }\n</style>\n<table border=\"1\" class=\"dataframe\">\n  <thead>\n    <tr style=\"text-align: right;\">\n      <th></th>\n      <th>is_cup</th>\n      <th>home_team_history_match_date_1</th>\n      <th>home_team_history_is_play_home_1</th>\n      <th>home_team_history_is_cup_1</th>\n      <th>home_team_history_goal_1</th>\n      <th>home_team_history_opponent_goal_1</th>\n      <th>home_team_history_rating_1</th>\n      <th>home_team_history_opponent_rating_1</th>\n      <th>away_team_history_match_date_1</th>\n      <th>away_team_history_is_play_home_1</th>\n      <th>...</th>\n      <th>home_team_mean_regeneration_time</th>\n      <th>away_team_history_gol_difference_1</th>\n      <th>away_team_mean_regeneration_time</th>\n      <th>league_id_ratting</th>\n      <th>home_team_history_target_1_-1.0</th>\n      <th>home_team_history_target_1_0.0</th>\n      <th>home_team_history_target_1_1.0</th>\n      <th>away_team_history_target_1_-1.0</th>\n      <th>away_team_history_target_1_0.0</th>\n      <th>away_team_history_target_1_1.0</th>\n    </tr>\n    <tr>\n      <th>id</th>\n      <th></th>\n      <th></th>\n      <th></th>\n      <th></th>\n      <th></th>\n      <th></th>\n      <th></th>\n      <th></th>\n      <th></th>\n      <th></th>\n      <th></th>\n      <th></th>\n      <th></th>\n      <th></th>\n      <th></th>\n      <th></th>\n      <th></th>\n      <th></th>\n      <th></th>\n      <th></th>\n      <th></th>\n    </tr>\n  </thead>\n  <tbody>\n    <tr>\n      <th>18413354</th>\n      <td>1</td>\n      <td>91</td>\n      <td>1.0</td>\n      <td>0.0</td>\n      <td>3.0</td>\n      <td>1.0</td>\n      <td>5.358906</td>\n      <td>9.495169</td>\n      <td>648</td>\n      <td>1.0</td>\n      <td>...</td>\n      <td>91.0</td>\n      <td>1.0</td>\n      <td>648.0</td>\n      <td>7.221377</td>\n      <td>0</td>\n      <td>0</td>\n      <td>1</td>\n      <td>0</td>\n      <td>0</td>\n      <td>1</td>\n    </tr>\n    <tr>\n      <th>18414545</th>\n      <td>1</td>\n      <td>144</td>\n      <td>1.0</td>\n      <td>0.0</td>\n      <td>3.0</td>\n      <td>1.0</td>\n      <td>6.042328</td>\n      <td>6.110778</td>\n      <td>235</td>\n      <td>1.0</td>\n      <td>...</td>\n      <td>144.0</td>\n      <td>2.0</td>\n      <td>235.0</td>\n      <td>7.221377</td>\n      <td>0</td>\n      <td>0</td>\n      <td>1</td>\n      <td>0</td>\n      <td>0</td>\n      <td>1</td>\n    </tr>\n    <tr>\n      <th>18412923</th>\n      <td>1</td>\n      <td>1099</td>\n      <td>0.0</td>\n      <td>0.0</td>\n      <td>2.0</td>\n      <td>2.0</td>\n      <td>8.476650</td>\n      <td>11.051250</td>\n      <td>168</td>\n      <td>0.0</td>\n      <td>...</td>\n      <td>1099.0</td>\n      <td>2.0</td>\n      <td>168.0</td>\n      <td>7.221377</td>\n      <td>0</td>\n      <td>1</td>\n      <td>0</td>\n      <td>0</td>\n      <td>0</td>\n      <td>1</td>\n    </tr>\n    <tr>\n      <th>18412901</th>\n      <td>1</td>\n      <td>336</td>\n      <td>1.0</td>\n      <td>0.0</td>\n      <td>4.0</td>\n      <td>2.0</td>\n      <td>7.694850</td>\n      <td>5.019463</td>\n      <td>259</td>\n      <td>1.0</td>\n      <td>...</td>\n      <td>336.0</td>\n      <td>2.0</td>\n      <td>259.0</td>\n      <td>7.221377</td>\n      <td>0</td>\n      <td>0</td>\n      <td>1</td>\n      <td>0</td>\n      <td>0</td>\n      <td>1</td>\n    </tr>\n    <tr>\n      <th>18412907</th>\n      <td>1</td>\n      <td>168</td>\n      <td>0.0</td>\n      <td>0.0</td>\n      <td>2.0</td>\n      <td>1.0</td>\n      <td>6.497580</td>\n      <td>6.940565</td>\n      <td>67</td>\n      <td>1.0</td>\n      <td>...</td>\n      <td>168.0</td>\n      <td>3.0</td>\n      <td>67.0</td>\n      <td>7.221377</td>\n      <td>0</td>\n      <td>0</td>\n      <td>1</td>\n      <td>0</td>\n      <td>0</td>\n      <td>1</td>\n    </tr>\n    <tr>\n      <th>...</th>\n      <td>...</td>\n      <td>...</td>\n      <td>...</td>\n      <td>...</td>\n      <td>...</td>\n      <td>...</td>\n      <td>...</td>\n      <td>...</td>\n      <td>...</td>\n      <td>...</td>\n      <td>...</td>\n      <td>...</td>\n      <td>...</td>\n      <td>...</td>\n      <td>...</td>\n      <td>...</td>\n      <td>...</td>\n      <td>...</td>\n      <td>...</td>\n      <td>...</td>\n      <td>...</td>\n    </tr>\n    <tr>\n      <th>18447253</th>\n      <td>1</td>\n      <td>48</td>\n      <td>0.0</td>\n      <td>1.0</td>\n      <td>3.0</td>\n      <td>2.0</td>\n      <td>7.451386</td>\n      <td>4.802329</td>\n      <td>72</td>\n      <td>1.0</td>\n      <td>...</td>\n      <td>48.0</td>\n      <td>1.0</td>\n      <td>72.0</td>\n      <td>8.721232</td>\n      <td>0</td>\n      <td>0</td>\n      <td>1</td>\n      <td>0</td>\n      <td>0</td>\n      <td>1</td>\n    </tr>\n    <tr>\n      <th>18447254</th>\n      <td>1</td>\n      <td>120</td>\n      <td>0.0</td>\n      <td>1.0</td>\n      <td>1.0</td>\n      <td>2.0</td>\n      <td>7.434050</td>\n      <td>6.043600</td>\n      <td>120</td>\n      <td>1.0</td>\n      <td>...</td>\n      <td>120.0</td>\n      <td>0.0</td>\n      <td>120.0</td>\n      <td>8.721232</td>\n      <td>1</td>\n      <td>0</td>\n      <td>0</td>\n      <td>0</td>\n      <td>1</td>\n      <td>0</td>\n    </tr>\n    <tr>\n      <th>18447213</th>\n      <td>1</td>\n      <td>71</td>\n      <td>1.0</td>\n      <td>0.0</td>\n      <td>2.0</td>\n      <td>0.0</td>\n      <td>5.545267</td>\n      <td>6.207833</td>\n      <td>96</td>\n      <td>1.0</td>\n      <td>...</td>\n      <td>71.0</td>\n      <td>4.0</td>\n      <td>96.0</td>\n      <td>8.721232</td>\n      <td>0</td>\n      <td>0</td>\n      <td>1</td>\n      <td>0</td>\n      <td>0</td>\n      <td>1</td>\n    </tr>\n    <tr>\n      <th>18447198</th>\n      <td>1</td>\n      <td>288</td>\n      <td>0.0</td>\n      <td>1.0</td>\n      <td>1.0</td>\n      <td>1.0</td>\n      <td>8.184250</td>\n      <td>5.556950</td>\n      <td>120</td>\n      <td>0.0</td>\n      <td>...</td>\n      <td>288.0</td>\n      <td>1.0</td>\n      <td>120.0</td>\n      <td>8.721232</td>\n      <td>0</td>\n      <td>1</td>\n      <td>0</td>\n      <td>0</td>\n      <td>0</td>\n      <td>1</td>\n    </tr>\n    <tr>\n      <th>18448437</th>\n      <td>1</td>\n      <td>72</td>\n      <td>0.0</td>\n      <td>1.0</td>\n      <td>2.0</td>\n      <td>1.0</td>\n      <td>8.003250</td>\n      <td>4.529750</td>\n      <td>120</td>\n      <td>1.0</td>\n      <td>...</td>\n      <td>72.0</td>\n      <td>1.0</td>\n      <td>120.0</td>\n      <td>10.806159</td>\n      <td>0</td>\n      <td>0</td>\n      <td>1</td>\n      <td>0</td>\n      <td>0</td>\n      <td>1</td>\n    </tr>\n  </tbody>\n</table>\n<p>5932 rows × 26 columns</p>\n</div>"
     },
     "execution_count": 5,
     "metadata": {},
     "output_type": "execute_result"
    }
   ],
   "source": [
    "train_org = pd.read_csv('data/train.csv')\n",
    "train = get_prepared_data(train_org,number_of_history_matches=1)\n",
    "test_org = pd.read_csv('data/test.csv')\n",
    "test_history_1 = get_prepared_data(test_org, number_of_history_matches=1)\n",
    "test_history_1 = not_duplicate_elements_in_dataframes(test_history_1.reset_index(), test_history_8)\n",
    "test_history_1"
   ],
   "metadata": {
    "collapsed": false,
    "pycharm": {
     "name": "#%%\n"
    }
   }
  },
  {
   "cell_type": "code",
   "execution_count": 6,
   "outputs": [
    {
     "data": {
      "text/plain": "Pipeline(steps=[('minmaxscaler', MinMaxScaler()),\n                ('logisticregression',\n                 LogisticRegression(max_iter=1000, multi_class='ovr', n_jobs=-1,\n                                    random_state=0))])"
     },
     "execution_count": 6,
     "metadata": {},
     "output_type": "execute_result"
    }
   ],
   "source": [
    "target = train['target']\n",
    "X_train_org = train.drop('target',axis=1)\n",
    "pipe =  make_pipeline( MinMaxScaler(),LogisticRegression(random_state=0, solver='lbfgs', multi_class='ovr', max_iter=1000, n_jobs =-1))\n",
    "pipe.fit(X_train_org,target)"
   ],
   "metadata": {
    "collapsed": false,
    "pycharm": {
     "name": "#%%\n"
    }
   }
  },
  {
   "cell_type": "code",
   "execution_count": 7,
   "outputs": [
    {
     "data": {
      "text/plain": "            id      away      draw      home\n0     18413354  0.416721  0.208302  0.374977\n1     18414545  0.469199  0.213460  0.317342\n2     18412923  0.450487  0.205704  0.343808\n3     18412901  0.385647  0.183070  0.431283\n4     18412907  0.371176  0.210267  0.418557\n...        ...       ...       ...       ...\n5927  18447253  0.287196  0.155095  0.557710\n5928  18447254  0.422892  0.162314  0.414794\n5929  18447213  0.556066  0.173393  0.270540\n5930  18447198  0.182412  0.130869  0.686719\n5931  18448437  0.237206  0.110043  0.652751\n\n[5932 rows x 4 columns]",
      "text/html": "<div>\n<style scoped>\n    .dataframe tbody tr th:only-of-type {\n        vertical-align: middle;\n    }\n\n    .dataframe tbody tr th {\n        vertical-align: top;\n    }\n\n    .dataframe thead th {\n        text-align: right;\n    }\n</style>\n<table border=\"1\" class=\"dataframe\">\n  <thead>\n    <tr style=\"text-align: right;\">\n      <th></th>\n      <th>id</th>\n      <th>away</th>\n      <th>draw</th>\n      <th>home</th>\n    </tr>\n  </thead>\n  <tbody>\n    <tr>\n      <th>0</th>\n      <td>18413354</td>\n      <td>0.416721</td>\n      <td>0.208302</td>\n      <td>0.374977</td>\n    </tr>\n    <tr>\n      <th>1</th>\n      <td>18414545</td>\n      <td>0.469199</td>\n      <td>0.213460</td>\n      <td>0.317342</td>\n    </tr>\n    <tr>\n      <th>2</th>\n      <td>18412923</td>\n      <td>0.450487</td>\n      <td>0.205704</td>\n      <td>0.343808</td>\n    </tr>\n    <tr>\n      <th>3</th>\n      <td>18412901</td>\n      <td>0.385647</td>\n      <td>0.183070</td>\n      <td>0.431283</td>\n    </tr>\n    <tr>\n      <th>4</th>\n      <td>18412907</td>\n      <td>0.371176</td>\n      <td>0.210267</td>\n      <td>0.418557</td>\n    </tr>\n    <tr>\n      <th>...</th>\n      <td>...</td>\n      <td>...</td>\n      <td>...</td>\n      <td>...</td>\n    </tr>\n    <tr>\n      <th>5927</th>\n      <td>18447253</td>\n      <td>0.287196</td>\n      <td>0.155095</td>\n      <td>0.557710</td>\n    </tr>\n    <tr>\n      <th>5928</th>\n      <td>18447254</td>\n      <td>0.422892</td>\n      <td>0.162314</td>\n      <td>0.414794</td>\n    </tr>\n    <tr>\n      <th>5929</th>\n      <td>18447213</td>\n      <td>0.556066</td>\n      <td>0.173393</td>\n      <td>0.270540</td>\n    </tr>\n    <tr>\n      <th>5930</th>\n      <td>18447198</td>\n      <td>0.182412</td>\n      <td>0.130869</td>\n      <td>0.686719</td>\n    </tr>\n    <tr>\n      <th>5931</th>\n      <td>18448437</td>\n      <td>0.237206</td>\n      <td>0.110043</td>\n      <td>0.652751</td>\n    </tr>\n  </tbody>\n</table>\n<p>5932 rows × 4 columns</p>\n</div>"
     },
     "execution_count": 7,
     "metadata": {},
     "output_type": "execute_result"
    }
   ],
   "source": [
    "test_result_history_1 = pipe.predict_proba(test_history_1)\n",
    "test_result_history_1 = result_predict_prob_to_dataFrame(test_result_history_1, test_history_1)\n",
    "test_result_history_1"
   ],
   "metadata": {
    "collapsed": false,
    "pycharm": {
     "name": "#%%\n"
    }
   }
  },
  {
   "cell_type": "code",
   "execution_count": 8,
   "outputs": [
    {
     "data": {
      "text/plain": "             id      away      draw      home\n0      18413354  0.416721  0.208302  0.374977\n1      18414545  0.469199  0.213460  0.317342\n2      18412923  0.450487  0.205704  0.343808\n3      18412901  0.385647  0.183070  0.431283\n4      18412907  0.371176  0.210267  0.418557\n...         ...       ...       ...       ...\n70522  18447910  0.166693  0.134085  0.699221\n70523  18447909  0.047950  0.135297  0.816753\n70524  18448332  0.572286  0.158145  0.269569\n70525  18449955  0.153460  0.205105  0.641434\n70526  18449954  0.538874  0.264332  0.196794\n\n[70527 rows x 4 columns]",
      "text/html": "<div>\n<style scoped>\n    .dataframe tbody tr th:only-of-type {\n        vertical-align: middle;\n    }\n\n    .dataframe tbody tr th {\n        vertical-align: top;\n    }\n\n    .dataframe thead th {\n        text-align: right;\n    }\n</style>\n<table border=\"1\" class=\"dataframe\">\n  <thead>\n    <tr style=\"text-align: right;\">\n      <th></th>\n      <th>id</th>\n      <th>away</th>\n      <th>draw</th>\n      <th>home</th>\n    </tr>\n  </thead>\n  <tbody>\n    <tr>\n      <th>0</th>\n      <td>18413354</td>\n      <td>0.416721</td>\n      <td>0.208302</td>\n      <td>0.374977</td>\n    </tr>\n    <tr>\n      <th>1</th>\n      <td>18414545</td>\n      <td>0.469199</td>\n      <td>0.213460</td>\n      <td>0.317342</td>\n    </tr>\n    <tr>\n      <th>2</th>\n      <td>18412923</td>\n      <td>0.450487</td>\n      <td>0.205704</td>\n      <td>0.343808</td>\n    </tr>\n    <tr>\n      <th>3</th>\n      <td>18412901</td>\n      <td>0.385647</td>\n      <td>0.183070</td>\n      <td>0.431283</td>\n    </tr>\n    <tr>\n      <th>4</th>\n      <td>18412907</td>\n      <td>0.371176</td>\n      <td>0.210267</td>\n      <td>0.418557</td>\n    </tr>\n    <tr>\n      <th>...</th>\n      <td>...</td>\n      <td>...</td>\n      <td>...</td>\n      <td>...</td>\n    </tr>\n    <tr>\n      <th>70522</th>\n      <td>18447910</td>\n      <td>0.166693</td>\n      <td>0.134085</td>\n      <td>0.699221</td>\n    </tr>\n    <tr>\n      <th>70523</th>\n      <td>18447909</td>\n      <td>0.047950</td>\n      <td>0.135297</td>\n      <td>0.816753</td>\n    </tr>\n    <tr>\n      <th>70524</th>\n      <td>18448332</td>\n      <td>0.572286</td>\n      <td>0.158145</td>\n      <td>0.269569</td>\n    </tr>\n    <tr>\n      <th>70525</th>\n      <td>18449955</td>\n      <td>0.153460</td>\n      <td>0.205105</td>\n      <td>0.641434</td>\n    </tr>\n    <tr>\n      <th>70526</th>\n      <td>18449954</td>\n      <td>0.538874</td>\n      <td>0.264332</td>\n      <td>0.196794</td>\n    </tr>\n  </tbody>\n</table>\n<p>70527 rows × 4 columns</p>\n</div>"
     },
     "execution_count": 8,
     "metadata": {},
     "output_type": "execute_result"
    }
   ],
   "source": [
    "test_result_learn = append_test_results(test_result_history_1, test_result)\n",
    "test_result_learn"
   ],
   "metadata": {
    "collapsed": false,
    "pycharm": {
     "name": "#%%\n"
    }
   }
  },
  {
   "cell_type": "code",
   "execution_count": 9,
   "outputs": [
    {
     "name": "stdout",
     "output_type": "stream",
     "text": [
      "Number of not duplicate elements  2184\n"
     ]
    },
    {
     "data": {
      "text/plain": "             id      away      draw      home\n0      18413354  0.416721  0.208302  0.374977\n1      18414545  0.469199  0.213460  0.317342\n2      18412923  0.450487  0.205704  0.343808\n3      18412901  0.385647  0.183070  0.431283\n4      18412907  0.371176  0.210267  0.418557\n...         ...       ...       ...       ...\n72706  18441638  0.310000  0.270000  0.420000\n72707  18150684  0.310000  0.270000  0.420000\n72708  18147374  0.310000  0.270000  0.420000\n72709  18160935  0.310000  0.270000  0.420000\n72710  18118302  0.310000  0.270000  0.420000\n\n[72711 rows x 4 columns]",
      "text/html": "<div>\n<style scoped>\n    .dataframe tbody tr th:only-of-type {\n        vertical-align: middle;\n    }\n\n    .dataframe tbody tr th {\n        vertical-align: top;\n    }\n\n    .dataframe thead th {\n        text-align: right;\n    }\n</style>\n<table border=\"1\" class=\"dataframe\">\n  <thead>\n    <tr style=\"text-align: right;\">\n      <th></th>\n      <th>id</th>\n      <th>away</th>\n      <th>draw</th>\n      <th>home</th>\n    </tr>\n  </thead>\n  <tbody>\n    <tr>\n      <th>0</th>\n      <td>18413354</td>\n      <td>0.416721</td>\n      <td>0.208302</td>\n      <td>0.374977</td>\n    </tr>\n    <tr>\n      <th>1</th>\n      <td>18414545</td>\n      <td>0.469199</td>\n      <td>0.213460</td>\n      <td>0.317342</td>\n    </tr>\n    <tr>\n      <th>2</th>\n      <td>18412923</td>\n      <td>0.450487</td>\n      <td>0.205704</td>\n      <td>0.343808</td>\n    </tr>\n    <tr>\n      <th>3</th>\n      <td>18412901</td>\n      <td>0.385647</td>\n      <td>0.183070</td>\n      <td>0.431283</td>\n    </tr>\n    <tr>\n      <th>4</th>\n      <td>18412907</td>\n      <td>0.371176</td>\n      <td>0.210267</td>\n      <td>0.418557</td>\n    </tr>\n    <tr>\n      <th>...</th>\n      <td>...</td>\n      <td>...</td>\n      <td>...</td>\n      <td>...</td>\n    </tr>\n    <tr>\n      <th>72706</th>\n      <td>18441638</td>\n      <td>0.310000</td>\n      <td>0.270000</td>\n      <td>0.420000</td>\n    </tr>\n    <tr>\n      <th>72707</th>\n      <td>18150684</td>\n      <td>0.310000</td>\n      <td>0.270000</td>\n      <td>0.420000</td>\n    </tr>\n    <tr>\n      <th>72708</th>\n      <td>18147374</td>\n      <td>0.310000</td>\n      <td>0.270000</td>\n      <td>0.420000</td>\n    </tr>\n    <tr>\n      <th>72709</th>\n      <td>18160935</td>\n      <td>0.310000</td>\n      <td>0.270000</td>\n      <td>0.420000</td>\n    </tr>\n    <tr>\n      <th>72710</th>\n      <td>18118302</td>\n      <td>0.310000</td>\n      <td>0.270000</td>\n      <td>0.420000</td>\n    </tr>\n  </tbody>\n</table>\n<p>72711 rows × 4 columns</p>\n</div>"
     },
     "execution_count": 9,
     "metadata": {},
     "output_type": "execute_result"
    }
   ],
   "source": [
    "result_all = completed_test_result_and_save(test_org,test_result_learn,'logist_regression')\n",
    "result_all\n"
   ],
   "metadata": {
    "collapsed": false,
    "pycharm": {
     "name": "#%%\n"
    }
   }
  }
 ],
 "metadata": {
  "kernelspec": {
   "display_name": "Python 3",
   "language": "python",
   "name": "python3"
  },
  "language_info": {
   "codemirror_mode": {
    "name": "ipython",
    "version": 2
   },
   "file_extension": ".py",
   "mimetype": "text/x-python",
   "name": "python",
   "nbconvert_exporter": "python",
   "pygments_lexer": "ipython2",
   "version": "2.7.6"
  }
 },
 "nbformat": 4,
 "nbformat_minor": 0
}