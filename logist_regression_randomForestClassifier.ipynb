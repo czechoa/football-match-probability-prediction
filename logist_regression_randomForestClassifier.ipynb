{
 "cells": [
  {
   "cell_type": "code",
   "execution_count": 2,
   "metadata": {
    "collapsed": true
   },
   "outputs": [],
   "source": [
    "from prepared_data.get_prepared_data import  get_prepared_data, get_prepared_test\n",
    "import pandas as pd\n",
    "from sklearn.linear_model import LogisticRegression\n",
    "from sklearn.preprocessing import MinMaxScaler\n",
    "from sklearn.pipeline import make_pipeline\n",
    "from prepared_data.prepared_test_results import result_predict_prob_to_dataFrame, not_duplicate_elements_in_dataframes, append_test_results, completed_test_result_and_save"
   ]
  },
  {
   "cell_type": "code",
   "execution_count": 3,
   "outputs": [
    {
     "name": "stderr",
     "output_type": "stream",
     "text": [
      "/home/andrzej/PycharmProjects/Physionet_Challenge_2021/venv/lib/python3.9/site-packages/IPython/core/interactiveshell.py:3251: DtypeWarning: Columns (7) have mixed types.Specify dtype option on import or set low_memory=False.\n",
      "  exec(code_obj, self.user_global_ns, self.user_ns)\n"
     ]
    },
    {
     "name": "stdout",
     "output_type": "stream",
     "text": [
      "correction col type..\n",
      "percent of object with nan value:  42.20\n",
      "remove coach columns..\n",
      "percent of object with nan value:  18.64\n",
      "remove object with more that  col 80 empty...\n",
      "percent of object with nan value:  18.64\n",
      "remove history columns\n",
      "percent of object with nan value:  15.11\n",
      "remove all nan data\n",
      "percent of object with nan value:  15.11\n"
     ]
    },
    {
     "data": {
      "text/plain": "                            07 Vestur  1. FC M'gladbach  1. FC Merseburg  \\\nhome_team_history_rating_1   8.247721          4.735950         6.974668   \naway_team_history_rating_1   7.350362          5.972467         8.583335   \nhome_team_history_rating_2   8.532616          5.355725         8.814662   \naway_team_history_rating_2   6.908470          4.735950         7.365322   \nhome_team_history_rating_3   8.856112          5.640194         7.341014   \naway_team_history_rating_3   6.748184          5.355725         8.191349   \nhome_team_history_rating_4   7.934810          8.042094         8.578879   \naway_team_history_rating_4   9.464661          5.640194         7.796437   \nhome_team_history_rating_5   7.697220          6.610879         7.810133   \naway_team_history_rating_5   9.794950          8.042094         8.313656   \nhome_team_history_rating_6   8.642930          8.333661         8.583455   \naway_team_history_rating_6   8.284307          6.610879         8.613652   \nhome_team_history_rating_7   8.676215          8.524733         8.547724   \naway_team_history_rating_7   8.574494          8.333661         8.598885   \nhome_team_history_rating_8   8.104860          9.028083         7.968504   \naway_team_history_rating_8   8.206035          8.524733         8.506705   \n\n                            1. Maj Ruma  12 de Octubre  1860 München  \\\nhome_team_history_rating_1     1.461400       4.542867      6.439402   \naway_team_history_rating_1     6.199050       4.885013      6.937842   \nhome_team_history_rating_2     8.418200       4.806454      6.645256   \naway_team_history_rating_2     1.461400       4.706100      6.555754   \nhome_team_history_rating_3     6.241900       4.900469      6.584791   \naway_team_history_rating_3     8.418200       4.714871      6.619288   \nhome_team_history_rating_4     8.027725       4.863077      6.447406   \naway_team_history_rating_4     6.241900       4.784917      6.645606   \nhome_team_history_rating_5     7.392300       5.200468      6.806721   \naway_team_history_rating_5     8.027725       4.645906      6.315494   \nhome_team_history_rating_6     6.671700       4.810785      6.304914   \naway_team_history_rating_6     7.392300       5.098282      6.803073   \nhome_team_history_rating_7     2.985375       5.221518      6.852614   \naway_team_history_rating_7     6.671700       4.696382      6.246632   \nhome_team_history_rating_8     6.577475       5.113963      6.276615   \naway_team_history_rating_8     2.985375       4.850997      6.762788   \n\n                            1860 München II  1860 Rosenheim  1877 Alemdağspor  \\\nhome_team_history_rating_1        10.189010        4.729081          5.064542   \naway_team_history_rating_1         5.554950        5.221107          5.156260   \nhome_team_history_rating_2         8.547972        6.101598          5.369217   \naway_team_history_rating_2        10.189010        4.729081          4.852948   \nhome_team_history_rating_3         3.752905        5.065149          4.913009   \naway_team_history_rating_3         8.547972        6.101598          4.943627   \nhome_team_history_rating_4         7.416014        6.443605          5.103263   \naway_team_history_rating_4         3.752905        5.065149          5.249407   \nhome_team_history_rating_5         8.368990        5.604541          5.400142   \naway_team_history_rating_5         7.416014        6.443605          4.768613   \nhome_team_history_rating_6         6.211369        5.670918          5.072112   \naway_team_history_rating_6         8.368990        5.604541          5.097015   \nhome_team_history_rating_7         8.612300        5.598865          5.435743   \naway_team_history_rating_7         6.211369        5.670918          4.858133   \nhome_team_history_rating_8         8.536272        5.946340          5.324157   \naway_team_history_rating_8         8.612300        5.598865          4.948547   \n\n                            1880 Wasserburg  ...    Wolves    Yafoot  \\\nhome_team_history_rating_1         5.528680  ...       NaN       NaN   \naway_team_history_rating_1         7.847170  ...  6.212290  2.763339   \nhome_team_history_rating_2         7.847170  ...       NaN       NaN   \naway_team_history_rating_2         9.701936  ...  6.183096  3.138267   \nhome_team_history_rating_3         9.701936  ...       NaN       NaN   \naway_team_history_rating_3         9.356725  ...  6.252702  3.452772   \nhome_team_history_rating_4         9.356725  ...       NaN       NaN   \naway_team_history_rating_4        10.171836  ...  5.282335  3.950805   \nhome_team_history_rating_5        10.171836  ...       NaN       NaN   \naway_team_history_rating_5         9.631819  ...  4.998855  3.679646   \nhome_team_history_rating_6         9.631819  ...       NaN       NaN   \naway_team_history_rating_6        11.568136  ...  5.996008  3.151221   \nhome_team_history_rating_7        11.568136  ...       NaN       NaN   \naway_team_history_rating_7         8.117914  ...  6.025588  4.960400   \nhome_team_history_rating_8         8.117914  ...       NaN       NaN   \naway_team_history_rating_8         8.604987  ...  5.699423  6.212450   \n\n                             Zhlobin  Älvsjö AIK W      Åland  Åland United W  \\\nhome_team_history_rating_1       NaN           NaN        NaN             NaN   \naway_team_history_rating_1  7.265364      5.319450   8.049517        9.545010   \nhome_team_history_rating_2       NaN           NaN        NaN             NaN   \naway_team_history_rating_2  4.723370      6.791050  15.266450        8.516831   \nhome_team_history_rating_3       NaN           NaN        NaN             NaN   \naway_team_history_rating_3  7.576471      6.807008  14.171193        9.446250   \nhome_team_history_rating_4       NaN           NaN        NaN             NaN   \naway_team_history_rating_4  7.358263      6.831733  10.280550        9.850811   \nhome_team_history_rating_5       NaN           NaN        NaN             NaN   \naway_team_history_rating_5  8.715285      5.258270  11.081358        9.447794   \nhome_team_history_rating_6       NaN           NaN        NaN             NaN   \naway_team_history_rating_6  6.561093      4.393917  13.396170       13.180269   \nhome_team_history_rating_7       NaN           NaN        NaN             NaN   \naway_team_history_rating_7  6.373933      6.175713  10.931300       16.148421   \nhome_team_history_rating_8       NaN           NaN        NaN             NaN   \naway_team_history_rating_8  4.333900     13.057100   9.563086       11.226036   \n\n                            Çarşambaspor     Épila  Érdi VSE        ÍBU  \nhome_team_history_rating_1           NaN       NaN       NaN        NaN  \naway_team_history_rating_1      5.111615  5.158081  6.589200   8.078382  \nhome_team_history_rating_2           NaN       NaN       NaN        NaN  \naway_team_history_rating_2      5.548759  4.480228  4.234285  13.150767  \nhome_team_history_rating_3           NaN       NaN       NaN        NaN  \naway_team_history_rating_3      5.546972  4.844197  7.339883  10.740400  \nhome_team_history_rating_4           NaN       NaN       NaN        NaN  \naway_team_history_rating_4      6.028750  5.636585  3.515693   5.005294  \nhome_team_history_rating_5           NaN       NaN       NaN        NaN  \naway_team_history_rating_5      5.883482  4.749920  7.423083   5.087044  \nhome_team_history_rating_6           NaN       NaN       NaN        NaN  \naway_team_history_rating_6      6.250227  5.845883  9.318592   9.708429  \nhome_team_history_rating_7           NaN       NaN       NaN        NaN  \naway_team_history_rating_7      6.412616  6.193402  8.498467   9.106167  \nhome_team_history_rating_8           NaN       NaN       NaN        NaN  \naway_team_history_rating_8      6.596890  5.905615  4.068580   6.245825  \n\n[16 rows x 8098 columns]",
      "text/html": "<div>\n<style scoped>\n    .dataframe tbody tr th:only-of-type {\n        vertical-align: middle;\n    }\n\n    .dataframe tbody tr th {\n        vertical-align: top;\n    }\n\n    .dataframe thead th {\n        text-align: right;\n    }\n</style>\n<table border=\"1\" class=\"dataframe\">\n  <thead>\n    <tr style=\"text-align: right;\">\n      <th></th>\n      <th>07 Vestur</th>\n      <th>1. FC M'gladbach</th>\n      <th>1. FC Merseburg</th>\n      <th>1. Maj Ruma</th>\n      <th>12 de Octubre</th>\n      <th>1860 München</th>\n      <th>1860 München II</th>\n      <th>1860 Rosenheim</th>\n      <th>1877 Alemdağspor</th>\n      <th>1880 Wasserburg</th>\n      <th>...</th>\n      <th>Wolves</th>\n      <th>Yafoot</th>\n      <th>Zhlobin</th>\n      <th>Älvsjö AIK W</th>\n      <th>Åland</th>\n      <th>Åland United W</th>\n      <th>Çarşambaspor</th>\n      <th>Épila</th>\n      <th>Érdi VSE</th>\n      <th>ÍBU</th>\n    </tr>\n  </thead>\n  <tbody>\n    <tr>\n      <th>home_team_history_rating_1</th>\n      <td>8.247721</td>\n      <td>4.735950</td>\n      <td>6.974668</td>\n      <td>1.461400</td>\n      <td>4.542867</td>\n      <td>6.439402</td>\n      <td>10.189010</td>\n      <td>4.729081</td>\n      <td>5.064542</td>\n      <td>5.528680</td>\n      <td>...</td>\n      <td>NaN</td>\n      <td>NaN</td>\n      <td>NaN</td>\n      <td>NaN</td>\n      <td>NaN</td>\n      <td>NaN</td>\n      <td>NaN</td>\n      <td>NaN</td>\n      <td>NaN</td>\n      <td>NaN</td>\n    </tr>\n    <tr>\n      <th>away_team_history_rating_1</th>\n      <td>7.350362</td>\n      <td>5.972467</td>\n      <td>8.583335</td>\n      <td>6.199050</td>\n      <td>4.885013</td>\n      <td>6.937842</td>\n      <td>5.554950</td>\n      <td>5.221107</td>\n      <td>5.156260</td>\n      <td>7.847170</td>\n      <td>...</td>\n      <td>6.212290</td>\n      <td>2.763339</td>\n      <td>7.265364</td>\n      <td>5.319450</td>\n      <td>8.049517</td>\n      <td>9.545010</td>\n      <td>5.111615</td>\n      <td>5.158081</td>\n      <td>6.589200</td>\n      <td>8.078382</td>\n    </tr>\n    <tr>\n      <th>home_team_history_rating_2</th>\n      <td>8.532616</td>\n      <td>5.355725</td>\n      <td>8.814662</td>\n      <td>8.418200</td>\n      <td>4.806454</td>\n      <td>6.645256</td>\n      <td>8.547972</td>\n      <td>6.101598</td>\n      <td>5.369217</td>\n      <td>7.847170</td>\n      <td>...</td>\n      <td>NaN</td>\n      <td>NaN</td>\n      <td>NaN</td>\n      <td>NaN</td>\n      <td>NaN</td>\n      <td>NaN</td>\n      <td>NaN</td>\n      <td>NaN</td>\n      <td>NaN</td>\n      <td>NaN</td>\n    </tr>\n    <tr>\n      <th>away_team_history_rating_2</th>\n      <td>6.908470</td>\n      <td>4.735950</td>\n      <td>7.365322</td>\n      <td>1.461400</td>\n      <td>4.706100</td>\n      <td>6.555754</td>\n      <td>10.189010</td>\n      <td>4.729081</td>\n      <td>4.852948</td>\n      <td>9.701936</td>\n      <td>...</td>\n      <td>6.183096</td>\n      <td>3.138267</td>\n      <td>4.723370</td>\n      <td>6.791050</td>\n      <td>15.266450</td>\n      <td>8.516831</td>\n      <td>5.548759</td>\n      <td>4.480228</td>\n      <td>4.234285</td>\n      <td>13.150767</td>\n    </tr>\n    <tr>\n      <th>home_team_history_rating_3</th>\n      <td>8.856112</td>\n      <td>5.640194</td>\n      <td>7.341014</td>\n      <td>6.241900</td>\n      <td>4.900469</td>\n      <td>6.584791</td>\n      <td>3.752905</td>\n      <td>5.065149</td>\n      <td>4.913009</td>\n      <td>9.701936</td>\n      <td>...</td>\n      <td>NaN</td>\n      <td>NaN</td>\n      <td>NaN</td>\n      <td>NaN</td>\n      <td>NaN</td>\n      <td>NaN</td>\n      <td>NaN</td>\n      <td>NaN</td>\n      <td>NaN</td>\n      <td>NaN</td>\n    </tr>\n    <tr>\n      <th>away_team_history_rating_3</th>\n      <td>6.748184</td>\n      <td>5.355725</td>\n      <td>8.191349</td>\n      <td>8.418200</td>\n      <td>4.714871</td>\n      <td>6.619288</td>\n      <td>8.547972</td>\n      <td>6.101598</td>\n      <td>4.943627</td>\n      <td>9.356725</td>\n      <td>...</td>\n      <td>6.252702</td>\n      <td>3.452772</td>\n      <td>7.576471</td>\n      <td>6.807008</td>\n      <td>14.171193</td>\n      <td>9.446250</td>\n      <td>5.546972</td>\n      <td>4.844197</td>\n      <td>7.339883</td>\n      <td>10.740400</td>\n    </tr>\n    <tr>\n      <th>home_team_history_rating_4</th>\n      <td>7.934810</td>\n      <td>8.042094</td>\n      <td>8.578879</td>\n      <td>8.027725</td>\n      <td>4.863077</td>\n      <td>6.447406</td>\n      <td>7.416014</td>\n      <td>6.443605</td>\n      <td>5.103263</td>\n      <td>9.356725</td>\n      <td>...</td>\n      <td>NaN</td>\n      <td>NaN</td>\n      <td>NaN</td>\n      <td>NaN</td>\n      <td>NaN</td>\n      <td>NaN</td>\n      <td>NaN</td>\n      <td>NaN</td>\n      <td>NaN</td>\n      <td>NaN</td>\n    </tr>\n    <tr>\n      <th>away_team_history_rating_4</th>\n      <td>9.464661</td>\n      <td>5.640194</td>\n      <td>7.796437</td>\n      <td>6.241900</td>\n      <td>4.784917</td>\n      <td>6.645606</td>\n      <td>3.752905</td>\n      <td>5.065149</td>\n      <td>5.249407</td>\n      <td>10.171836</td>\n      <td>...</td>\n      <td>5.282335</td>\n      <td>3.950805</td>\n      <td>7.358263</td>\n      <td>6.831733</td>\n      <td>10.280550</td>\n      <td>9.850811</td>\n      <td>6.028750</td>\n      <td>5.636585</td>\n      <td>3.515693</td>\n      <td>5.005294</td>\n    </tr>\n    <tr>\n      <th>home_team_history_rating_5</th>\n      <td>7.697220</td>\n      <td>6.610879</td>\n      <td>7.810133</td>\n      <td>7.392300</td>\n      <td>5.200468</td>\n      <td>6.806721</td>\n      <td>8.368990</td>\n      <td>5.604541</td>\n      <td>5.400142</td>\n      <td>10.171836</td>\n      <td>...</td>\n      <td>NaN</td>\n      <td>NaN</td>\n      <td>NaN</td>\n      <td>NaN</td>\n      <td>NaN</td>\n      <td>NaN</td>\n      <td>NaN</td>\n      <td>NaN</td>\n      <td>NaN</td>\n      <td>NaN</td>\n    </tr>\n    <tr>\n      <th>away_team_history_rating_5</th>\n      <td>9.794950</td>\n      <td>8.042094</td>\n      <td>8.313656</td>\n      <td>8.027725</td>\n      <td>4.645906</td>\n      <td>6.315494</td>\n      <td>7.416014</td>\n      <td>6.443605</td>\n      <td>4.768613</td>\n      <td>9.631819</td>\n      <td>...</td>\n      <td>4.998855</td>\n      <td>3.679646</td>\n      <td>8.715285</td>\n      <td>5.258270</td>\n      <td>11.081358</td>\n      <td>9.447794</td>\n      <td>5.883482</td>\n      <td>4.749920</td>\n      <td>7.423083</td>\n      <td>5.087044</td>\n    </tr>\n    <tr>\n      <th>home_team_history_rating_6</th>\n      <td>8.642930</td>\n      <td>8.333661</td>\n      <td>8.583455</td>\n      <td>6.671700</td>\n      <td>4.810785</td>\n      <td>6.304914</td>\n      <td>6.211369</td>\n      <td>5.670918</td>\n      <td>5.072112</td>\n      <td>9.631819</td>\n      <td>...</td>\n      <td>NaN</td>\n      <td>NaN</td>\n      <td>NaN</td>\n      <td>NaN</td>\n      <td>NaN</td>\n      <td>NaN</td>\n      <td>NaN</td>\n      <td>NaN</td>\n      <td>NaN</td>\n      <td>NaN</td>\n    </tr>\n    <tr>\n      <th>away_team_history_rating_6</th>\n      <td>8.284307</td>\n      <td>6.610879</td>\n      <td>8.613652</td>\n      <td>7.392300</td>\n      <td>5.098282</td>\n      <td>6.803073</td>\n      <td>8.368990</td>\n      <td>5.604541</td>\n      <td>5.097015</td>\n      <td>11.568136</td>\n      <td>...</td>\n      <td>5.996008</td>\n      <td>3.151221</td>\n      <td>6.561093</td>\n      <td>4.393917</td>\n      <td>13.396170</td>\n      <td>13.180269</td>\n      <td>6.250227</td>\n      <td>5.845883</td>\n      <td>9.318592</td>\n      <td>9.708429</td>\n    </tr>\n    <tr>\n      <th>home_team_history_rating_7</th>\n      <td>8.676215</td>\n      <td>8.524733</td>\n      <td>8.547724</td>\n      <td>2.985375</td>\n      <td>5.221518</td>\n      <td>6.852614</td>\n      <td>8.612300</td>\n      <td>5.598865</td>\n      <td>5.435743</td>\n      <td>11.568136</td>\n      <td>...</td>\n      <td>NaN</td>\n      <td>NaN</td>\n      <td>NaN</td>\n      <td>NaN</td>\n      <td>NaN</td>\n      <td>NaN</td>\n      <td>NaN</td>\n      <td>NaN</td>\n      <td>NaN</td>\n      <td>NaN</td>\n    </tr>\n    <tr>\n      <th>away_team_history_rating_7</th>\n      <td>8.574494</td>\n      <td>8.333661</td>\n      <td>8.598885</td>\n      <td>6.671700</td>\n      <td>4.696382</td>\n      <td>6.246632</td>\n      <td>6.211369</td>\n      <td>5.670918</td>\n      <td>4.858133</td>\n      <td>8.117914</td>\n      <td>...</td>\n      <td>6.025588</td>\n      <td>4.960400</td>\n      <td>6.373933</td>\n      <td>6.175713</td>\n      <td>10.931300</td>\n      <td>16.148421</td>\n      <td>6.412616</td>\n      <td>6.193402</td>\n      <td>8.498467</td>\n      <td>9.106167</td>\n    </tr>\n    <tr>\n      <th>home_team_history_rating_8</th>\n      <td>8.104860</td>\n      <td>9.028083</td>\n      <td>7.968504</td>\n      <td>6.577475</td>\n      <td>5.113963</td>\n      <td>6.276615</td>\n      <td>8.536272</td>\n      <td>5.946340</td>\n      <td>5.324157</td>\n      <td>8.117914</td>\n      <td>...</td>\n      <td>NaN</td>\n      <td>NaN</td>\n      <td>NaN</td>\n      <td>NaN</td>\n      <td>NaN</td>\n      <td>NaN</td>\n      <td>NaN</td>\n      <td>NaN</td>\n      <td>NaN</td>\n      <td>NaN</td>\n    </tr>\n    <tr>\n      <th>away_team_history_rating_8</th>\n      <td>8.206035</td>\n      <td>8.524733</td>\n      <td>8.506705</td>\n      <td>2.985375</td>\n      <td>4.850997</td>\n      <td>6.762788</td>\n      <td>8.612300</td>\n      <td>5.598865</td>\n      <td>4.948547</td>\n      <td>8.604987</td>\n      <td>...</td>\n      <td>5.699423</td>\n      <td>6.212450</td>\n      <td>4.333900</td>\n      <td>13.057100</td>\n      <td>9.563086</td>\n      <td>11.226036</td>\n      <td>6.596890</td>\n      <td>5.905615</td>\n      <td>4.068580</td>\n      <td>6.245825</td>\n    </tr>\n  </tbody>\n</table>\n<p>16 rows × 8098 columns</p>\n</div>"
     },
     "execution_count": 3,
     "metadata": {},
     "output_type": "execute_result"
    }
   ],
   "source": [
    "train_org = pd.read_csv('data/train.csv')\n",
    "train, league_mean_ratting_all, teams_ratting_all  = get_prepared_data(train_org)\n",
    "teams_ratting_all"
   ],
   "metadata": {
    "collapsed": false,
    "pycharm": {
     "name": "#%%\n"
    }
   }
  },
  {
   "cell_type": "code",
   "execution_count": 8,
   "outputs": [
    {
     "name": "stdout",
     "output_type": "stream",
     "text": [
      "correction col type..\n",
      "percent of object with nan value:  39.35\n",
      "remove coach columns..\n",
      "percent of object with nan value:  13.93\n",
      "remove object with more that  col 80 empty...\n",
      "percent of object with nan value:  13.93\n",
      "remove history columns\n",
      "percent of object with nan value:  11.15\n",
      "remove all nan data\n",
      "percent of object with nan value:  11.15\n"
     ]
    },
    {
     "data": {
      "text/plain": "          is_cup  home_team_history_match_date_1  \\\nid                                                 \n18217690       1                             168   \n18017200       1                              98   \n18395567       1                             101   \n18304447       1                              72   \n18349436       1                              98   \n...          ...                             ...   \n18109223       0                             240   \n18148017       0                             336   \n18125499       0                             169   \n18082058       0                               0   \n18071048       0                             263   \n\n          home_team_history_match_date_2  home_team_history_match_date_3  \\\nid                                                                         \n18217690                             166                            1152   \n18017200                              93                              74   \n18395567                             285                             119   \n18304447                              70                              97   \n18349436                              93                              98   \n...                                  ...                             ...   \n18109223                             168                             119   \n18148017                             287                             264   \n18125499                             118                               0   \n18082058                             191                             359   \n18071048                             120                             144   \n\n          home_team_history_match_date_4  home_team_history_match_date_5  \\\nid                                                                         \n18217690                              72                              70   \n18017200                              93                              74   \n18395567                              74                              68   \n18304447                              94                             198   \n18349436                              71                              73   \n...                                  ...                             ...   \n18109223                             264                             412   \n18148017                             552                             316   \n18125499                             119                             144   \n18082058                               0                             167   \n18071048                             148                             192   \n\n          home_team_history_match_date_6  home_team_history_match_date_7  \\\nid                                                                         \n18217690                             191                              98   \n18017200                              93                              74   \n18395567                             100                              69   \n18304447                              69                              74   \n18349436                              94                              98   \n...                                  ...                             ...   \n18109223                             625                             384   \n18148017                             600                             119   \n18125499                               0                             191   \n18082058                               0                             147   \n18071048                             432                              72   \n\n          home_team_history_match_date_8  home_team_history_is_play_home_1  \\\nid                                                                           \n18217690                             165                               1.0   \n18017200                              69                               1.0   \n18395567                              96                               1.0   \n18304447                             121                               0.0   \n18349436                             143                               0.0   \n...                                  ...                               ...   \n18109223                             408                               0.0   \n18148017                             120                               1.0   \n18125499                             359                               0.0   \n18082058                             168                               1.0   \n18071048                             312                               0.0   \n\n          ...  home_team_history_target_7_1.0  \\\nid        ...                                   \n18217690  ...                               1   \n18017200  ...                               1   \n18395567  ...                               0   \n18304447  ...                               1   \n18349436  ...                               1   \n...       ...                             ...   \n18109223  ...                               0   \n18148017  ...                               0   \n18125499  ...                               0   \n18082058  ...                               0   \n18071048  ...                               1   \n\n          away_team_history_target_7_-1.0  away_team_history_target_7_0.0  \\\nid                                                                          \n18217690                                1                               0   \n18017200                                0                               0   \n18395567                                0                               0   \n18304447                                0                               0   \n18349436                                1                               0   \n...                                   ...                             ...   \n18109223                                0                               1   \n18148017                                0                               1   \n18125499                                1                               0   \n18082058                                0                               0   \n18071048                                1                               0   \n\n          away_team_history_target_7_1.0  home_team_history_target_8_-1.0  \\\nid                                                                          \n18217690                               0                                1   \n18017200                               1                                0   \n18395567                               1                                0   \n18304447                               1                                0   \n18349436                               0                                0   \n...                                  ...                              ...   \n18109223                               0                                0   \n18148017                               0                                0   \n18125499                               0                                0   \n18082058                               1                                0   \n18071048                               0                                1   \n\n          home_team_history_target_8_0.0  home_team_history_target_8_1.0  \\\nid                                                                         \n18217690                               0                               0   \n18017200                               0                               1   \n18395567                               0                               1   \n18304447                               0                               1   \n18349436                               0                               1   \n...                                  ...                             ...   \n18109223                               0                               1   \n18148017                               0                               1   \n18125499                               1                               0   \n18082058                               1                               0   \n18071048                               0                               0   \n\n          away_team_history_target_8_-1.0  away_team_history_target_8_0.0  \\\nid                                                                          \n18217690                                0                               1   \n18017200                                0                               0   \n18395567                                0                               0   \n18304447                                0                               0   \n18349436                                0                               0   \n...                                   ...                             ...   \n18109223                                1                               0   \n18148017                                0                               0   \n18125499                                1                               0   \n18082058                                0                               1   \n18071048                                0                               1   \n\n          away_team_history_target_8_1.0  \nid                                        \n18217690                               0  \n18017200                               1  \n18395567                               1  \n18304447                               1  \n18349436                               1  \n...                                  ...  \n18109223                               0  \n18148017                               1  \n18125499                               0  \n18082058                               0  \n18071048                               0  \n\n[55082 rows x 182 columns]",
      "text/html": "<div>\n<style scoped>\n    .dataframe tbody tr th:only-of-type {\n        vertical-align: middle;\n    }\n\n    .dataframe tbody tr th {\n        vertical-align: top;\n    }\n\n    .dataframe thead th {\n        text-align: right;\n    }\n</style>\n<table border=\"1\" class=\"dataframe\">\n  <thead>\n    <tr style=\"text-align: right;\">\n      <th></th>\n      <th>is_cup</th>\n      <th>home_team_history_match_date_1</th>\n      <th>home_team_history_match_date_2</th>\n      <th>home_team_history_match_date_3</th>\n      <th>home_team_history_match_date_4</th>\n      <th>home_team_history_match_date_5</th>\n      <th>home_team_history_match_date_6</th>\n      <th>home_team_history_match_date_7</th>\n      <th>home_team_history_match_date_8</th>\n      <th>home_team_history_is_play_home_1</th>\n      <th>...</th>\n      <th>home_team_history_target_7_1.0</th>\n      <th>away_team_history_target_7_-1.0</th>\n      <th>away_team_history_target_7_0.0</th>\n      <th>away_team_history_target_7_1.0</th>\n      <th>home_team_history_target_8_-1.0</th>\n      <th>home_team_history_target_8_0.0</th>\n      <th>home_team_history_target_8_1.0</th>\n      <th>away_team_history_target_8_-1.0</th>\n      <th>away_team_history_target_8_0.0</th>\n      <th>away_team_history_target_8_1.0</th>\n    </tr>\n    <tr>\n      <th>id</th>\n      <th></th>\n      <th></th>\n      <th></th>\n      <th></th>\n      <th></th>\n      <th></th>\n      <th></th>\n      <th></th>\n      <th></th>\n      <th></th>\n      <th></th>\n      <th></th>\n      <th></th>\n      <th></th>\n      <th></th>\n      <th></th>\n      <th></th>\n      <th></th>\n      <th></th>\n      <th></th>\n      <th></th>\n    </tr>\n  </thead>\n  <tbody>\n    <tr>\n      <th>18217690</th>\n      <td>1</td>\n      <td>168</td>\n      <td>166</td>\n      <td>1152</td>\n      <td>72</td>\n      <td>70</td>\n      <td>191</td>\n      <td>98</td>\n      <td>165</td>\n      <td>1.0</td>\n      <td>...</td>\n      <td>1</td>\n      <td>1</td>\n      <td>0</td>\n      <td>0</td>\n      <td>1</td>\n      <td>0</td>\n      <td>0</td>\n      <td>0</td>\n      <td>1</td>\n      <td>0</td>\n    </tr>\n    <tr>\n      <th>18017200</th>\n      <td>1</td>\n      <td>98</td>\n      <td>93</td>\n      <td>74</td>\n      <td>93</td>\n      <td>74</td>\n      <td>93</td>\n      <td>74</td>\n      <td>69</td>\n      <td>1.0</td>\n      <td>...</td>\n      <td>1</td>\n      <td>0</td>\n      <td>0</td>\n      <td>1</td>\n      <td>0</td>\n      <td>0</td>\n      <td>1</td>\n      <td>0</td>\n      <td>0</td>\n      <td>1</td>\n    </tr>\n    <tr>\n      <th>18395567</th>\n      <td>1</td>\n      <td>101</td>\n      <td>285</td>\n      <td>119</td>\n      <td>74</td>\n      <td>68</td>\n      <td>100</td>\n      <td>69</td>\n      <td>96</td>\n      <td>1.0</td>\n      <td>...</td>\n      <td>0</td>\n      <td>0</td>\n      <td>0</td>\n      <td>1</td>\n      <td>0</td>\n      <td>0</td>\n      <td>1</td>\n      <td>0</td>\n      <td>0</td>\n      <td>1</td>\n    </tr>\n    <tr>\n      <th>18304447</th>\n      <td>1</td>\n      <td>72</td>\n      <td>70</td>\n      <td>97</td>\n      <td>94</td>\n      <td>198</td>\n      <td>69</td>\n      <td>74</td>\n      <td>121</td>\n      <td>0.0</td>\n      <td>...</td>\n      <td>1</td>\n      <td>0</td>\n      <td>0</td>\n      <td>1</td>\n      <td>0</td>\n      <td>0</td>\n      <td>1</td>\n      <td>0</td>\n      <td>0</td>\n      <td>1</td>\n    </tr>\n    <tr>\n      <th>18349436</th>\n      <td>1</td>\n      <td>98</td>\n      <td>93</td>\n      <td>98</td>\n      <td>71</td>\n      <td>73</td>\n      <td>94</td>\n      <td>98</td>\n      <td>143</td>\n      <td>0.0</td>\n      <td>...</td>\n      <td>1</td>\n      <td>1</td>\n      <td>0</td>\n      <td>0</td>\n      <td>0</td>\n      <td>0</td>\n      <td>1</td>\n      <td>0</td>\n      <td>0</td>\n      <td>1</td>\n    </tr>\n    <tr>\n      <th>...</th>\n      <td>...</td>\n      <td>...</td>\n      <td>...</td>\n      <td>...</td>\n      <td>...</td>\n      <td>...</td>\n      <td>...</td>\n      <td>...</td>\n      <td>...</td>\n      <td>...</td>\n      <td>...</td>\n      <td>...</td>\n      <td>...</td>\n      <td>...</td>\n      <td>...</td>\n      <td>...</td>\n      <td>...</td>\n      <td>...</td>\n      <td>...</td>\n      <td>...</td>\n      <td>...</td>\n    </tr>\n    <tr>\n      <th>18109223</th>\n      <td>0</td>\n      <td>240</td>\n      <td>168</td>\n      <td>119</td>\n      <td>264</td>\n      <td>412</td>\n      <td>625</td>\n      <td>384</td>\n      <td>408</td>\n      <td>0.0</td>\n      <td>...</td>\n      <td>0</td>\n      <td>0</td>\n      <td>1</td>\n      <td>0</td>\n      <td>0</td>\n      <td>0</td>\n      <td>1</td>\n      <td>1</td>\n      <td>0</td>\n      <td>0</td>\n    </tr>\n    <tr>\n      <th>18148017</th>\n      <td>0</td>\n      <td>336</td>\n      <td>287</td>\n      <td>264</td>\n      <td>552</td>\n      <td>316</td>\n      <td>600</td>\n      <td>119</td>\n      <td>120</td>\n      <td>1.0</td>\n      <td>...</td>\n      <td>0</td>\n      <td>0</td>\n      <td>1</td>\n      <td>0</td>\n      <td>0</td>\n      <td>0</td>\n      <td>1</td>\n      <td>0</td>\n      <td>0</td>\n      <td>1</td>\n    </tr>\n    <tr>\n      <th>18125499</th>\n      <td>0</td>\n      <td>169</td>\n      <td>118</td>\n      <td>0</td>\n      <td>119</td>\n      <td>144</td>\n      <td>0</td>\n      <td>191</td>\n      <td>359</td>\n      <td>0.0</td>\n      <td>...</td>\n      <td>0</td>\n      <td>1</td>\n      <td>0</td>\n      <td>0</td>\n      <td>0</td>\n      <td>1</td>\n      <td>0</td>\n      <td>1</td>\n      <td>0</td>\n      <td>0</td>\n    </tr>\n    <tr>\n      <th>18082058</th>\n      <td>0</td>\n      <td>0</td>\n      <td>191</td>\n      <td>359</td>\n      <td>0</td>\n      <td>167</td>\n      <td>0</td>\n      <td>147</td>\n      <td>168</td>\n      <td>1.0</td>\n      <td>...</td>\n      <td>0</td>\n      <td>0</td>\n      <td>0</td>\n      <td>1</td>\n      <td>0</td>\n      <td>1</td>\n      <td>0</td>\n      <td>0</td>\n      <td>1</td>\n      <td>0</td>\n    </tr>\n    <tr>\n      <th>18071048</th>\n      <td>0</td>\n      <td>263</td>\n      <td>120</td>\n      <td>144</td>\n      <td>148</td>\n      <td>192</td>\n      <td>432</td>\n      <td>72</td>\n      <td>312</td>\n      <td>0.0</td>\n      <td>...</td>\n      <td>1</td>\n      <td>1</td>\n      <td>0</td>\n      <td>0</td>\n      <td>1</td>\n      <td>0</td>\n      <td>0</td>\n      <td>0</td>\n      <td>1</td>\n      <td>0</td>\n    </tr>\n  </tbody>\n</table>\n<p>55082 rows × 182 columns</p>\n</div>"
     },
     "execution_count": 8,
     "metadata": {},
     "output_type": "execute_result"
    }
   ],
   "source": [
    "test_org = pd.read_csv('data/test.csv')\n",
    "test  = get_prepared_test(test_org, league_mean_ratting_all, teams_ratting_all )\n"
   ],
   "metadata": {
    "collapsed": false,
    "pycharm": {
     "name": "#%%\n"
    }
   }
  },
  {
   "cell_type": "code",
   "execution_count": 15,
   "outputs": [
    {
     "data": {
      "text/plain": "id\n11989265    16\n16865249    16\n16916583    16\n16940078    16\n17213503    16\n            ..\n17882059    16\n17887522    16\n17882061    16\n17882060    16\n17887523    16\nLength: 94169, dtype: int64"
     },
     "execution_count": 15,
     "metadata": {},
     "output_type": "execute_result"
    }
   ],
   "source": [
    "target_columns = [x for x in train.columns if 'history_target' in x]\n",
    "train[target_columns].sum(axis=1)"
   ],
   "metadata": {
    "collapsed": false,
    "pycharm": {
     "name": "#%%\n"
    }
   }
  },
  {
   "cell_type": "code",
   "execution_count": 3,
   "outputs": [
    {
     "data": {
      "text/plain": "Pipeline(steps=[('minmaxscaler', MinMaxScaler()),\n                ('logisticregression',\n                 LogisticRegression(max_iter=1000, multi_class='ovr', n_jobs=-1,\n                                    random_state=0))])"
     },
     "execution_count": 3,
     "metadata": {},
     "output_type": "execute_result"
    }
   ],
   "source": [
    "\n",
    "target = train['target']\n",
    "X_train_org = train.drop('target',axis=1)\n",
    "pipe =  make_pipeline( MinMaxScaler(),LogisticRegression(random_state=0, solver='lbfgs', multi_class='ovr', max_iter=1000, n_jobs =-1))\n",
    "pipe.fit(X_train_org,target)"
   ],
   "metadata": {
    "collapsed": false,
    "pycharm": {
     "name": "#%%\n"
    }
   }
  },
  {
   "cell_type": "code",
   "execution_count": 4,
   "outputs": [
    {
     "data": {
      "text/plain": "             id      away      draw      home\n0      18395561  0.495436  0.186875  0.317689\n1      18304452  0.369690  0.180844  0.449466\n2      18137442  0.261484  0.180792  0.557724\n3      18395544  0.328268  0.169833  0.501899\n4      18395608  0.348780  0.177417  0.473803\n...         ...       ...       ...       ...\n64590  18447910  0.166693  0.134085  0.699221\n64591  18447909  0.047950  0.135297  0.816753\n64592  18448332  0.572286  0.158145  0.269569\n64593  18449955  0.153460  0.205105  0.641434\n64594  18449954  0.538874  0.264332  0.196794\n\n[64595 rows x 4 columns]",
      "text/html": "<div>\n<style scoped>\n    .dataframe tbody tr th:only-of-type {\n        vertical-align: middle;\n    }\n\n    .dataframe tbody tr th {\n        vertical-align: top;\n    }\n\n    .dataframe thead th {\n        text-align: right;\n    }\n</style>\n<table border=\"1\" class=\"dataframe\">\n  <thead>\n    <tr style=\"text-align: right;\">\n      <th></th>\n      <th>id</th>\n      <th>away</th>\n      <th>draw</th>\n      <th>home</th>\n    </tr>\n  </thead>\n  <tbody>\n    <tr>\n      <th>0</th>\n      <td>18395561</td>\n      <td>0.495436</td>\n      <td>0.186875</td>\n      <td>0.317689</td>\n    </tr>\n    <tr>\n      <th>1</th>\n      <td>18304452</td>\n      <td>0.369690</td>\n      <td>0.180844</td>\n      <td>0.449466</td>\n    </tr>\n    <tr>\n      <th>2</th>\n      <td>18137442</td>\n      <td>0.261484</td>\n      <td>0.180792</td>\n      <td>0.557724</td>\n    </tr>\n    <tr>\n      <th>3</th>\n      <td>18395544</td>\n      <td>0.328268</td>\n      <td>0.169833</td>\n      <td>0.501899</td>\n    </tr>\n    <tr>\n      <th>4</th>\n      <td>18395608</td>\n      <td>0.348780</td>\n      <td>0.177417</td>\n      <td>0.473803</td>\n    </tr>\n    <tr>\n      <th>...</th>\n      <td>...</td>\n      <td>...</td>\n      <td>...</td>\n      <td>...</td>\n    </tr>\n    <tr>\n      <th>64590</th>\n      <td>18447910</td>\n      <td>0.166693</td>\n      <td>0.134085</td>\n      <td>0.699221</td>\n    </tr>\n    <tr>\n      <th>64591</th>\n      <td>18447909</td>\n      <td>0.047950</td>\n      <td>0.135297</td>\n      <td>0.816753</td>\n    </tr>\n    <tr>\n      <th>64592</th>\n      <td>18448332</td>\n      <td>0.572286</td>\n      <td>0.158145</td>\n      <td>0.269569</td>\n    </tr>\n    <tr>\n      <th>64593</th>\n      <td>18449955</td>\n      <td>0.153460</td>\n      <td>0.205105</td>\n      <td>0.641434</td>\n    </tr>\n    <tr>\n      <th>64594</th>\n      <td>18449954</td>\n      <td>0.538874</td>\n      <td>0.264332</td>\n      <td>0.196794</td>\n    </tr>\n  </tbody>\n</table>\n<p>64595 rows × 4 columns</p>\n</div>"
     },
     "execution_count": 4,
     "metadata": {},
     "output_type": "execute_result"
    }
   ],
   "source": [
    "test_result = pipe.predict_proba(test_history_8)\n",
    "test_result = result_predict_prob_to_dataFrame(test_result, test_history_8)\n",
    "test_result"
   ],
   "metadata": {
    "collapsed": false,
    "pycharm": {
     "name": "#%%\n"
    }
   }
  },
  {
   "cell_type": "markdown",
   "source": [
    "Training for nan value"
   ],
   "metadata": {
    "collapsed": false
   }
  },
  {
   "cell_type": "code",
   "execution_count": 5,
   "outputs": [
    {
     "name": "stderr",
     "output_type": "stream",
     "text": [
      "/home/andrzej/PycharmProjects/Physionet_Challenge_2021/venv/lib/python3.9/site-packages/IPython/core/interactiveshell.py:3251: DtypeWarning: Columns (7) have mixed types.Specify dtype option on import or set low_memory=False.\n",
      "  exec(code_obj, self.user_global_ns, self.user_ns)\n"
     ]
    },
    {
     "name": "stdout",
     "output_type": "stream",
     "text": [
      "correction col type..\n",
      "percent of object with nan value:  42.20\n",
      "remove coach columns..\n",
      "percent of object with nan value:  18.64\n",
      "remove object with more that  col 80 empty...\n",
      "percent of object with nan value:  18.64\n",
      "remove all day historii without 1\n",
      "percent of object with nan value:  5.62\n",
      "remove all nan data\n",
      "percent of object with nan value:  5.62\n",
      "correction col type..\n",
      "percent of object with nan value:  39.35\n",
      "remove coach columns..\n",
      "percent of object with nan value:  13.93\n",
      "remove object with more that  col 80 empty...\n",
      "percent of object with nan value:  13.93\n",
      "remove all day historii without 1\n",
      "percent of object with nan value:  2.99\n",
      "remove all nan data\n",
      "percent of object with nan value:  2.99\n",
      "Number of not duplicate elements  5932\n"
     ]
    },
    {
     "data": {
      "text/plain": "          is_cup  home_team_history_match_date_1  \\\nid                                                 \n18413354       1                              91   \n18414545       1                             144   \n18412923       1                            1099   \n18412901       1                             336   \n18412907       1                             168   \n...          ...                             ...   \n18447253       1                              48   \n18447254       1                             120   \n18447213       1                              71   \n18447198       1                             288   \n18448437       1                              72   \n\n          home_team_history_is_play_home_1  home_team_history_is_cup_1  \\\nid                                                                       \n18413354                               1.0                         0.0   \n18414545                               1.0                         0.0   \n18412923                               0.0                         0.0   \n18412901                               1.0                         0.0   \n18412907                               0.0                         0.0   \n...                                    ...                         ...   \n18447253                               0.0                         1.0   \n18447254                               0.0                         1.0   \n18447213                               1.0                         0.0   \n18447198                               0.0                         1.0   \n18448437                               0.0                         1.0   \n\n          home_team_history_goal_1  home_team_history_opponent_goal_1  \\\nid                                                                      \n18413354                       3.0                                1.0   \n18414545                       3.0                                1.0   \n18412923                       2.0                                2.0   \n18412901                       4.0                                2.0   \n18412907                       2.0                                1.0   \n...                            ...                                ...   \n18447253                       3.0                                2.0   \n18447254                       1.0                                2.0   \n18447213                       2.0                                0.0   \n18447198                       1.0                                1.0   \n18448437                       2.0                                1.0   \n\n          home_team_history_rating_1  home_team_history_opponent_rating_1  \\\nid                                                                          \n18413354                    5.358906                             9.495169   \n18414545                    6.042328                             6.110778   \n18412923                    8.476650                            11.051250   \n18412901                    7.694850                             5.019463   \n18412907                    6.497580                             6.940565   \n...                              ...                                  ...   \n18447253                    7.451386                             4.802329   \n18447254                    7.434050                             6.043600   \n18447213                    5.545267                             6.207833   \n18447198                    8.184250                             5.556950   \n18448437                    8.003250                             4.529750   \n\n          away_team_history_match_date_1  away_team_history_is_play_home_1  \\\nid                                                                           \n18413354                             648                               1.0   \n18414545                             235                               1.0   \n18412923                             168                               0.0   \n18412901                             259                               1.0   \n18412907                              67                               1.0   \n...                                  ...                               ...   \n18447253                              72                               1.0   \n18447254                             120                               1.0   \n18447213                              96                               1.0   \n18447198                             120                               0.0   \n18448437                             120                               1.0   \n\n          ...  home_team_mean_regeneration_time  \\\nid        ...                                     \n18413354  ...                              91.0   \n18414545  ...                             144.0   \n18412923  ...                            1099.0   \n18412901  ...                             336.0   \n18412907  ...                             168.0   \n...       ...                               ...   \n18447253  ...                              48.0   \n18447254  ...                             120.0   \n18447213  ...                              71.0   \n18447198  ...                             288.0   \n18448437  ...                              72.0   \n\n          away_team_history_gol_difference_1  \\\nid                                             \n18413354                                 1.0   \n18414545                                 2.0   \n18412923                                 2.0   \n18412901                                 2.0   \n18412907                                 3.0   \n...                                      ...   \n18447253                                 1.0   \n18447254                                 0.0   \n18447213                                 4.0   \n18447198                                 1.0   \n18448437                                 1.0   \n\n          away_team_mean_regeneration_time  league_id_ratting  \\\nid                                                              \n18413354                             648.0           7.221377   \n18414545                             235.0           7.221377   \n18412923                             168.0           7.221377   \n18412901                             259.0           7.221377   \n18412907                              67.0           7.221377   \n...                                    ...                ...   \n18447253                              72.0           8.721232   \n18447254                             120.0           8.721232   \n18447213                              96.0           8.721232   \n18447198                             120.0           8.721232   \n18448437                             120.0          10.806159   \n\n          home_team_history_target_1_-1.0  home_team_history_target_1_0.0  \\\nid                                                                          \n18413354                                0                               0   \n18414545                                0                               0   \n18412923                                0                               1   \n18412901                                0                               0   \n18412907                                0                               0   \n...                                   ...                             ...   \n18447253                                0                               0   \n18447254                                1                               0   \n18447213                                0                               0   \n18447198                                0                               1   \n18448437                                0                               0   \n\n          home_team_history_target_1_1.0  away_team_history_target_1_-1.0  \\\nid                                                                          \n18413354                               1                                0   \n18414545                               1                                0   \n18412923                               0                                0   \n18412901                               1                                0   \n18412907                               1                                0   \n...                                  ...                              ...   \n18447253                               1                                0   \n18447254                               0                                0   \n18447213                               1                                0   \n18447198                               0                                0   \n18448437                               1                                0   \n\n          away_team_history_target_1_0.0  away_team_history_target_1_1.0  \nid                                                                        \n18413354                               0                               1  \n18414545                               0                               1  \n18412923                               0                               1  \n18412901                               0                               1  \n18412907                               0                               1  \n...                                  ...                             ...  \n18447253                               0                               1  \n18447254                               1                               0  \n18447213                               0                               1  \n18447198                               0                               1  \n18448437                               0                               1  \n\n[5932 rows x 26 columns]",
      "text/html": "<div>\n<style scoped>\n    .dataframe tbody tr th:only-of-type {\n        vertical-align: middle;\n    }\n\n    .dataframe tbody tr th {\n        vertical-align: top;\n    }\n\n    .dataframe thead th {\n        text-align: right;\n    }\n</style>\n<table border=\"1\" class=\"dataframe\">\n  <thead>\n    <tr style=\"text-align: right;\">\n      <th></th>\n      <th>is_cup</th>\n      <th>home_team_history_match_date_1</th>\n      <th>home_team_history_is_play_home_1</th>\n      <th>home_team_history_is_cup_1</th>\n      <th>home_team_history_goal_1</th>\n      <th>home_team_history_opponent_goal_1</th>\n      <th>home_team_history_rating_1</th>\n      <th>home_team_history_opponent_rating_1</th>\n      <th>away_team_history_match_date_1</th>\n      <th>away_team_history_is_play_home_1</th>\n      <th>...</th>\n      <th>home_team_mean_regeneration_time</th>\n      <th>away_team_history_gol_difference_1</th>\n      <th>away_team_mean_regeneration_time</th>\n      <th>league_id_ratting</th>\n      <th>home_team_history_target_1_-1.0</th>\n      <th>home_team_history_target_1_0.0</th>\n      <th>home_team_history_target_1_1.0</th>\n      <th>away_team_history_target_1_-1.0</th>\n      <th>away_team_history_target_1_0.0</th>\n      <th>away_team_history_target_1_1.0</th>\n    </tr>\n    <tr>\n      <th>id</th>\n      <th></th>\n      <th></th>\n      <th></th>\n      <th></th>\n      <th></th>\n      <th></th>\n      <th></th>\n      <th></th>\n      <th></th>\n      <th></th>\n      <th></th>\n      <th></th>\n      <th></th>\n      <th></th>\n      <th></th>\n      <th></th>\n      <th></th>\n      <th></th>\n      <th></th>\n      <th></th>\n      <th></th>\n    </tr>\n  </thead>\n  <tbody>\n    <tr>\n      <th>18413354</th>\n      <td>1</td>\n      <td>91</td>\n      <td>1.0</td>\n      <td>0.0</td>\n      <td>3.0</td>\n      <td>1.0</td>\n      <td>5.358906</td>\n      <td>9.495169</td>\n      <td>648</td>\n      <td>1.0</td>\n      <td>...</td>\n      <td>91.0</td>\n      <td>1.0</td>\n      <td>648.0</td>\n      <td>7.221377</td>\n      <td>0</td>\n      <td>0</td>\n      <td>1</td>\n      <td>0</td>\n      <td>0</td>\n      <td>1</td>\n    </tr>\n    <tr>\n      <th>18414545</th>\n      <td>1</td>\n      <td>144</td>\n      <td>1.0</td>\n      <td>0.0</td>\n      <td>3.0</td>\n      <td>1.0</td>\n      <td>6.042328</td>\n      <td>6.110778</td>\n      <td>235</td>\n      <td>1.0</td>\n      <td>...</td>\n      <td>144.0</td>\n      <td>2.0</td>\n      <td>235.0</td>\n      <td>7.221377</td>\n      <td>0</td>\n      <td>0</td>\n      <td>1</td>\n      <td>0</td>\n      <td>0</td>\n      <td>1</td>\n    </tr>\n    <tr>\n      <th>18412923</th>\n      <td>1</td>\n      <td>1099</td>\n      <td>0.0</td>\n      <td>0.0</td>\n      <td>2.0</td>\n      <td>2.0</td>\n      <td>8.476650</td>\n      <td>11.051250</td>\n      <td>168</td>\n      <td>0.0</td>\n      <td>...</td>\n      <td>1099.0</td>\n      <td>2.0</td>\n      <td>168.0</td>\n      <td>7.221377</td>\n      <td>0</td>\n      <td>1</td>\n      <td>0</td>\n      <td>0</td>\n      <td>0</td>\n      <td>1</td>\n    </tr>\n    <tr>\n      <th>18412901</th>\n      <td>1</td>\n      <td>336</td>\n      <td>1.0</td>\n      <td>0.0</td>\n      <td>4.0</td>\n      <td>2.0</td>\n      <td>7.694850</td>\n      <td>5.019463</td>\n      <td>259</td>\n      <td>1.0</td>\n      <td>...</td>\n      <td>336.0</td>\n      <td>2.0</td>\n      <td>259.0</td>\n      <td>7.221377</td>\n      <td>0</td>\n      <td>0</td>\n      <td>1</td>\n      <td>0</td>\n      <td>0</td>\n      <td>1</td>\n    </tr>\n    <tr>\n      <th>18412907</th>\n      <td>1</td>\n      <td>168</td>\n      <td>0.0</td>\n      <td>0.0</td>\n      <td>2.0</td>\n      <td>1.0</td>\n      <td>6.497580</td>\n      <td>6.940565</td>\n      <td>67</td>\n      <td>1.0</td>\n      <td>...</td>\n      <td>168.0</td>\n      <td>3.0</td>\n      <td>67.0</td>\n      <td>7.221377</td>\n      <td>0</td>\n      <td>0</td>\n      <td>1</td>\n      <td>0</td>\n      <td>0</td>\n      <td>1</td>\n    </tr>\n    <tr>\n      <th>...</th>\n      <td>...</td>\n      <td>...</td>\n      <td>...</td>\n      <td>...</td>\n      <td>...</td>\n      <td>...</td>\n      <td>...</td>\n      <td>...</td>\n      <td>...</td>\n      <td>...</td>\n      <td>...</td>\n      <td>...</td>\n      <td>...</td>\n      <td>...</td>\n      <td>...</td>\n      <td>...</td>\n      <td>...</td>\n      <td>...</td>\n      <td>...</td>\n      <td>...</td>\n      <td>...</td>\n    </tr>\n    <tr>\n      <th>18447253</th>\n      <td>1</td>\n      <td>48</td>\n      <td>0.0</td>\n      <td>1.0</td>\n      <td>3.0</td>\n      <td>2.0</td>\n      <td>7.451386</td>\n      <td>4.802329</td>\n      <td>72</td>\n      <td>1.0</td>\n      <td>...</td>\n      <td>48.0</td>\n      <td>1.0</td>\n      <td>72.0</td>\n      <td>8.721232</td>\n      <td>0</td>\n      <td>0</td>\n      <td>1</td>\n      <td>0</td>\n      <td>0</td>\n      <td>1</td>\n    </tr>\n    <tr>\n      <th>18447254</th>\n      <td>1</td>\n      <td>120</td>\n      <td>0.0</td>\n      <td>1.0</td>\n      <td>1.0</td>\n      <td>2.0</td>\n      <td>7.434050</td>\n      <td>6.043600</td>\n      <td>120</td>\n      <td>1.0</td>\n      <td>...</td>\n      <td>120.0</td>\n      <td>0.0</td>\n      <td>120.0</td>\n      <td>8.721232</td>\n      <td>1</td>\n      <td>0</td>\n      <td>0</td>\n      <td>0</td>\n      <td>1</td>\n      <td>0</td>\n    </tr>\n    <tr>\n      <th>18447213</th>\n      <td>1</td>\n      <td>71</td>\n      <td>1.0</td>\n      <td>0.0</td>\n      <td>2.0</td>\n      <td>0.0</td>\n      <td>5.545267</td>\n      <td>6.207833</td>\n      <td>96</td>\n      <td>1.0</td>\n      <td>...</td>\n      <td>71.0</td>\n      <td>4.0</td>\n      <td>96.0</td>\n      <td>8.721232</td>\n      <td>0</td>\n      <td>0</td>\n      <td>1</td>\n      <td>0</td>\n      <td>0</td>\n      <td>1</td>\n    </tr>\n    <tr>\n      <th>18447198</th>\n      <td>1</td>\n      <td>288</td>\n      <td>0.0</td>\n      <td>1.0</td>\n      <td>1.0</td>\n      <td>1.0</td>\n      <td>8.184250</td>\n      <td>5.556950</td>\n      <td>120</td>\n      <td>0.0</td>\n      <td>...</td>\n      <td>288.0</td>\n      <td>1.0</td>\n      <td>120.0</td>\n      <td>8.721232</td>\n      <td>0</td>\n      <td>1</td>\n      <td>0</td>\n      <td>0</td>\n      <td>0</td>\n      <td>1</td>\n    </tr>\n    <tr>\n      <th>18448437</th>\n      <td>1</td>\n      <td>72</td>\n      <td>0.0</td>\n      <td>1.0</td>\n      <td>2.0</td>\n      <td>1.0</td>\n      <td>8.003250</td>\n      <td>4.529750</td>\n      <td>120</td>\n      <td>1.0</td>\n      <td>...</td>\n      <td>72.0</td>\n      <td>1.0</td>\n      <td>120.0</td>\n      <td>10.806159</td>\n      <td>0</td>\n      <td>0</td>\n      <td>1</td>\n      <td>0</td>\n      <td>0</td>\n      <td>1</td>\n    </tr>\n  </tbody>\n</table>\n<p>5932 rows × 26 columns</p>\n</div>"
     },
     "execution_count": 5,
     "metadata": {},
     "output_type": "execute_result"
    }
   ],
   "source": [
    "train_org = pd.read_csv('data/train.csv')\n",
    "train = get_prepared_data(train_org,number_of_history_matches=1)\n",
    "test_org = pd.read_csv('data/test.csv')\n",
    "test_history_1 = get_prepared_data(test_org, number_of_history_matches=1)\n",
    "test_history_1 = not_duplicate_elements_in_dataframes(test_history_1.reset_index(), test_history_8)\n",
    "test_history_1"
   ],
   "metadata": {
    "collapsed": false,
    "pycharm": {
     "name": "#%%\n"
    }
   }
  },
  {
   "cell_type": "code",
   "execution_count": 6,
   "outputs": [
    {
     "data": {
      "text/plain": "Pipeline(steps=[('minmaxscaler', MinMaxScaler()),\n                ('logisticregression',\n                 LogisticRegression(max_iter=1000, multi_class='ovr', n_jobs=-1,\n                                    random_state=0))])"
     },
     "execution_count": 6,
     "metadata": {},
     "output_type": "execute_result"
    }
   ],
   "source": [
    "target = train['target']\n",
    "X_train_org = train.drop('target',axis=1)\n",
    "pipe =  make_pipeline( MinMaxScaler(),LogisticRegression(random_state=0, solver='lbfgs', multi_class='ovr', max_iter=1000, n_jobs =-1))\n",
    "pipe.fit(X_train_org,target)"
   ],
   "metadata": {
    "collapsed": false,
    "pycharm": {
     "name": "#%%\n"
    }
   }
  },
  {
   "cell_type": "code",
   "execution_count": 7,
   "outputs": [
    {
     "data": {
      "text/plain": "            id      away      draw      home\n0     18413354  0.416721  0.208302  0.374977\n1     18414545  0.469199  0.213460  0.317342\n2     18412923  0.450487  0.205704  0.343808\n3     18412901  0.385647  0.183070  0.431283\n4     18412907  0.371176  0.210267  0.418557\n...        ...       ...       ...       ...\n5927  18447253  0.287196  0.155095  0.557710\n5928  18447254  0.422892  0.162314  0.414794\n5929  18447213  0.556066  0.173393  0.270540\n5930  18447198  0.182412  0.130869  0.686719\n5931  18448437  0.237206  0.110043  0.652751\n\n[5932 rows x 4 columns]",
      "text/html": "<div>\n<style scoped>\n    .dataframe tbody tr th:only-of-type {\n        vertical-align: middle;\n    }\n\n    .dataframe tbody tr th {\n        vertical-align: top;\n    }\n\n    .dataframe thead th {\n        text-align: right;\n    }\n</style>\n<table border=\"1\" class=\"dataframe\">\n  <thead>\n    <tr style=\"text-align: right;\">\n      <th></th>\n      <th>id</th>\n      <th>away</th>\n      <th>draw</th>\n      <th>home</th>\n    </tr>\n  </thead>\n  <tbody>\n    <tr>\n      <th>0</th>\n      <td>18413354</td>\n      <td>0.416721</td>\n      <td>0.208302</td>\n      <td>0.374977</td>\n    </tr>\n    <tr>\n      <th>1</th>\n      <td>18414545</td>\n      <td>0.469199</td>\n      <td>0.213460</td>\n      <td>0.317342</td>\n    </tr>\n    <tr>\n      <th>2</th>\n      <td>18412923</td>\n      <td>0.450487</td>\n      <td>0.205704</td>\n      <td>0.343808</td>\n    </tr>\n    <tr>\n      <th>3</th>\n      <td>18412901</td>\n      <td>0.385647</td>\n      <td>0.183070</td>\n      <td>0.431283</td>\n    </tr>\n    <tr>\n      <th>4</th>\n      <td>18412907</td>\n      <td>0.371176</td>\n      <td>0.210267</td>\n      <td>0.418557</td>\n    </tr>\n    <tr>\n      <th>...</th>\n      <td>...</td>\n      <td>...</td>\n      <td>...</td>\n      <td>...</td>\n    </tr>\n    <tr>\n      <th>5927</th>\n      <td>18447253</td>\n      <td>0.287196</td>\n      <td>0.155095</td>\n      <td>0.557710</td>\n    </tr>\n    <tr>\n      <th>5928</th>\n      <td>18447254</td>\n      <td>0.422892</td>\n      <td>0.162314</td>\n      <td>0.414794</td>\n    </tr>\n    <tr>\n      <th>5929</th>\n      <td>18447213</td>\n      <td>0.556066</td>\n      <td>0.173393</td>\n      <td>0.270540</td>\n    </tr>\n    <tr>\n      <th>5930</th>\n      <td>18447198</td>\n      <td>0.182412</td>\n      <td>0.130869</td>\n      <td>0.686719</td>\n    </tr>\n    <tr>\n      <th>5931</th>\n      <td>18448437</td>\n      <td>0.237206</td>\n      <td>0.110043</td>\n      <td>0.652751</td>\n    </tr>\n  </tbody>\n</table>\n<p>5932 rows × 4 columns</p>\n</div>"
     },
     "execution_count": 7,
     "metadata": {},
     "output_type": "execute_result"
    }
   ],
   "source": [
    "test_result_history_1 = pipe.predict_proba(test_history_1)\n",
    "test_result_history_1 = result_predict_prob_to_dataFrame(test_result_history_1, test_history_1)\n",
    "test_result_history_1"
   ],
   "metadata": {
    "collapsed": false,
    "pycharm": {
     "name": "#%%\n"
    }
   }
  },
  {
   "cell_type": "code",
   "execution_count": 8,
   "outputs": [
    {
     "data": {
      "text/plain": "             id      away      draw      home\n0      18413354  0.416721  0.208302  0.374977\n1      18414545  0.469199  0.213460  0.317342\n2      18412923  0.450487  0.205704  0.343808\n3      18412901  0.385647  0.183070  0.431283\n4      18412907  0.371176  0.210267  0.418557\n...         ...       ...       ...       ...\n70522  18447910  0.166693  0.134085  0.699221\n70523  18447909  0.047950  0.135297  0.816753\n70524  18448332  0.572286  0.158145  0.269569\n70525  18449955  0.153460  0.205105  0.641434\n70526  18449954  0.538874  0.264332  0.196794\n\n[70527 rows x 4 columns]",
      "text/html": "<div>\n<style scoped>\n    .dataframe tbody tr th:only-of-type {\n        vertical-align: middle;\n    }\n\n    .dataframe tbody tr th {\n        vertical-align: top;\n    }\n\n    .dataframe thead th {\n        text-align: right;\n    }\n</style>\n<table border=\"1\" class=\"dataframe\">\n  <thead>\n    <tr style=\"text-align: right;\">\n      <th></th>\n      <th>id</th>\n      <th>away</th>\n      <th>draw</th>\n      <th>home</th>\n    </tr>\n  </thead>\n  <tbody>\n    <tr>\n      <th>0</th>\n      <td>18413354</td>\n      <td>0.416721</td>\n      <td>0.208302</td>\n      <td>0.374977</td>\n    </tr>\n    <tr>\n      <th>1</th>\n      <td>18414545</td>\n      <td>0.469199</td>\n      <td>0.213460</td>\n      <td>0.317342</td>\n    </tr>\n    <tr>\n      <th>2</th>\n      <td>18412923</td>\n      <td>0.450487</td>\n      <td>0.205704</td>\n      <td>0.343808</td>\n    </tr>\n    <tr>\n      <th>3</th>\n      <td>18412901</td>\n      <td>0.385647</td>\n      <td>0.183070</td>\n      <td>0.431283</td>\n    </tr>\n    <tr>\n      <th>4</th>\n      <td>18412907</td>\n      <td>0.371176</td>\n      <td>0.210267</td>\n      <td>0.418557</td>\n    </tr>\n    <tr>\n      <th>...</th>\n      <td>...</td>\n      <td>...</td>\n      <td>...</td>\n      <td>...</td>\n    </tr>\n    <tr>\n      <th>70522</th>\n      <td>18447910</td>\n      <td>0.166693</td>\n      <td>0.134085</td>\n      <td>0.699221</td>\n    </tr>\n    <tr>\n      <th>70523</th>\n      <td>18447909</td>\n      <td>0.047950</td>\n      <td>0.135297</td>\n      <td>0.816753</td>\n    </tr>\n    <tr>\n      <th>70524</th>\n      <td>18448332</td>\n      <td>0.572286</td>\n      <td>0.158145</td>\n      <td>0.269569</td>\n    </tr>\n    <tr>\n      <th>70525</th>\n      <td>18449955</td>\n      <td>0.153460</td>\n      <td>0.205105</td>\n      <td>0.641434</td>\n    </tr>\n    <tr>\n      <th>70526</th>\n      <td>18449954</td>\n      <td>0.538874</td>\n      <td>0.264332</td>\n      <td>0.196794</td>\n    </tr>\n  </tbody>\n</table>\n<p>70527 rows × 4 columns</p>\n</div>"
     },
     "execution_count": 8,
     "metadata": {},
     "output_type": "execute_result"
    }
   ],
   "source": [
    "test_result_learn = append_test_results(test_result_history_1, test_result)\n",
    "test_result_learn"
   ],
   "metadata": {
    "collapsed": false,
    "pycharm": {
     "name": "#%%\n"
    }
   }
  },
  {
   "cell_type": "code",
   "execution_count": 9,
   "outputs": [
    {
     "name": "stdout",
     "output_type": "stream",
     "text": [
      "Number of not duplicate elements  2184\n"
     ]
    },
    {
     "data": {
      "text/plain": "             id      away      draw      home\n0      18413354  0.416721  0.208302  0.374977\n1      18414545  0.469199  0.213460  0.317342\n2      18412923  0.450487  0.205704  0.343808\n3      18412901  0.385647  0.183070  0.431283\n4      18412907  0.371176  0.210267  0.418557\n...         ...       ...       ...       ...\n72706  18441638  0.310000  0.270000  0.420000\n72707  18150684  0.310000  0.270000  0.420000\n72708  18147374  0.310000  0.270000  0.420000\n72709  18160935  0.310000  0.270000  0.420000\n72710  18118302  0.310000  0.270000  0.420000\n\n[72711 rows x 4 columns]",
      "text/html": "<div>\n<style scoped>\n    .dataframe tbody tr th:only-of-type {\n        vertical-align: middle;\n    }\n\n    .dataframe tbody tr th {\n        vertical-align: top;\n    }\n\n    .dataframe thead th {\n        text-align: right;\n    }\n</style>\n<table border=\"1\" class=\"dataframe\">\n  <thead>\n    <tr style=\"text-align: right;\">\n      <th></th>\n      <th>id</th>\n      <th>away</th>\n      <th>draw</th>\n      <th>home</th>\n    </tr>\n  </thead>\n  <tbody>\n    <tr>\n      <th>0</th>\n      <td>18413354</td>\n      <td>0.416721</td>\n      <td>0.208302</td>\n      <td>0.374977</td>\n    </tr>\n    <tr>\n      <th>1</th>\n      <td>18414545</td>\n      <td>0.469199</td>\n      <td>0.213460</td>\n      <td>0.317342</td>\n    </tr>\n    <tr>\n      <th>2</th>\n      <td>18412923</td>\n      <td>0.450487</td>\n      <td>0.205704</td>\n      <td>0.343808</td>\n    </tr>\n    <tr>\n      <th>3</th>\n      <td>18412901</td>\n      <td>0.385647</td>\n      <td>0.183070</td>\n      <td>0.431283</td>\n    </tr>\n    <tr>\n      <th>4</th>\n      <td>18412907</td>\n      <td>0.371176</td>\n      <td>0.210267</td>\n      <td>0.418557</td>\n    </tr>\n    <tr>\n      <th>...</th>\n      <td>...</td>\n      <td>...</td>\n      <td>...</td>\n      <td>...</td>\n    </tr>\n    <tr>\n      <th>72706</th>\n      <td>18441638</td>\n      <td>0.310000</td>\n      <td>0.270000</td>\n      <td>0.420000</td>\n    </tr>\n    <tr>\n      <th>72707</th>\n      <td>18150684</td>\n      <td>0.310000</td>\n      <td>0.270000</td>\n      <td>0.420000</td>\n    </tr>\n    <tr>\n      <th>72708</th>\n      <td>18147374</td>\n      <td>0.310000</td>\n      <td>0.270000</td>\n      <td>0.420000</td>\n    </tr>\n    <tr>\n      <th>72709</th>\n      <td>18160935</td>\n      <td>0.310000</td>\n      <td>0.270000</td>\n      <td>0.420000</td>\n    </tr>\n    <tr>\n      <th>72710</th>\n      <td>18118302</td>\n      <td>0.310000</td>\n      <td>0.270000</td>\n      <td>0.420000</td>\n    </tr>\n  </tbody>\n</table>\n<p>72711 rows × 4 columns</p>\n</div>"
     },
     "execution_count": 9,
     "metadata": {},
     "output_type": "execute_result"
    }
   ],
   "source": [
    "result_all = completed_test_result_and_save(test_org,test_result_learn,'logist_regression')\n",
    "result_all\n"
   ],
   "metadata": {
    "collapsed": false,
    "pycharm": {
     "name": "#%%\n"
    }
   }
  }
 ],
 "metadata": {
  "kernelspec": {
   "display_name": "Python 3",
   "language": "python",
   "name": "python3"
  },
  "language_info": {
   "codemirror_mode": {
    "name": "ipython",
    "version": 2
   },
   "file_extension": ".py",
   "mimetype": "text/x-python",
   "name": "python",
   "nbconvert_exporter": "python",
   "pygments_lexer": "ipython2",
   "version": "2.7.6"
  }
 },
 "nbformat": 4,
 "nbformat_minor": 0
}